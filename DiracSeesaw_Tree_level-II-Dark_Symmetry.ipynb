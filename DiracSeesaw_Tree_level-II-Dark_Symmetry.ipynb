{
 "cells": [
  {
   "cell_type": "markdown",
   "metadata": {},
   "source": [
    "# Chiral solutions for Type-II Dirac seesaw with a Dark Symmetry"
   ]
  },
  {
   "cell_type": "code",
   "execution_count": 1,
   "metadata": {},
   "outputs": [],
   "source": [
    "import pandas as pd\n",
    "import numpy as np\n",
    "import itertools\n",
    "import sys\n",
    "pd.set_option('display.max_colwidth',400)"
   ]
  },
  {
   "cell_type": "markdown",
   "metadata": {},
   "source": [
    "## Load full solutions"
   ]
  },
  {
   "cell_type": "code",
   "execution_count": 2,
   "metadata": {},
   "outputs": [
    {
     "data": {
      "text/plain": [
       "(148097, 5)"
      ]
     },
     "execution_count": 2,
     "metadata": {},
     "output_type": "execute_result"
    }
   ],
   "source": [
    "ds=pd.read_json('https://github.com/restrepo/anomaly/raw/main/solutions.json')\n",
    "ds.shape"
   ]
  },
  {
   "cell_type": "markdown",
   "metadata": {},
   "source": [
    "Check that solutions are unique"
   ]
  },
  {
   "cell_type": "code",
   "execution_count": 3,
   "metadata": {},
   "outputs": [
    {
     "data": {
      "text/plain": [
       "(148097, 6)"
      ]
     },
     "execution_count": 3,
     "metadata": {},
     "output_type": "execute_result"
    }
   ],
   "source": [
    "ds['strz']=ds['solution'].astype(str)\n",
    "ds.drop_duplicates('strz').shape"
   ]
  },
  {
   "cell_type": "code",
   "execution_count": 4,
   "metadata": {},
   "outputs": [],
   "source": [
    "ds=ds.drop('strz',axis='columns')"
   ]
  },
  {
   "cell_type": "markdown",
   "metadata": {},
   "source": [
    "Number of solutions with repeated charges"
   ]
  },
  {
   "cell_type": "code",
   "execution_count": 5,
   "metadata": {},
   "outputs": [
    {
     "data": {
      "text/plain": [
       "95358"
      ]
     },
     "execution_count": 5,
     "metadata": {},
     "output_type": "execute_result"
    }
   ],
   "source": [
    "ds[ds['solution'].apply(lambda l: len(l)-len(set(l)))>0].shape[0]"
   ]
  },
  {
   "cell_type": "markdown",
   "metadata": {},
   "source": [
    "## Check phenomenological conditions\n",
    "$$ \\nu+m+s=0$$"
   ]
  },
  {
   "cell_type": "code",
   "execution_count": 6,
   "metadata": {},
   "outputs": [],
   "source": [
    "#See anomalysolutions.ipynb for details\n",
    "#from anomalytools import *"
   ]
  },
  {
   "cell_type": "markdown",
   "metadata": {},
   "source": [
    "### Prepare functions to filter solutions with at least two sets of repeated charges"
   ]
  },
  {
   "cell_type": "code",
   "execution_count": 6,
   "metadata": {},
   "outputs": [],
   "source": [
    "def multiple_repeated(ll):\n",
    "    MR=False\n",
    "    rp=[]\n",
    "    triplet=False\n",
    "    for x in ll:\n",
    "        if ll.count(x)>1:\n",
    "            if ll.count(x)>2:\n",
    "                triplet=True\n",
    "            rp.append(x)\n",
    "    rp=sorted(np.unique(rp))\n",
    "    if len(rp)>=2 and triplet:\n",
    "        MR=True\n",
    "    return MR\n",
    "\n",
    "def extract_Dirac_and_Majorana(l,s):\n",
    "    ll=l.copy()\n",
    "    #Check first Dirac\n",
    "    for xs  in itertools.combinations(l,2):\n",
    "        #print('ini',xs,ll,xs[0] in ll,xs[1] in ll)\n",
    "        if (xs[0] in ll  and xs[1] in ll)  and (sum(xs)+s==0 or sum(xs)-s==0):\n",
    "            ll=[x for x in ll if x in ll and x not in xs]\n",
    "        #print('ll',ll)\n",
    "    #Check Majorana\n",
    "    for x in ll:\n",
    "        if 2*x+s==0 or 2*x-s==0:\n",
    "            ll.remove(x)\n",
    "    return ll\n",
    "\n",
    "def best_higgs_singlet(l):\n",
    "    lenmax=np.Inf\n",
    "    best_sp=0\n",
    "    best_spl=l\n",
    "    sps=np.unique( (np.abs( list(2*np.array(l))+[sum(x) for x in itertools.combinations(l,2) ]) ) )\n",
    "    for sp in sps:\n",
    "        newl=extract_Dirac_and_Majorana(l,sp)\n",
    "        if len(newl)<len(best_spl):\n",
    "            best_spl=newl\n",
    "            best_sp=sp\n",
    "    return best_sp,best_spl\n",
    "\n",
    "def tree_level_ii(ll):\n",
    "    '''\n",
    "    At least a triplet and a doublet is guaranteed\n",
    "    (.ν,ν,...)\n",
    "    '''\n",
    "    fs=[]\n",
    "    mrp=[]\n",
    "    νrp=[]\n",
    "    for x in ll:\n",
    "        if ll.count(x)==1:\n",
    "            fs.append(x)\n",
    "        elif ll.count(x)==3:\n",
    "            mrp.append(x)\n",
    "        elif ll.count(x)>3:\n",
    "            mrp.append(x)\n",
    "            fs.append(x)\n",
    "        elif ll.count(x)==2:\n",
    "            νrp.append(x)\n",
    "    mrp=sorted(np.unique(mrp))\n",
    "    νrp=sorted(np.unique(νrp))\n",
    "    fs=sorted(np.unique(fs))\n",
    "    #print(len(mrp),len(νrp),ll)\n",
    "    sltn=[]\n",
    "    for m in mrp:\n",
    "        for ν in νrp:\n",
    "            #if (mrp[0]+ν in [sum(k)  for k  in itertools.combinations(fs,2)]+list(2*np.array(fs))):\n",
    "            s=-m-ν# ,fs,[sum(k)  for k  in itertools.combinations(fs,2)],list(2*np.array(fs)))\n",
    "            nom=mrp.copy()\n",
    "            kk=nom.remove(m)\n",
    "            noν=νrp.copy()\n",
    "            kk=noν.remove(ν)\n",
    "            massless=fs+nom+noν\n",
    "            massless=extract_Dirac_and_Majorana(massless,s)\n",
    "            slt={'[m,ν,s]':[m,ν,s],'massless':massless}\n",
    "            if len(massless)>0:\n",
    "                slt['sp'],slt['sp_massless']=best_higgs_singlet(massless)\n",
    "            else:\n",
    "                slt['sp'],slt['sp_massless']=(None,None)            \n",
    "            sltn.append(slt)\n",
    "    return sltn\n",
    "\n",
    "#assert extract_Dirac_and_Majorana([2,6,4,3],8)==[3]\n",
    "#assert best_higgs_singlet([1,-11,9])==(2, [])\n",
    "#assert tree_level([1, -4, -4, 9, 9,7,7,7,-11])[0]['[l,ν,s,m_in,m_out]']==[-4, 7, -3, 0, -1]\n",
    "#assert tree_level([ -4, -4,-4, 9, 9,9])[0]['sp']==None"
   ]
  },
  {
   "cell_type": "code",
   "execution_count": 7,
   "metadata": {},
   "outputs": [],
   "source": [
    "def tree_level_ii(ll):\n",
    "    '''\n",
    "    At least a triplet and a doublet is guaranteed\n",
    "    (ν,ν,...)\n",
    "    '''\n",
    "    fs=[]\n",
    "    νrp=[]\n",
    "    for x in np.unique(ll):\n",
    "        if ll.count(x)==2 or ll.count(x)==3:\n",
    "            νrp.append(x)\n",
    "    νrp=sorted(np.unique(νrp))\n",
    "    #print(len(mrp),len(νrp),ll)\n",
    "    sltn=[]\n",
    "    for ν in νrp:\n",
    "        s=-ν\n",
    "        fs=list(np.unique([x for x in ll if x!=ν]))\n",
    "        massless=extract_Dirac_and_Majorana(fs,s)\n",
    "        if len(massless)==0:\n",
    "            slt={'[ν,s]':[ν,s]}\n",
    "            sltn.append(slt)\n",
    "    if len(sltn)>0:\n",
    "        return sltn\n",
    "    else:\n",
    "        return np.nan"
   ]
  },
  {
   "cell_type": "code",
   "execution_count": 8,
   "metadata": {},
   "outputs": [],
   "source": [
    "ll=[6, -5, -5, 3, 2, -1]\n",
    "assert tree_level_ii(ll)==[{'[ν,s]': [-5, 5]}]"
   ]
  },
  {
   "cell_type": "markdown",
   "metadata": {},
   "source": [
    "### Initialize filtered solutions"
   ]
  },
  {
   "cell_type": "code",
   "execution_count": 9,
   "metadata": {},
   "outputs": [],
   "source": [
    "cl=ds.copy()"
   ]
  },
  {
   "cell_type": "markdown",
   "metadata": {},
   "source": [
    "Find solutions that satisfy the condition"
   ]
  },
  {
   "cell_type": "code",
   "execution_count": 10,
   "metadata": {},
   "outputs": [],
   "source": [
    "cl['tree_level']=cl['solution'].apply(tree_level_ii)"
   ]
  },
  {
   "cell_type": "code",
   "execution_count": 11,
   "metadata": {},
   "outputs": [],
   "source": [
    "cl=cl.dropna(subset=['tree_level']).reset_index(drop=True)"
   ]
  },
  {
   "cell_type": "code",
   "execution_count": 12,
   "metadata": {},
   "outputs": [
    {
     "data": {
      "text/plain": [
       "(979, 6)"
      ]
     },
     "execution_count": 12,
     "metadata": {},
     "output_type": "execute_result"
    }
   ],
   "source": [
    "cl.shape"
   ]
  },
  {
   "cell_type": "code",
   "execution_count": 234,
   "metadata": {},
   "outputs": [
    {
     "data": {
      "text/html": [
       "<div>\n",
       "<style scoped>\n",
       "    .dataframe tbody tr th:only-of-type {\n",
       "        vertical-align: middle;\n",
       "    }\n",
       "\n",
       "    .dataframe tbody tr th {\n",
       "        vertical-align: top;\n",
       "    }\n",
       "\n",
       "    .dataframe thead th {\n",
       "        text-align: right;\n",
       "    }\n",
       "</style>\n",
       "<table border=\"1\" class=\"dataframe\">\n",
       "  <thead>\n",
       "    <tr style=\"text-align: right;\">\n",
       "      <th></th>\n",
       "      <th>l</th>\n",
       "      <th>k</th>\n",
       "      <th>solution</th>\n",
       "      <th>gcd</th>\n",
       "      <th>n</th>\n",
       "      <th>tree_level</th>\n",
       "    </tr>\n",
       "  </thead>\n",
       "  <tbody>\n",
       "    <tr>\n",
       "      <th>0</th>\n",
       "      <td>[1, -1, 0, 1]</td>\n",
       "      <td>[-2, 0, 2, -2]</td>\n",
       "      <td>[1, 1, 1, -5, -6, 10, 10, 10, -11, -11]</td>\n",
       "      <td>1</td>\n",
       "      <td>10</td>\n",
       "      <td>[{'[ν,s]': [-11, 11]}]</td>\n",
       "    </tr>\n",
       "  </tbody>\n",
       "</table>\n",
       "</div>"
      ],
      "text/plain": [
       "               l               k                                 solution  \\\n",
       "0  [1, -1, 0, 1]  [-2, 0, 2, -2]  [1, 1, 1, -5, -6, 10, 10, 10, -11, -11]   \n",
       "\n",
       "   gcd   n              tree_level  \n",
       "0    1  10  [{'[ν,s]': [-11, 11]}]  "
      ]
     },
     "execution_count": 234,
     "metadata": {},
     "output_type": "execute_result"
    }
   ],
   "source": [
    "#cl=cl[cl['n']==9].reset_index(drop=True)\n",
    "cl[:1]"
   ]
  },
  {
   "cell_type": "code",
   "execution_count": 235,
   "metadata": {},
   "outputs": [
    {
     "data": {
      "text/plain": [
       "(979, 6)"
      ]
     },
     "execution_count": 235,
     "metadata": {},
     "output_type": "execute_result"
    }
   ],
   "source": [
    "cl.shape"
   ]
  },
  {
   "cell_type": "code",
   "execution_count": 238,
   "metadata": {},
   "outputs": [],
   "source": [
    "def rank(l,ν):\n",
    "    '''\n",
    "    Obtain a list of count of repeated charges, \n",
    "    * if the list have an even length → Pairs match\n",
    "    * if the list have an odd length → Pairs does not match → massless fermions\n",
    "    '''\n",
    "    #Remove ν\n",
    "    l=[x for x in  l if x!=ν ]\n",
    "    s=-ν\n",
    "    #Remove Majorana\n",
    "    xx=(np.unique(l)*2-s)\n",
    "    xx=(xx[xx!=0]+s)/2\n",
    "    xx=(np.unique(xx)*2+s)\n",
    "    xx=(xx[xx!=0]-s)/2\n",
    "    return len([l.count(x) for x in xx if l.count(x)!=1])%2\n",
    "\n",
    "assert( rank( l=[1, -2, -3, 5, 5, -6], ν=5 )) == 0\n",
    "assert( rank(l=[1, -2, 3, 4, 6, -7, -7, -7, 9],ν=-7 )) == 0\n",
    "assert( rank( l=[1, 1, 2, 2, 3, -5, -6, -6, 8],ν=2 ))==1\n",
    "\n",
    "cl['ν']=cl['tree_level'].apply(lambda l: [d.get('[ν,s]')[0]  for d in l  ]).str[0]\n",
    "cl=cl[cl.apply(lambda r: rank( r['solution'], -r['ν'] )==0,axis='columns')==0].reset_index(drop=True).drop('ν',axis='columns')"
   ]
  },
  {
   "cell_type": "code",
   "execution_count": 239,
   "metadata": {},
   "outputs": [
    {
     "data": {
      "text/plain": [
       "(957, 6)"
      ]
     },
     "execution_count": 239,
     "metadata": {},
     "output_type": "execute_result"
    }
   ],
   "source": [
    "cl.shape"
   ]
  },
  {
   "cell_type": "code",
   "execution_count": 240,
   "metadata": {},
   "outputs": [
    {
     "data": {
      "text/html": [
       "<div>\n",
       "<style scoped>\n",
       "    .dataframe tbody tr th:only-of-type {\n",
       "        vertical-align: middle;\n",
       "    }\n",
       "\n",
       "    .dataframe tbody tr th {\n",
       "        vertical-align: top;\n",
       "    }\n",
       "\n",
       "    .dataframe thead th {\n",
       "        text-align: right;\n",
       "    }\n",
       "</style>\n",
       "<table border=\"1\" class=\"dataframe\">\n",
       "  <thead>\n",
       "    <tr style=\"text-align: right;\">\n",
       "      <th></th>\n",
       "      <th>l</th>\n",
       "      <th>k</th>\n",
       "      <th>solution</th>\n",
       "      <th>gcd</th>\n",
       "      <th>n</th>\n",
       "      <th>tree_level</th>\n",
       "    </tr>\n",
       "  </thead>\n",
       "  <tbody>\n",
       "    <tr>\n",
       "      <th>212</th>\n",
       "      <td>[-2, 0, 2, 1]</td>\n",
       "      <td>[-5, -4, 4, 3]</td>\n",
       "      <td>[1, 1, -2, -2, -2, -2, 3, 4, 4, -5]</td>\n",
       "      <td>1</td>\n",
       "      <td>10</td>\n",
       "      <td>[{'[ν,s]': [1, -1]}]</td>\n",
       "    </tr>\n",
       "    <tr>\n",
       "      <th>260</th>\n",
       "      <td>[-2, -1, 0, 1]</td>\n",
       "      <td>[-5, -6, -4, 1]</td>\n",
       "      <td>[1, -2, -2, 3, 4, -5, -5, 7, 7, -8]</td>\n",
       "      <td>1</td>\n",
       "      <td>10</td>\n",
       "      <td>[{'[ν,s]': [-5, 5]}, {'[ν,s]': [7, -7]}]</td>\n",
       "    </tr>\n",
       "    <tr>\n",
       "      <th>433</th>\n",
       "      <td>[2, 3, -1, 1]</td>\n",
       "      <td>[-6, -5, -6, -5]</td>\n",
       "      <td>[1, -2, -2, 3, 3, -4, -4, 6, 6, -7]</td>\n",
       "      <td>1</td>\n",
       "      <td>10</td>\n",
       "      <td>[{'[ν,s]': [6, -6]}]</td>\n",
       "    </tr>\n",
       "  </tbody>\n",
       "</table>\n",
       "</div>"
      ],
      "text/plain": [
       "                  l                 k                             solution  \\\n",
       "212   [-2, 0, 2, 1]    [-5, -4, 4, 3]  [1, 1, -2, -2, -2, -2, 3, 4, 4, -5]   \n",
       "260  [-2, -1, 0, 1]   [-5, -6, -4, 1]  [1, -2, -2, 3, 4, -5, -5, 7, 7, -8]   \n",
       "433   [2, 3, -1, 1]  [-6, -5, -6, -5]  [1, -2, -2, 3, 3, -4, -4, 6, 6, -7]   \n",
       "\n",
       "     gcd   n                                tree_level  \n",
       "212    1  10                      [{'[ν,s]': [1, -1]}]  \n",
       "260    1  10  [{'[ν,s]': [-5, 5]}, {'[ν,s]': [7, -7]}]  \n",
       "433    1  10                      [{'[ν,s]': [6, -6]}]  "
      ]
     },
     "execution_count": 240,
     "metadata": {},
     "output_type": "execute_result"
    }
   ],
   "source": [
    "kk=cl[cl['n']==10]\n",
    "kk[kk['solution'].apply(lambda l: np.abs(l).max())<9]"
   ]
  },
  {
   "cell_type": "markdown",
   "metadata": {},
   "source": [
    "Reorder the filtered solutions"
   ]
  },
  {
   "cell_type": "code",
   "execution_count": 245,
   "metadata": {},
   "outputs": [
    {
     "data": {
      "text/html": [
       "<div>\n",
       "<style scoped>\n",
       "    .dataframe tbody tr th:only-of-type {\n",
       "        vertical-align: middle;\n",
       "    }\n",
       "\n",
       "    .dataframe tbody tr th {\n",
       "        vertical-align: top;\n",
       "    }\n",
       "\n",
       "    .dataframe thead th {\n",
       "        text-align: right;\n",
       "    }\n",
       "</style>\n",
       "<table border=\"1\" class=\"dataframe\">\n",
       "  <thead>\n",
       "    <tr style=\"text-align: right;\">\n",
       "      <th></th>\n",
       "      <th>l</th>\n",
       "      <th>k</th>\n",
       "      <th>solution</th>\n",
       "      <th>gcd</th>\n",
       "      <th>n</th>\n",
       "      <th>tree_level</th>\n",
       "      <th>smax</th>\n",
       "    </tr>\n",
       "  </thead>\n",
       "  <tbody>\n",
       "    <tr>\n",
       "      <th>0</th>\n",
       "      <td>[-1, 1]</td>\n",
       "      <td>[-2, 0]</td>\n",
       "      <td>[1, -2, -3, 5, 5, -6]</td>\n",
       "      <td>1</td>\n",
       "      <td>6</td>\n",
       "      <td>[{'[ν,s]': [5, -5]}]</td>\n",
       "      <td>6</td>\n",
       "    </tr>\n",
       "  </tbody>\n",
       "</table>\n",
       "</div>"
      ],
      "text/plain": [
       "         l        k               solution  gcd  n            tree_level  smax\n",
       "0  [-1, 1]  [-2, 0]  [1, -2, -3, 5, 5, -6]    1  6  [{'[ν,s]': [5, -5]}]     6"
      ]
     },
     "execution_count": 245,
     "metadata": {},
     "output_type": "execute_result"
    }
   ],
   "source": [
    "cl['smax']=cl['solution'].apply(lambda l:np.abs(l).max())\n",
    "cl=cl.sort_values(['n','smax']).reset_index(drop=True)\n",
    "cl=cl[cl.smax<=30].reset_index(drop=True)\n",
    "cl[:1]"
   ]
  },
  {
   "cell_type": "markdown",
   "metadata": {},
   "source": [
    "### Flag equivalent solutions"
   ]
  },
  {
   "cell_type": "code",
   "execution_count": 252,
   "metadata": {},
   "outputs": [],
   "source": [
    "def characterize_solution(cl,i,j=0):\n",
    "    cl.loc[i,'rptd']=len( [ cl.loc[i,'solution'].count(x) for x in np.unique(cl.loc[i,'solution']) if cl.loc[i,'solution'].count(x)>1] )\n",
    "    cl.loc[i,'trptd']=len( [ cl.loc[i,'solution'].count(x) for x in np.unique(cl.loc[i,'solution']) if cl.loc[i,'solution'].count(x)>2] )\n",
    "    return cl"
   ]
  },
  {
   "cell_type": "markdown",
   "metadata": {},
   "source": [
    "Example: massless solutions"
   ]
  },
  {
   "cell_type": "code",
   "execution_count": 253,
   "metadata": {},
   "outputs": [],
   "source": [
    "for i in cl.index:\n",
    "    cl=characterize_solution(cl,i,0)"
   ]
  },
  {
   "cell_type": "code",
   "execution_count": 278,
   "metadata": {},
   "outputs": [
    {
     "data": {
      "text/html": [
       "<div>\n",
       "<style scoped>\n",
       "    .dataframe tbody tr th:only-of-type {\n",
       "        vertical-align: middle;\n",
       "    }\n",
       "\n",
       "    .dataframe tbody tr th {\n",
       "        vertical-align: top;\n",
       "    }\n",
       "\n",
       "    .dataframe thead th {\n",
       "        text-align: right;\n",
       "    }\n",
       "</style>\n",
       "<table border=\"1\" class=\"dataframe\">\n",
       "  <thead>\n",
       "    <tr style=\"text-align: right;\">\n",
       "      <th></th>\n",
       "      <th>l</th>\n",
       "      <th>k</th>\n",
       "      <th>solution</th>\n",
       "      <th>gcd</th>\n",
       "      <th>n</th>\n",
       "      <th>tree_level</th>\n",
       "      <th>smax</th>\n",
       "      <th>rptd</th>\n",
       "      <th>trptd</th>\n",
       "    </tr>\n",
       "  </thead>\n",
       "  <tbody>\n",
       "    <tr>\n",
       "      <th>0</th>\n",
       "      <td>[-1, 1]</td>\n",
       "      <td>[-2, 0]</td>\n",
       "      <td>[1, -2, -3, 5, 5, -6]</td>\n",
       "      <td>1</td>\n",
       "      <td>6</td>\n",
       "      <td>[{'[ν,s]': [5, -5]}]</td>\n",
       "      <td>6</td>\n",
       "      <td>1</td>\n",
       "      <td>0</td>\n",
       "    </tr>\n",
       "  </tbody>\n",
       "</table>\n",
       "</div>"
      ],
      "text/plain": [
       "         l        k               solution  gcd  n            tree_level  \\\n",
       "0  [-1, 1]  [-2, 0]  [1, -2, -3, 5, 5, -6]    1  6  [{'[ν,s]': [5, -5]}]   \n",
       "\n",
       "   smax  rptd  trptd  \n",
       "0     6     1      0  "
      ]
     },
     "execution_count": 278,
     "metadata": {},
     "output_type": "execute_result"
    }
   ],
   "source": [
    "cl.dropna()[:1]"
   ]
  },
  {
   "cell_type": "markdown",
   "metadata": {},
   "source": [
    "### Add solutions with massless fermions that get masses with some $S'$"
   ]
  },
  {
   "cell_type": "code",
   "execution_count": 255,
   "metadata": {},
   "outputs": [],
   "source": [
    "for k  in ['rptd','trptd']:\n",
    "    cl[k]=cl[k].astype(int)"
   ]
  },
  {
   "cell_type": "code",
   "execution_count": 256,
   "metadata": {},
   "outputs": [],
   "source": [
    "cl=cl.sort_values(['n','smax','rptd','trptd']).reset_index(drop=True)"
   ]
  },
  {
   "cell_type": "markdown",
   "metadata": {},
   "source": [
    "## Build the final table dropping out equivalent solutions "
   ]
  },
  {
   "cell_type": "code",
   "execution_count": 266,
   "metadata": {},
   "outputs": [],
   "source": [
    "fl=pd.DataFrame()"
   ]
  },
  {
   "cell_type": "code",
   "execution_count": 267,
   "metadata": {},
   "outputs": [],
   "source": [
    "fl=fl.append( cl[ cl['n']==6 ].drop_duplicates(subset=['rptd','trptd']).reset_index(drop=True) )"
   ]
  },
  {
   "cell_type": "code",
   "execution_count": 268,
   "metadata": {},
   "outputs": [],
   "source": [
    "fl=fl.append(cl[ cl['n']==7 ].drop_duplicates(subset=['rptd','trptd']).reset_index(drop=True) )"
   ]
  },
  {
   "cell_type": "code",
   "execution_count": 269,
   "metadata": {},
   "outputs": [],
   "source": [
    "fl=fl.append(cl[ cl['n']==8 ].drop_duplicates(subset=['rptd','trptd']).reset_index(drop=True) )"
   ]
  },
  {
   "cell_type": "code",
   "execution_count": 270,
   "metadata": {},
   "outputs": [],
   "source": [
    "fl=fl.append( cl[ cl['n']==9 ].drop_duplicates(subset=['rptd','trptd']).reset_index(drop=True) )"
   ]
  },
  {
   "cell_type": "code",
   "execution_count": 271,
   "metadata": {},
   "outputs": [],
   "source": [
    "fl=fl.reset_index(drop=True)"
   ]
  },
  {
   "cell_type": "code",
   "execution_count": 272,
   "metadata": {},
   "outputs": [
    {
     "data": {
      "text/html": [
       "<div>\n",
       "<style scoped>\n",
       "    .dataframe tbody tr th:only-of-type {\n",
       "        vertical-align: middle;\n",
       "    }\n",
       "\n",
       "    .dataframe tbody tr th {\n",
       "        vertical-align: top;\n",
       "    }\n",
       "\n",
       "    .dataframe thead th {\n",
       "        text-align: right;\n",
       "    }\n",
       "</style>\n",
       "<table border=\"1\" class=\"dataframe\">\n",
       "  <thead>\n",
       "    <tr style=\"text-align: right;\">\n",
       "      <th></th>\n",
       "      <th>l</th>\n",
       "      <th>k</th>\n",
       "      <th>solution</th>\n",
       "      <th>gcd</th>\n",
       "      <th>n</th>\n",
       "      <th>tree_level</th>\n",
       "      <th>smax</th>\n",
       "      <th>rptd</th>\n",
       "      <th>trptd</th>\n",
       "    </tr>\n",
       "  </thead>\n",
       "  <tbody>\n",
       "    <tr>\n",
       "      <th>0</th>\n",
       "      <td>[-1, 1]</td>\n",
       "      <td>[-2, 0]</td>\n",
       "      <td>[1, -2, -3, 5, 5, -6]</td>\n",
       "      <td>1</td>\n",
       "      <td>6</td>\n",
       "      <td>[{'[ν,s]': [5, -5]}]</td>\n",
       "      <td>6</td>\n",
       "      <td>1</td>\n",
       "      <td>0</td>\n",
       "    </tr>\n",
       "    <tr>\n",
       "      <th>1</th>\n",
       "      <td>[-2, -3, 1, -1]</td>\n",
       "      <td>[-3, -1, -2, -1]</td>\n",
       "      <td>[1, -2, 3, 4, 6, -7, -7, -7, 9]</td>\n",
       "      <td>1</td>\n",
       "      <td>9</td>\n",
       "      <td>[{'[ν,s]': [-7, 7]}]</td>\n",
       "      <td>9</td>\n",
       "      <td>1</td>\n",
       "      <td>1</td>\n",
       "    </tr>\n",
       "    <tr>\n",
       "      <th>2</th>\n",
       "      <td>[-2, 0, 2]</td>\n",
       "      <td>[-1, 1, 0, -1]</td>\n",
       "      <td>[1, 1, -4, -5, 9, 9, 9, -10, -10]</td>\n",
       "      <td>1</td>\n",
       "      <td>9</td>\n",
       "      <td>[{'[ν,s]': [9, -9]}]</td>\n",
       "      <td>10</td>\n",
       "      <td>3</td>\n",
       "      <td>1</td>\n",
       "    </tr>\n",
       "  </tbody>\n",
       "</table>\n",
       "</div>"
      ],
      "text/plain": [
       "                 l                 k                           solution  gcd  \\\n",
       "0          [-1, 1]           [-2, 0]              [1, -2, -3, 5, 5, -6]    1   \n",
       "1  [-2, -3, 1, -1]  [-3, -1, -2, -1]    [1, -2, 3, 4, 6, -7, -7, -7, 9]    1   \n",
       "2       [-2, 0, 2]    [-1, 1, 0, -1]  [1, 1, -4, -5, 9, 9, 9, -10, -10]    1   \n",
       "\n",
       "   n            tree_level  smax  rptd  trptd  \n",
       "0  6  [{'[ν,s]': [5, -5]}]     6     1      0  \n",
       "1  9  [{'[ν,s]': [-7, 7]}]     9     1      1  \n",
       "2  9  [{'[ν,s]': [9, -9]}]    10     3      1  "
      ]
     },
     "execution_count": 272,
     "metadata": {},
     "output_type": "execute_result"
    }
   ],
   "source": [
    "fl"
   ]
  },
  {
   "cell_type": "code",
   "execution_count": 277,
   "metadata": {},
   "outputs": [
    {
     "data": {
      "text/html": [
       "<div>\n",
       "<style scoped>\n",
       "    .dataframe tbody tr th:only-of-type {\n",
       "        vertical-align: middle;\n",
       "    }\n",
       "\n",
       "    .dataframe tbody tr th {\n",
       "        vertical-align: top;\n",
       "    }\n",
       "\n",
       "    .dataframe thead th {\n",
       "        text-align: right;\n",
       "    }\n",
       "</style>\n",
       "<table border=\"1\" class=\"dataframe\">\n",
       "  <thead>\n",
       "    <tr style=\"text-align: right;\">\n",
       "      <th></th>\n",
       "      <th>l</th>\n",
       "      <th>k</th>\n",
       "      <th>solution</th>\n",
       "      <th>gcd</th>\n",
       "      <th>n</th>\n",
       "      <th>tree_level</th>\n",
       "      <th>smax</th>\n",
       "      <th>rptd</th>\n",
       "      <th>trptd</th>\n",
       "    </tr>\n",
       "  </thead>\n",
       "  <tbody>\n",
       "    <tr>\n",
       "      <th>26</th>\n",
       "      <td>[-2, 0, 2, 1]</td>\n",
       "      <td>[-5, -4, 4, 3]</td>\n",
       "      <td>[1, 1, -2, -2, -2, -2, 3, 4, 4, -5]</td>\n",
       "      <td>1</td>\n",
       "      <td>10</td>\n",
       "      <td>[{'[ν,s]': [1, -1]}]</td>\n",
       "      <td>5</td>\n",
       "      <td>3</td>\n",
       "      <td>1</td>\n",
       "    </tr>\n",
       "    <tr>\n",
       "      <th>27</th>\n",
       "      <td>[2, 3, -1, 1]</td>\n",
       "      <td>[-6, -5, -6, -5]</td>\n",
       "      <td>[1, -2, -2, 3, 3, -4, -4, 6, 6, -7]</td>\n",
       "      <td>1</td>\n",
       "      <td>10</td>\n",
       "      <td>[{'[ν,s]': [6, -6]}]</td>\n",
       "      <td>7</td>\n",
       "      <td>4</td>\n",
       "      <td>0</td>\n",
       "    </tr>\n",
       "    <tr>\n",
       "      <th>28</th>\n",
       "      <td>[-2, -1, 0, 1]</td>\n",
       "      <td>[-5, -6, -4, 1]</td>\n",
       "      <td>[1, -2, -2, 3, 4, -5, -5, 7, 7, -8]</td>\n",
       "      <td>1</td>\n",
       "      <td>10</td>\n",
       "      <td>[{'[ν,s]': [-5, 5]}, {'[ν,s]': [7, -7]}]</td>\n",
       "      <td>8</td>\n",
       "      <td>3</td>\n",
       "      <td>0</td>\n",
       "    </tr>\n",
       "    <tr>\n",
       "      <th>35</th>\n",
       "      <td>[5, 0, -2, 2]</td>\n",
       "      <td>[-6, -5, 1, 0]</td>\n",
       "      <td>[1, 1, 5, 5, 5, -6, -6, -6, -9, 10]</td>\n",
       "      <td>1</td>\n",
       "      <td>10</td>\n",
       "      <td>[{'[ν,s]': [1, -1]}]</td>\n",
       "      <td>10</td>\n",
       "      <td>3</td>\n",
       "      <td>2</td>\n",
       "    </tr>\n",
       "    <tr>\n",
       "      <th>41</th>\n",
       "      <td>[2, -2, 2, 3]</td>\n",
       "      <td>[-6, -5, -3, 1]</td>\n",
       "      <td>[1, -2, -3, 5, 6, -8, -9, 11, 11, -12]</td>\n",
       "      <td>1</td>\n",
       "      <td>10</td>\n",
       "      <td>[{'[ν,s]': [11, -11]}]</td>\n",
       "      <td>12</td>\n",
       "      <td>1</td>\n",
       "      <td>0</td>\n",
       "    </tr>\n",
       "    <tr>\n",
       "      <th>49</th>\n",
       "      <td>[-2, 4, 0, -3]</td>\n",
       "      <td>[-2, 0, -1, 1]</td>\n",
       "      <td>[1, 1, -2, -2, -4, 6, -10, 11, 12, -13]</td>\n",
       "      <td>1</td>\n",
       "      <td>10</td>\n",
       "      <td>[{'[ν,s]': [-2, 2]}]</td>\n",
       "      <td>13</td>\n",
       "      <td>2</td>\n",
       "      <td>0</td>\n",
       "    </tr>\n",
       "    <tr>\n",
       "      <th>50</th>\n",
       "      <td>[-4, -5, -4, -2]</td>\n",
       "      <td>[-4, 3, -5, 0]</td>\n",
       "      <td>[3, 4, 4, 4, 4, -5, -8, -8, -11, 13]</td>\n",
       "      <td>8</td>\n",
       "      <td>10</td>\n",
       "      <td>[{'[ν,s]': [-8, 8]}]</td>\n",
       "      <td>13</td>\n",
       "      <td>2</td>\n",
       "      <td>1</td>\n",
       "    </tr>\n",
       "  </tbody>\n",
       "</table>\n",
       "</div>"
      ],
      "text/plain": [
       "                   l                 k  \\\n",
       "26     [-2, 0, 2, 1]    [-5, -4, 4, 3]   \n",
       "27     [2, 3, -1, 1]  [-6, -5, -6, -5]   \n",
       "28    [-2, -1, 0, 1]   [-5, -6, -4, 1]   \n",
       "35     [5, 0, -2, 2]    [-6, -5, 1, 0]   \n",
       "41     [2, -2, 2, 3]   [-6, -5, -3, 1]   \n",
       "49    [-2, 4, 0, -3]    [-2, 0, -1, 1]   \n",
       "50  [-4, -5, -4, -2]    [-4, 3, -5, 0]   \n",
       "\n",
       "                                   solution  gcd   n  \\\n",
       "26      [1, 1, -2, -2, -2, -2, 3, 4, 4, -5]    1  10   \n",
       "27      [1, -2, -2, 3, 3, -4, -4, 6, 6, -7]    1  10   \n",
       "28      [1, -2, -2, 3, 4, -5, -5, 7, 7, -8]    1  10   \n",
       "35      [1, 1, 5, 5, 5, -6, -6, -6, -9, 10]    1  10   \n",
       "41   [1, -2, -3, 5, 6, -8, -9, 11, 11, -12]    1  10   \n",
       "49  [1, 1, -2, -2, -4, 6, -10, 11, 12, -13]    1  10   \n",
       "50     [3, 4, 4, 4, 4, -5, -8, -8, -11, 13]    8  10   \n",
       "\n",
       "                                  tree_level  smax  rptd  trptd  \n",
       "26                      [{'[ν,s]': [1, -1]}]     5     3      1  \n",
       "27                      [{'[ν,s]': [6, -6]}]     7     4      0  \n",
       "28  [{'[ν,s]': [-5, 5]}, {'[ν,s]': [7, -7]}]     8     3      0  \n",
       "35                      [{'[ν,s]': [1, -1]}]    10     3      2  \n",
       "41                    [{'[ν,s]': [11, -11]}]    12     1      0  \n",
       "49                      [{'[ν,s]': [-2, 2]}]    13     2      0  \n",
       "50                      [{'[ν,s]': [-8, 8]}]    13     2      1  "
      ]
     },
     "execution_count": 277,
     "metadata": {},
     "output_type": "execute_result"
    }
   ],
   "source": [
    "cl[cl['n']==10].drop_duplicates(subset=['rptd','trptd'])"
   ]
  },
  {
   "cell_type": "code",
   "execution_count": 279,
   "metadata": {},
   "outputs": [],
   "source": [
    "def getit(it,dk):\n",
    "    it['ν']=dk.get('[ν,s]')[0]\n",
    "    it['s']=dk.get('[ν,s]')[1]\n",
    "    it['massless']=0\n",
    "    return it\n",
    "    \n",
    "tm=pd.DataFrame()\n",
    "fl=fl.sort_values(['n','smax']).reset_index(drop=True)\n",
    "for i in fl.index:\n",
    "    it=fl.loc[i].to_dict()\n",
    "    k=[d for d in fl.loc[i,'tree_level']]\n",
    "    if len(k)>0:\n",
    "        dk=k[0]\n",
    "        it=getit(it,dk)\n",
    "        tm=tm.append(it,ignore_index=True)"
   ]
  },
  {
   "cell_type": "code",
   "execution_count": 280,
   "metadata": {},
   "outputs": [
    {
     "data": {
      "text/html": [
       "<div>\n",
       "<style scoped>\n",
       "    .dataframe tbody tr th:only-of-type {\n",
       "        vertical-align: middle;\n",
       "    }\n",
       "\n",
       "    .dataframe tbody tr th {\n",
       "        vertical-align: top;\n",
       "    }\n",
       "\n",
       "    .dataframe thead th {\n",
       "        text-align: right;\n",
       "    }\n",
       "</style>\n",
       "<table border=\"1\" class=\"dataframe\">\n",
       "  <thead>\n",
       "    <tr style=\"text-align: right;\">\n",
       "      <th></th>\n",
       "      <th>gcd</th>\n",
       "      <th>k</th>\n",
       "      <th>l</th>\n",
       "      <th>massless</th>\n",
       "      <th>n</th>\n",
       "      <th>rptd</th>\n",
       "      <th>s</th>\n",
       "      <th>smax</th>\n",
       "      <th>solution</th>\n",
       "      <th>tree_level</th>\n",
       "      <th>trptd</th>\n",
       "      <th>ν</th>\n",
       "    </tr>\n",
       "  </thead>\n",
       "  <tbody>\n",
       "    <tr>\n",
       "      <th>0</th>\n",
       "      <td>1.0</td>\n",
       "      <td>[-2, 0]</td>\n",
       "      <td>[-1, 1]</td>\n",
       "      <td>0.0</td>\n",
       "      <td>6.0</td>\n",
       "      <td>1.0</td>\n",
       "      <td>-5.0</td>\n",
       "      <td>6.0</td>\n",
       "      <td>[1, -2, -3, 5, 5, -6]</td>\n",
       "      <td>[{'[ν,s]': [5, -5]}]</td>\n",
       "      <td>0.0</td>\n",
       "      <td>5.0</td>\n",
       "    </tr>\n",
       "    <tr>\n",
       "      <th>1</th>\n",
       "      <td>1.0</td>\n",
       "      <td>[-3, -1, -2, -1]</td>\n",
       "      <td>[-2, -3, 1, -1]</td>\n",
       "      <td>0.0</td>\n",
       "      <td>9.0</td>\n",
       "      <td>1.0</td>\n",
       "      <td>7.0</td>\n",
       "      <td>9.0</td>\n",
       "      <td>[1, -2, 3, 4, 6, -7, -7, -7, 9]</td>\n",
       "      <td>[{'[ν,s]': [-7, 7]}]</td>\n",
       "      <td>1.0</td>\n",
       "      <td>-7.0</td>\n",
       "    </tr>\n",
       "    <tr>\n",
       "      <th>2</th>\n",
       "      <td>1.0</td>\n",
       "      <td>[-1, 1, 0, -1]</td>\n",
       "      <td>[-2, 0, 2]</td>\n",
       "      <td>0.0</td>\n",
       "      <td>9.0</td>\n",
       "      <td>3.0</td>\n",
       "      <td>-9.0</td>\n",
       "      <td>10.0</td>\n",
       "      <td>[1, 1, -4, -5, 9, 9, 9, -10, -10]</td>\n",
       "      <td>[{'[ν,s]': [9, -9]}]</td>\n",
       "      <td>1.0</td>\n",
       "      <td>9.0</td>\n",
       "    </tr>\n",
       "  </tbody>\n",
       "</table>\n",
       "</div>"
      ],
      "text/plain": [
       "   gcd                 k                l  massless    n  rptd    s  smax  \\\n",
       "0  1.0           [-2, 0]          [-1, 1]       0.0  6.0   1.0 -5.0   6.0   \n",
       "1  1.0  [-3, -1, -2, -1]  [-2, -3, 1, -1]       0.0  9.0   1.0  7.0   9.0   \n",
       "2  1.0    [-1, 1, 0, -1]       [-2, 0, 2]       0.0  9.0   3.0 -9.0  10.0   \n",
       "\n",
       "                            solution            tree_level  trptd    ν  \n",
       "0              [1, -2, -3, 5, 5, -6]  [{'[ν,s]': [5, -5]}]    0.0  5.0  \n",
       "1    [1, -2, 3, 4, 6, -7, -7, -7, 9]  [{'[ν,s]': [-7, 7]}]    1.0 -7.0  \n",
       "2  [1, 1, -4, -5, 9, 9, 9, -10, -10]  [{'[ν,s]': [9, -9]}]    1.0  9.0  "
      ]
     },
     "execution_count": 280,
     "metadata": {},
     "output_type": "execute_result"
    }
   ],
   "source": [
    "tm"
   ]
  },
  {
   "cell_type": "code",
   "execution_count": 281,
   "metadata": {},
   "outputs": [
    {
     "data": {
      "text/html": [
       "<div>\n",
       "<style scoped>\n",
       "    .dataframe tbody tr th:only-of-type {\n",
       "        vertical-align: middle;\n",
       "    }\n",
       "\n",
       "    .dataframe tbody tr th {\n",
       "        vertical-align: top;\n",
       "    }\n",
       "\n",
       "    .dataframe thead th {\n",
       "        text-align: right;\n",
       "    }\n",
       "</style>\n",
       "<table border=\"1\" class=\"dataframe\">\n",
       "  <thead>\n",
       "    <tr style=\"text-align: right;\">\n",
       "      <th></th>\n",
       "      <th>n</th>\n",
       "      <th>l</th>\n",
       "      <th>k</th>\n",
       "      <th>solution</th>\n",
       "      <th>gcd</th>\n",
       "      <th>ν</th>\n",
       "      <th>s</th>\n",
       "      <th>massless</th>\n",
       "      <th>rptd</th>\n",
       "      <th>trptd</th>\n",
       "    </tr>\n",
       "  </thead>\n",
       "  <tbody>\n",
       "    <tr>\n",
       "      <th>0</th>\n",
       "      <td>6</td>\n",
       "      <td>[-1, 1]</td>\n",
       "      <td>[-2, 0]</td>\n",
       "      <td>[1, -2, -3, 5, 5, -6]</td>\n",
       "      <td>1</td>\n",
       "      <td>5</td>\n",
       "      <td>-5</td>\n",
       "      <td>0.0</td>\n",
       "      <td>1</td>\n",
       "      <td>0</td>\n",
       "    </tr>\n",
       "    <tr>\n",
       "      <th>1</th>\n",
       "      <td>9</td>\n",
       "      <td>[-2, -3, 1, -1]</td>\n",
       "      <td>[-3, -1, -2, -1]</td>\n",
       "      <td>[1, -2, 3, 4, 6, -7, -7, -7, 9]</td>\n",
       "      <td>1</td>\n",
       "      <td>-7</td>\n",
       "      <td>7</td>\n",
       "      <td>0.0</td>\n",
       "      <td>1</td>\n",
       "      <td>1</td>\n",
       "    </tr>\n",
       "    <tr>\n",
       "      <th>2</th>\n",
       "      <td>9</td>\n",
       "      <td>[-2, 0, 2]</td>\n",
       "      <td>[-1, 1, 0, -1]</td>\n",
       "      <td>[1, 1, -4, -5, 9, 9, 9, -10, -10]</td>\n",
       "      <td>1</td>\n",
       "      <td>9</td>\n",
       "      <td>-9</td>\n",
       "      <td>0.0</td>\n",
       "      <td>3</td>\n",
       "      <td>1</td>\n",
       "    </tr>\n",
       "  </tbody>\n",
       "</table>\n",
       "</div>"
      ],
      "text/plain": [
       "   n                l                 k                           solution  \\\n",
       "0  6          [-1, 1]           [-2, 0]              [1, -2, -3, 5, 5, -6]   \n",
       "1  9  [-2, -3, 1, -1]  [-3, -1, -2, -1]    [1, -2, 3, 4, 6, -7, -7, -7, 9]   \n",
       "2  9       [-2, 0, 2]    [-1, 1, 0, -1]  [1, 1, -4, -5, 9, 9, 9, -10, -10]   \n",
       "\n",
       "   gcd  ν  s  massless  rptd  trptd  \n",
       "0    1  5 -5       0.0     1      0  \n",
       "1    1 -7  7       0.0     1      1  \n",
       "2    1  9 -9       0.0     3      1  "
      ]
     },
     "execution_count": 281,
     "metadata": {},
     "output_type": "execute_result"
    }
   ],
   "source": [
    "for k in ['n','gcd','ν','s','rptd','trptd']:\n",
    "    tm[k]=tm[k].astype(int)\n",
    "tm['nsmax']=tm.apply(lambda row: np.abs( row['solution'] ).max(),axis='columns' )\n",
    "tm=tm.sort_values(['n','nsmax']).reset_index(drop=True)\n",
    "\n",
    "#Delete equivalent solutions\n",
    "#tm['Q']=True\n",
    "#sltns={'[3, -4, 8, -9]': [3, -4, -6, -6, 7, 7, 8, -9],}\n",
    "#for k in sltns.keys():\n",
    "#    iq=tm[((tm['solution'].astype(str)==str(sltns[k])) &  (tm['massless'].astype(str)==k)\n",
    "#          )].index[0] #unstable dark matter\n",
    "#    tm.loc[iq,'Q']=False\n",
    "\n",
    "#tm=tm[tm['Q']].reset_index(drop=True).drop('Q',axis='columns')\n",
    "tm[['n','l','k','solution','gcd','ν','s','massless','rptd','trptd']\n",
    "  ].sort_values(['n','rptd','trptd'])#.loc[[0,4]]#.loc[[0,4]]"
   ]
  },
  {
   "cell_type": "code",
   "execution_count": 282,
   "metadata": {},
   "outputs": [
    {
     "data": {
      "text/html": [
       "<div>\n",
       "<style scoped>\n",
       "    .dataframe tbody tr th:only-of-type {\n",
       "        vertical-align: middle;\n",
       "    }\n",
       "\n",
       "    .dataframe tbody tr th {\n",
       "        vertical-align: top;\n",
       "    }\n",
       "\n",
       "    .dataframe thead th {\n",
       "        text-align: right;\n",
       "    }\n",
       "</style>\n",
       "<table border=\"1\" class=\"dataframe\">\n",
       "  <thead>\n",
       "    <tr style=\"text-align: right;\">\n",
       "      <th></th>\n",
       "      <th>n</th>\n",
       "      <th>l</th>\n",
       "      <th>k</th>\n",
       "      <th>solution</th>\n",
       "      <th>gcd</th>\n",
       "      <th>ν</th>\n",
       "      <th>s</th>\n",
       "      <th>massless</th>\n",
       "      <th>rptd</th>\n",
       "      <th>trptd</th>\n",
       "    </tr>\n",
       "  </thead>\n",
       "  <tbody>\n",
       "    <tr>\n",
       "      <th>0</th>\n",
       "      <td>6</td>\n",
       "      <td>[-1, 1]</td>\n",
       "      <td>[-2, 0]</td>\n",
       "      <td>[1, -2, -3, 5, 5, -6]</td>\n",
       "      <td>1</td>\n",
       "      <td>5</td>\n",
       "      <td>-5</td>\n",
       "      <td>0.0</td>\n",
       "      <td>1</td>\n",
       "      <td>0</td>\n",
       "    </tr>\n",
       "    <tr>\n",
       "      <th>1</th>\n",
       "      <td>9</td>\n",
       "      <td>[-2, -3, 1, -1]</td>\n",
       "      <td>[-3, -1, -2, -1]</td>\n",
       "      <td>[1, -2, 3, 4, 6, -7, -7, -7, 9]</td>\n",
       "      <td>1</td>\n",
       "      <td>-7</td>\n",
       "      <td>7</td>\n",
       "      <td>0.0</td>\n",
       "      <td>1</td>\n",
       "      <td>1</td>\n",
       "    </tr>\n",
       "    <tr>\n",
       "      <th>2</th>\n",
       "      <td>9</td>\n",
       "      <td>[-2, 0, 2]</td>\n",
       "      <td>[-1, 1, 0, -1]</td>\n",
       "      <td>[1, 1, -4, -5, 9, 9, 9, -10, -10]</td>\n",
       "      <td>1</td>\n",
       "      <td>9</td>\n",
       "      <td>-9</td>\n",
       "      <td>0.0</td>\n",
       "      <td>3</td>\n",
       "      <td>1</td>\n",
       "    </tr>\n",
       "  </tbody>\n",
       "</table>\n",
       "</div>"
      ],
      "text/plain": [
       "   n                l                 k                           solution  \\\n",
       "0  6          [-1, 1]           [-2, 0]              [1, -2, -3, 5, 5, -6]   \n",
       "1  9  [-2, -3, 1, -1]  [-3, -1, -2, -1]    [1, -2, 3, 4, 6, -7, -7, -7, 9]   \n",
       "2  9       [-2, 0, 2]    [-1, 1, 0, -1]  [1, 1, -4, -5, 9, 9, 9, -10, -10]   \n",
       "\n",
       "   gcd  ν  s  massless  rptd  trptd  \n",
       "0    1  5 -5       0.0     1      0  \n",
       "1    1 -7  7       0.0     1      1  \n",
       "2    1  9 -9       0.0     3      1  "
      ]
     },
     "execution_count": 282,
     "metadata": {},
     "output_type": "execute_result"
    }
   ],
   "source": [
    "kk=tm[['n','l','k','solution','gcd','ν','s','massless','rptd','trptd']].reset_index(drop=True)\n",
    "kk['sltn']=kk['solution'].astype(str)\n",
    "kk.sort_values('n').drop('sltn',axis='columns').reset_index(drop=True)"
   ]
  },
  {
   "cell_type": "code",
   "execution_count": 283,
   "metadata": {},
   "outputs": [],
   "source": [
    "kk=tm[['n','l','k','solution','gcd','ν','s','massless']].copy()"
   ]
  },
  {
   "cell_type": "code",
   "execution_count": 284,
   "metadata": {},
   "outputs": [],
   "source": [
    "import re\n",
    "def add_boldsymbol(ss):\n",
    "    if str(ss).find(r'\\boldsymbol')==-1:\n",
    "        return re.sub('(\\-*[0-9]+)',r'\\\\boldsymbol{\\1}',str(ss))\n",
    "    else:\n",
    "        return ss"
   ]
  },
  {
   "cell_type": "code",
   "execution_count": 287,
   "metadata": {},
   "outputs": [
    {
     "name": "stdout",
     "output_type": "stream",
     "text": [
      "0\n",
      "1\n",
      "2\n"
     ]
    }
   ],
   "source": [
    "kk=tm[['n','l','k','solution','gcd','ν','s','massless']].copy()\n",
    "\n",
    "for i in kk.index:\n",
    "    #for s in ['DD','DM','XD','XM']:\n",
    "    if not kk.loc[i,'massless']:\n",
    "        print(i)\n",
    "        kk.loc[i,'n']=add_boldsymbol(kk.loc[i,'n'])\n",
    "        #kk.loc[i,s]  =add_boldsymbol(kk.loc[i,s])\n",
    "\n",
    "kkk=kk#[['n','l','k','solution','gcd']]#Ref','DD','DM','XD','XM']]\n",
    "def f(x):\n",
    "    return  r'{}'.format(str(x).replace('[','(').replace(']',')'))\n",
    "\n",
    "kkk.to_latex('solutions.tex',index=False,formatters=dict( [(k,f) for k in kk.columns ]) ,escape=False  )"
   ]
  },
  {
   "cell_type": "code",
   "execution_count": 288,
   "metadata": {},
   "outputs": [
    {
     "name": "stdout",
     "output_type": "stream",
     "text": [
      "\\begin{tabular}{llllrrrr}\n",
      "\\toprule\n",
      "              n &                l &                 k &                           solution & gcd &  ν &  s & massless \\\\\n",
      "\\midrule\n",
      " \\boldsymbol{6} &          (-1, 1) &           (-2, 0) &              (1, -2, -3, 5, 5, -6) &   1 &  5 & -5 &      0.0 \\\\\n",
      " \\boldsymbol{9} &  (-2, -3, 1, -1) &  (-3, -1, -2, -1) &    (1, -2, 3, 4, 6, -7, -7, -7, 9) &   1 & -7 &  7 &      0.0 \\\\\n",
      " \\boldsymbol{9} &       (-2, 0, 2) &    (-1, 1, 0, -1) &  (1, 1, -4, -5, 9, 9, 9, -10, -10) &   1 &  9 & -9 &      0.0 \\\\\n",
      "\\bottomrule\n",
      "\\end{tabular}\n"
     ]
    }
   ],
   "source": [
    "cat solutions.tex"
   ]
  },
  {
   "cell_type": "code",
   "execution_count": 289,
   "metadata": {},
   "outputs": [
    {
     "data": {
      "text/html": [
       "<div>\n",
       "<style scoped>\n",
       "    .dataframe tbody tr th:only-of-type {\n",
       "        vertical-align: middle;\n",
       "    }\n",
       "\n",
       "    .dataframe tbody tr th {\n",
       "        vertical-align: top;\n",
       "    }\n",
       "\n",
       "    .dataframe thead th {\n",
       "        text-align: right;\n",
       "    }\n",
       "</style>\n",
       "<table border=\"1\" class=\"dataframe\">\n",
       "  <thead>\n",
       "    <tr style=\"text-align: right;\">\n",
       "      <th></th>\n",
       "      <th>n</th>\n",
       "      <th>l</th>\n",
       "      <th>k</th>\n",
       "      <th>solution</th>\n",
       "      <th>gcd</th>\n",
       "      <th>ν</th>\n",
       "      <th>s</th>\n",
       "      <th>massless</th>\n",
       "    </tr>\n",
       "  </thead>\n",
       "  <tbody>\n",
       "    <tr>\n",
       "      <th>0</th>\n",
       "      <td>\\boldsymbol{6}</td>\n",
       "      <td>[-1, 1]</td>\n",
       "      <td>[-2, 0]</td>\n",
       "      <td>[1, -2, -3, 5, 5, -6]</td>\n",
       "      <td>1</td>\n",
       "      <td>5</td>\n",
       "      <td>-5</td>\n",
       "      <td>0.0</td>\n",
       "    </tr>\n",
       "    <tr>\n",
       "      <th>1</th>\n",
       "      <td>\\boldsymbol{9}</td>\n",
       "      <td>[-2, -3, 1, -1]</td>\n",
       "      <td>[-3, -1, -2, -1]</td>\n",
       "      <td>[1, -2, 3, 4, 6, -7, -7, -7, 9]</td>\n",
       "      <td>1</td>\n",
       "      <td>-7</td>\n",
       "      <td>7</td>\n",
       "      <td>0.0</td>\n",
       "    </tr>\n",
       "    <tr>\n",
       "      <th>2</th>\n",
       "      <td>\\boldsymbol{9}</td>\n",
       "      <td>[-2, 0, 2]</td>\n",
       "      <td>[-1, 1, 0, -1]</td>\n",
       "      <td>[1, 1, -4, -5, 9, 9, 9, -10, -10]</td>\n",
       "      <td>1</td>\n",
       "      <td>9</td>\n",
       "      <td>-9</td>\n",
       "      <td>0.0</td>\n",
       "    </tr>\n",
       "  </tbody>\n",
       "</table>\n",
       "</div>"
      ],
      "text/plain": [
       "                n                l                 k  \\\n",
       "0  \\boldsymbol{6}          [-1, 1]           [-2, 0]   \n",
       "1  \\boldsymbol{9}  [-2, -3, 1, -1]  [-3, -1, -2, -1]   \n",
       "2  \\boldsymbol{9}       [-2, 0, 2]    [-1, 1, 0, -1]   \n",
       "\n",
       "                            solution  gcd  ν  s  massless  \n",
       "0              [1, -2, -3, 5, 5, -6]    1  5 -5       0.0  \n",
       "1    [1, -2, 3, 4, 6, -7, -7, -7, 9]    1 -7  7       0.0  \n",
       "2  [1, 1, -4, -5, 9, 9, 9, -10, -10]    1  9 -9       0.0  "
      ]
     },
     "execution_count": 289,
     "metadata": {},
     "output_type": "execute_result"
    }
   ],
   "source": [
    "kkk"
   ]
  },
  {
   "cell_type": "code",
   "execution_count": null,
   "metadata": {},
   "outputs": [],
   "source": []
  }
 ],
 "metadata": {
  "kernelspec": {
   "display_name": "Python 3",
   "language": "python",
   "name": "python3"
  },
  "language_info": {
   "codemirror_mode": {
    "name": "ipython",
    "version": 3
   },
   "file_extension": ".py",
   "mimetype": "text/x-python",
   "name": "python",
   "nbconvert_exporter": "python",
   "pygments_lexer": "ipython3",
   "version": "3.7.3"
  }
 },
 "nbformat": 4,
 "nbformat_minor": 4
}
