{
 "cells": [
  {
   "cell_type": "markdown",
   "metadata": {},
   "source": [
    "# Implementation of [arXiv:1905.13729](https://arxiv.org/abs/1905.13729) \n",
    "See also: DOI: [10.1103/PhysRevD.101.095032](http://doi.org/10.1103/PhysRevD.101.095032)\n",
    "## General solution to the U(1) anomaly equations\n",
    "Let a vector $\\boldsymbol{z}$ with $N$ non-zero integer entries such that\n",
    "$$ \\sum_{i=1}^N z_i=0\\,,\\qquad \\sum_{i=1}^N z_i^3=0\\,.$$\n",
    "We like to build this set of $N$ integers from two subsets $\\boldsymbol{\\ell}$ and $\\boldsymbol{k}$ with sizes\n",
    "\n",
    "\\begin{align}\n",
    "\\operatorname{dim}(\\boldsymbol{\\ell})=&\n",
    "\\begin{cases}\n",
    "\\alpha=\\frac{N}{2}-1\\,, & \\text{ if $N$  even } \\\\\n",
    "\\beta=\\frac{N-3}{2}\\,, & \\text{ if $N$  odd }\\\\\n",
    "\\end{cases};&\n",
    "\\operatorname{dim}(\\boldsymbol{k})=&\n",
    "\\begin{cases}\n",
    "\\alpha=\\frac{N}{2}-1\\,, & \\text{ if $N$  even } \\\\\n",
    "\\beta+1=\\frac{N-1}{2}\\,, & \\text{ if $N$  odd }\\\\\n",
    "\\end{cases};\n",
    "\\end{align}\n",
    "\n",
    "* $N$ even: Consider the following two vector-like examples of $\\boldsymbol{z}$ such that\n",
    "\\begin{align}\n",
    "\\boldsymbol{x}=&\\left(\\ell_{1}, {k}_{1}, \\ldots, k_{\\alpha},-\\ell_{1},-k_{1}, \\ldots,-k_{\\alpha}\\right)\\\\\n",
    "\\boldsymbol{y}=&\\left(0,0,\\ell_{1},  \\ldots, \\ell_{\\alpha},-\\ell_1, \\ldots,-\\ell_{\\alpha}\\right)\\,.\n",
    "\\end{align}\n",
    "* $N$ odd:\n",
    "$$\n",
    "\\begin{array}{l}\n",
    "\\boldsymbol{x}=\\left(0, k_{1}, \\ldots, k_{\\beta+1},-k_{1}, \\ldots,-k_{\\beta+1}\\right) \\\\\n",
    "\\boldsymbol{y}=\\left(\\ell_{1}, \\ldots, \\ell_{\\beta}, k_{1}, 0,-\\ell_{1}, \\ldots,-\\ell_{\\beta},-k_{1}\\right)\n",
    "\\end{array}\n",
    "$$\n",
    "\n",
    "From any of this, we can build a final $\\boldsymbol{z}$ which can includes _chiral_ solutions\n",
    "$$\n",
    "\\boldsymbol{x} \\oplus \\boldsymbol{y} \\equiv\\left(\\sum_{i=1}^{N} x_{i} y_{i}^{2}\\right)\\boldsymbol{x}-\\left(\\sum_{i=1}^{N} x_{i}^{2} y_{i}\\right)\\boldsymbol{y}\\,.\n",
    "$$"
   ]
  },
  {
   "cell_type": "markdown",
   "metadata": {},
   "source": [
    "## Python implmentation\n",
    "Obtain a numpy array `z` of `N` integers which satisfy the Diophantine equations\n",
    "```python\n",
    ">>> z.sum()\n",
    "0\n",
    ">>> (z**3).sum()\n",
    "0\n",
    "```\n",
    "The input is two lists `l` and `k` with any `(N-3)/2` and `(N-1)/2` integers for `N` odd, or `N/2-1` and `N/2-1` for `N` even (`N>4`).\n",
    "The function is implemented below under the name: `free(l,k)`\n",
    "\n",
    "<a href=\"https://colab.research.google.com/github/restrepo/anomaly/blob/main/anomalysolutions-class.ipynb\" target=\"_parent\"><img src=\"https://colab.research.google.com/assets/colab-badge.svg\" alt=\"Open In Colab\"/></a>"
   ]
  },
  {
   "cell_type": "markdown",
   "metadata": {},
   "source": [
    "https://stackoverflow.com/a/43793179/2268280"
   ]
  },
  {
   "cell_type": "code",
   "execution_count": 87,
   "metadata": {},
   "outputs": [],
   "source": [
    "import pandas as pd\n",
    "import numpy as np\n",
    "from astropy.table import Table\n",
    "import itertools\n",
    "import sys\n",
    "import os\n",
    "from functools import reduce\n",
    "import warnings\n",
    "warnings.filterwarnings(\"ignore\")"
   ]
  },
  {
   "cell_type": "code",
   "execution_count": 88,
   "metadata": {},
   "outputs": [],
   "source": [
    "!pip install anomalies 2>/dev/null > /dev/null"
   ]
  },
  {
   "cell_type": "code",
   "execution_count": 89,
   "metadata": {},
   "outputs": [],
   "source": [
    "from anomalies import anomaly\n",
    "from anomalytools import *"
   ]
  },
  {
   "cell_type": "code",
   "execution_count": 90,
   "metadata": {},
   "outputs": [
    {
     "data": {
      "text/plain": [
       "array([  3,   3,   3, -12, -12,  15])"
      ]
     },
     "execution_count": 90,
     "metadata": {},
     "output_type": "execute_result"
    }
   ],
   "source": [
    "anomaly.free([-1,1],[4,-2])"
   ]
  },
  {
   "cell_type": "code",
   "execution_count": 91,
   "metadata": {},
   "outputs": [
    {
     "data": {
      "text/plain": [
       "3"
      ]
     },
     "execution_count": 91,
     "metadata": {},
     "output_type": "execute_result"
    }
   ],
   "source": [
    "anomaly.free.gcd"
   ]
  },
  {
   "cell_type": "code",
   "execution_count": 92,
   "metadata": {},
   "outputs": [
    {
     "data": {
      "text/plain": [
       "array([ 1,  1,  1, -4, -4,  5])"
      ]
     },
     "execution_count": 92,
     "metadata": {},
     "output_type": "execute_result"
    }
   ],
   "source": [
    "anomaly.free.simplified"
   ]
  },
  {
   "cell_type": "code",
   "execution_count": 93,
   "metadata": {},
   "outputs": [],
   "source": [
    "z=anomaly.free"
   ]
  },
  {
   "cell_type": "markdown",
   "metadata": {},
   "source": [
    "## Analysis\n",
    "`solutions` class → Initialize the object to obtain anomaly free solutions for any set of `N` integers"
   ]
  },
  {
   "cell_type": "code",
   "execution_count": 220,
   "metadata": {},
   "outputs": [],
   "source": [
    "#TODO: inherit from free class\n",
    "import sys\n",
    "def _get_chiral(q,q_max=np.inf):\n",
    "    #Normalize to positive minimum\n",
    "    if q[0]<0 or (q[0]==0 and q[1]<0):\n",
    "        q=-q\n",
    "    #Divide by GCD\n",
    "    GCD=np.gcd.reduce(q)\n",
    "    q=(q/GCD).astype(int)\n",
    "    if ( #not 0 in z and \n",
    "          0 not in [ sum(p) for p in itertools.permutations(q, 2) ] and #avoid vector-like and multiple 0's\n",
    "          #q.size > np.unique(q).size and # check for at least a duplicated entry\n",
    "          np.abs(q).max()<=q_max\n",
    "           ):\n",
    "        return q,GCD\n",
    "    else:\n",
    "        return None,None\n",
    "class solutions(object):\n",
    "    '''\n",
    "    Obtain anomaly free solutions with N chiral fields\n",
    "    \n",
    "    Call the initialize object with N and get the solutions:\n",
    "    Example:\n",
    "    >>> s=solutions()\n",
    "    >>> s(6) # N = 6\n",
    "    \n",
    "    Redefine the self.chiral function to implement further restrictions:\n",
    "    inherit from this class and define the new chiral function\n",
    "    '''\n",
    "    def __init__(self,nmin=-2,nmax=2,zmax=np.inf):\n",
    "        self.nmin=nmin\n",
    "        self.nmax=nmax\n",
    "        self.zmax=zmax\n",
    "        self.CALL=False\n",
    "        self.free=[]\n",
    "\n",
    "\n",
    "    def __call__(self,N,*args,**kwargs):\n",
    "        if kwargs.get('nmin'):\n",
    "            self.nmin=kwargs['nmin']\n",
    "        if kwargs.get('nmax'):\n",
    "            self.nmax=kwargs['nmax']            \n",
    "        if kwargs.get('zmax'):\n",
    "            self.zmax=kwargs['zmax']                        \n",
    "        self.CALL=True\n",
    "        self.N=N\n",
    "        if N%2!=0: #odd\n",
    "            N_l=(N-3)//2\n",
    "            N_k=(N-1)//2\n",
    "        else: #even\n",
    "            N_l=N//2-1\n",
    "            N_k=N_l\n",
    "        r=range(self.nmin,self.nmax+1)\n",
    "        self.ls=list(itertools.product( *(r for i in range(N_l)) ))\n",
    "        self.ks=list(itertools.product( *(r for i in range(N_k)) ))\n",
    "        return self.chiral(*args,**kwargs)\n",
    "        \n",
    "        \n",
    "    def chiral(self,*args,**kwargs):\n",
    "        if not self.CALL:\n",
    "            sys.exit('Call the initialized object first:\\n>>> s=solutions()\\n>>> self(5)')\n",
    "        self.list=[]\n",
    "        solt=[]\n",
    "        for l in self.ls:\n",
    "            for k in self.ks:\n",
    "                l=list(l)\n",
    "                k=list(k)\n",
    "                q,gcd=_get_chiral( z(l,k) )\n",
    "                #print(z(l,k))\n",
    "                if q is not None and list(q) not in self.list and list(-q) not in self.list:\n",
    "                    self.list.append(list(q))\n",
    "                    solt.append({'l':l,'k':k,'z':list(q),'gcd':gcd})\n",
    "        return solt"
   ]
  },
  {
   "cell_type": "markdown",
   "metadata": {},
   "source": [
    "Chiral solutions for l and k in the range [-2,2]"
   ]
  },
  {
   "cell_type": "code",
   "execution_count": 221,
   "metadata": {},
   "outputs": [],
   "source": [
    "s=solutions()"
   ]
  },
  {
   "cell_type": "markdown",
   "metadata": {},
   "source": [
    "solutions for $N=5$ integers"
   ]
  },
  {
   "cell_type": "code",
   "execution_count": 222,
   "metadata": {},
   "outputs": [
    {
     "data": {
      "text/html": [
       "<div>\n",
       "<style scoped>\n",
       "    .dataframe tbody tr th:only-of-type {\n",
       "        vertical-align: middle;\n",
       "    }\n",
       "\n",
       "    .dataframe tbody tr th {\n",
       "        vertical-align: top;\n",
       "    }\n",
       "\n",
       "    .dataframe thead th {\n",
       "        text-align: right;\n",
       "    }\n",
       "</style>\n",
       "<table border=\"1\" class=\"dataframe\">\n",
       "  <thead>\n",
       "    <tr style=\"text-align: right;\">\n",
       "      <th></th>\n",
       "      <th>l</th>\n",
       "      <th>k</th>\n",
       "      <th>z</th>\n",
       "      <th>gcd</th>\n",
       "    </tr>\n",
       "  </thead>\n",
       "  <tbody>\n",
       "    <tr>\n",
       "      <th>0</th>\n",
       "      <td>[-2]</td>\n",
       "      <td>[-1, 2]</td>\n",
       "      <td>[2, 4, -7, -9, 10]</td>\n",
       "      <td>1</td>\n",
       "    </tr>\n",
       "    <tr>\n",
       "      <th>1</th>\n",
       "      <td>[-2]</td>\n",
       "      <td>[2, -1]</td>\n",
       "      <td>[1, 5, -7, -8, 9]</td>\n",
       "      <td>4</td>\n",
       "    </tr>\n",
       "  </tbody>\n",
       "</table>\n",
       "</div>"
      ],
      "text/plain": [
       "      l        k                   z  gcd\n",
       "0  [-2]  [-1, 2]  [2, 4, -7, -9, 10]    1\n",
       "1  [-2]  [2, -1]   [1, 5, -7, -8, 9]    4"
      ]
     },
     "execution_count": 222,
     "metadata": {},
     "output_type": "execute_result"
    }
   ],
   "source": [
    "pd.DataFrame(  s(5)  )"
   ]
  },
  {
   "cell_type": "code",
   "execution_count": 237,
   "metadata": {},
   "outputs": [],
   "source": [
    "class dark(solutions):\n",
    "    '''\n",
    "    Modify the self.chiral function to obtain solutions\n",
    "    with either duplicate or triplicate integers\n",
    "    '''\n",
    "    def chiral(self,X=False,verbose=False,print_step=100000,**kwargs):\n",
    "        m=2\n",
    "        if X:\n",
    "            m=3\n",
    "        self.list=[]\n",
    "        solt=[]\n",
    "        tot=len(self.ls)*len(self.ks)\n",
    "        i=0\n",
    "        for l in self.ls:\n",
    "            for k in self.ks:\n",
    "                if verbose:\n",
    "                    i=i+1\n",
    "                    if i%print_step==0:\n",
    "                        print('{}/{} → {}'.format(i,tot,len(solt)))\n",
    "                l=list(l)\n",
    "                k=list(k)\n",
    "                q,gcd=_get_chiral( z(l,k) )\n",
    "                #print(z(l,k))\n",
    "                if (q is not None and \n",
    "                    list(q) not in self.list and list(-q) not in self.list and\n",
    "                    1 in [ len(set(p)) for p in itertools.permutations(q, m) ] and\n",
    "                    #q.size-np.unique(q).size>m\n",
    "                    np.abs(q).max()<=self.zmax\n",
    "                   ):\n",
    "                    self.list.append(list(q))\n",
    "                    d={'n':self.N,'l':l,'k':k,'solution':list(q),'gcd':gcd}\n",
    "                    solt.append(d)\n",
    "                    self.free.append(d)\n",
    "        return solt    "
   ]
  },
  {
   "cell_type": "markdown",
   "metadata": {},
   "source": [
    "Chiral solutions with repeated integers"
   ]
  },
  {
   "cell_type": "markdown",
   "metadata": {},
   "source": [
    "Example: Force solutions with triplicate integers"
   ]
  },
  {
   "cell_type": "code",
   "execution_count": 240,
   "metadata": {},
   "outputs": [
    {
     "name": "stdout",
     "output_type": "stream",
     "text": [
      "CPU times: user 18.3 s, sys: 0 ns, total: 18.3 s\n",
      "Wall time: 18.3 s\n"
     ]
    },
    {
     "data": {
      "text/plain": [
       "[{'n': 6,\n",
       "  'l': [-10, 5],\n",
       "  'k': [-2, 4],\n",
       "  'solution': [1, 1, 1, -4, -4, 5],\n",
       "  'gcd': 1500},\n",
       " {'n': 6,\n",
       "  'l': [-10, 5],\n",
       "  'k': [3, 4],\n",
       "  'solution': [3, 3, 3, -10, -17, 18],\n",
       "  'gcd': 250}]"
      ]
     },
     "execution_count": 240,
     "metadata": {},
     "output_type": "execute_result"
    }
   ],
   "source": [
    "%%time\n",
    "slt=s(6,X=True,nmin=-10,nmax=10,zmax=32)\n",
    "slt="
   ]
  },
  {
   "cell_type": "markdown",
   "metadata": {},
   "source": [
    "Full solutions\n",
    "\n",
    "WARNING: Take two days"
   ]
  },
  {
   "cell_type": "code",
   "execution_count": 243,
   "metadata": {},
   "outputs": [
    {
     "name": "stdout",
     "output_type": "stream",
     "text": [
      "500000/3418801 → 36\n",
      "1000000/3418801 → 38\n",
      "1500000/3418801 → 38\n",
      "2000000/3418801 → 38\n",
      "2500000/3418801 → 38\n",
      "3000000/3418801 → 38\n",
      "1000000/14348907 → 206\n",
      "2000000/14348907 → 235\n",
      "3000000/14348907 → 247\n",
      "4000000/14348907 → 248\n",
      "5000000/14348907 → 248\n",
      "6000000/14348907 → 249\n",
      "7000000/14348907 → 249\n",
      "8000000/14348907 → 249\n",
      "9000000/14348907 → 249\n",
      "10000000/14348907 → 249\n",
      "11000000/14348907 → 249\n",
      "12000000/14348907 → 249\n",
      "13000000/14348907 → 249\n",
      "14000000/14348907 → 249\n"
     ]
    }
   ],
   "source": [
    "s=dark()\n",
    "slt=s(6,verbose=True,print_step=500000,nmin=-21,nmax=21,zmax=32)\n",
    "slt=s(7,verbose=True,print_step=1000000,nmin=-13,nmax=13,zmax=32)\n",
    "slt=s(8,verbose=True,print_step=1000000,nmin=-12,nmax=12,zmax=32)\n",
    "slt=s(9,verbose=True,print_step=1000000,nmin=-7,nmax=7)"
   ]
  },
  {
   "cell_type": "code",
   "execution_count": 257,
   "metadata": {},
   "outputs": [],
   "source": [
    "df=pd.DataFrame(s.free)\n",
    "\n",
    "#df=df.append( pd.read_json( 'solutions8.json'  )  \n",
    "#    ).append( pd.read_json( 'solutions9.json'  )   \n",
    "#    ).append( pd.read_json( 'missing.json'  )\n",
    "#    ).reset_index(drop=True)   "
   ]
  },
  {
   "cell_type": "code",
   "execution_count": 261,
   "metadata": {},
   "outputs": [],
   "source": [
    "df.to_json('solutions.json')"
   ]
  }
 ],
 "metadata": {
  "kernelspec": {
   "display_name": "Python 3",
   "language": "python",
   "name": "python3"
  },
  "language_info": {
   "codemirror_mode": {
    "name": "ipython",
    "version": 3
   },
   "file_extension": ".py",
   "mimetype": "text/x-python",
   "name": "python",
   "nbconvert_exporter": "python",
   "pygments_lexer": "ipython3",
   "version": "3.7.3"
  }
 },
 "nbformat": 4,
 "nbformat_minor": 4
}
