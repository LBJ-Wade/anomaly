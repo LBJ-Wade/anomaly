{
 "cells": [
  {
   "cell_type": "code",
   "execution_count": 19,
   "metadata": {},
   "outputs": [],
   "source": [
    "import pandas as pd\n",
    "import numpy as np\n",
    "import sys\n",
    "def drop_duplicates(df,column='z'):\n",
    "    tmp=df.copy()\n",
    "    tmp['zstr']=tmp[column].astype(str)#.drop_duplicates(subset='z')\n",
    "    tmp=tmp.drop_duplicates(subset='zstr')\n",
    "    return tmp.drop('zstr',axis='columns')"
   ]
  },
  {
   "cell_type": "code",
   "execution_count": 20,
   "metadata": {},
   "outputs": [],
   "source": [
    "REBUILD=False"
   ]
  },
  {
   "cell_type": "code",
   "execution_count": 21,
   "metadata": {},
   "outputs": [
    {
     "ename": "SystemExit",
     "evalue": "Ignore this cell",
     "output_type": "error",
     "traceback": [
      "An exception has occurred, use %tb to see the full traceback.\n",
      "\u001b[0;31mSystemExit\u001b[0m\u001b[0;31m:\u001b[0m Ignore this cell\n"
     ]
    },
    {
     "name": "stderr",
     "output_type": "stream",
     "text": [
      "/usr/local/lib/python3.7/dist-packages/IPython/core/interactiveshell.py:3426: UserWarning: To exit: use 'exit', 'quit', or Ctrl-D.\n",
      "  warn(\"To exit: use 'exit', 'quit', or Ctrl-D.\", stacklevel=1)\n"
     ]
    }
   ],
   "source": [
    "if not REBUILD:\n",
    "    sys.exit('Ignore this cell')\n",
    "dfn=pd.read_json('s9.json')\n",
    "\n",
    "dfn['n']=dfn['z'].apply(lambda l: 8 if l.count(0)==1 else 9)\n",
    "\n",
    "if dfn[dfn['z'].apply(lambda l: l.count(0))>1].empty:\n",
    "    print('Ready n')\n",
    "    kk=dfn['z'].apply(lambda l: l.remove(0) if l.count(0)==1 else l )\n",
    "\n",
    "assert dfn.shape[0]==dfn['z'].astype(str).unique().shape[0]\n",
    "\n",
    "for n in [8,7,6]:\n",
    "    pdfn={}\n",
    "    pdfn[n]=pd.read_json('s{}.json'.format(n))\n",
    "\n",
    "    assert pdfn[n].shape[0]==pdfn[n]['z'].astype(str).unique().shape[0]\n",
    "\n",
    "    pdfn[n]['n']=pdfn[n]['z'].apply(lambda l: n-1 if l.count(0)==1 else n)\n",
    "\n",
    "    if pdfn[n][pdfn[n]['z'].apply(lambda l: l.count(0))>1].empty:\n",
    "        print('Ready n')\n",
    "        kk=pdfn[n]['z'].apply(lambda l: l.remove(0) if l.count(0)==1 else l )\n",
    "    print(n,'→',pdfn[n][pdfn[n]['n']==n].shape)\n",
    "    dfn=dfn.append(pdfn[n]).reset_index(drop=True)\n",
    "    \n",
    "    #Reordering:\n",
    "    dfn['ls']=dfn['l'].apply(lambda l: np.abs(l).max())\n",
    "    dfn['ks']=dfn['k'].apply(lambda l: np.abs(l).max())\n",
    "    dfn=dfn.sort_values(['ls','ks']).reset_index(drop=True)\n",
    "    dfn=dfn.drop(['ls','ks'],axis='columns')\n",
    "    #dfn=dfn.sort_values(['gcd']).reset_index(drop=True)\n",
    "    dfn=drop_duplicates(dfn,column='z')\n",
    "    print(n,'→',dfn[dfn['n']==n].shape)"
   ]
  },
  {
   "cell_type": "code",
   "execution_count": 22,
   "metadata": {},
   "outputs": [
    {
     "ename": "SystemExit",
     "evalue": "Ignore this cell",
     "output_type": "error",
     "traceback": [
      "An exception has occurred, use %tb to see the full traceback.\n",
      "\u001b[0;31mSystemExit\u001b[0m\u001b[0;31m:\u001b[0m Ignore this cell\n"
     ]
    }
   ],
   "source": [
    "if not REBUILD:\n",
    "    sys.exit('Ignore this cell')\n",
    "dfn[dfn['z'].apply(lambda l: l.count(0)>0)]"
   ]
  },
  {
   "cell_type": "code",
   "execution_count": 23,
   "metadata": {},
   "outputs": [
    {
     "ename": "SystemExit",
     "evalue": "Ignore this cell",
     "output_type": "error",
     "traceback": [
      "An exception has occurred, use %tb to see the full traceback.\n",
      "\u001b[0;31mSystemExit\u001b[0m\u001b[0;31m:\u001b[0m Ignore this cell\n"
     ]
    }
   ],
   "source": [
    "if not REBUILD:\n",
    "    sys.exit('Ignore this cell')\n",
    "rng={}\n",
    "for n in [6,7,8,9]:\n",
    "    rng[n]=[(dfn[dfn['n']==n].l.apply(lambda l: max(l)).max(),dfn[dfn['n']==n].l.apply(lambda l: min(l)).min()),\n",
    " (dfn[dfn['n']==n].k.apply(lambda l: max(l)).max(),dfn[dfn['n']==n].k.apply(lambda l: min(l)).min())]"
   ]
  },
  {
   "cell_type": "markdown",
   "metadata": {},
   "source": [
    "`\n",
    "{6: [(21, -21), (21, -21)],\n",
    "  7: [(16, -16), (16, -16)],\n",
    "  8: [(15, -15), (15, -15)],\n",
    "  9: [(12, -12), (12, -12)]}\n",
    "`"
   ]
  },
  {
   "cell_type": "code",
   "execution_count": 24,
   "metadata": {},
   "outputs": [
    {
     "ename": "SystemExit",
     "evalue": "Ignore this cell",
     "output_type": "error",
     "traceback": [
      "An exception has occurred, use %tb to see the full traceback.\n",
      "\u001b[0;31mSystemExit\u001b[0m\u001b[0;31m:\u001b[0m Ignore this cell\n"
     ]
    }
   ],
   "source": [
    "if not REBUILD:\n",
    "    sys.exit('Ignore this cell')\n",
    "rng"
   ]
  },
  {
   "cell_type": "code",
   "execution_count": 25,
   "metadata": {},
   "outputs": [
    {
     "ename": "SystemExit",
     "evalue": "Ignore this cell",
     "output_type": "error",
     "traceback": [
      "An exception has occurred, use %tb to see the full traceback.\n",
      "\u001b[0;31mSystemExit\u001b[0m\u001b[0;31m:\u001b[0m Ignore this cell\n"
     ]
    }
   ],
   "source": [
    "if not REBUILD:\n",
    "    sys.exit('Ignore this cell')\n",
    "dfn=dfn.rename(columns={'z':'solution'})\n",
    "dfn.to_json('solutions.json',orient='records')"
   ]
  },
  {
   "cell_type": "code",
   "execution_count": 26,
   "metadata": {},
   "outputs": [],
   "source": [
    "import os\n",
    "if os.path.exists('/content'):\n",
    "    !git clone https://github.com/restrepo/anomaly.git 2> /dev/null > /dev/null\n",
    "    ! pip install anomalies 2> /dev/null > /dev/null\n",
    "    os.chdir('anomaly')"
   ]
  },
  {
   "cell_type": "markdown",
   "metadata": {},
   "source": [
    "Inehirate from `solutions` class to explore for solutions with repeated charges"
   ]
  },
  {
   "cell_type": "markdown",
   "metadata": {},
   "source": [
    "## Find solutions with repeated charges"
   ]
  },
  {
   "cell_type": "code",
   "execution_count": 27,
   "metadata": {},
   "outputs": [],
   "source": [
    "ds=pd.read_json('solutions.json')"
   ]
  },
  {
   "cell_type": "code",
   "execution_count": 28,
   "metadata": {},
   "outputs": [
    {
     "data": {
      "text/plain": [
       "(31211, 5)"
      ]
     },
     "execution_count": 28,
     "metadata": {},
     "output_type": "execute_result"
    }
   ],
   "source": [
    "ds.shape"
   ]
  },
  {
   "cell_type": "code",
   "execution_count": 29,
   "metadata": {},
   "outputs": [
    {
     "data": {
      "text/plain": [
       "(31211, 6)"
      ]
     },
     "execution_count": 29,
     "metadata": {},
     "output_type": "execute_result"
    }
   ],
   "source": [
    "ds['strz']=ds['solution'].astype(str)\n",
    "ds.drop_duplicates('strz').shape"
   ]
  },
  {
   "cell_type": "code",
   "execution_count": 30,
   "metadata": {},
   "outputs": [],
   "source": [
    "ds=ds.drop('strz',axis='columns')"
   ]
  },
  {
   "cell_type": "code",
   "execution_count": 31,
   "metadata": {},
   "outputs": [
    {
     "data": {
      "text/plain": [
       "16805"
      ]
     },
     "execution_count": 31,
     "metadata": {},
     "output_type": "execute_result"
    }
   ],
   "source": [
    "ds[ds['solution'].apply(lambda l: len(l)-len(set(l)))>0].shape[0]"
   ]
  },
  {
   "cell_type": "markdown",
   "metadata": {},
   "source": [
    "## Check phenomenological conditions\n",
    "$$ 2l+\\nu-m=0$$"
   ]
  },
  {
   "cell_type": "code",
   "execution_count": 32,
   "metadata": {},
   "outputs": [],
   "source": [
    "#See anomalysolutions.ipynb for details\n",
    "from anomalytools import *"
   ]
  },
  {
   "cell_type": "markdown",
   "metadata": {},
   "source": [
    "## Filter solutions with at most two massless chiral fermions"
   ]
  },
  {
   "cell_type": "markdown",
   "metadata": {},
   "source": [
    "DD analysis"
   ]
  },
  {
   "cell_type": "code",
   "execution_count": 329,
   "metadata": {},
   "outputs": [],
   "source": [
    "#cl['sltn']=cl['solution'].astype(str)\n",
    "#cl['sltn']=cl['sltn'].apply(jsonKeys2int)\n",
    "#cl=cl.sort_values('n').reset_index(drop=True).drop('sltn',axis='columns')"
   ]
  },
  {
   "cell_type": "code",
   "execution_count": 330,
   "metadata": {},
   "outputs": [],
   "source": [
    "def multiple_repeated(ll):\n",
    "    MR=False\n",
    "    rp=[]\n",
    "    for x in ll:\n",
    "        if ll.count(x)>1:\n",
    "            rp.append(x)\n",
    "    rp=sorted(np.unique(rp))\n",
    "    if len(rp)>=2:\n",
    "        MR=True\n",
    "    return MR"
   ]
  },
  {
   "cell_type": "code",
   "execution_count": 332,
   "metadata": {},
   "outputs": [],
   "source": [
    "def extract_Dirac_and_Majorana(l,s):\n",
    "    ll=l.copy()\n",
    "    #Check first Dirac\n",
    "    for xs  in itertools.combinations(l,2):\n",
    "        #print('ini',xs,ll,xs[0] in ll,xs[1] in ll)\n",
    "        if (xs[0] in ll  and xs[1] in ll)  and (sum(xs)+s==0 or sum(xs)-s==0):\n",
    "            ll=[x for x in ll if x in ll and x not in xs]\n",
    "        #print('ll',ll)\n",
    "    #Check Majorana\n",
    "    for x in ll:\n",
    "        if 2*x+s==0 or 2*x-s==0:\n",
    "            ll.remove(x)\n",
    "    return ll\n",
    "\n",
    "def best_higgs_singlet(l):\n",
    "    lenmax=np.Inf\n",
    "    best_sp=0\n",
    "    best_spl=l\n",
    "    sps=np.unique( (np.abs( list(2*np.array(l))+[sum(x) for x in itertools.combinations(l,2) ]) ) )\n",
    "    for sp in sps:\n",
    "        newl=extract_Dirac_and_Majorana(l,sp)\n",
    "        if len(newl)<len(best_spl):\n",
    "            best_spl=newl\n",
    "            best_sp=sp\n",
    "    return best_sp,best_spl\n",
    "\n",
    "def tree_level(ll):\n",
    "    '''\n",
    "    Given a solution find set of repeated charges and assign to `l` and `ν`, e.g\n",
    "       ll=[l,l,...,ν,ν,...]\n",
    "    For each combination of repeated sets calculates:\n",
    "       m=2l+ν\n",
    "    If `m ≠ l ≠ ν` in ll, returns a `N → N+4` solution\n",
    "       [m,m,m,-m-m,l,l,...,ν,ν,...]\n",
    "    else, returns a `N → N+6` solution\n",
    "       [m,m,m,-m,-m,-m,l,l,...,ν,ν,...]\n",
    "    '''\n",
    "    ms=[]\n",
    "    rp=[]\n",
    "    for x in ll:\n",
    "        if ll.count(x)==1:\n",
    "            ms.append(x)\n",
    "        elif ll.count(x)>1:\n",
    "            rp.append(x)\n",
    "    rp=sorted(np.unique(rp))\n",
    "    #print(rp,isinstance(rp,list))\n",
    "    #Two or more repeated sets\n",
    "    sltn=[]\n",
    "    if len(rp)>=2:\n",
    "        rps=[k  for k  in itertools.combinations(rp,2)]\n",
    "        #print('rps1',rps)\n",
    "        rps=rps+[tuple(reversed(k)) for k  in rps]\n",
    "        #print('rps2',rps)\n",
    "        for r in rps:\n",
    "            #Loop on combinatories here, break whit the first solution\n",
    "            l=r[0]\n",
    "            ν=r[1]\n",
    "            m=2*l+ν\n",
    "            s=l-m\n",
    "            massless=ms.copy()\n",
    "            massless=massless+[x for x in rp if x not in r and x not in massless]\n",
    "            #print('ini massless',massless)\n",
    "            if m in ll and m not in rp:\n",
    "                massless.remove(m)\n",
    "                #Check Dirac and Majorana\n",
    "                massless=extract_Dirac_and_Majorana(massless,s)\n",
    "                slt={'[l,ν,s,m_in,m_out]':[l,ν,s,m,0],'massless':massless}\n",
    "            else:\n",
    "                slt={'[l,ν,s,m_in,m_out]':[l,ν,s,0,m],'massless':massless}\n",
    "                \n",
    "            if len(massless)>0:\n",
    "                slt['sp'],slt['sp_massless']=best_higgs_singlet(massless)\n",
    "            else:\n",
    "                slt['sp'],slt['sp_massless']=(None,None)\n",
    "            sltn.append(slt)\n",
    "    return sltn"
   ]
  },
  {
   "cell_type": "code",
   "execution_count": 366,
   "metadata": {},
   "outputs": [],
   "source": [
    "assert extract_Dirac_and_Majorana([2,6,4,3],8)==[3]\n",
    "assert best_higgs_singlet([1,-11,9])==(2, [])\n",
    "\n",
    "assert tree_level([1, -4, -4, 9, 9,7,7,7,-11])[0]['[l,ν,s,m_in,m_out]']==[-4, 7, -3, 0, -1]\n",
    "\n",
    "assert tree_level([ -4, -4,-4, 9, 9,9])[0]['sp']==None"
   ]
  },
  {
   "cell_type": "code",
   "execution_count": 409,
   "metadata": {},
   "outputs": [],
   "source": [
    "cl=ds.copy()\n",
    "cl=cl[cl['solution'].apply(multiple_repeated)].reset_index(drop=True)"
   ]
  },
  {
   "cell_type": "code",
   "execution_count": 410,
   "metadata": {},
   "outputs": [],
   "source": [
    "cl['tree_level']=cl['solution'].apply(tree_level)"
   ]
  },
  {
   "cell_type": "code",
   "execution_count": 411,
   "metadata": {},
   "outputs": [],
   "source": [
    "pd.set_option('display.max_colwidth',400)\n",
    "#cl['tree_level']"
   ]
  },
  {
   "cell_type": "code",
   "execution_count": 412,
   "metadata": {},
   "outputs": [],
   "source": [
    "cl['smax']=cl['solution'].apply(lambda l:np.abs(l).max())\n",
    "cl=cl[cl['tree_level'].apply(lambda l: [d for d in l if len(d.get('massless'))==0 or len(d.get('sp_massless'))==0 ] if isinstance(l,list) else None \n",
    "               ).apply(len)>0].sort_values(['n','smax']).reset_index(drop=True)"
   ]
  },
  {
   "cell_type": "code",
   "execution_count": 413,
   "metadata": {},
   "outputs": [
    {
     "data": {
      "text/html": [
       "<div>\n",
       "<style scoped>\n",
       "    .dataframe tbody tr th:only-of-type {\n",
       "        vertical-align: middle;\n",
       "    }\n",
       "\n",
       "    .dataframe tbody tr th {\n",
       "        vertical-align: top;\n",
       "    }\n",
       "\n",
       "    .dataframe thead th {\n",
       "        text-align: right;\n",
       "    }\n",
       "</style>\n",
       "<table border=\"1\" class=\"dataframe\">\n",
       "  <thead>\n",
       "    <tr style=\"text-align: right;\">\n",
       "      <th></th>\n",
       "      <th>l</th>\n",
       "      <th>k</th>\n",
       "      <th>solution</th>\n",
       "      <th>gcd</th>\n",
       "      <th>n</th>\n",
       "      <th>tree_level</th>\n",
       "      <th>smax</th>\n",
       "    </tr>\n",
       "  </thead>\n",
       "  <tbody>\n",
       "    <tr>\n",
       "      <th>0</th>\n",
       "      <td>[-1, -2]</td>\n",
       "      <td>[-1, 2]</td>\n",
       "      <td>[1, 1, 1, -4, -4, 5]</td>\n",
       "      <td>1</td>\n",
       "      <td>6</td>\n",
       "      <td>[{'[l,ν,s,m_in,m_out]': [-4, 1, 3, 0, -7], 'massless': [5], 'sp': 10, 'sp_massless': []}, {'[l,ν,s,m_in,m_out]': [1, -4, 3, 0, -2], 'massless': [5], 'sp': 10, 'sp_massless': []}]</td>\n",
       "      <td>5</td>\n",
       "    </tr>\n",
       "    <tr>\n",
       "      <th>1</th>\n",
       "      <td>[0, 1]</td>\n",
       "      <td>[-1, -3, 1]</td>\n",
       "      <td>[1, 1, 5, -9, -9, 11]</td>\n",
       "      <td>2</td>\n",
       "      <td>6</td>\n",
       "      <td>[{'[l,ν,s,m_in,m_out]': [-9, 1, 8, 0, -17], 'massless': [5, 11], 'sp': 16, 'sp_massless': []}, {'[l,ν,s,m_in,m_out]': [1, -9, 8, 0, -7], 'massless': [5, 11], 'sp': 16, 'sp_massless': []}]</td>\n",
       "      <td>11</td>\n",
       "    </tr>\n",
       "    <tr>\n",
       "      <th>2</th>\n",
       "      <td>[1, -2]</td>\n",
       "      <td>[-4, 1]</td>\n",
       "      <td>[1, -4, -4, 9, 9, -11]</td>\n",
       "      <td>3</td>\n",
       "      <td>6</td>\n",
       "      <td>[{'[l,ν,s,m_in,m_out]': [-4, 9, -5, 1, 0], 'massless': [-11], 'sp': 22, 'sp_massless': []}, {'[l,ν,s,m_in,m_out]': [9, -4, -5, 0, 14], 'massless': [1, -11], 'sp': 10, 'sp_massless': []}]</td>\n",
       "      <td>11</td>\n",
       "    </tr>\n",
       "    <tr>\n",
       "      <th>3</th>\n",
       "      <td>[0, 1]</td>\n",
       "      <td>[-1, -4, 1]</td>\n",
       "      <td>[1, 1, 11, -16, -16, 19]</td>\n",
       "      <td>2</td>\n",
       "      <td>6</td>\n",
       "      <td>[{'[l,ν,s,m_in,m_out]': [-16, 1, 15, 0, -31], 'massless': [11, 19], 'sp': 30, 'sp_massless': []}, {'[l,ν,s,m_in,m_out]': [1, -16, 15, 0, -14], 'massless': [11, 19], 'sp': 30, 'sp_massless': []}]</td>\n",
       "      <td>19</td>\n",
       "    </tr>\n",
       "    <tr>\n",
       "      <th>4</th>\n",
       "      <td>[-3, 3]</td>\n",
       "      <td>[-3, -4]</td>\n",
       "      <td>[5, -9, -9, 16, 16, -19]</td>\n",
       "      <td>18</td>\n",
       "      <td>6</td>\n",
       "      <td>[{'[l,ν,s,m_in,m_out]': [-9, 16, -7, 0, -2], 'massless': [5, -19], 'sp': 14, 'sp_massless': []}, {'[l,ν,s,m_in,m_out]': [16, -9, -7, 0, 23], 'massless': [5, -19], 'sp': 14, 'sp_massless': []}]</td>\n",
       "      <td>19</td>\n",
       "    </tr>\n",
       "    <tr>\n",
       "      <th>...</th>\n",
       "      <td>...</td>\n",
       "      <td>...</td>\n",
       "      <td>...</td>\n",
       "      <td>...</td>\n",
       "      <td>...</td>\n",
       "      <td>...</td>\n",
       "      <td>...</td>\n",
       "    </tr>\n",
       "    <tr>\n",
       "      <th>349</th>\n",
       "      <td>[6, 3, -3]</td>\n",
       "      <td>[-2, -5, 2, -3]</td>\n",
       "      <td>[5, 6, 6, -11, -11, -16, 25, 26, -30]</td>\n",
       "      <td>28</td>\n",
       "      <td>9</td>\n",
       "      <td>[{'[l,ν,s,m_in,m_out]': [-11, 6, 5, -16, 0], 'massless': [5, 26], 'sp': 31, 'sp_massless': []}]</td>\n",
       "      <td>30</td>\n",
       "    </tr>\n",
       "    <tr>\n",
       "      <th>350</th>\n",
       "      <td>[6, 0, 4]</td>\n",
       "      <td>[-3, -1, -7, 9]</td>\n",
       "      <td>[2, -3, -6, -6, 18, 18, -24, -29, 30]</td>\n",
       "      <td>30</td>\n",
       "      <td>9</td>\n",
       "      <td>[{'[l,ν,s,m_in,m_out]': [18, -6, -12, 30, 0], 'massless': [2, -3, -24, -29], 'sp': 27, 'sp_massless': []}]</td>\n",
       "      <td>30</td>\n",
       "    </tr>\n",
       "    <tr>\n",
       "      <th>351</th>\n",
       "      <td>[9, -1, 2]</td>\n",
       "      <td>[-1, -2, -1, -3]</td>\n",
       "      <td>[9, 9, 9, -12, -19, -19, 22, -29, 30]</td>\n",
       "      <td>8</td>\n",
       "      <td>9</td>\n",
       "      <td>[{'[l,ν,s,m_in,m_out]': [-19, 9, 10, -29, 0], 'massless': [30], 'sp': 60, 'sp_massless': []}]</td>\n",
       "      <td>30</td>\n",
       "    </tr>\n",
       "    <tr>\n",
       "      <th>352</th>\n",
       "      <td>[-5, 9, 1]</td>\n",
       "      <td>[-2, -1, 4, 2]</td>\n",
       "      <td>[4, -5, -10, -10, -11, 14, 24, 24, -30]</td>\n",
       "      <td>4</td>\n",
       "      <td>9</td>\n",
       "      <td>[{'[l,ν,s,m_in,m_out]': [-10, 24, -14, 4, 0], 'massless': [-5, -11, 14, -30], 'sp': 16, 'sp_massless': []}]</td>\n",
       "      <td>30</td>\n",
       "    </tr>\n",
       "    <tr>\n",
       "      <th>353</th>\n",
       "      <td>[-1, 4, 9]</td>\n",
       "      <td>[-2, 8, 6, -7]</td>\n",
       "      <td>[3, 3, 5, 5, -20, -20, 22, -28, 30]</td>\n",
       "      <td>14</td>\n",
       "      <td>9</td>\n",
       "      <td>[{'[l,ν,s,m_in,m_out]': [3, 5, -8, 0, 11], 'massless': [22, -28, 30, -20], 'sp': 2, 'sp_massless': []}, {'[l,ν,s,m_in,m_out]': [5, 3, -8, 0, 13], 'massless': [22, -28, 30, -20], 'sp': 2, 'sp_massless': []}]</td>\n",
       "      <td>30</td>\n",
       "    </tr>\n",
       "  </tbody>\n",
       "</table>\n",
       "<p>354 rows × 7 columns</p>\n",
       "</div>"
      ],
      "text/plain": [
       "              l                 k                                 solution  \\\n",
       "0      [-1, -2]           [-1, 2]                     [1, 1, 1, -4, -4, 5]   \n",
       "1        [0, 1]       [-1, -3, 1]                    [1, 1, 5, -9, -9, 11]   \n",
       "2       [1, -2]           [-4, 1]                   [1, -4, -4, 9, 9, -11]   \n",
       "3        [0, 1]       [-1, -4, 1]                 [1, 1, 11, -16, -16, 19]   \n",
       "4       [-3, 3]          [-3, -4]                 [5, -9, -9, 16, 16, -19]   \n",
       "..          ...               ...                                      ...   \n",
       "349  [6, 3, -3]   [-2, -5, 2, -3]    [5, 6, 6, -11, -11, -16, 25, 26, -30]   \n",
       "350   [6, 0, 4]   [-3, -1, -7, 9]    [2, -3, -6, -6, 18, 18, -24, -29, 30]   \n",
       "351  [9, -1, 2]  [-1, -2, -1, -3]    [9, 9, 9, -12, -19, -19, 22, -29, 30]   \n",
       "352  [-5, 9, 1]    [-2, -1, 4, 2]  [4, -5, -10, -10, -11, 14, 24, 24, -30]   \n",
       "353  [-1, 4, 9]    [-2, 8, 6, -7]      [3, 3, 5, 5, -20, -20, 22, -28, 30]   \n",
       "\n",
       "     gcd  n  \\\n",
       "0      1  6   \n",
       "1      2  6   \n",
       "2      3  6   \n",
       "3      2  6   \n",
       "4     18  6   \n",
       "..   ... ..   \n",
       "349   28  9   \n",
       "350   30  9   \n",
       "351    8  9   \n",
       "352    4  9   \n",
       "353   14  9   \n",
       "\n",
       "                                                                                                                                                                                                         tree_level  \\\n",
       "0                                [{'[l,ν,s,m_in,m_out]': [-4, 1, 3, 0, -7], 'massless': [5], 'sp': 10, 'sp_massless': []}, {'[l,ν,s,m_in,m_out]': [1, -4, 3, 0, -2], 'massless': [5], 'sp': 10, 'sp_massless': []}]   \n",
       "1                       [{'[l,ν,s,m_in,m_out]': [-9, 1, 8, 0, -17], 'massless': [5, 11], 'sp': 16, 'sp_massless': []}, {'[l,ν,s,m_in,m_out]': [1, -9, 8, 0, -7], 'massless': [5, 11], 'sp': 16, 'sp_massless': []}]   \n",
       "2                        [{'[l,ν,s,m_in,m_out]': [-4, 9, -5, 1, 0], 'massless': [-11], 'sp': 22, 'sp_massless': []}, {'[l,ν,s,m_in,m_out]': [9, -4, -5, 0, 14], 'massless': [1, -11], 'sp': 10, 'sp_massless': []}]   \n",
       "3                [{'[l,ν,s,m_in,m_out]': [-16, 1, 15, 0, -31], 'massless': [11, 19], 'sp': 30, 'sp_massless': []}, {'[l,ν,s,m_in,m_out]': [1, -16, 15, 0, -14], 'massless': [11, 19], 'sp': 30, 'sp_massless': []}]   \n",
       "4                  [{'[l,ν,s,m_in,m_out]': [-9, 16, -7, 0, -2], 'massless': [5, -19], 'sp': 14, 'sp_massless': []}, {'[l,ν,s,m_in,m_out]': [16, -9, -7, 0, 23], 'massless': [5, -19], 'sp': 14, 'sp_massless': []}]   \n",
       "..                                                                                                                                                                                                              ...   \n",
       "349                                                                                                                 [{'[l,ν,s,m_in,m_out]': [-11, 6, 5, -16, 0], 'massless': [5, 26], 'sp': 31, 'sp_massless': []}]   \n",
       "350                                                                                                      [{'[l,ν,s,m_in,m_out]': [18, -6, -12, 30, 0], 'massless': [2, -3, -24, -29], 'sp': 27, 'sp_massless': []}]   \n",
       "351                                                                                                                   [{'[l,ν,s,m_in,m_out]': [-19, 9, 10, -29, 0], 'massless': [30], 'sp': 60, 'sp_massless': []}]   \n",
       "352                                                                                                     [{'[l,ν,s,m_in,m_out]': [-10, 24, -14, 4, 0], 'massless': [-5, -11, 14, -30], 'sp': 16, 'sp_massless': []}]   \n",
       "353  [{'[l,ν,s,m_in,m_out]': [3, 5, -8, 0, 11], 'massless': [22, -28, 30, -20], 'sp': 2, 'sp_massless': []}, {'[l,ν,s,m_in,m_out]': [5, 3, -8, 0, 13], 'massless': [22, -28, 30, -20], 'sp': 2, 'sp_massless': []}]   \n",
       "\n",
       "     smax  \n",
       "0       5  \n",
       "1      11  \n",
       "2      11  \n",
       "3      19  \n",
       "4      19  \n",
       "..    ...  \n",
       "349    30  \n",
       "350    30  \n",
       "351    30  \n",
       "352    30  \n",
       "353    30  \n",
       "\n",
       "[354 rows x 7 columns]"
      ]
     },
     "execution_count": 413,
     "metadata": {},
     "output_type": "execute_result"
    }
   ],
   "source": [
    "cl['tree_level']=cl['tree_level'].apply(lambda l: [d for d in l if len(d.get('massless'))==0 or \n",
    "                                                   len(d.get('sp_massless'))==0 ] if isinstance(l,list) else None \n",
    "               )\n",
    "cl=cl[cl.smax<=30].reset_index(drop=True)\n",
    "cl"
   ]
  }
 ],
 "metadata": {
  "kernelspec": {
   "display_name": "Python 3",
   "language": "python",
   "name": "python3"
  },
  "language_info": {
   "codemirror_mode": {
    "name": "ipython",
    "version": 3
   },
   "file_extension": ".py",
   "mimetype": "text/x-python",
   "name": "python",
   "nbconvert_exporter": "python",
   "pygments_lexer": "ipython3",
   "version": "3.7.3"
  }
 },
 "nbformat": 4,
 "nbformat_minor": 4
}
