{
 "cells": [
  {
   "cell_type": "code",
   "execution_count": 1,
   "metadata": {},
   "outputs": [],
   "source": [
    "import pandas as pd\n",
    "import numpy as np\n",
    "import sys\n",
    "def drop_duplicates(df,column='z'):\n",
    "    tmp=df.copy()\n",
    "    tmp['zstr']=tmp[column].astype(str)#.drop_duplicates(subset='z')\n",
    "    tmp=tmp.drop_duplicates(subset='zstr')\n",
    "    return tmp.drop('zstr',axis='columns')"
   ]
  },
  {
   "cell_type": "code",
   "execution_count": 2,
   "metadata": {},
   "outputs": [],
   "source": [
    "REBUILD=False"
   ]
  },
  {
   "cell_type": "code",
   "execution_count": 3,
   "metadata": {},
   "outputs": [
    {
     "ename": "SystemExit",
     "evalue": "Ignore this cell",
     "output_type": "error",
     "traceback": [
      "An exception has occurred, use %tb to see the full traceback.\n",
      "\u001b[0;31mSystemExit\u001b[0m\u001b[0;31m:\u001b[0m Ignore this cell\n"
     ]
    },
    {
     "name": "stderr",
     "output_type": "stream",
     "text": [
      "/usr/local/lib/python3.7/dist-packages/IPython/core/interactiveshell.py:3426: UserWarning: To exit: use 'exit', 'quit', or Ctrl-D.\n",
      "  warn(\"To exit: use 'exit', 'quit', or Ctrl-D.\", stacklevel=1)\n"
     ]
    }
   ],
   "source": [
    "if not REBUILD:\n",
    "    sys.exit('Ignore this cell')\n",
    "dfn=pd.read_json('s9.json')\n",
    "\n",
    "dfn['n']=dfn['z'].apply(lambda l: 8 if l.count(0)==1 else 9)\n",
    "\n",
    "if dfn[dfn['z'].apply(lambda l: l.count(0))>1].empty:\n",
    "    print('Ready n')\n",
    "    kk=dfn['z'].apply(lambda l: l.remove(0) if l.count(0)==1 else l )\n",
    "\n",
    "assert dfn.shape[0]==dfn['z'].astype(str).unique().shape[0]\n",
    "\n",
    "for n in [8,7,6]:\n",
    "    pdfn={}\n",
    "    pdfn[n]=pd.read_json('s{}.json'.format(n))\n",
    "\n",
    "    assert pdfn[n].shape[0]==pdfn[n]['z'].astype(str).unique().shape[0]\n",
    "\n",
    "    pdfn[n]['n']=pdfn[n]['z'].apply(lambda l: n-1 if l.count(0)==1 else n)\n",
    "\n",
    "    if pdfn[n][pdfn[n]['z'].apply(lambda l: l.count(0))>1].empty:\n",
    "        print('Ready n')\n",
    "        kk=pdfn[n]['z'].apply(lambda l: l.remove(0) if l.count(0)==1 else l )\n",
    "    print(n,'→',pdfn[n][pdfn[n]['n']==n].shape)\n",
    "    dfn=dfn.append(pdfn[n]).reset_index(drop=True)\n",
    "    \n",
    "    #Reordering:\n",
    "    dfn['ls']=dfn['l'].apply(lambda l: np.abs(l).max())\n",
    "    dfn['ks']=dfn['k'].apply(lambda l: np.abs(l).max())\n",
    "    dfn=dfn.sort_values(['ls','ks']).reset_index(drop=True)\n",
    "    dfn=dfn.drop(['ls','ks'],axis='columns')\n",
    "    #dfn=dfn.sort_values(['gcd']).reset_index(drop=True)\n",
    "    dfn=drop_duplicates(dfn,column='z')\n",
    "    print(n,'→',dfn[dfn['n']==n].shape)"
   ]
  },
  {
   "cell_type": "code",
   "execution_count": 4,
   "metadata": {},
   "outputs": [
    {
     "ename": "SystemExit",
     "evalue": "Ignore this cell",
     "output_type": "error",
     "traceback": [
      "An exception has occurred, use %tb to see the full traceback.\n",
      "\u001b[0;31mSystemExit\u001b[0m\u001b[0;31m:\u001b[0m Ignore this cell\n"
     ]
    }
   ],
   "source": [
    "if not REBUILD:\n",
    "    sys.exit('Ignore this cell')\n",
    "dfn[dfn['z'].apply(lambda l: l.count(0)>0)]"
   ]
  },
  {
   "cell_type": "code",
   "execution_count": 5,
   "metadata": {},
   "outputs": [
    {
     "ename": "SystemExit",
     "evalue": "Ignore this cell",
     "output_type": "error",
     "traceback": [
      "An exception has occurred, use %tb to see the full traceback.\n",
      "\u001b[0;31mSystemExit\u001b[0m\u001b[0;31m:\u001b[0m Ignore this cell\n"
     ]
    }
   ],
   "source": [
    "if not REBUILD:\n",
    "    sys.exit('Ignore this cell')\n",
    "rng={}\n",
    "for n in [6,7,8,9]:\n",
    "    rng[n]=[(dfn[dfn['n']==n].l.apply(lambda l: max(l)).max(),dfn[dfn['n']==n].l.apply(lambda l: min(l)).min()),\n",
    " (dfn[dfn['n']==n].k.apply(lambda l: max(l)).max(),dfn[dfn['n']==n].k.apply(lambda l: min(l)).min())]"
   ]
  },
  {
   "cell_type": "markdown",
   "metadata": {},
   "source": [
    "`\n",
    "{6: [(21, -21), (21, -21)],\n",
    "  7: [(16, -16), (16, -16)],\n",
    "  8: [(15, -15), (15, -15)],\n",
    "  9: [(12, -12), (12, -12)]}\n",
    "`"
   ]
  },
  {
   "cell_type": "code",
   "execution_count": 6,
   "metadata": {},
   "outputs": [
    {
     "ename": "SystemExit",
     "evalue": "Ignore this cell",
     "output_type": "error",
     "traceback": [
      "An exception has occurred, use %tb to see the full traceback.\n",
      "\u001b[0;31mSystemExit\u001b[0m\u001b[0;31m:\u001b[0m Ignore this cell\n"
     ]
    }
   ],
   "source": [
    "if not REBUILD:\n",
    "    sys.exit('Ignore this cell')\n",
    "rng"
   ]
  },
  {
   "cell_type": "code",
   "execution_count": 7,
   "metadata": {},
   "outputs": [
    {
     "ename": "SystemExit",
     "evalue": "Ignore this cell",
     "output_type": "error",
     "traceback": [
      "An exception has occurred, use %tb to see the full traceback.\n",
      "\u001b[0;31mSystemExit\u001b[0m\u001b[0;31m:\u001b[0m Ignore this cell\n"
     ]
    }
   ],
   "source": [
    "if not REBUILD:\n",
    "    sys.exit('Ignore this cell')\n",
    "dfn=dfn.rename(columns={'z':'solution'})\n",
    "dfn.to_json('solutions.json',orient='records')"
   ]
  },
  {
   "cell_type": "code",
   "execution_count": 8,
   "metadata": {},
   "outputs": [],
   "source": [
    "import os\n",
    "if os.path.exists('/content'):\n",
    "    !git clone https://github.com/restrepo/anomaly.git 2> /dev/null > /dev/null\n",
    "    ! pip install anomalies 2> /dev/null > /dev/null\n",
    "    os.chdir('anomaly')"
   ]
  },
  {
   "cell_type": "markdown",
   "metadata": {},
   "source": [
    "Inehirate from `solutions` class to explore for solutions with repeated charges"
   ]
  },
  {
   "cell_type": "markdown",
   "metadata": {},
   "source": [
    "## Find solutions with repeated charges"
   ]
  },
  {
   "cell_type": "code",
   "execution_count": 9,
   "metadata": {},
   "outputs": [],
   "source": [
    "ds=pd.read_json('solutions.json')"
   ]
  },
  {
   "cell_type": "code",
   "execution_count": 10,
   "metadata": {},
   "outputs": [
    {
     "data": {
      "text/plain": [
       "(31211, 5)"
      ]
     },
     "execution_count": 10,
     "metadata": {},
     "output_type": "execute_result"
    }
   ],
   "source": [
    "ds.shape"
   ]
  },
  {
   "cell_type": "code",
   "execution_count": 11,
   "metadata": {},
   "outputs": [
    {
     "data": {
      "text/plain": [
       "(31211, 6)"
      ]
     },
     "execution_count": 11,
     "metadata": {},
     "output_type": "execute_result"
    }
   ],
   "source": [
    "ds['strz']=ds['solution'].astype(str)\n",
    "ds.drop_duplicates('strz').shape"
   ]
  },
  {
   "cell_type": "code",
   "execution_count": 12,
   "metadata": {},
   "outputs": [],
   "source": [
    "ds=ds.drop('strz',axis='columns')"
   ]
  },
  {
   "cell_type": "code",
   "execution_count": 13,
   "metadata": {},
   "outputs": [
    {
     "data": {
      "text/plain": [
       "16805"
      ]
     },
     "execution_count": 13,
     "metadata": {},
     "output_type": "execute_result"
    }
   ],
   "source": [
    "ds[ds['solution'].apply(lambda l: len(l)-len(set(l)))>0].shape[0]"
   ]
  },
  {
   "cell_type": "markdown",
   "metadata": {},
   "source": [
    "## Check phenomenological conditions\n",
    "$$ 2l+\\nu-m=0$$"
   ]
  },
  {
   "cell_type": "code",
   "execution_count": 14,
   "metadata": {},
   "outputs": [],
   "source": [
    "#See anomalysolutions.ipynb for details\n",
    "from anomalytools import *"
   ]
  },
  {
   "cell_type": "markdown",
   "metadata": {},
   "source": [
    "## Filter solutions with at most two massless chiral fermions"
   ]
  },
  {
   "cell_type": "code",
   "execution_count": 21,
   "metadata": {},
   "outputs": [],
   "source": [
    "cl=pd.read_json('cl.json').reset_index(drop=True)\n",
    "cl['sltn']=cl['sltn'].apply(jsonKeys2int)\n",
    "cl=cl.sort_values('n').reset_index(drop=True)\n",
    "cl6=pd.read_json('cl6.json').reset_index(drop=True)\n",
    "cl6['sltn']=cl6['sltn'].apply(jsonKeys2int)\n",
    "cl6=cl6.sort_values('n').reset_index(drop=True)"
   ]
  },
  {
   "cell_type": "markdown",
   "metadata": {},
   "source": [
    "DD analysis"
   ]
  },
  {
   "cell_type": "code",
   "execution_count": 15,
   "metadata": {},
   "outputs": [],
   "source": [
    "cl=ds.copy()\n",
    "cl['sltn']=cl['solution'].astype(str)\n",
    "cl['sltn']=cl['sltn'].apply(jsonKeys2int)\n",
    "cl=cl.sort_values('n').reset_index(drop=True).drop('sltn',axis='columns')"
   ]
  },
  {
   "cell_type": "code",
   "execution_count": 18,
   "metadata": {},
   "outputs": [],
   "source": [
    "def tree_level(ll):\n",
    "    '''\n",
    "    TODO: Only a few possibilities implemented\n",
    "    '''\n",
    "    ms=[]\n",
    "    rp=[]\n",
    "    for x in ll:\n",
    "        if ll.count(x)==1:\n",
    "            ms.append(x)\n",
    "        elif ll.count(x)>1:\n",
    "            rp.append(x)\n",
    "    rp=sorted(np.unique(np.abs(rp)))\n",
    "    TL=False\n",
    "\n",
    "    if len(rp)==2:\n",
    "        l=rp[0]\n",
    "        if ll.count(l)<2:\n",
    "            l=-l\n",
    "        ν=rp[1]\n",
    "        if ll.count(ν)<2:\n",
    "            ν=-ν\n",
    "        for m in ms:\n",
    "            if m-2*l==ν:\n",
    "                #print(ll,m,l,ν)\n",
    "                TL=True\n",
    "                break\n",
    "    #elif len(rp)==3...\n",
    "    return TL\n",
    "TL=cl[cl['solution'].apply(tree_level)].reset_index(drop=True)"
   ]
  },
  {
   "cell_type": "code",
   "execution_count": 17,
   "metadata": {},
   "outputs": [
    {
     "data": {
      "text/html": [
       "<div>\n",
       "<style scoped>\n",
       "    .dataframe tbody tr th:only-of-type {\n",
       "        vertical-align: middle;\n",
       "    }\n",
       "\n",
       "    .dataframe tbody tr th {\n",
       "        vertical-align: top;\n",
       "    }\n",
       "\n",
       "    .dataframe thead th {\n",
       "        text-align: right;\n",
       "    }\n",
       "</style>\n",
       "<table border=\"1\" class=\"dataframe\">\n",
       "  <thead>\n",
       "    <tr style=\"text-align: right;\">\n",
       "      <th></th>\n",
       "      <th>l</th>\n",
       "      <th>k</th>\n",
       "      <th>solution</th>\n",
       "      <th>gcd</th>\n",
       "      <th>n</th>\n",
       "    </tr>\n",
       "  </thead>\n",
       "  <tbody>\n",
       "    <tr>\n",
       "      <th>0</th>\n",
       "      <td>[1, -2]</td>\n",
       "      <td>[-4, 1]</td>\n",
       "      <td>[1, -4, -4, 9, 9, -11]</td>\n",
       "      <td>3</td>\n",
       "      <td>6</td>\n",
       "    </tr>\n",
       "    <tr>\n",
       "      <th>1</th>\n",
       "      <td>[3, 1]</td>\n",
       "      <td>[-1, -5, 7]</td>\n",
       "      <td>[2, 2, -4, 7, -8, -8, 9]</td>\n",
       "      <td>1</td>\n",
       "      <td>7</td>\n",
       "    </tr>\n",
       "    <tr>\n",
       "      <th>2</th>\n",
       "      <td>[-1, 1]</td>\n",
       "      <td>[-1, 0, -1]</td>\n",
       "      <td>[1, 2, 2, -3, -3, -3, 4]</td>\n",
       "      <td>1</td>\n",
       "      <td>7</td>\n",
       "    </tr>\n",
       "    <tr>\n",
       "      <th>3</th>\n",
       "      <td>[-1, -2, 2]</td>\n",
       "      <td>[-10, -1, -8]</td>\n",
       "      <td>[1, 10, 10, 10, -19, -19, -19, 26]</td>\n",
       "      <td>17</td>\n",
       "      <td>8</td>\n",
       "    </tr>\n",
       "    <tr>\n",
       "      <th>4</th>\n",
       "      <td>[3, 2, 1]</td>\n",
       "      <td>[-8, -13, -2]</td>\n",
       "      <td>[3, 7, -8, -8, -12, 23, 23, -28]</td>\n",
       "      <td>2</td>\n",
       "      <td>8</td>\n",
       "    </tr>\n",
       "    <tr>\n",
       "      <th>...</th>\n",
       "      <td>...</td>\n",
       "      <td>...</td>\n",
       "      <td>...</td>\n",
       "      <td>...</td>\n",
       "      <td>...</td>\n",
       "    </tr>\n",
       "    <tr>\n",
       "      <th>194</th>\n",
       "      <td>[4, 1, 4]</td>\n",
       "      <td>[-1, -5, -4, -3]</td>\n",
       "      <td>[4, 4, -7, -8, 9, 11, -16, -16, 19]</td>\n",
       "      <td>1</td>\n",
       "      <td>9</td>\n",
       "    </tr>\n",
       "    <tr>\n",
       "      <th>195</th>\n",
       "      <td>[4, -1, -2]</td>\n",
       "      <td>[-1, -4, -1, -4]</td>\n",
       "      <td>[3, 7, 7, -8, -9, 20, -22, -22, 24]</td>\n",
       "      <td>2</td>\n",
       "      <td>9</td>\n",
       "    </tr>\n",
       "    <tr>\n",
       "      <th>196</th>\n",
       "      <td>[2, -4, 2]</td>\n",
       "      <td>[-1, -2, -1, 7]</td>\n",
       "      <td>[7, 7, -15, -16, 17, 17, -18, -30, 31]</td>\n",
       "      <td>8</td>\n",
       "      <td>9</td>\n",
       "    </tr>\n",
       "    <tr>\n",
       "      <th>197</th>\n",
       "      <td>[2, -4, -1]</td>\n",
       "      <td>[-4, -8, -6, -1]</td>\n",
       "      <td>[1, -2, 4, 8, 8, -10, -12, -12, 15]</td>\n",
       "      <td>2</td>\n",
       "      <td>9</td>\n",
       "    </tr>\n",
       "    <tr>\n",
       "      <th>198</th>\n",
       "      <td>[1, 4, -2]</td>\n",
       "      <td>[-1, -3, 4, 6]</td>\n",
       "      <td>[1, -4, 7, 7, -13, -13, 14, -18, 19]</td>\n",
       "      <td>1</td>\n",
       "      <td>9</td>\n",
       "    </tr>\n",
       "  </tbody>\n",
       "</table>\n",
       "<p>199 rows × 5 columns</p>\n",
       "</div>"
      ],
      "text/plain": [
       "               l                 k                                solution  \\\n",
       "0        [1, -2]           [-4, 1]                  [1, -4, -4, 9, 9, -11]   \n",
       "1         [3, 1]       [-1, -5, 7]                [2, 2, -4, 7, -8, -8, 9]   \n",
       "2        [-1, 1]       [-1, 0, -1]                [1, 2, 2, -3, -3, -3, 4]   \n",
       "3    [-1, -2, 2]     [-10, -1, -8]      [1, 10, 10, 10, -19, -19, -19, 26]   \n",
       "4      [3, 2, 1]     [-8, -13, -2]        [3, 7, -8, -8, -12, 23, 23, -28]   \n",
       "..           ...               ...                                     ...   \n",
       "194    [4, 1, 4]  [-1, -5, -4, -3]     [4, 4, -7, -8, 9, 11, -16, -16, 19]   \n",
       "195  [4, -1, -2]  [-1, -4, -1, -4]     [3, 7, 7, -8, -9, 20, -22, -22, 24]   \n",
       "196   [2, -4, 2]   [-1, -2, -1, 7]  [7, 7, -15, -16, 17, 17, -18, -30, 31]   \n",
       "197  [2, -4, -1]  [-4, -8, -6, -1]     [1, -2, 4, 8, 8, -10, -12, -12, 15]   \n",
       "198   [1, 4, -2]    [-1, -3, 4, 6]    [1, -4, 7, 7, -13, -13, 14, -18, 19]   \n",
       "\n",
       "     gcd  n  \n",
       "0      3  6  \n",
       "1      1  7  \n",
       "2      1  7  \n",
       "3     17  8  \n",
       "4      2  8  \n",
       "..   ... ..  \n",
       "194    1  9  \n",
       "195    2  9  \n",
       "196    8  9  \n",
       "197    2  9  \n",
       "198    1  9  \n",
       "\n",
       "[199 rows x 5 columns]"
      ]
     },
     "execution_count": 17,
     "metadata": {},
     "output_type": "execute_result"
    }
   ],
   "source": [
    "TL"
   ]
  },
  {
   "cell_type": "code",
   "execution_count": null,
   "metadata": {},
   "outputs": [],
   "source": []
  }
 ],
 "metadata": {
  "kernelspec": {
   "display_name": "Python 3",
   "language": "python",
   "name": "python3"
  },
  "language_info": {
   "codemirror_mode": {
    "name": "ipython",
    "version": 3
   },
   "file_extension": ".py",
   "mimetype": "text/x-python",
   "name": "python",
   "nbconvert_exporter": "python",
   "pygments_lexer": "ipython3",
   "version": "3.7.3"
  }
 },
 "nbformat": 4,
 "nbformat_minor": 4
}
