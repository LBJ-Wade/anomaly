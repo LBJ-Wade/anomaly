{
  "nbformat": 4,
  "nbformat_minor": 0,
  "metadata": {
    "kernelspec": {
      "display_name": "Python 3 (ipykernel)",
      "language": "python",
      "name": "python3"
    },
    "language_info": {
      "codemirror_mode": {
        "name": "ipython",
        "version": 3
      },
      "file_extension": ".py",
      "mimetype": "text/x-python",
      "name": "python",
      "nbconvert_exporter": "python",
      "pygments_lexer": "ipython3",
      "version": "3.7.3"
    },
    "colab": {
      "name": "DiracSeesaw_Tree_level.ipynb",
      "provenance": [],
      "include_colab_link": true
    }
  },
  "cells": [
    {
      "cell_type": "markdown",
      "metadata": {
        "id": "view-in-github",
        "colab_type": "text"
      },
      "source": [
        "<a href=\"https://colab.research.google.com/github/restrepo/anomaly/blob/main/DiracSeesaw_Tree_level.ipynb\" target=\"_parent\"><img src=\"https://colab.research.google.com/assets/colab-badge.svg\" alt=\"Open In Colab\"/></a>"
      ]
    },
    {
      "cell_type": "markdown",
      "metadata": {
        "id": "wzX4lgI3STFZ"
      },
      "source": [
        "# Chiral solutions for Type-I Dirac seesaw"
      ]
    },
    {
      "cell_type": "code",
      "metadata": {
        "id": "-r1j4E0ySTFa"
      },
      "source": [
        "import pandas as pd\n",
        "import numpy as np\n",
        "import itertools\n",
        "import sys\n",
        "pd.set_option('display.max_colwidth',400)\n",
        "pd.set_option('display.max_columns',100)"
      ],
      "execution_count": null,
      "outputs": []
    },
    {
      "cell_type": "markdown",
      "metadata": {
        "id": "qE0DE-uBSTFb"
      },
      "source": [
        "## Methodology\n",
        "1. __Apply__ the conditions and store the list of dictionaries with the solutions in column 'tree_level'. For each dictionary add:\n",
        "   * List of massless quiral fermions\n",
        "   * Best extra escalar, `sp` and list of massless fermions after use `sp` → `sp_massless`\n",
        "2. __Filter__ the solutions with empty `sp_massless` list\n",
        "3. __Prepre__ equivalent solutions. Creates new columns with the counting of each used particle\n",
        "5. __Prepare__ output"
      ]
    },
    {
      "cell_type": "markdown",
      "metadata": {
        "id": "ja_z6VcSSTFc"
      },
      "source": [
        "General functions"
      ]
    },
    {
      "cell_type": "code",
      "metadata": {
        "id": "rv0QVWqCSTFc",
        "outputId": "08577ad9-82d3-4c24-9249-68d19f2eefbc"
      },
      "source": [
        "%%writefile filter_functions.py\n",
        "import numpy as np\n",
        "import itertools\n",
        "\n",
        "def rank(l,massless,s):\n",
        "    '''\n",
        "    Return 0 if the integers in massless appears as s-paired same-dimension multiplets in l, 1 otherwise.\n",
        "    s-paired means that exist two intengers in massless such that n1+n2=±s. (n1 can be equal to n2)\n",
        "    l:        list of full particles in full multiplicites → \"filtered l\"\n",
        "    massless: list of integers to analize\n",
        "    s:        integer to pair the \"filtered l\" list.\n",
        "    \n",
        "    For example, for l containing only the massless=[1,2] integers:\n",
        "        l=[1,2]; s=3 → 0: 3-paired multiplet: ([1],[2]) of 1-dimension multiplets (A.K.A singlet)\n",
        "        l=[1,1,2]; s=3 → 1: unpaired multiplets: ([1,1],[2]) doblet and singlet\n",
        "        l=[1,1,2,2]; s=3 → 0: 3-paired multiplets: ([1,1],[2]) doblet and singlet\n",
        "        l=[1,1,2,2,2]; s=3 → 1: unpaired multiplets: ([1,1,1],[2,2]) doblet and singlet\n",
        "    massless=[1,2,3]\n",
        "    l=[1,2,3]; s=4 → 0: 4-paired multiplet: ([1],[3]) of singlets\n",
        "                            4-paired multiplet: ([1],[3]) of singlet\n",
        "    '''\n",
        "    #Keep massless\n",
        "    l=[x for x in  l if x in massless ]\n",
        "    #Remove Majorana\n",
        "    xx=(np.unique(l)*2-s)\n",
        "    xx=(xx[xx!=0]+s)/2\n",
        "    xx=(np.unique(xx)*2+s)\n",
        "    xx=(xx[xx!=0]-s)/2\n",
        "    #Get s-multiplets\n",
        "    xxx=[l.count(x) for x in xx if l.count(x)!=1] \n",
        "    if len(xxx)%2==0: # s-multiplets must be paired\n",
        "        # Check that each mutiplet is paired\n",
        "        if 1 in [xxx.count(x)%2 for x in set(xxx)]:\n",
        "            return 1\n",
        "        else:\n",
        "            #list of only 0's → if dimension of multiplets are paired\n",
        "            return 0 # \n",
        "    else:\n",
        "        return 1\n",
        "    \n",
        "def extract_Dirac_and_Majorana(l,s):\n",
        "    ll=l.copy()\n",
        "    #Check first Dirac\n",
        "    for xs  in itertools.combinations(l,2):\n",
        "        #print('ini',xs,ll,xs[0] in ll,xs[1] in ll)\n",
        "        if (xs[0] in ll  and xs[1] in ll)  and (sum(xs)+s==0 or sum(xs)-s==0):\n",
        "            ll=[x for x in ll if x in ll and x not in xs]\n",
        "        #print('ll',ll)\n",
        "    #Check Majorana\n",
        "    for x in ll:\n",
        "        if 2*x+s==0 or 2*x-s==0:\n",
        "            ll.remove(x)\n",
        "    return ll\n",
        "\n",
        "def best_higgs_singlet(l):\n",
        "    lenmax=np.Inf\n",
        "    best_sp=0\n",
        "    best_spl=l\n",
        "    sps=np.unique( (np.abs( list(2*np.array(l))+[sum(x) for x in itertools.combinations(l,2) ]) ) )\n",
        "    for sp in sps:\n",
        "        newl=extract_Dirac_and_Majorana(l,sp)\n",
        "        if len(newl)<len(best_spl):\n",
        "            best_spl=newl\n",
        "            best_sp=sp\n",
        "    return best_sp,best_spl\n",
        "\n",
        "\n",
        "        \n",
        "assert rank([1,2],[1,2],3)==0\n",
        "assert rank([1,1,2,2,2],[1,2],3)==1\n",
        "assert rank([1,2,3],[1,2,3],4)==0\n",
        "assert rank([1, 1, -4, 9, -10, -10, 16, 16, -19],[9, -19, 1],18)==1\n",
        "assert rank( [1, -4, -4, 9, 9, -11], [-11],22)==0\n",
        "assert rank( [-16,-16,-16, 17, 17],[-16, 17],1)==1\n",
        "assert rank( [-16,-16,-16, 17, 17,-18,-18,19,19,19],[-16, 17,-18,19],1)==0\n",
        "\n",
        "assert extract_Dirac_and_Majorana([2,6,4,3],8)==[3]\n",
        "assert best_higgs_singlet([1,-11,9])==(2, [])    "
      ],
      "execution_count": null,
      "outputs": [
        {
          "name": "stdout",
          "output_type": "stream",
          "text": [
            "Overwriting filter_functions.py\n"
          ]
        }
      ]
    },
    {
      "cell_type": "code",
      "metadata": {
        "id": "mYrlEO5mSTFe"
      },
      "source": [
        "from filter_functions import *"
      ],
      "execution_count": null,
      "outputs": []
    },
    {
      "cell_type": "markdown",
      "metadata": {
        "id": "GlogwzTSSTFf"
      },
      "source": [
        "## Load full solutions"
      ]
    },
    {
      "cell_type": "code",
      "metadata": {
        "id": "yOWRPn9gSTFf",
        "outputId": "7f231613-0263-4d96-c511-d14d908f0d6e"
      },
      "source": [
        "ds=pd.read_json('https://github.com/restrepo/anomaly/raw/main/solutions.json.gz')\n",
        "ds.shape"
      ],
      "execution_count": null,
      "outputs": [
        {
          "data": {
            "text/plain": [
              "(390074, 5)"
            ]
          },
          "execution_count": 4,
          "metadata": {},
          "output_type": "execute_result"
        }
      ]
    },
    {
      "cell_type": "markdown",
      "metadata": {
        "id": "4hXf6rNeSTFf"
      },
      "source": [
        "Check that solutions are unique"
      ]
    },
    {
      "cell_type": "code",
      "metadata": {
        "id": "ddXiFeQnSTFg",
        "outputId": "3f82df67-c183-4649-eda9-f651150e155b"
      },
      "source": [
        "ds['strz']=ds['solution'].astype(str)\n",
        "ds.drop_duplicates('strz').shape"
      ],
      "execution_count": null,
      "outputs": [
        {
          "data": {
            "text/plain": [
              "(390074, 6)"
            ]
          },
          "execution_count": 5,
          "metadata": {},
          "output_type": "execute_result"
        }
      ]
    },
    {
      "cell_type": "code",
      "metadata": {
        "id": "uElMruT-STFg"
      },
      "source": [
        "ds=ds.drop('strz',axis='columns')"
      ],
      "execution_count": null,
      "outputs": []
    },
    {
      "cell_type": "markdown",
      "metadata": {
        "id": "y3qZpAPCSTFg"
      },
      "source": [
        "Number of solutions with repeated charges"
      ]
    },
    {
      "cell_type": "code",
      "metadata": {
        "id": "qPQBN6W6STFg",
        "outputId": "87a8f06f-0646-4d63-93fc-f31249681251"
      },
      "source": [
        "ds[ds['solution'].apply(lambda l: len(l)-len(set(l)))>0].shape[0]"
      ],
      "execution_count": null,
      "outputs": [
        {
          "data": {
            "text/plain": [
              "280959"
            ]
          },
          "execution_count": 7,
          "metadata": {},
          "output_type": "execute_result"
        }
      ]
    },
    {
      "cell_type": "markdown",
      "metadata": {
        "id": "EB0e52vISTFh"
      },
      "source": [
        "## 1. Check phenomenological conditions\n",
        "$$ 2l+\\nu-m=0$$"
      ]
    },
    {
      "cell_type": "code",
      "metadata": {
        "id": "jvuWUDb4STFh"
      },
      "source": [
        "#See anomalysolutions.ipynb for details\n",
        "#from anomalytools import *"
      ],
      "execution_count": null,
      "outputs": []
    },
    {
      "cell_type": "markdown",
      "metadata": {
        "id": "CTJ5_mOvSTFh"
      },
      "source": [
        "### Prepare functions to filter solutions with at least two sets of repeated charges"
      ]
    },
    {
      "cell_type": "code",
      "metadata": {
        "id": "S_4PeNIASTFi"
      },
      "source": [
        "def multiple_repeated(ll):\n",
        "    MR=False\n",
        "    rp=[]\n",
        "    for x in ll:\n",
        "        if ll.count(x)>1:\n",
        "            rp.append(x)\n",
        "    rp=sorted(np.unique(rp))\n",
        "    if len(rp)>=2:\n",
        "        MR=True\n",
        "    return MR\n",
        "\n",
        "def tree_level(ll):\n",
        "    '''\n",
        "    Given a solution find set of repeated charges and assign to `l` and `ν`, e.g\n",
        "       ll=[l,l,...,ν,ν,...]\n",
        "    For each combination of repeated sets calculates:\n",
        "       m=2l+ν\n",
        "    If `m ≠ l ≠ ν` in ll, returns a `N → N+4` solution\n",
        "       [m,m,m,-m-m,l,l,...,ν,ν,...]\n",
        "    else, returns a `N → N+6` solution\n",
        "       [m,m,m,-m,-m,-m,l,l,...,ν,ν,...]\n",
        "    '''\n",
        "    ms=[]\n",
        "    rp=[]\n",
        "    for x in ll:\n",
        "        if ll.count(x)==1:\n",
        "            ms.append(x)\n",
        "        elif ll.count(x)>1:\n",
        "            rp.append(x)\n",
        "    rp=sorted(np.unique(rp))\n",
        "    #print(rp,isinstance(rp,list))\n",
        "    #Two or more repeated sets\n",
        "    sltn=[]\n",
        "    if len(rp)>=2:\n",
        "        rps=[k  for k  in itertools.combinations(rp,2)]\n",
        "        #print('rps1',rps)\n",
        "        rps=rps+[tuple(reversed(k)) for k  in rps]\n",
        "        #print('rps2',rps)\n",
        "        for r in rps:\n",
        "            #Loop on combinatories here, break whit the first solution\n",
        "            l=r[0]\n",
        "            ν=r[1]\n",
        "            m=2*l+ν\n",
        "            s=l-m\n",
        "            massless=ms.copy()\n",
        "            massless=massless+[x for x in rp if x not in r and x not in massless]\n",
        "            #print('m,s',massless,s,m,rp)\n",
        "            #print('ini massless',massless)\n",
        "            if m in ll and m not in rp:\n",
        "                massless.remove(m)\n",
        "                #Check Dirac and Majorana\n",
        "                massless=extract_Dirac_and_Majorana(massless,s)\n",
        "                slt={'[l,ν,s,m_in,m_out]':[l,ν,s,m,0],'massless':massless}\n",
        "            else:\n",
        "                massless=extract_Dirac_and_Majorana(massless,s)                \n",
        "                slt={'[l,ν,s,m_in,m_out]':[l,ν,s,0,m],'massless':massless}\n",
        "                \n",
        "            if len(massless)>0:\n",
        "                slt['sp'],slt['sp_massless']=best_higgs_singlet(massless)\n",
        "            else:\n",
        "                slt['sp'],slt['sp_massless']=(None,None)\n",
        "            sltn.append(slt)\n",
        "    return sltn\n",
        "\n",
        "assert extract_Dirac_and_Majorana([2,6,4,3],8)==[3]\n",
        "assert best_higgs_singlet([1,-11,9])==(2, [])\n",
        "assert tree_level([1, -4, -4, 9, 9,7,7,7,-11])[0]['[l,ν,s,m_in,m_out]']==[-4, 7, -3, 0, -1]\n",
        "assert tree_level([ -4, -4,-4, 9, 9,9])[0]['sp']==None\n",
        "assert not tree_level([1, 1, -3, -4, 6, 6, -7])[0]['sp_massless']"
      ],
      "execution_count": null,
      "outputs": []
    },
    {
      "cell_type": "markdown",
      "metadata": {
        "id": "WYpzP5T2STFj"
      },
      "source": [
        "### Initialize filtered solutions"
      ]
    },
    {
      "cell_type": "code",
      "metadata": {
        "id": "dX3Q_hA7STFj"
      },
      "source": [
        "cl=ds.copy()\n",
        "cl=cl[cl['solution'].apply(multiple_repeated)].reset_index(drop=True)"
      ],
      "execution_count": null,
      "outputs": []
    },
    {
      "cell_type": "markdown",
      "metadata": {
        "id": "4P8hKWuzSTFj"
      },
      "source": [
        "Find solutions that satisfy the condition"
      ]
    },
    {
      "cell_type": "code",
      "metadata": {
        "id": "5x8beADLSTFk"
      },
      "source": [
        "cl['tree_level']=cl['solution'].apply(tree_level)"
      ],
      "execution_count": null,
      "outputs": []
    },
    {
      "cell_type": "markdown",
      "metadata": {
        "id": "M61PsOmVSTFk"
      },
      "source": [
        "## 2. Filter `sp_massless`"
      ]
    },
    {
      "cell_type": "code",
      "metadata": {
        "id": "F-N-7_QESTFk"
      },
      "source": [
        "def extract_massless(ll,tl):\n",
        "    tln=[]\n",
        "    for dd in tl:\n",
        "        d=dd.copy()\n",
        "        dp=dict(zip( ['l','ν','s','m_in','m_out'], d['[l,ν,s,m_in,m_out]'] ))\n",
        "        Maj=0\n",
        "        l=len([x for x in ll if x==dp['l']])\n",
        "        dp['r']=dp['s']-dp['l']\n",
        "        if dp['m_in']:        \n",
        "            r=2\n",
        "        if dp['m_out']:\n",
        "            r=3\n",
        "        if not dp['m_in'] and not dp['m_out']:\n",
        "            r=l \n",
        "            Maj=0 # Go to 1\n",
        "        if l>r:\n",
        "            Maj=dp['l']\n",
        "        elif l<r:\n",
        "            Maj=dp['r']\n",
        "        if Maj and not d['massless'] and d['sp'] is None:\n",
        "            #print(Maj)\n",
        "            d['sp']=Maj*2\n",
        "            d['massless']=[Maj]\n",
        "            d['sp_massless']=[]\n",
        "            d['rank']=0\n",
        "        tln.append(d) #1\n",
        "    return tln"
      ],
      "execution_count": null,
      "outputs": []
    },
    {
      "cell_type": "code",
      "metadata": {
        "id": "YEt6OBdsSTFl",
        "outputId": "3ebcd7f1-7765-4fde-9c7d-5ec8780dcc28"
      },
      "source": [
        "cl.shape"
      ],
      "execution_count": null,
      "outputs": [
        {
          "data": {
            "text/plain": [
              "(124737, 6)"
            ]
          },
          "execution_count": 13,
          "metadata": {},
          "output_type": "execute_result"
        }
      ]
    },
    {
      "cell_type": "code",
      "metadata": {
        "id": "4qAkNJW8STFl"
      },
      "source": [
        "cl['tree_level']=cl.apply(lambda row: extract_massless(row['solution'],row['tree_level'])  ,axis='columns')"
      ],
      "execution_count": null,
      "outputs": []
    },
    {
      "cell_type": "markdown",
      "metadata": {
        "id": "Pp5J7U31STFl"
      },
      "source": [
        "Reorder the filtered solutions"
      ]
    },
    {
      "cell_type": "code",
      "metadata": {
        "id": "Hgod2fAnSTFl",
        "outputId": "633481ab-1356-404f-903f-09d95fcd289a"
      },
      "source": [
        "cl['smax']=cl['solution'].apply(lambda l:np.abs(l).max())\n",
        "cl=cl[cl['tree_level'].apply(lambda l: [d for d in l if len(d.get('massless'))==0 or len(d.get('sp_massless'))==0 ] if isinstance(l,list) else None \n",
        "               ).apply(len)>0].sort_values(['n','smax']).reset_index(drop=True)\n",
        "\n",
        "cl['tree_level']=cl['tree_level'].apply(lambda l: [d for d in l if len(d.get('massless'))==0 or \n",
        "                                                   len(d.get('sp_massless'))==0 ] if isinstance(l,list) else None \n",
        "             )\n",
        "cl=cl[cl.smax<=30].reset_index(drop=True)\n",
        "cl[:1]"
      ],
      "execution_count": null,
      "outputs": [
        {
          "data": {
            "text/html": [
              "<div>\n",
              "<style scoped>\n",
              "    .dataframe tbody tr th:only-of-type {\n",
              "        vertical-align: middle;\n",
              "    }\n",
              "\n",
              "    .dataframe tbody tr th {\n",
              "        vertical-align: top;\n",
              "    }\n",
              "\n",
              "    .dataframe thead th {\n",
              "        text-align: right;\n",
              "    }\n",
              "</style>\n",
              "<table border=\"1\" class=\"dataframe\">\n",
              "  <thead>\n",
              "    <tr style=\"text-align: right;\">\n",
              "      <th></th>\n",
              "      <th>l</th>\n",
              "      <th>k</th>\n",
              "      <th>solution</th>\n",
              "      <th>gcd</th>\n",
              "      <th>n</th>\n",
              "      <th>tree_level</th>\n",
              "      <th>smax</th>\n",
              "    </tr>\n",
              "  </thead>\n",
              "  <tbody>\n",
              "    <tr>\n",
              "      <th>0</th>\n",
              "      <td>[-1, -2]</td>\n",
              "      <td>[-1, 2]</td>\n",
              "      <td>[1, 1, 1, -4, -4, 5]</td>\n",
              "      <td>1</td>\n",
              "      <td>6</td>\n",
              "      <td>[{'[l,ν,s,m_in,m_out]': [-4, 1, 3, 0, -7], 'massless': [5], 'sp': 10, 'sp_massless': []}, {'[l,ν,s,m_in,m_out]': [1, -4, 3, 0, -2], 'massless': [5], 'sp': 10, 'sp_massless': []}]</td>\n",
              "      <td>5</td>\n",
              "    </tr>\n",
              "  </tbody>\n",
              "</table>\n",
              "</div>"
            ],
            "text/plain": [
              "          l        k              solution  gcd  n  \\\n",
              "0  [-1, -2]  [-1, 2]  [1, 1, 1, -4, -4, 5]    1  6   \n",
              "\n",
              "                                                                                                                                                                           tree_level  \\\n",
              "0  [{'[l,ν,s,m_in,m_out]': [-4, 1, 3, 0, -7], 'massless': [5], 'sp': 10, 'sp_massless': []}, {'[l,ν,s,m_in,m_out]': [1, -4, 3, 0, -2], 'massless': [5], 'sp': 10, 'sp_massless': []}]   \n",
              "\n",
              "   smax  \n",
              "0     5  "
            ]
          },
          "execution_count": 15,
          "metadata": {},
          "output_type": "execute_result"
        }
      ]
    },
    {
      "cell_type": "code",
      "metadata": {
        "id": "CjkulXFFSTFm",
        "outputId": "8b8dd914-853b-42b9-b1c9-3b30dfd43963"
      },
      "source": [
        "cl.shape"
      ],
      "execution_count": null,
      "outputs": [
        {
          "data": {
            "text/plain": [
              "(29905, 7)"
            ]
          },
          "execution_count": 16,
          "metadata": {},
          "output_type": "execute_result"
        }
      ]
    },
    {
      "cell_type": "markdown",
      "metadata": {
        "id": "dlar9KunSTFm"
      },
      "source": [
        "## 3. Flag equivalent solutions"
      ]
    },
    {
      "cell_type": "code",
      "metadata": {
        "id": "plTaREWKSTFm"
      },
      "source": [
        "def characterize_solution(cl,i,j=0):\n",
        "    if j%2==0:\n",
        "        cl.loc[i,'D_msls']=j\n",
        "    else:\n",
        "        cl.loc[i,'M_msls']=j\n",
        "    #if j==0:\n",
        "    #    cl.loc[i,'M_msls']=j\n",
        "        \n",
        "    cl.loc[i,'rptd']=len( [ cl.loc[i,'solution'].count(x) for x in np.unique(cl.loc[i,'solution']) if cl.loc[i,'solution'].count(x)>1] )\n",
        "    sl=[d.get('[l,ν,s,m_in,m_out]') for d in cl.loc[i,'tree_level'] if len(d.get('massless'))==j]\n",
        "    if len(sl)>0:\n",
        "        cl.loc[i,'nl']=cl.loc[i,'solution'].count(sl[0][0] )\n",
        "        cl.loc[i,'nν'] =cl.loc[i,'solution'].count(sl[0][1] )\n",
        "    if 0 in [l[3] for l in sl]:\n",
        "        cl.loc[i,'nr']=3\n",
        "    else:\n",
        "        cl.loc[i,'nr']=2\n",
        "    cl.loc[i,'rk']=[d.get('rank') for d in cl.loc[i,'tree_level']][0]\n",
        "    return cl"
      ],
      "execution_count": null,
      "outputs": []
    },
    {
      "cell_type": "code",
      "metadata": {
        "id": "Zg2weG7MSTFn"
      },
      "source": [
        "for i in cl[cl['tree_level'].apply(lambda l: [d for d in l if len(d.get('massless'))==0 ] if isinstance(l,list) else None \n",
        "             ).apply(len)>0].index:\n",
        "    cl=characterize_solution(cl,i,0)"
      ],
      "execution_count": null,
      "outputs": []
    },
    {
      "cell_type": "markdown",
      "metadata": {
        "id": "W0CmXM5dSTFn"
      },
      "source": [
        "Example: massless solutions"
      ]
    },
    {
      "cell_type": "code",
      "metadata": {
        "id": "N4iv49CtSTFn",
        "outputId": "7a99f0de-a6a5-49d9-8b28-0f5cdc65e08f"
      },
      "source": [
        "cl.dropna()[:5]"
      ],
      "execution_count": null,
      "outputs": [
        {
          "data": {
            "text/html": [
              "<div>\n",
              "<style scoped>\n",
              "    .dataframe tbody tr th:only-of-type {\n",
              "        vertical-align: middle;\n",
              "    }\n",
              "\n",
              "    .dataframe tbody tr th {\n",
              "        vertical-align: top;\n",
              "    }\n",
              "\n",
              "    .dataframe thead th {\n",
              "        text-align: right;\n",
              "    }\n",
              "</style>\n",
              "<table border=\"1\" class=\"dataframe\">\n",
              "  <thead>\n",
              "    <tr style=\"text-align: right;\">\n",
              "      <th></th>\n",
              "      <th>l</th>\n",
              "      <th>k</th>\n",
              "      <th>solution</th>\n",
              "      <th>gcd</th>\n",
              "      <th>n</th>\n",
              "      <th>tree_level</th>\n",
              "      <th>smax</th>\n",
              "      <th>D_msls</th>\n",
              "      <th>rptd</th>\n",
              "      <th>nl</th>\n",
              "      <th>nν</th>\n",
              "      <th>nr</th>\n",
              "      <th>rk</th>\n",
              "    </tr>\n",
              "  </thead>\n",
              "  <tbody>\n",
              "    <tr>\n",
              "      <th>37</th>\n",
              "      <td>[0, -1, 0]</td>\n",
              "      <td>[-2, -1, -2, -1]</td>\n",
              "      <td>[1, 4, 5, 5, -8, -10, -10, 13]</td>\n",
              "      <td>1</td>\n",
              "      <td>8</td>\n",
              "      <td>[{'[l,ν,s,m_in,m_out]': [-10, 5, 5, 0, -15], 'massless': [15], 'sp': 30, 'sp_massless': [], 'rank': 0}, {'[l,ν,s,m_in,m_out]': [5, -10, 5, 0, 0], 'massless': [], 'sp': None, 'sp_massless': None}]</td>\n",
              "      <td>13</td>\n",
              "      <td>0.0</td>\n",
              "      <td>2.0</td>\n",
              "      <td>2.0</td>\n",
              "      <td>2.0</td>\n",
              "      <td>3.0</td>\n",
              "      <td>0.0</td>\n",
              "    </tr>\n",
              "    <tr>\n",
              "      <th>306</th>\n",
              "      <td>[-2, -1, 0]</td>\n",
              "      <td>[-1, -3, -5, -3]</td>\n",
              "      <td>[5, 6, 6, 6, -8, -9, -9, -10, 13]</td>\n",
              "      <td>2</td>\n",
              "      <td>9</td>\n",
              "      <td>[{'[l,ν,s,m_in,m_out]': [-9, 6, 3, 0, -12], 'massless': [12], 'sp': 24, 'sp_massless': [], 'rank': 0}, {'[l,ν,s,m_in,m_out]': [6, -9, 3, 0, 3], 'massless': [], 'sp': None, 'sp_massless': None}]</td>\n",
              "      <td>13</td>\n",
              "      <td>0.0</td>\n",
              "      <td>2.0</td>\n",
              "      <td>3.0</td>\n",
              "      <td>2.0</td>\n",
              "      <td>3.0</td>\n",
              "      <td>0.0</td>\n",
              "    </tr>\n",
              "    <tr>\n",
              "      <th>341</th>\n",
              "      <td>[-2, -1, 0]</td>\n",
              "      <td>[-1, -4, -5, -4]</td>\n",
              "      <td>[1, -5, 8, 8, 8, -11, -12, -12, 15]</td>\n",
              "      <td>2</td>\n",
              "      <td>9</td>\n",
              "      <td>[{'[l,ν,s,m_in,m_out]': [-12, 8, 4, 0, -16], 'massless': [16], 'sp': 32, 'sp_massless': [], 'rank': 0}, {'[l,ν,s,m_in,m_out]': [8, -12, 4, 0, 4], 'massless': [], 'sp': None, 'sp_massless': None}]</td>\n",
              "      <td>15</td>\n",
              "      <td>0.0</td>\n",
              "      <td>2.0</td>\n",
              "      <td>3.0</td>\n",
              "      <td>2.0</td>\n",
              "      <td>3.0</td>\n",
              "      <td>0.0</td>\n",
              "    </tr>\n",
              "    <tr>\n",
              "      <th>721</th>\n",
              "      <td>[3, -5, 0, -4]</td>\n",
              "      <td>[-2, -1, 0, -2]</td>\n",
              "      <td>[6, 6, 6, -9, -9, 20, -22, -23, 25]</td>\n",
              "      <td>6</td>\n",
              "      <td>9</td>\n",
              "      <td>[{'[l,ν,s,m_in,m_out]': [-9, 6, 3, 0, -12], 'massless': [12], 'sp': 24, 'sp_massless': [], 'rank': 0}, {'[l,ν,s,m_in,m_out]': [6, -9, 3, 0, 3], 'massless': [], 'sp': None, 'sp_massless': None}]</td>\n",
              "      <td>25</td>\n",
              "      <td>0.0</td>\n",
              "      <td>2.0</td>\n",
              "      <td>3.0</td>\n",
              "      <td>2.0</td>\n",
              "      <td>3.0</td>\n",
              "      <td>0.0</td>\n",
              "    </tr>\n",
              "    <tr>\n",
              "      <th>1003</th>\n",
              "      <td>[-3, 0, -2, 3]</td>\n",
              "      <td>[-1, -2, -1, 0, -1]</td>\n",
              "      <td>[1, 3, 3, 3, 3, -4, -5, -6, -6, 8]</td>\n",
              "      <td>1</td>\n",
              "      <td>10</td>\n",
              "      <td>[{'[l,ν,s,m_in,m_out]': [-6, 3, 3, 0, -9], 'massless': [9], 'sp': 18, 'sp_massless': [], 'rank': 0}, {'[l,ν,s,m_in,m_out]': [3, -6, 3, 0, 0], 'massless': [], 'sp': None, 'sp_massless': None}]</td>\n",
              "      <td>8</td>\n",
              "      <td>0.0</td>\n",
              "      <td>2.0</td>\n",
              "      <td>4.0</td>\n",
              "      <td>2.0</td>\n",
              "      <td>3.0</td>\n",
              "      <td>0.0</td>\n",
              "    </tr>\n",
              "  </tbody>\n",
              "</table>\n",
              "</div>"
            ],
            "text/plain": [
              "                   l                    k  \\\n",
              "37        [0, -1, 0]     [-2, -1, -2, -1]   \n",
              "306      [-2, -1, 0]     [-1, -3, -5, -3]   \n",
              "341      [-2, -1, 0]     [-1, -4, -5, -4]   \n",
              "721   [3, -5, 0, -4]      [-2, -1, 0, -2]   \n",
              "1003  [-3, 0, -2, 3]  [-1, -2, -1, 0, -1]   \n",
              "\n",
              "                                 solution  gcd   n  \\\n",
              "37         [1, 4, 5, 5, -8, -10, -10, 13]    1   8   \n",
              "306     [5, 6, 6, 6, -8, -9, -9, -10, 13]    2   9   \n",
              "341   [1, -5, 8, 8, 8, -11, -12, -12, 15]    2   9   \n",
              "721   [6, 6, 6, -9, -9, 20, -22, -23, 25]    6   9   \n",
              "1003   [1, 3, 3, 3, 3, -4, -5, -6, -6, 8]    1  10   \n",
              "\n",
              "                                                                                                                                                                                               tree_level  \\\n",
              "37    [{'[l,ν,s,m_in,m_out]': [-10, 5, 5, 0, -15], 'massless': [15], 'sp': 30, 'sp_massless': [], 'rank': 0}, {'[l,ν,s,m_in,m_out]': [5, -10, 5, 0, 0], 'massless': [], 'sp': None, 'sp_massless': None}]   \n",
              "306     [{'[l,ν,s,m_in,m_out]': [-9, 6, 3, 0, -12], 'massless': [12], 'sp': 24, 'sp_massless': [], 'rank': 0}, {'[l,ν,s,m_in,m_out]': [6, -9, 3, 0, 3], 'massless': [], 'sp': None, 'sp_massless': None}]   \n",
              "341   [{'[l,ν,s,m_in,m_out]': [-12, 8, 4, 0, -16], 'massless': [16], 'sp': 32, 'sp_massless': [], 'rank': 0}, {'[l,ν,s,m_in,m_out]': [8, -12, 4, 0, 4], 'massless': [], 'sp': None, 'sp_massless': None}]   \n",
              "721     [{'[l,ν,s,m_in,m_out]': [-9, 6, 3, 0, -12], 'massless': [12], 'sp': 24, 'sp_massless': [], 'rank': 0}, {'[l,ν,s,m_in,m_out]': [6, -9, 3, 0, 3], 'massless': [], 'sp': None, 'sp_massless': None}]   \n",
              "1003      [{'[l,ν,s,m_in,m_out]': [-6, 3, 3, 0, -9], 'massless': [9], 'sp': 18, 'sp_massless': [], 'rank': 0}, {'[l,ν,s,m_in,m_out]': [3, -6, 3, 0, 0], 'massless': [], 'sp': None, 'sp_massless': None}]   \n",
              "\n",
              "      smax  D_msls  rptd   nl   nν   nr   rk  \n",
              "37      13     0.0   2.0  2.0  2.0  3.0  0.0  \n",
              "306     13     0.0   2.0  3.0  2.0  3.0  0.0  \n",
              "341     15     0.0   2.0  3.0  2.0  3.0  0.0  \n",
              "721     25     0.0   2.0  3.0  2.0  3.0  0.0  \n",
              "1003     8     0.0   2.0  4.0  2.0  3.0  0.0  "
            ]
          },
          "execution_count": 19,
          "metadata": {},
          "output_type": "execute_result"
        }
      ]
    },
    {
      "cell_type": "markdown",
      "metadata": {
        "id": "sXM0i6g9STFn"
      },
      "source": [
        "### Add solutions with massless fermions that get masses with some $S'$"
      ]
    },
    {
      "cell_type": "code",
      "metadata": {
        "id": "5-UAA2roSTFo",
        "outputId": "a7ddfa79-e449-4199-d2ef-fde405ebc609"
      },
      "source": [
        "for j in range(1,6):\n",
        "    print(j)\n",
        "    for i in cl[cl['tree_level'].apply(lambda l: [d for d in l if d.get('sp_massless') is not None and len(d.get('sp_massless'))==0  and len(d.get('massless'))==j ] if isinstance(l,list) else None \n",
        "             ).apply(len)>0].index:\n",
        "        cl=characterize_solution(cl,i,j)"
      ],
      "execution_count": null,
      "outputs": [
        {
          "name": "stdout",
          "output_type": "stream",
          "text": [
            "1\n",
            "2\n",
            "3\n",
            "4\n",
            "5\n"
          ]
        }
      ]
    },
    {
      "cell_type": "code",
      "metadata": {
        "id": "wvVg3gR4STFo"
      },
      "source": [
        "cl['rk']=cl['rk'].fillna(1)"
      ],
      "execution_count": null,
      "outputs": []
    },
    {
      "cell_type": "markdown",
      "metadata": {
        "id": "m794NX-6STFo"
      },
      "source": [
        "TODO: Includes solutions with `'n'>10`"
      ]
    },
    {
      "cell_type": "code",
      "metadata": {
        "id": "0XS9iakHSTFo"
      },
      "source": [
        "cl=cl[cl['n']<10].reset_index(drop=True)"
      ],
      "execution_count": null,
      "outputs": []
    },
    {
      "cell_type": "code",
      "metadata": {
        "id": "LgvyQPW7STFo"
      },
      "source": [
        "cl['D_msls']=cl['D_msls'].apply(lambda n: 10 if np.isnan(n) else n)\n",
        "cl['M_msls']=cl['M_msls'].apply(lambda n: 10 if np.isnan(n) else n)\n",
        "for k  in ['D_msls','M_msls','nl','nν','nr','rptd','rk']:\n",
        "    cl[k]=cl[k].astype(int)"
      ],
      "execution_count": null,
      "outputs": []
    },
    {
      "cell_type": "code",
      "metadata": {
        "id": "LpVSi6WbSTFp"
      },
      "source": [
        "cl=cl.sort_values(['n','smax','D_msls','rptd','nl','nν','nr']).reset_index(drop=True)"
      ],
      "execution_count": null,
      "outputs": []
    },
    {
      "cell_type": "code",
      "metadata": {
        "id": "HtkByzpQSTFp"
      },
      "source": [
        "cl['sltn']=cl['solution'].astype(str)\n",
        "ds['sltn']=ds['solution'].astype(str)"
      ],
      "execution_count": null,
      "outputs": []
    },
    {
      "cell_type": "code",
      "metadata": {
        "id": "Zj4PDFelSTFp"
      },
      "source": [
        "#cl[cl['solution'].astype(str)=='[1, -2, -2, 4, 5, -7, -7, 8]']#.apply(lambda row: extract_massless(row['solution'],row['tree_level'])  ,axis='columns')"
      ],
      "execution_count": null,
      "outputs": []
    },
    {
      "cell_type": "markdown",
      "metadata": {
        "id": "E6C4OZqvSTFp"
      },
      "source": [
        "## 4. Check the rank of the chiral fermion matrix "
      ]
    },
    {
      "cell_type": "code",
      "metadata": {
        "id": "oohadUjsSTFp",
        "outputId": "dcf2b38e-72d6-44e8-dfec-4023e92becc1"
      },
      "source": [
        "cl.shape"
      ],
      "execution_count": null,
      "outputs": [
        {
          "data": {
            "text/plain": [
              "(986, 15)"
            ]
          },
          "execution_count": 27,
          "metadata": {},
          "output_type": "execute_result"
        }
      ]
    },
    {
      "cell_type": "code",
      "metadata": {
        "id": "V2JxwyVSSTFq"
      },
      "source": [
        "fl=cl.copy()"
      ],
      "execution_count": null,
      "outputs": []
    },
    {
      "cell_type": "code",
      "metadata": {
        "id": "1L-rEOXVSTFq"
      },
      "source": [
        "def extract_s_massless(row):\n",
        "    lr=[]\n",
        "    for d in row['tree_level']:\n",
        "        dp=dict(zip( ['l','ν','s','m_in','m_out'], d['[l,ν,s,m_in,m_out]'] ))\n",
        "        #print(dp,d['massless'],len(d['massless'])==1,d['massless'][0],-dp['m_in'])\n",
        "        if (not d['massless'] \n",
        "            or (len(d['massless'])==1 and (d['massless'][0]==-dp['m_in']  or d['massless'][0]==dp['l'] ) )\n",
        "            or (len(d['massless'])==1 and (d['massless'][0]==-dp['m_out'] or d['massless'][0]==dp['l'] ) )\n",
        "               ):\n",
        "            massless=[x for x in row['solution'] if x!=dp['l'] and x!=dp['ν'] and x!=dp['m_in'] and x!=dp['m_out']]\n",
        "            if rank(row['solution'],massless,dp['s'])==1:\n",
        "                continue #discard this solution\n",
        "        lr.append(d)\n",
        "    return lr\n",
        "    \n",
        "\n",
        "\n",
        "assert extract_s_massless( {'solution':[4, -5, -9, -10, -10, 11, 11],\n",
        "                            'tree_level':[{'[l,ν,s,m_in,m_out]': [-10, 11, -1, -9, 0], \n",
        "                            'massless': [], 'sp': None, 'sp_massless': None}]}\n",
        "                  )[0]['[l,ν,s,m_in,m_out]']==[-10, 11, -1, -9, 0]\n",
        "assert extract_s_massless( {'solution':[4, 4, 4, -5, -9, -10, -10, 11, 11],\n",
        "                            'tree_level':[{'[l,ν,s,m_in,m_out]': [-10, 11, -1, -9, 0], \n",
        "                            'massless': [], 'sp': None, 'sp_massless': None}]} )==[]\n",
        "assert extract_s_massless( {'solution':[4, 4, 4, -5, -9, -10, -10, -10, 11, 11],\n",
        "                            'tree_level':[{'[l,ν,s,m_in,m_out]': [-10, 11, -1, -9, 0], \n",
        "                            'massless': [-10], 'sp': 20, 'sp_massless': []}]} )==[]\n",
        "assert extract_s_massless( {'solution':[4, 4, 4, -5, -10, -10, 11, 11],\n",
        "                            'tree_level':[{'[l,ν,s,m_in,m_out]': [-10, 11, -1, 0, -9], \n",
        "                            'massless': [9], 'sp': 18, 'sp_massless': []}]} \n",
        "                  )==[]"
      ],
      "execution_count": null,
      "outputs": []
    },
    {
      "cell_type": "code",
      "metadata": {
        "id": "CM3dPn6bSTFq"
      },
      "source": [
        "fl['tree_level']=fl.apply(extract_s_massless,axis='columns')"
      ],
      "execution_count": null,
      "outputs": []
    },
    {
      "cell_type": "code",
      "metadata": {
        "id": "Y9n7tL_JSTFr"
      },
      "source": [
        "#fl[fl['solution'].astype(str)=='[3, -4, -6, -6, 7, 7, 8, -9]']"
      ],
      "execution_count": null,
      "outputs": []
    },
    {
      "cell_type": "code",
      "metadata": {
        "id": "9dmMWH_iSTFr"
      },
      "source": [
        "def getit(it,dk):\n",
        "    it['ll']=dk.get('[l,ν,s,m_in,m_out]')[0]\n",
        "    it['ν']=dk.get('[l,ν,s,m_in,m_out]')[1]\n",
        "    it['s']=dk.get('[l,ν,s,m_in,m_out]')[2]\n",
        "    it['massless']=dk.get('massless')\n",
        "    l=it['solution'].copy()    \n",
        "    nν=l.count(it['ν'])\n",
        "    ll=l.count(it['ll'])\n",
        "    if dk.get('[l,ν,s,m_in,m_out]')[3]!=0:\n",
        "        m=dk.get('[l,ν,s,m_in,m_out]')[3]\n",
        "        if ll==2 or -m in it['massless']:#True:#nν==2:# and ll==2:\n",
        "            it['extra']=[m,m,-m,-m]\n",
        "        else:\n",
        "            it['extra']=None\n",
        "    else:\n",
        "        m=dk.get('[l,ν,s,m_in,m_out]')[4]\n",
        "        if ll==3  or -m in it['massless']:\n",
        "            it['extra']=[m,m,m,-m,-m,-m]\n",
        "        else:\n",
        "            it['extra']=None            \n",
        "    it['sp']=dk.get('sp')\n",
        "    return it\n",
        "    \n",
        "tm=pd.DataFrame()\n",
        "\n",
        "fl=fl.sort_values(['n','smax','D_msls','M_msls']).reset_index(drop=True)\n",
        "\n",
        "\n",
        "for i in fl.index:\n",
        "    it=fl.loc[i].to_dict()\n",
        "    if fl.loc[i,'D_msls']==10:\n",
        "        k=[d for d in fl.loc[i,'tree_level'] if len(d.get('massless'))==fl.loc[i,'M_msls']]\n",
        "        kk=[d for d in  k if d.get('[l,ν,s,m_in,m_out]')[3]!=0]\n",
        "        if len(k)>0:\n",
        "            if len(kk)>0:\n",
        "                dk=kk[0]\n",
        "            else:\n",
        "                dk=k[0]\n",
        "            it=getit(it,dk)\n",
        "            if it['extra']:\n",
        "                it['nn']=it['n']+len(it['extra'])\n",
        "            tm=tm.append(it,ignore_index=True)\n",
        "    elif fl.loc[i,'M_msls']==10:\n",
        "        k=[d for d in fl.loc[i,'tree_level'] if len(d.get('massless'))==fl.loc[i,'D_msls']]\n",
        "        kk=[d for d in  k if d.get('[l,ν,s,m_in,m_out]')[3]!=0]\n",
        "        if len(k)>0:\n",
        "            if len(kk)>0:\n",
        "                dk=kk[0]\n",
        "            else:\n",
        "                dk=k[0]\n",
        "            dk=k[0]\n",
        "            it=getit(it,dk)\n",
        "            if it['extra']:\n",
        "                it['nn']=it['n']+len(it['extra'])            \n",
        "            tm=tm.append(it,ignore_index=True)\n",
        "    else:\n",
        "        k=[d for d in fl.loc[i,'tree_level'] if len(d.get('massless'))==fl.loc[i,'M_msls']]\n",
        "        kk=[d for d in  k if d.get('[l,ν,s,m_in,m_out]')[3]!=0]\n",
        "        if len(k)>0:\n",
        "            if len(kk)>0:\n",
        "                dk=kk[0]\n",
        "            else:\n",
        "                dk=k[0]\n",
        "            dk=k[0]\n",
        "            it=getit(it,dk)\n",
        "            if it['extra']:            \n",
        "                it['nn']=it['n']+len(it['extra'])            \n",
        "            tm=tm.append(it,ignore_index=True)\n",
        "        k=[d for d in fl.loc[i,'tree_level'] if len(d.get('massless'))==fl.loc[i,'D_msls']]\n",
        "        kk=[d for d in  k if d.get('[l,ν,s,m_in,m_out]')[3]!=0]\n",
        "        if len(k)>0:\n",
        "            if len(kk)>0:\n",
        "                dk=kk[0]\n",
        "            else:\n",
        "                dk=k[0]\n",
        "            dk=k[0]\n",
        "            it=getit(it,dk)\n",
        "            if it['extra']:            \n",
        "                it['nn']=it['n']+len(it['extra'])            \n",
        "            tm=tm.append(it,ignore_index=True)\n",
        "    #if i==26:\n",
        "    #    break"
      ],
      "execution_count": null,
      "outputs": []
    },
    {
      "cell_type": "code",
      "metadata": {
        "id": "CGU_p4IXSTFs"
      },
      "source": [
        "#assert tm[tm['solution'].astype(str)=='[3, -4, -6, -6, 7, 7, 8, -9]'].reset_index(drop=True).loc[0,'ν']==-6"
      ],
      "execution_count": null,
      "outputs": []
    },
    {
      "cell_type": "code",
      "metadata": {
        "id": "Ynn4d_V6STFs"
      },
      "source": [
        "tm=tm[tm.apply(lambda row: rank(row['solution'],row['massless'],row['sp']) if row['sp'] else 0,axis='columns')==0].reset_index(drop=True)"
      ],
      "execution_count": null,
      "outputs": []
    },
    {
      "cell_type": "code",
      "metadata": {
        "id": "6bWuvLMzSTFs"
      },
      "source": [
        "tm=tm.dropna(subset=['extra']).reset_index(drop=True)"
      ],
      "execution_count": null,
      "outputs": []
    },
    {
      "cell_type": "code",
      "metadata": {
        "id": "1T-tvAbfSTFt",
        "outputId": "1e0fac65-6f2d-4c84-dacc-3c61979be6b6"
      },
      "source": [
        "tm.shape"
      ],
      "execution_count": null,
      "outputs": [
        {
          "data": {
            "text/plain": [
              "(336, 22)"
            ]
          },
          "execution_count": 36,
          "metadata": {},
          "output_type": "execute_result"
        }
      ]
    },
    {
      "cell_type": "markdown",
      "metadata": {
        "id": "VIKL8ANESTFt"
      },
      "source": [
        "## 5. Prepare output"
      ]
    },
    {
      "cell_type": "code",
      "metadata": {
        "id": "6r6JXFgeSTFt",
        "outputId": "f6ae9c16-741a-4ead-8f35-ddf46785b9bd"
      },
      "source": [
        "tm.shape"
      ],
      "execution_count": null,
      "outputs": [
        {
          "data": {
            "text/plain": [
              "(336, 22)"
            ]
          },
          "execution_count": 37,
          "metadata": {},
          "output_type": "execute_result"
        }
      ]
    },
    {
      "cell_type": "code",
      "metadata": {
        "id": "UxfPSDRESTFt"
      },
      "source": [
        "tm['nnn']=tm['extra'].apply(lambda l: len(l)/2   if len(l)==6 else len(l)/2-1  ).astype(int)+tm['n']"
      ],
      "execution_count": null,
      "outputs": []
    },
    {
      "cell_type": "code",
      "metadata": {
        "id": "gBM6bibdSTFu",
        "outputId": "38a090b0-4f72-4eca-95e4-3b7fbe7572ae"
      },
      "source": [
        "for k in ['nnn','gcd','ll','ν','s','n','D_msls','rptd','nl','nν','nr','M_msls']:\n",
        "    tm[k]=tm[k].astype(int)\n",
        "tm['nsmax']=tm.apply(lambda row: np.abs(row['extra']+row['solution']).max(),axis='columns' )\n",
        "tm['lextra']=tm['extra'].apply(len)\n",
        "tm=tm.sort_values(['nnn','n','nsmax']).reset_index(drop=True)\n",
        "\n",
        "#Delete equivalent solutions\n",
        "tm['Q']=True\n",
        "sltns={#'[3, -4, 8, -9]': [3, -4, -6, -6, 7, 7, 8, -9],\n",
        "       #'[1, -4, -9]':[1, -4, 5, 5, -9, -9, -9, 10, 10],\n",
        "       #'[1, -5, 8, -17, 21]':[1, -5, 8, 12, 12, -16, -16, -17, 21],\n",
        "       # '[25, 29]': [9, 9, -24, -24, -24, 25, 29],\n",
        "       # '[13, 23]':[5, 5, 5, 13, -17, -17, -17, 23]#,\n",
        "       #'[-4, 6, -10, 12]':[3, 3, -4, 6, -10, -11, -11, 12, 12]       \n",
        "      }\n",
        "for k in sltns.keys():\n",
        "    iq=tm[((tm['solution'].astype(str)==str(sltns[k])) &  (tm['massless'].astype(str)==k)\n",
        "          )].index[0] #unstable dark matter\n",
        "    tm.loc[iq,'Q']=False\n",
        "#alltm=tm.copy()\n",
        "tm=tm[tm['Q']].reset_index(drop=True).drop('Q',axis='columns')\n",
        "tm[['nnn','n','l','k','extra','solution','gcd','ll','ν','s','massless','sp','M_msls','rptd','nl','nν','nr','D_msls']\n",
        "  ].sort_values(['nnn','M_msls','rptd','nl','nν','nr']).reset_index(drop=True)#.loc[[0,4]]#.loc[[0,4]]"
      ],
      "execution_count": null,
      "outputs": [
        {
          "data": {
            "text/html": [
              "<div>\n",
              "<style scoped>\n",
              "    .dataframe tbody tr th:only-of-type {\n",
              "        vertical-align: middle;\n",
              "    }\n",
              "\n",
              "    .dataframe tbody tr th {\n",
              "        vertical-align: top;\n",
              "    }\n",
              "\n",
              "    .dataframe thead th {\n",
              "        text-align: right;\n",
              "    }\n",
              "</style>\n",
              "<table border=\"1\" class=\"dataframe\">\n",
              "  <thead>\n",
              "    <tr style=\"text-align: right;\">\n",
              "      <th></th>\n",
              "      <th>nnn</th>\n",
              "      <th>n</th>\n",
              "      <th>l</th>\n",
              "      <th>k</th>\n",
              "      <th>extra</th>\n",
              "      <th>solution</th>\n",
              "      <th>gcd</th>\n",
              "      <th>ll</th>\n",
              "      <th>ν</th>\n",
              "      <th>s</th>\n",
              "      <th>massless</th>\n",
              "      <th>sp</th>\n",
              "      <th>M_msls</th>\n",
              "      <th>rptd</th>\n",
              "      <th>nl</th>\n",
              "      <th>nν</th>\n",
              "      <th>nr</th>\n",
              "      <th>D_msls</th>\n",
              "    </tr>\n",
              "  </thead>\n",
              "  <tbody>\n",
              "    <tr>\n",
              "      <th>0</th>\n",
              "      <td>7</td>\n",
              "      <td>6</td>\n",
              "      <td>[1, -2]</td>\n",
              "      <td>[-4, 1]</td>\n",
              "      <td>[1, 1, -1, -1]</td>\n",
              "      <td>[1, -4, -4, 9, 9, -11]</td>\n",
              "      <td>3</td>\n",
              "      <td>-4</td>\n",
              "      <td>9</td>\n",
              "      <td>-5</td>\n",
              "      <td>[-11]</td>\n",
              "      <td>22.0</td>\n",
              "      <td>1</td>\n",
              "      <td>2</td>\n",
              "      <td>2</td>\n",
              "      <td>2</td>\n",
              "      <td>3</td>\n",
              "      <td>2</td>\n",
              "    </tr>\n",
              "    <tr>\n",
              "      <th>1</th>\n",
              "      <td>8</td>\n",
              "      <td>7</td>\n",
              "      <td>[-1, 1]</td>\n",
              "      <td>[-1, 0, -1]</td>\n",
              "      <td>[1, 1, -1, -1]</td>\n",
              "      <td>[1, 2, 2, -3, -3, -3, 4]</td>\n",
              "      <td>1</td>\n",
              "      <td>2</td>\n",
              "      <td>-3</td>\n",
              "      <td>1</td>\n",
              "      <td>[4]</td>\n",
              "      <td>8.0</td>\n",
              "      <td>1</td>\n",
              "      <td>2</td>\n",
              "      <td>3</td>\n",
              "      <td>2</td>\n",
              "      <td>3</td>\n",
              "      <td>2</td>\n",
              "    </tr>\n",
              "    <tr>\n",
              "      <th>2</th>\n",
              "      <td>8</td>\n",
              "      <td>7</td>\n",
              "      <td>[-3, -1]</td>\n",
              "      <td>[-2, -3, 1]</td>\n",
              "      <td>[-7, -7, 7, 7]</td>\n",
              "      <td>[3, 3, 3, -5, -5, -7, 8]</td>\n",
              "      <td>1</td>\n",
              "      <td>-5</td>\n",
              "      <td>3</td>\n",
              "      <td>2</td>\n",
              "      <td>[8]</td>\n",
              "      <td>16.0</td>\n",
              "      <td>1</td>\n",
              "      <td>2</td>\n",
              "      <td>3</td>\n",
              "      <td>2</td>\n",
              "      <td>3</td>\n",
              "      <td>2</td>\n",
              "    </tr>\n",
              "    <tr>\n",
              "      <th>3</th>\n",
              "      <td>8</td>\n",
              "      <td>7</td>\n",
              "      <td>[3, 1]</td>\n",
              "      <td>[-1, -5, 7]</td>\n",
              "      <td>[-4, -4, 4, 4]</td>\n",
              "      <td>[2, 2, -4, 7, -8, -8, 9]</td>\n",
              "      <td>1</td>\n",
              "      <td>2</td>\n",
              "      <td>-8</td>\n",
              "      <td>6</td>\n",
              "      <td>[7, 9]</td>\n",
              "      <td>16.0</td>\n",
              "      <td>10</td>\n",
              "      <td>2</td>\n",
              "      <td>2</td>\n",
              "      <td>2</td>\n",
              "      <td>2</td>\n",
              "      <td>2</td>\n",
              "    </tr>\n",
              "    <tr>\n",
              "      <th>4</th>\n",
              "      <td>9</td>\n",
              "      <td>8</td>\n",
              "      <td>[0, -3, -1]</td>\n",
              "      <td>[-3, -5, -6, -4]</td>\n",
              "      <td>[8, 8, -8, -8]</td>\n",
              "      <td>[3, -4, -6, -6, 7, 7, 8, -9]</td>\n",
              "      <td>1</td>\n",
              "      <td>7</td>\n",
              "      <td>-6</td>\n",
              "      <td>-1</td>\n",
              "      <td>[-9]</td>\n",
              "      <td>18.0</td>\n",
              "      <td>1</td>\n",
              "      <td>2</td>\n",
              "      <td>2</td>\n",
              "      <td>2</td>\n",
              "      <td>3</td>\n",
              "      <td>10</td>\n",
              "    </tr>\n",
              "    <tr>\n",
              "      <th>...</th>\n",
              "      <td>...</td>\n",
              "      <td>...</td>\n",
              "      <td>...</td>\n",
              "      <td>...</td>\n",
              "      <td>...</td>\n",
              "      <td>...</td>\n",
              "      <td>...</td>\n",
              "      <td>...</td>\n",
              "      <td>...</td>\n",
              "      <td>...</td>\n",
              "      <td>...</td>\n",
              "      <td>...</td>\n",
              "      <td>...</td>\n",
              "      <td>...</td>\n",
              "      <td>...</td>\n",
              "      <td>...</td>\n",
              "      <td>...</td>\n",
              "      <td>...</td>\n",
              "    </tr>\n",
              "    <tr>\n",
              "      <th>331</th>\n",
              "      <td>12</td>\n",
              "      <td>9</td>\n",
              "      <td>[8, -9, 8]</td>\n",
              "      <td>[-5, -3, -5, 9]</td>\n",
              "      <td>[-19, -19, -19, 19, 19, 19]</td>\n",
              "      <td>[9, 10, 22, -24, -24, -24, -27, 29, 29]</td>\n",
              "      <td>64</td>\n",
              "      <td>-24</td>\n",
              "      <td>29</td>\n",
              "      <td>-5</td>\n",
              "      <td>[9, 10]</td>\n",
              "      <td>19.0</td>\n",
              "      <td>10</td>\n",
              "      <td>2</td>\n",
              "      <td>3</td>\n",
              "      <td>2</td>\n",
              "      <td>3</td>\n",
              "      <td>2</td>\n",
              "    </tr>\n",
              "    <tr>\n",
              "      <th>332</th>\n",
              "      <td>12</td>\n",
              "      <td>9</td>\n",
              "      <td>[-6, -4, 3, -1]</td>\n",
              "      <td>[-2, -4, 3, -5]</td>\n",
              "      <td>[30, 30, 30, -30, -30, -30]</td>\n",
              "      <td>[6, 6, 6, -8, -13, -14, 18, 18, -19]</td>\n",
              "      <td>7</td>\n",
              "      <td>6</td>\n",
              "      <td>18</td>\n",
              "      <td>-24</td>\n",
              "      <td>[-8, -13, -14, -19]</td>\n",
              "      <td>27.0</td>\n",
              "      <td>10</td>\n",
              "      <td>2</td>\n",
              "      <td>3</td>\n",
              "      <td>2</td>\n",
              "      <td>3</td>\n",
              "      <td>4</td>\n",
              "    </tr>\n",
              "    <tr>\n",
              "      <th>333</th>\n",
              "      <td>12</td>\n",
              "      <td>9</td>\n",
              "      <td>[-6, -5, -4, -3]</td>\n",
              "      <td>[0, -5, -4, 1]</td>\n",
              "      <td>[-26, -26, -26, 26, 26, 26]</td>\n",
              "      <td>[6, 16, 16, 20, -21, -21, -21, -25, 30]</td>\n",
              "      <td>30</td>\n",
              "      <td>-21</td>\n",
              "      <td>16</td>\n",
              "      <td>5</td>\n",
              "      <td>[6, 30]</td>\n",
              "      <td>36.0</td>\n",
              "      <td>10</td>\n",
              "      <td>2</td>\n",
              "      <td>3</td>\n",
              "      <td>2</td>\n",
              "      <td>3</td>\n",
              "      <td>2</td>\n",
              "    </tr>\n",
              "    <tr>\n",
              "      <th>334</th>\n",
              "      <td>12</td>\n",
              "      <td>9</td>\n",
              "      <td>[-4, -1, -4]</td>\n",
              "      <td>[-3, -9, -3, -8]</td>\n",
              "      <td>[-38, -38, -38, 38, 38, 38]</td>\n",
              "      <td>[8, 8, -14, 18, 20, -23, -23, -23, 29]</td>\n",
              "      <td>3</td>\n",
              "      <td>-23</td>\n",
              "      <td>8</td>\n",
              "      <td>15</td>\n",
              "      <td>[18, 20]</td>\n",
              "      <td>38.0</td>\n",
              "      <td>10</td>\n",
              "      <td>2</td>\n",
              "      <td>3</td>\n",
              "      <td>2</td>\n",
              "      <td>3</td>\n",
              "      <td>2</td>\n",
              "    </tr>\n",
              "    <tr>\n",
              "      <th>335</th>\n",
              "      <td>12</td>\n",
              "      <td>9</td>\n",
              "      <td>[-2, 6, -2, -3]</td>\n",
              "      <td>[0, -6, -3, -6]</td>\n",
              "      <td>[38, 38, 38, -38, -38, -38]</td>\n",
              "      <td>[6, 6, 6, -8, -15, -17, 26, 26, -30]</td>\n",
              "      <td>48</td>\n",
              "      <td>6</td>\n",
              "      <td>26</td>\n",
              "      <td>-32</td>\n",
              "      <td>[-8, -30]</td>\n",
              "      <td>38.0</td>\n",
              "      <td>10</td>\n",
              "      <td>2</td>\n",
              "      <td>3</td>\n",
              "      <td>2</td>\n",
              "      <td>3</td>\n",
              "      <td>2</td>\n",
              "    </tr>\n",
              "  </tbody>\n",
              "</table>\n",
              "<p>336 rows × 18 columns</p>\n",
              "</div>"
            ],
            "text/plain": [
              "     nnn  n                 l                 k                        extra  \\\n",
              "0      7  6           [1, -2]           [-4, 1]               [1, 1, -1, -1]   \n",
              "1      8  7           [-1, 1]       [-1, 0, -1]               [1, 1, -1, -1]   \n",
              "2      8  7          [-3, -1]       [-2, -3, 1]               [-7, -7, 7, 7]   \n",
              "3      8  7            [3, 1]       [-1, -5, 7]               [-4, -4, 4, 4]   \n",
              "4      9  8       [0, -3, -1]  [-3, -5, -6, -4]               [8, 8, -8, -8]   \n",
              "..   ... ..               ...               ...                          ...   \n",
              "331   12  9        [8, -9, 8]   [-5, -3, -5, 9]  [-19, -19, -19, 19, 19, 19]   \n",
              "332   12  9   [-6, -4, 3, -1]   [-2, -4, 3, -5]  [30, 30, 30, -30, -30, -30]   \n",
              "333   12  9  [-6, -5, -4, -3]    [0, -5, -4, 1]  [-26, -26, -26, 26, 26, 26]   \n",
              "334   12  9      [-4, -1, -4]  [-3, -9, -3, -8]  [-38, -38, -38, 38, 38, 38]   \n",
              "335   12  9   [-2, 6, -2, -3]   [0, -6, -3, -6]  [38, 38, 38, -38, -38, -38]   \n",
              "\n",
              "                                    solution  gcd  ll   ν   s  \\\n",
              "0                     [1, -4, -4, 9, 9, -11]    3  -4   9  -5   \n",
              "1                   [1, 2, 2, -3, -3, -3, 4]    1   2  -3   1   \n",
              "2                   [3, 3, 3, -5, -5, -7, 8]    1  -5   3   2   \n",
              "3                   [2, 2, -4, 7, -8, -8, 9]    1   2  -8   6   \n",
              "4               [3, -4, -6, -6, 7, 7, 8, -9]    1   7  -6  -1   \n",
              "..                                       ...  ...  ..  ..  ..   \n",
              "331  [9, 10, 22, -24, -24, -24, -27, 29, 29]   64 -24  29  -5   \n",
              "332     [6, 6, 6, -8, -13, -14, 18, 18, -19]    7   6  18 -24   \n",
              "333  [6, 16, 16, 20, -21, -21, -21, -25, 30]   30 -21  16   5   \n",
              "334   [8, 8, -14, 18, 20, -23, -23, -23, 29]    3 -23   8  15   \n",
              "335     [6, 6, 6, -8, -15, -17, 26, 26, -30]   48   6  26 -32   \n",
              "\n",
              "                massless    sp  M_msls  rptd  nl  nν  nr  D_msls  \n",
              "0                  [-11]  22.0       1     2   2   2   3       2  \n",
              "1                    [4]   8.0       1     2   3   2   3       2  \n",
              "2                    [8]  16.0       1     2   3   2   3       2  \n",
              "3                 [7, 9]  16.0      10     2   2   2   2       2  \n",
              "4                   [-9]  18.0       1     2   2   2   3      10  \n",
              "..                   ...   ...     ...   ...  ..  ..  ..     ...  \n",
              "331              [9, 10]  19.0      10     2   3   2   3       2  \n",
              "332  [-8, -13, -14, -19]  27.0      10     2   3   2   3       4  \n",
              "333              [6, 30]  36.0      10     2   3   2   3       2  \n",
              "334             [18, 20]  38.0      10     2   3   2   3       2  \n",
              "335            [-8, -30]  38.0      10     2   3   2   3       2  \n",
              "\n",
              "[336 rows x 18 columns]"
            ]
          },
          "execution_count": 39,
          "metadata": {},
          "output_type": "execute_result"
        }
      ]
    },
    {
      "cell_type": "code",
      "metadata": {
        "id": "nbiQsP7GSTFu",
        "outputId": "63bb4a82-07c3-445b-ebad-448cf94e5d57"
      },
      "source": [
        "tm['nnn'].unique()"
      ],
      "execution_count": null,
      "outputs": [
        {
          "data": {
            "text/plain": [
              "array([ 7,  8,  9, 10, 11, 12])"
            ]
          },
          "execution_count": 40,
          "metadata": {},
          "output_type": "execute_result"
        }
      ]
    },
    {
      "cell_type": "code",
      "metadata": {
        "id": "aC0MEnHvSTFu"
      },
      "source": [
        "tm['ex']=tm['extra'].apply(len)"
      ],
      "execution_count": null,
      "outputs": []
    },
    {
      "cell_type": "code",
      "metadata": {
        "id": "a5d6SiPKSTFu"
      },
      "source": [
        "for k  in ['D_msls','M_msls','nl','nν','nr','rptd','rk','ex']:\n",
        "    tm[k]=tm[k].astype(int)"
      ],
      "execution_count": null,
      "outputs": []
    },
    {
      "cell_type": "markdown",
      "metadata": {
        "id": "C_ugZHSlSTFv"
      },
      "source": [
        "### Add Unconditional stability solutions"
      ]
    },
    {
      "cell_type": "code",
      "metadata": {
        "id": "8JR0o9UqSTFv"
      },
      "source": [
        "p=np.array( [2,3,5,7,11,13,17,19,23,29,31] )\n",
        "q=p.copy()\n",
        "zpq= [ pp*qq for pp in p for qq in q if pp<qq] \n",
        "Zpq=sorted( set( zpq ) )"
      ],
      "execution_count": null,
      "outputs": []
    },
    {
      "cell_type": "code",
      "metadata": {
        "id": "sOJJIILvSTFv"
      },
      "source": [
        "pqs=[ (pp,qq) for pp in p for qq in q if pp<qq]\n",
        "ZN=dict(zip(zpq,pqs))"
      ],
      "execution_count": null,
      "outputs": []
    },
    {
      "cell_type": "code",
      "metadata": {
        "id": "0rH2Pb-JSTFv",
        "outputId": "6d01cb7c-5d51-4eed-e1dd-50835da6f27d"
      },
      "source": [
        "tm.shape"
      ],
      "execution_count": null,
      "outputs": [
        {
          "data": {
            "text/plain": [
              "(336, 26)"
            ]
          },
          "execution_count": 45,
          "metadata": {},
          "output_type": "execute_result"
        }
      ]
    },
    {
      "cell_type": "code",
      "metadata": {
        "id": "-tPXkUqkSTFv"
      },
      "source": [
        "tmopq=tm[tm['s'].apply(lambda s: abs(s) in Zpq)].reset_index(drop=True)"
      ],
      "execution_count": null,
      "outputs": []
    },
    {
      "cell_type": "code",
      "metadata": {
        "id": "rsC1H8Z-STFw"
      },
      "source": [
        "tmopq['Z_N']=tmopq['s'].abs()\n",
        "tmopq=tmopq.sort_values('Z_N').reset_index(drop=True)"
      ],
      "execution_count": null,
      "outputs": []
    },
    {
      "cell_type": "code",
      "metadata": {
        "id": "Zb8JLAshSTFw",
        "outputId": "bb03ab82-b2e1-4882-9465-124b823370c6"
      },
      "source": [
        "tmopq[['Z_N']].max()"
      ],
      "execution_count": null,
      "outputs": [
        {
          "data": {
            "text/plain": [
              "Z_N    51\n",
              "dtype: int64"
            ]
          },
          "execution_count": 48,
          "metadata": {},
          "output_type": "execute_result"
        }
      ]
    },
    {
      "cell_type": "code",
      "metadata": {
        "id": "-3xV579cSTFw",
        "outputId": "b79f671d-dd79-4b7e-d0e9-cfd7a03ee223"
      },
      "source": [
        "tmopq[tmopq['massless'].apply(len)==0]"
      ],
      "execution_count": null,
      "outputs": [
        {
          "data": {
            "text/html": [
              "<div>\n",
              "<style scoped>\n",
              "    .dataframe tbody tr th:only-of-type {\n",
              "        vertical-align: middle;\n",
              "    }\n",
              "\n",
              "    .dataframe tbody tr th {\n",
              "        vertical-align: top;\n",
              "    }\n",
              "\n",
              "    .dataframe thead th {\n",
              "        text-align: right;\n",
              "    }\n",
              "</style>\n",
              "<table border=\"1\" class=\"dataframe\">\n",
              "  <thead>\n",
              "    <tr style=\"text-align: right;\">\n",
              "      <th></th>\n",
              "      <th>l</th>\n",
              "      <th>k</th>\n",
              "      <th>solution</th>\n",
              "      <th>gcd</th>\n",
              "      <th>n</th>\n",
              "      <th>tree_level</th>\n",
              "      <th>smax</th>\n",
              "      <th>D_msls</th>\n",
              "      <th>rptd</th>\n",
              "      <th>nl</th>\n",
              "      <th>nν</th>\n",
              "      <th>nr</th>\n",
              "      <th>rk</th>\n",
              "      <th>M_msls</th>\n",
              "      <th>sltn</th>\n",
              "      <th>ll</th>\n",
              "      <th>ν</th>\n",
              "      <th>s</th>\n",
              "      <th>massless</th>\n",
              "      <th>extra</th>\n",
              "      <th>sp</th>\n",
              "      <th>nn</th>\n",
              "      <th>nnn</th>\n",
              "      <th>nsmax</th>\n",
              "      <th>lextra</th>\n",
              "      <th>ex</th>\n",
              "      <th>Z_N</th>\n",
              "    </tr>\n",
              "  </thead>\n",
              "  <tbody>\n",
              "  </tbody>\n",
              "</table>\n",
              "</div>"
            ],
            "text/plain": [
              "Empty DataFrame\n",
              "Columns: [l, k, solution, gcd, n, tree_level, smax, D_msls, rptd, nl, nν, nr, rk, M_msls, sltn, ll, ν, s, massless, extra, sp, nn, nnn, nsmax, lextra, ex, Z_N]\n",
              "Index: []"
            ]
          },
          "execution_count": 49,
          "metadata": {},
          "output_type": "execute_result"
        }
      ]
    },
    {
      "cell_type": "code",
      "metadata": {
        "id": "I-kGtSBTSTFw",
        "outputId": "1d26b8ff-40d7-43b5-81e0-ea1b8c17c795"
      },
      "source": [
        "tmopq[:1]"
      ],
      "execution_count": null,
      "outputs": [
        {
          "data": {
            "text/html": [
              "<div>\n",
              "<style scoped>\n",
              "    .dataframe tbody tr th:only-of-type {\n",
              "        vertical-align: middle;\n",
              "    }\n",
              "\n",
              "    .dataframe tbody tr th {\n",
              "        vertical-align: top;\n",
              "    }\n",
              "\n",
              "    .dataframe thead th {\n",
              "        text-align: right;\n",
              "    }\n",
              "</style>\n",
              "<table border=\"1\" class=\"dataframe\">\n",
              "  <thead>\n",
              "    <tr style=\"text-align: right;\">\n",
              "      <th></th>\n",
              "      <th>l</th>\n",
              "      <th>k</th>\n",
              "      <th>solution</th>\n",
              "      <th>gcd</th>\n",
              "      <th>n</th>\n",
              "      <th>tree_level</th>\n",
              "      <th>smax</th>\n",
              "      <th>D_msls</th>\n",
              "      <th>rptd</th>\n",
              "      <th>nl</th>\n",
              "      <th>nν</th>\n",
              "      <th>nr</th>\n",
              "      <th>rk</th>\n",
              "      <th>M_msls</th>\n",
              "      <th>sltn</th>\n",
              "      <th>ll</th>\n",
              "      <th>ν</th>\n",
              "      <th>s</th>\n",
              "      <th>massless</th>\n",
              "      <th>extra</th>\n",
              "      <th>sp</th>\n",
              "      <th>nn</th>\n",
              "      <th>nnn</th>\n",
              "      <th>nsmax</th>\n",
              "      <th>lextra</th>\n",
              "      <th>ex</th>\n",
              "      <th>Z_N</th>\n",
              "    </tr>\n",
              "  </thead>\n",
              "  <tbody>\n",
              "    <tr>\n",
              "      <th>0</th>\n",
              "      <td>[3, 1]</td>\n",
              "      <td>[-1, -5, 7]</td>\n",
              "      <td>[2, 2, -4, 7, -8, -8, 9]</td>\n",
              "      <td>1</td>\n",
              "      <td>7</td>\n",
              "      <td>[{'[l,ν,s,m_in,m_out]': [2, -8, 6, -4, 0], 'massless': [7, 9], 'sp': 16, 'sp_massless': []}]</td>\n",
              "      <td>9.0</td>\n",
              "      <td>2</td>\n",
              "      <td>2</td>\n",
              "      <td>2</td>\n",
              "      <td>2</td>\n",
              "      <td>2</td>\n",
              "      <td>1</td>\n",
              "      <td>10</td>\n",
              "      <td>[2, 2, -4, 7, -8, -8, 9]</td>\n",
              "      <td>2</td>\n",
              "      <td>-8</td>\n",
              "      <td>6</td>\n",
              "      <td>[7, 9]</td>\n",
              "      <td>[-4, -4, 4, 4]</td>\n",
              "      <td>16.0</td>\n",
              "      <td>11.0</td>\n",
              "      <td>8</td>\n",
              "      <td>9</td>\n",
              "      <td>4</td>\n",
              "      <td>4</td>\n",
              "      <td>6</td>\n",
              "    </tr>\n",
              "  </tbody>\n",
              "</table>\n",
              "</div>"
            ],
            "text/plain": [
              "        l            k                  solution  gcd  n  \\\n",
              "0  [3, 1]  [-1, -5, 7]  [2, 2, -4, 7, -8, -8, 9]    1  7   \n",
              "\n",
              "                                                                                     tree_level  \\\n",
              "0  [{'[l,ν,s,m_in,m_out]': [2, -8, 6, -4, 0], 'massless': [7, 9], 'sp': 16, 'sp_massless': []}]   \n",
              "\n",
              "   smax  D_msls  rptd  nl  nν  nr  rk  M_msls                      sltn  ll  \\\n",
              "0   9.0       2     2   2   2   2   1      10  [2, 2, -4, 7, -8, -8, 9]   2   \n",
              "\n",
              "   ν  s massless           extra    sp    nn  nnn  nsmax  lextra  ex  Z_N  \n",
              "0 -8  6   [7, 9]  [-4, -4, 4, 4]  16.0  11.0    8      9       4   4    6  "
            ]
          },
          "execution_count": 50,
          "metadata": {},
          "output_type": "execute_result"
        }
      ]
    },
    {
      "cell_type": "code",
      "metadata": {
        "id": "auKjMBh9STFx"
      },
      "source": [
        "def unconditional_stability(row,ZN={6:(2,3),10:(2,5),15:(3,5)},DMs={},check_massless=True):\n",
        "    '''\n",
        "    According to appendix of arXiv:1911.05515, \n",
        "    generalized to any N\n",
        "    \n",
        "    '''\n",
        "    if check_massless:\n",
        "        sd=[d for d in row['tree_level'] if d.get('massless')==[]]\n",
        "    else:\n",
        "        sd=row['tree_level']\n",
        "        \n",
        "    for i in range(len(sd)):\n",
        "        DMs={}\n",
        "        d=sd[i]\n",
        "        N=abs(d['[l,ν,s,m_in,m_out]'][2])\n",
        "        ll=d['[l,ν,s,m_in,m_out]']\n",
        "        ll=[n for n in ll if n!=N]\n",
        "        #print(N,ll)\n",
        "        l=[n for n in row['solution'] if n not in ll]\n",
        "        #print(N,l)\n",
        "        #Check for non-hidden chiral fermions\n",
        "        if 0 in np.array(l)%N:\n",
        "            DMs={'None':tuple([])}\n",
        "            continue\n",
        "        DM=[x for x in itertools.permutations(l,2) \n",
        "               if x[0]<=x[1] and abs(sum(x))==N ]\n",
        "        DM=DM+[(n,n) for n in l if abs(2*n)==N]\n",
        "        #rank 0\n",
        "        for dm in DM:\n",
        "            if dm[0]!=dm[1] and l.count(dm[0])!=l.count(dm[1]) and abs(2*dm[0])!=N and abs(2*dm[0])!=N:\n",
        "                DMs={'None':tuple([])}\n",
        "        #missing massles → TODO: Check BUG\n",
        "        if check_massless and np.setdiff1d(l,[item for sublist in DM for item in sublist]).size>0:\n",
        "            DMs={'None':tuple([])}\n",
        "        if not DMs.get('None')==():\n",
        "            try:\n",
        "                p,q=ZN[N]\n",
        "            except KeyError:\n",
        "                DMs={'None':tuple([])}\n",
        "                continue\n",
        "            ps=[n*p for n in range(1,N) if n*p<N]\n",
        "            qs=[n*q for n in range(1,N) if n*q<N]\n",
        "            ω=[ sorted([y%N for y in x]) for x in DM]\n",
        "            DMF=['ψ' if np.setdiff1d(x,ps).size==0 else 'χ' \n",
        "                   if np.setdiff1d(x,qs).size==0 else 'None' for x in  ω ]\n",
        "            DMs=dict(zip(DMF,DM))\n",
        "            if isinstance(row['sp'],int):\n",
        "                if abs(row['sp'])>=p and  abs(row['sp'])%p==0:\n",
        "                    pass\n",
        "                elif abs(row['sp'])>=q and  abs(row['sp'])%q==0:\n",
        "                    pass\n",
        "                else:\n",
        "                    DMs={'None':tuple([])}\n",
        "            break\n",
        "    return DMs"
      ],
      "execution_count": null,
      "outputs": []
    },
    {
      "cell_type": "code",
      "metadata": {
        "id": "f41p_59MSTFx",
        "outputId": "7209d1a1-9b23-40ea-f269-b4171590da79"
      },
      "source": [
        "tmopq[:1]"
      ],
      "execution_count": null,
      "outputs": [
        {
          "data": {
            "text/html": [
              "<div>\n",
              "<style scoped>\n",
              "    .dataframe tbody tr th:only-of-type {\n",
              "        vertical-align: middle;\n",
              "    }\n",
              "\n",
              "    .dataframe tbody tr th {\n",
              "        vertical-align: top;\n",
              "    }\n",
              "\n",
              "    .dataframe thead th {\n",
              "        text-align: right;\n",
              "    }\n",
              "</style>\n",
              "<table border=\"1\" class=\"dataframe\">\n",
              "  <thead>\n",
              "    <tr style=\"text-align: right;\">\n",
              "      <th></th>\n",
              "      <th>l</th>\n",
              "      <th>k</th>\n",
              "      <th>solution</th>\n",
              "      <th>gcd</th>\n",
              "      <th>n</th>\n",
              "      <th>tree_level</th>\n",
              "      <th>smax</th>\n",
              "      <th>D_msls</th>\n",
              "      <th>rptd</th>\n",
              "      <th>nl</th>\n",
              "      <th>nν</th>\n",
              "      <th>nr</th>\n",
              "      <th>rk</th>\n",
              "      <th>M_msls</th>\n",
              "      <th>sltn</th>\n",
              "      <th>ll</th>\n",
              "      <th>ν</th>\n",
              "      <th>s</th>\n",
              "      <th>massless</th>\n",
              "      <th>extra</th>\n",
              "      <th>sp</th>\n",
              "      <th>nn</th>\n",
              "      <th>nnn</th>\n",
              "      <th>nsmax</th>\n",
              "      <th>lextra</th>\n",
              "      <th>ex</th>\n",
              "      <th>Z_N</th>\n",
              "    </tr>\n",
              "  </thead>\n",
              "  <tbody>\n",
              "    <tr>\n",
              "      <th>0</th>\n",
              "      <td>[3, 1]</td>\n",
              "      <td>[-1, -5, 7]</td>\n",
              "      <td>[2, 2, -4, 7, -8, -8, 9]</td>\n",
              "      <td>1</td>\n",
              "      <td>7</td>\n",
              "      <td>[{'[l,ν,s,m_in,m_out]': [2, -8, 6, -4, 0], 'massless': [7, 9], 'sp': 16, 'sp_massless': []}]</td>\n",
              "      <td>9.0</td>\n",
              "      <td>2</td>\n",
              "      <td>2</td>\n",
              "      <td>2</td>\n",
              "      <td>2</td>\n",
              "      <td>2</td>\n",
              "      <td>1</td>\n",
              "      <td>10</td>\n",
              "      <td>[2, 2, -4, 7, -8, -8, 9]</td>\n",
              "      <td>2</td>\n",
              "      <td>-8</td>\n",
              "      <td>6</td>\n",
              "      <td>[7, 9]</td>\n",
              "      <td>[-4, -4, 4, 4]</td>\n",
              "      <td>16.0</td>\n",
              "      <td>11.0</td>\n",
              "      <td>8</td>\n",
              "      <td>9</td>\n",
              "      <td>4</td>\n",
              "      <td>4</td>\n",
              "      <td>6</td>\n",
              "    </tr>\n",
              "  </tbody>\n",
              "</table>\n",
              "</div>"
            ],
            "text/plain": [
              "        l            k                  solution  gcd  n  \\\n",
              "0  [3, 1]  [-1, -5, 7]  [2, 2, -4, 7, -8, -8, 9]    1  7   \n",
              "\n",
              "                                                                                     tree_level  \\\n",
              "0  [{'[l,ν,s,m_in,m_out]': [2, -8, 6, -4, 0], 'massless': [7, 9], 'sp': 16, 'sp_massless': []}]   \n",
              "\n",
              "   smax  D_msls  rptd  nl  nν  nr  rk  M_msls                      sltn  ll  \\\n",
              "0   9.0       2     2   2   2   2   1      10  [2, 2, -4, 7, -8, -8, 9]   2   \n",
              "\n",
              "   ν  s massless           extra    sp    nn  nnn  nsmax  lextra  ex  Z_N  \n",
              "0 -8  6   [7, 9]  [-4, -4, 4, 4]  16.0  11.0    8      9       4   4    6  "
            ]
          },
          "execution_count": 53,
          "metadata": {},
          "output_type": "execute_result"
        }
      ]
    },
    {
      "cell_type": "code",
      "metadata": {
        "id": "PLcynAWTSTFx"
      },
      "source": [
        "tmopq['DMs']=tmopq.apply(lambda row: unconditional_stability(row,ZN,check_massless=False)  ,axis='columns')"
      ],
      "execution_count": null,
      "outputs": []
    },
    {
      "cell_type": "code",
      "metadata": {
        "id": "JOVnhuc4STFx",
        "outputId": "06485f75-e616-4813-d587-60276a72fcca"
      },
      "source": [
        "tmopq[tmopq['s']==6].sort_values('smax')[:3]"
      ],
      "execution_count": null,
      "outputs": [
        {
          "data": {
            "text/html": [
              "<div>\n",
              "<style scoped>\n",
              "    .dataframe tbody tr th:only-of-type {\n",
              "        vertical-align: middle;\n",
              "    }\n",
              "\n",
              "    .dataframe tbody tr th {\n",
              "        vertical-align: top;\n",
              "    }\n",
              "\n",
              "    .dataframe thead th {\n",
              "        text-align: right;\n",
              "    }\n",
              "</style>\n",
              "<table border=\"1\" class=\"dataframe\">\n",
              "  <thead>\n",
              "    <tr style=\"text-align: right;\">\n",
              "      <th></th>\n",
              "      <th>l</th>\n",
              "      <th>k</th>\n",
              "      <th>solution</th>\n",
              "      <th>gcd</th>\n",
              "      <th>n</th>\n",
              "      <th>tree_level</th>\n",
              "      <th>smax</th>\n",
              "      <th>D_msls</th>\n",
              "      <th>rptd</th>\n",
              "      <th>nl</th>\n",
              "      <th>nν</th>\n",
              "      <th>nr</th>\n",
              "      <th>rk</th>\n",
              "      <th>M_msls</th>\n",
              "      <th>sltn</th>\n",
              "      <th>ll</th>\n",
              "      <th>ν</th>\n",
              "      <th>s</th>\n",
              "      <th>massless</th>\n",
              "      <th>extra</th>\n",
              "      <th>sp</th>\n",
              "      <th>nn</th>\n",
              "      <th>nnn</th>\n",
              "      <th>nsmax</th>\n",
              "      <th>lextra</th>\n",
              "      <th>ex</th>\n",
              "      <th>Z_N</th>\n",
              "      <th>DMs</th>\n",
              "    </tr>\n",
              "  </thead>\n",
              "  <tbody>\n",
              "    <tr>\n",
              "      <th>0</th>\n",
              "      <td>[3, 1]</td>\n",
              "      <td>[-1, -5, 7]</td>\n",
              "      <td>[2, 2, -4, 7, -8, -8, 9]</td>\n",
              "      <td>1</td>\n",
              "      <td>7</td>\n",
              "      <td>[{'[l,ν,s,m_in,m_out]': [2, -8, 6, -4, 0], 'massless': [7, 9], 'sp': 16, 'sp_massless': []}]</td>\n",
              "      <td>9.0</td>\n",
              "      <td>2</td>\n",
              "      <td>2</td>\n",
              "      <td>2</td>\n",
              "      <td>2</td>\n",
              "      <td>2</td>\n",
              "      <td>1</td>\n",
              "      <td>10</td>\n",
              "      <td>[2, 2, -4, 7, -8, -8, 9]</td>\n",
              "      <td>2</td>\n",
              "      <td>-8</td>\n",
              "      <td>6</td>\n",
              "      <td>[7, 9]</td>\n",
              "      <td>[-4, -4, 4, 4]</td>\n",
              "      <td>16.0</td>\n",
              "      <td>11.0</td>\n",
              "      <td>8</td>\n",
              "      <td>9</td>\n",
              "      <td>4</td>\n",
              "      <td>4</td>\n",
              "      <td>6</td>\n",
              "      <td>{}</td>\n",
              "    </tr>\n",
              "    <tr>\n",
              "      <th>13</th>\n",
              "      <td>[1, 2, 1, 2]</td>\n",
              "      <td>[-5, -3, -6, -3]</td>\n",
              "      <td>[1, 1, 2, 2, 4, -5, -7, -7, 9]</td>\n",
              "      <td>1</td>\n",
              "      <td>9</td>\n",
              "      <td>[{'[l,ν,s,m_in,m_out]': [-7, 1, 6, 0, -13], 'massless': [-5, 9], 'sp': 4, 'sp_massless': []}, {'[l,ν,s,m_in,m_out]': [-7, 2, 5, 0, -12], 'massless': [-5, 9], 'sp': 4, 'sp_massless': []}, {'[l,ν,s,m_in,m_out]': [1, -7, 6, -5, 0], 'massless': [9], 'sp': 18, 'sp_massless': []}, {'[l,ν,s,m_in,m_out]': [2, -7, 5, 0, -3], 'massless': [-5, 9], 'sp': 4, 'sp_massless': []}, {'[l,ν,s,m_in,m_out]': [2, 1...</td>\n",
              "      <td>9.0</td>\n",
              "      <td>2</td>\n",
              "      <td>3</td>\n",
              "      <td>2</td>\n",
              "      <td>2</td>\n",
              "      <td>3</td>\n",
              "      <td>1</td>\n",
              "      <td>1</td>\n",
              "      <td>[1, 1, 2, 2, 4, -5, -7, -7, 9]</td>\n",
              "      <td>1</td>\n",
              "      <td>-7</td>\n",
              "      <td>6</td>\n",
              "      <td>[9]</td>\n",
              "      <td>[-5, -5, 5, 5]</td>\n",
              "      <td>18.0</td>\n",
              "      <td>13.0</td>\n",
              "      <td>10</td>\n",
              "      <td>9</td>\n",
              "      <td>4</td>\n",
              "      <td>4</td>\n",
              "      <td>6</td>\n",
              "      <td>{'None': ()}</td>\n",
              "    </tr>\n",
              "    <tr>\n",
              "      <th>8</th>\n",
              "      <td>[1, 3, -3]</td>\n",
              "      <td>[-2, -4, -6, 5]</td>\n",
              "      <td>[1, -7, 9, 9, -15, -15, -15, 16, 17]</td>\n",
              "      <td>2</td>\n",
              "      <td>9</td>\n",
              "      <td>[{'[l,ν,s,m_in,m_out]': [-15, 9, 6, 0, -21], 'massless': [16, 17], 'sp': 33, 'sp_massless': []}, {'[l,ν,s,m_in,m_out]': [9, -15, 6, 0, 3], 'massless': [16, 17], 'sp': 33, 'sp_massless': []}]</td>\n",
              "      <td>17.0</td>\n",
              "      <td>2</td>\n",
              "      <td>2</td>\n",
              "      <td>3</td>\n",
              "      <td>2</td>\n",
              "      <td>3</td>\n",
              "      <td>1</td>\n",
              "      <td>10</td>\n",
              "      <td>[1, -7, 9, 9, -15, -15, -15, 16, 17]</td>\n",
              "      <td>-15</td>\n",
              "      <td>9</td>\n",
              "      <td>6</td>\n",
              "      <td>[16, 17]</td>\n",
              "      <td>[-21, -21, -21, 21, 21, 21]</td>\n",
              "      <td>33.0</td>\n",
              "      <td>15.0</td>\n",
              "      <td>12</td>\n",
              "      <td>21</td>\n",
              "      <td>6</td>\n",
              "      <td>6</td>\n",
              "      <td>6</td>\n",
              "      <td>{'None': (-7, 1)}</td>\n",
              "    </tr>\n",
              "  </tbody>\n",
              "</table>\n",
              "</div>"
            ],
            "text/plain": [
              "               l                 k                              solution  gcd  \\\n",
              "0         [3, 1]       [-1, -5, 7]              [2, 2, -4, 7, -8, -8, 9]    1   \n",
              "13  [1, 2, 1, 2]  [-5, -3, -6, -3]        [1, 1, 2, 2, 4, -5, -7, -7, 9]    1   \n",
              "8     [1, 3, -3]   [-2, -4, -6, 5]  [1, -7, 9, 9, -15, -15, -15, 16, 17]    2   \n",
              "\n",
              "    n  \\\n",
              "0   7   \n",
              "13  9   \n",
              "8   9   \n",
              "\n",
              "                                                                                                                                                                                                                                                                                                                                                                                                         tree_level  \\\n",
              "0                                                                                                                                                                                                                                                                                                                      [{'[l,ν,s,m_in,m_out]': [2, -8, 6, -4, 0], 'massless': [7, 9], 'sp': 16, 'sp_massless': []}]   \n",
              "13  [{'[l,ν,s,m_in,m_out]': [-7, 1, 6, 0, -13], 'massless': [-5, 9], 'sp': 4, 'sp_massless': []}, {'[l,ν,s,m_in,m_out]': [-7, 2, 5, 0, -12], 'massless': [-5, 9], 'sp': 4, 'sp_massless': []}, {'[l,ν,s,m_in,m_out]': [1, -7, 6, -5, 0], 'massless': [9], 'sp': 18, 'sp_massless': []}, {'[l,ν,s,m_in,m_out]': [2, -7, 5, 0, -3], 'massless': [-5, 9], 'sp': 4, 'sp_massless': []}, {'[l,ν,s,m_in,m_out]': [2, 1...   \n",
              "8                                                                                                                                                                                                                    [{'[l,ν,s,m_in,m_out]': [-15, 9, 6, 0, -21], 'massless': [16, 17], 'sp': 33, 'sp_massless': []}, {'[l,ν,s,m_in,m_out]': [9, -15, 6, 0, 3], 'massless': [16, 17], 'sp': 33, 'sp_massless': []}]   \n",
              "\n",
              "    smax  D_msls  rptd  nl  nν  nr  rk  M_msls  \\\n",
              "0    9.0       2     2   2   2   2   1      10   \n",
              "13   9.0       2     3   2   2   3   1       1   \n",
              "8   17.0       2     2   3   2   3   1      10   \n",
              "\n",
              "                                    sltn  ll  ν  s  massless  \\\n",
              "0               [2, 2, -4, 7, -8, -8, 9]   2 -8  6    [7, 9]   \n",
              "13        [1, 1, 2, 2, 4, -5, -7, -7, 9]   1 -7  6       [9]   \n",
              "8   [1, -7, 9, 9, -15, -15, -15, 16, 17] -15  9  6  [16, 17]   \n",
              "\n",
              "                          extra    sp    nn  nnn  nsmax  lextra  ex  Z_N  \\\n",
              "0                [-4, -4, 4, 4]  16.0  11.0    8      9       4   4    6   \n",
              "13               [-5, -5, 5, 5]  18.0  13.0   10      9       4   4    6   \n",
              "8   [-21, -21, -21, 21, 21, 21]  33.0  15.0   12     21       6   6    6   \n",
              "\n",
              "                  DMs  \n",
              "0                  {}  \n",
              "13       {'None': ()}  \n",
              "8   {'None': (-7, 1)}  "
            ]
          },
          "execution_count": 68,
          "metadata": {},
          "output_type": "execute_result"
        }
      ]
    },
    {
      "cell_type": "code",
      "metadata": {
        "id": "S6rK-TAYSTFy",
        "outputId": "3f9b70b3-cc76-4965-ca0b-ac7eb4ebe5f0"
      },
      "source": [
        "tmopq[tmopq['DMs'].apply(lambda d: 'ψ' in d.keys() and 'χ' in d.keys())]"
      ],
      "execution_count": null,
      "outputs": [
        {
          "data": {
            "text/html": [
              "<div>\n",
              "<style scoped>\n",
              "    .dataframe tbody tr th:only-of-type {\n",
              "        vertical-align: middle;\n",
              "    }\n",
              "\n",
              "    .dataframe tbody tr th {\n",
              "        vertical-align: top;\n",
              "    }\n",
              "\n",
              "    .dataframe thead th {\n",
              "        text-align: right;\n",
              "    }\n",
              "</style>\n",
              "<table border=\"1\" class=\"dataframe\">\n",
              "  <thead>\n",
              "    <tr style=\"text-align: right;\">\n",
              "      <th></th>\n",
              "      <th>l</th>\n",
              "      <th>k</th>\n",
              "      <th>solution</th>\n",
              "      <th>gcd</th>\n",
              "      <th>n</th>\n",
              "      <th>tree_level</th>\n",
              "      <th>smax</th>\n",
              "      <th>D_msls</th>\n",
              "      <th>rptd</th>\n",
              "      <th>nl</th>\n",
              "      <th>nν</th>\n",
              "      <th>nr</th>\n",
              "      <th>rk</th>\n",
              "      <th>M_msls</th>\n",
              "      <th>sltn</th>\n",
              "      <th>ll</th>\n",
              "      <th>ν</th>\n",
              "      <th>s</th>\n",
              "      <th>massless</th>\n",
              "      <th>extra</th>\n",
              "      <th>sp</th>\n",
              "      <th>nn</th>\n",
              "      <th>nnn</th>\n",
              "      <th>nsmax</th>\n",
              "      <th>lextra</th>\n",
              "      <th>ex</th>\n",
              "      <th>Z_N</th>\n",
              "      <th>DMs</th>\n",
              "    </tr>\n",
              "  </thead>\n",
              "  <tbody>\n",
              "    <tr>\n",
              "      <th>17</th>\n",
              "      <td>[-1, 2, 3, 2]</td>\n",
              "      <td>[-1, -3, -2, -5]</td>\n",
              "      <td>[1, 1, 2, 5, 8, -9, -11, -11, 14]</td>\n",
              "      <td>1</td>\n",
              "      <td>9</td>\n",
              "      <td>[{'[l,ν,s,m_in,m_out]': [-11, 1, 10, 0, -21], 'massless': [-9, 14], 'sp': 5, 'sp_massless': []}, {'[l,ν,s,m_in,m_out]': [1, -11, 10, -9, 0], 'massless': [14], 'sp': 28, 'sp_massless': []}]</td>\n",
              "      <td>14.0</td>\n",
              "      <td>2</td>\n",
              "      <td>2</td>\n",
              "      <td>2</td>\n",
              "      <td>2</td>\n",
              "      <td>3</td>\n",
              "      <td>1</td>\n",
              "      <td>1</td>\n",
              "      <td>[1, 1, 2, 5, 8, -9, -11, -11, 14]</td>\n",
              "      <td>1</td>\n",
              "      <td>-11</td>\n",
              "      <td>10</td>\n",
              "      <td>[14]</td>\n",
              "      <td>[-9, -9, 9, 9]</td>\n",
              "      <td>28.0</td>\n",
              "      <td>13.0</td>\n",
              "      <td>10</td>\n",
              "      <td>14</td>\n",
              "      <td>4</td>\n",
              "      <td>4</td>\n",
              "      <td>10</td>\n",
              "      <td>{'ψ': (2, 8), 'χ': (5, 5)}</td>\n",
              "    </tr>\n",
              "    <tr>\n",
              "      <th>22</th>\n",
              "      <td>[2, 1, -1, -3]</td>\n",
              "      <td>[-3, 5, -2, 1]</td>\n",
              "      <td>[2, -3, -3, -5, 6, -7, 13, 13, -16]</td>\n",
              "      <td>1</td>\n",
              "      <td>9</td>\n",
              "      <td>[{'[l,ν,s,m_in,m_out]': [-3, 13, -10, 0, 7], 'massless': [2, -7], 'sp': 5, 'sp_massless': []}, {'[l,ν,s,m_in,m_out]': [13, -3, -10, 0, 23], 'massless': [2, -7], 'sp': 5, 'sp_massless': []}]</td>\n",
              "      <td>16.0</td>\n",
              "      <td>2</td>\n",
              "      <td>2</td>\n",
              "      <td>2</td>\n",
              "      <td>2</td>\n",
              "      <td>3</td>\n",
              "      <td>1</td>\n",
              "      <td>10</td>\n",
              "      <td>[2, -3, -3, -5, 6, -7, 13, 13, -16]</td>\n",
              "      <td>-3</td>\n",
              "      <td>13</td>\n",
              "      <td>-10</td>\n",
              "      <td>[2, -7]</td>\n",
              "      <td>[7, 7, 7, -7, -7, -7]</td>\n",
              "      <td>5.0</td>\n",
              "      <td>15.0</td>\n",
              "      <td>12</td>\n",
              "      <td>16</td>\n",
              "      <td>6</td>\n",
              "      <td>6</td>\n",
              "      <td>10</td>\n",
              "      <td>{'ψ': (-16, 6), 'χ': (-5, -5)}</td>\n",
              "    </tr>\n",
              "    <tr>\n",
              "      <th>27</th>\n",
              "      <td>[-1, -3, 0]</td>\n",
              "      <td>[-2, -5, -9, -4]</td>\n",
              "      <td>[4, 5, 7, -9, -9, -18, 23, 23, -26]</td>\n",
              "      <td>9</td>\n",
              "      <td>9</td>\n",
              "      <td>[{'[l,ν,s,m_in,m_out]': [-9, 23, -14, 5, 0], 'massless': [-26], 'sp': 52, 'sp_massless': []}, {'[l,ν,s,m_in,m_out]': [23, -9, -14, 0, 37], 'massless': [5, -26], 'sp': 21, 'sp_massless': []}]</td>\n",
              "      <td>26.0</td>\n",
              "      <td>2</td>\n",
              "      <td>2</td>\n",
              "      <td>2</td>\n",
              "      <td>2</td>\n",
              "      <td>3</td>\n",
              "      <td>1</td>\n",
              "      <td>1</td>\n",
              "      <td>[4, 5, 7, -9, -9, -18, 23, 23, -26]</td>\n",
              "      <td>-9</td>\n",
              "      <td>23</td>\n",
              "      <td>-14</td>\n",
              "      <td>[-26]</td>\n",
              "      <td>[5, 5, -5, -5]</td>\n",
              "      <td>52.0</td>\n",
              "      <td>13.0</td>\n",
              "      <td>10</td>\n",
              "      <td>26</td>\n",
              "      <td>4</td>\n",
              "      <td>4</td>\n",
              "      <td>14</td>\n",
              "      <td>{'ψ': (-18, 4), 'χ': (7, 7)}</td>\n",
              "    </tr>\n",
              "  </tbody>\n",
              "</table>\n",
              "</div>"
            ],
            "text/plain": [
              "                 l                 k                             solution  \\\n",
              "17   [-1, 2, 3, 2]  [-1, -3, -2, -5]    [1, 1, 2, 5, 8, -9, -11, -11, 14]   \n",
              "22  [2, 1, -1, -3]    [-3, 5, -2, 1]  [2, -3, -3, -5, 6, -7, 13, 13, -16]   \n",
              "27     [-1, -3, 0]  [-2, -5, -9, -4]  [4, 5, 7, -9, -9, -18, 23, 23, -26]   \n",
              "\n",
              "    gcd  n  \\\n",
              "17    1  9   \n",
              "22    1  9   \n",
              "27    9  9   \n",
              "\n",
              "                                                                                                                                                                                        tree_level  \\\n",
              "17    [{'[l,ν,s,m_in,m_out]': [-11, 1, 10, 0, -21], 'massless': [-9, 14], 'sp': 5, 'sp_massless': []}, {'[l,ν,s,m_in,m_out]': [1, -11, 10, -9, 0], 'massless': [14], 'sp': 28, 'sp_massless': []}]   \n",
              "22   [{'[l,ν,s,m_in,m_out]': [-3, 13, -10, 0, 7], 'massless': [2, -7], 'sp': 5, 'sp_massless': []}, {'[l,ν,s,m_in,m_out]': [13, -3, -10, 0, 23], 'massless': [2, -7], 'sp': 5, 'sp_massless': []}]   \n",
              "27  [{'[l,ν,s,m_in,m_out]': [-9, 23, -14, 5, 0], 'massless': [-26], 'sp': 52, 'sp_massless': []}, {'[l,ν,s,m_in,m_out]': [23, -9, -14, 0, 37], 'massless': [5, -26], 'sp': 21, 'sp_massless': []}]   \n",
              "\n",
              "    smax  D_msls  rptd  nl  nν  nr  rk  M_msls  \\\n",
              "17  14.0       2     2   2   2   3   1       1   \n",
              "22  16.0       2     2   2   2   3   1      10   \n",
              "27  26.0       2     2   2   2   3   1       1   \n",
              "\n",
              "                                   sltn  ll   ν   s massless  \\\n",
              "17    [1, 1, 2, 5, 8, -9, -11, -11, 14]   1 -11  10     [14]   \n",
              "22  [2, -3, -3, -5, 6, -7, 13, 13, -16]  -3  13 -10  [2, -7]   \n",
              "27  [4, 5, 7, -9, -9, -18, 23, 23, -26]  -9  23 -14    [-26]   \n",
              "\n",
              "                    extra    sp    nn  nnn  nsmax  lextra  ex  Z_N  \\\n",
              "17         [-9, -9, 9, 9]  28.0  13.0   10     14       4   4   10   \n",
              "22  [7, 7, 7, -7, -7, -7]   5.0  15.0   12     16       6   6   10   \n",
              "27         [5, 5, -5, -5]  52.0  13.0   10     26       4   4   14   \n",
              "\n",
              "                               DMs  \n",
              "17      {'ψ': (2, 8), 'χ': (5, 5)}  \n",
              "22  {'ψ': (-16, 6), 'χ': (-5, -5)}  \n",
              "27    {'ψ': (-18, 4), 'χ': (7, 7)}  "
            ]
          },
          "execution_count": 55,
          "metadata": {},
          "output_type": "execute_result"
        }
      ]
    },
    {
      "cell_type": "code",
      "metadata": {
        "id": "818R-gniSTFy"
      },
      "source": [
        "tmopq.loc[17,'uncstab']=1"
      ],
      "execution_count": null,
      "outputs": []
    },
    {
      "cell_type": "code",
      "metadata": {
        "id": "jYUMRdbNSTFy"
      },
      "source": [
        "tmopq=tmopq[tmopq['uncstab']==1].reset_index(drop=True)\n",
        "tmopq"
      ],
      "execution_count": null,
      "outputs": []
    },
    {
      "cell_type": "code",
      "metadata": {
        "id": "QjRpD2YtSTFy"
      },
      "source": [
        "tm=tm.sort_values(['nnn','smax','M_msls','rptd','nl','nν','nr'])"
      ],
      "execution_count": null,
      "outputs": []
    },
    {
      "cell_type": "code",
      "metadata": {
        "id": "5S_Kyc0gSTFz"
      },
      "source": [
        "tmo=tm.copy()"
      ],
      "execution_count": null,
      "outputs": []
    },
    {
      "cell_type": "code",
      "metadata": {
        "id": "ZSVTH97zSTFz"
      },
      "source": [
        "fl=pd.DataFrame()\n",
        "\n",
        "for nnn in tm['nnn'].unique():\n",
        "    fl=fl.append( tm[ tm['nnn']==nnn ].drop_duplicates(subset=['D_msls','rptd','nl','nν','nr','M_msls','rk','ex']).reset_index(drop=True) )\n",
        "fl=fl.reset_index(drop=True)"
      ],
      "execution_count": null,
      "outputs": []
    },
    {
      "cell_type": "code",
      "metadata": {
        "id": "NJZmIBhSSTFz"
      },
      "source": [
        "tm=fl.copy()"
      ],
      "execution_count": null,
      "outputs": []
    },
    {
      "cell_type": "code",
      "metadata": {
        "id": "42aiouQ0STFz"
      },
      "source": [
        "tm.shape"
      ],
      "execution_count": null,
      "outputs": []
    },
    {
      "cell_type": "code",
      "metadata": {
        "id": "DhtqFxKZSTFz"
      },
      "source": [
        "tmo.shape"
      ],
      "execution_count": null,
      "outputs": []
    },
    {
      "cell_type": "code",
      "metadata": {
        "id": "A9GmVmiRSTF0"
      },
      "source": [
        "def clean(row):\n",
        "    if len(row['extra'])==6:\n",
        "        if (row['extra'][-1] in row['massless'] \n",
        "            and (row['solution']+row['extra'][3:]).count(  row['extra'][-1] )>3\n",
        "            and row['solution'].count(row['ll'])<=2\n",
        "           ):\n",
        "            return False"
      ],
      "execution_count": null,
      "outputs": []
    },
    {
      "cell_type": "code",
      "metadata": {
        "id": "v5ICrDMHSTF0"
      },
      "source": [
        "tm=tm[tm.apply(clean,axis='columns').fillna(True)].reset_index(drop=True)"
      ],
      "execution_count": null,
      "outputs": []
    },
    {
      "cell_type": "code",
      "metadata": {
        "id": "fgOV38SFSTF0"
      },
      "source": [
        "tm=tm.append(tmopq).reset_index(drop=True)"
      ],
      "execution_count": null,
      "outputs": []
    },
    {
      "cell_type": "code",
      "metadata": {
        "id": "AtMrWm2fSTF0"
      },
      "source": [
        "tm=tm.sort_values(['nnn','smax','M_msls','rptd','nl','nν','nr'])"
      ],
      "execution_count": null,
      "outputs": []
    },
    {
      "cell_type": "code",
      "metadata": {
        "id": "LL9coVgNSTF0"
      },
      "source": [
        "#assert tm[tm['sltn']=='[1, 1, -3, -4, 6, 6, -7]'].iloc[-1]['massless']==[-7]"
      ],
      "execution_count": null,
      "outputs": []
    },
    {
      "cell_type": "code",
      "metadata": {
        "id": "y3tXofHWSTF1"
      },
      "source": [
        "#kk=tm[['nn','l','k','solution','gcd','extra','ll','ν','s','massless','sp','uncstab']].copy()"
      ],
      "execution_count": null,
      "outputs": []
    },
    {
      "cell_type": "code",
      "metadata": {
        "id": "iIx3-MJkSTF1"
      },
      "source": [
        "import re\n",
        "def add_boldsymbol(ss):\n",
        "    if str(ss).find(r'\\boldsymbol')==-1:\n",
        "        return re.sub('(\\-*[0-9]+)',r'\\\\boldsymbol{\\1}',str(ss))\n",
        "    else:\n",
        "        return ss"
      ],
      "execution_count": null,
      "outputs": []
    },
    {
      "cell_type": "code",
      "metadata": {
        "id": "gD8kBuVxSTF1"
      },
      "source": [
        "kk=tm[['nnn','l','k','solution','gcd','extra','ll','ν','s','massless','sp','uncstab']].copy()\n",
        "\n",
        "for i in kk.index:\n",
        "    #for s in ['DD','DM','XD','XM']:\n",
        "    if not kk.loc[i,'massless']:\n",
        "        print(i)\n",
        "        kk.loc[i,'nnn']=add_boldsymbol(kk.loc[i,'nnn'])\n",
        "        #kk.loc[i,s]  =add_boldsymbol(kk.loc[i,s])\n",
        "        \n",
        "for i in kk.index:\n",
        "    #for s in ['DD','DM','XD','XM']:\n",
        "    if kk.loc[i,'uncstab']==1:\n",
        "        #print(i)\n",
        "        kk.loc[i,'s']=add_boldsymbol(kk.loc[i,'s'])        \n",
        "\n",
        "kkk=kk.drop('uncstab',axis='columns')#[['n','l','k','solution','gcd']]#Ref','DD','DM','XD','XM']]\n",
        "def f(x):\n",
        "    return  r'{}'.format(str(x).replace('[','(').replace(']',')'))\n",
        "\n",
        "kkk.to_latex('solutions.tex',index=False,formatters=dict( [(k,f) for k in kk.columns ]) ,escape=False  )"
      ],
      "execution_count": null,
      "outputs": []
    },
    {
      "cell_type": "code",
      "metadata": {
        "id": "7-WoVbl4STF1"
      },
      "source": [
        "cat solutions.tex"
      ],
      "execution_count": null,
      "outputs": []
    },
    {
      "cell_type": "code",
      "metadata": {
        "id": "nsc9FuM1STF2"
      },
      "source": [
        "kkk[kkk['solution'].astype(str)=='[1, 1, 2, 2, 4, -5, -7, -7, 9]']"
      ],
      "execution_count": null,
      "outputs": []
    },
    {
      "cell_type": "code",
      "metadata": {
        "id": "tuauXNLWSTF2"
      },
      "source": [
        "kkk[kkk['solution'].astype(str)=='[1, -2, -2, 4, 5, -7, -7, 8]']"
      ],
      "execution_count": null,
      "outputs": []
    },
    {
      "cell_type": "code",
      "metadata": {
        "id": "p5lXWNBkSTF2"
      },
      "source": [
        "kkk[kkk['solution'].astype(str)=='[4, 4, 4, -5, -9, -10, -10, 11, 11]']"
      ],
      "execution_count": null,
      "outputs": []
    },
    {
      "cell_type": "code",
      "metadata": {
        "id": "6fKK-hN6STF2"
      },
      "source": [
        "kkk"
      ],
      "execution_count": null,
      "outputs": []
    },
    {
      "cell_type": "code",
      "metadata": {
        "id": "6zfiJJs_STF2"
      },
      "source": [
        "assert kkk.shape==(37,11)"
      ],
      "execution_count": null,
      "outputs": []
    },
    {
      "cell_type": "code",
      "metadata": {
        "id": "8lNw2TuBSTF2"
      },
      "source": [
        "kkk[kkk['solution'].astype(str)=='[1, -2, -2, 4, 5, -7, -7, 8]']"
      ],
      "execution_count": null,
      "outputs": []
    },
    {
      "cell_type": "code",
      "metadata": {
        "id": "Ko-RwMyHSTF3"
      },
      "source": [
        "pd.set_option('display.max_rows', 500)"
      ],
      "execution_count": null,
      "outputs": []
    },
    {
      "cell_type": "code",
      "metadata": {
        "id": "RAm4dcpfSTF3"
      },
      "source": [
        "tm[['nn','l','k','extra','solution','gcd','ll','ν','s','massless','sp','D_msls','rptd','nl','nν','nr','M_msls']].drop_duplicates(subset=['nn','D_msls','rptd','nl','nν','nr','M_msls'])"
      ],
      "execution_count": null,
      "outputs": []
    },
    {
      "cell_type": "markdown",
      "metadata": {
        "id": "G8SwBIocSTF3"
      },
      "source": [
        "Matrix rank"
      ]
    },
    {
      "cell_type": "code",
      "metadata": {
        "id": "F19gxAGUSTF3"
      },
      "source": [
        "import scipy as sp\n",
        "import numpy as np\n",
        "#For arbitrary precision see:\n",
        "#https://stackoverflow.com/questions/6876377/numpy-arbitrary-precision-linear-algebra"
      ],
      "execution_count": null,
      "outputs": []
    },
    {
      "cell_type": "code",
      "metadata": {
        "id": "QtO7alJqSTF3"
      },
      "source": [
        "n=3\n",
        "Z=np.zeros((n,n))\n",
        "MD=np.random.uniform(100,200,(n,n))\n",
        "MS=np.random.uniform(100,200,(n,n))\n",
        "MF=np.zeros((n,n))\n",
        "if n>=1:\n",
        "    MF[0,0]=1E5\n",
        "if n>=2:\n",
        "    MF[1,1]=1E6\n",
        "if n>=3:\n",
        "    MF[2,2]=1E7"
      ],
      "execution_count": null,
      "outputs": []
    },
    {
      "cell_type": "code",
      "metadata": {
        "id": "38zCcV7kSTF4"
      },
      "source": [
        "#M=np.vstack( (np.hstack((Z,MD)),np.hstack((MS,MF))) )\n",
        "M=np.vstack( (np.hstack((Z,MD)),np.hstack((MD.transpose(),MF))) )\n",
        "#M=np.longdouble(M)\n",
        "M.round(1)"
      ],
      "execution_count": null,
      "outputs": []
    },
    {
      "cell_type": "code",
      "metadata": {
        "id": "QJQP5zcySTF4"
      },
      "source": [
        ""
      ],
      "execution_count": null,
      "outputs": []
    },
    {
      "cell_type": "code",
      "metadata": {
        "id": "MWtyNfEDSTF4"
      },
      "source": [
        "#sp.linalg.eig(M)\n",
        "np.linalg.eig(M)"
      ],
      "execution_count": null,
      "outputs": []
    },
    {
      "cell_type": "code",
      "metadata": {
        "id": "FaB8WJBySTF4"
      },
      "source": [
        "(1/137)/(2*np.pi)"
      ],
      "execution_count": null,
      "outputs": []
    },
    {
      "cell_type": "code",
      "metadata": {
        "id": "v_OqYEpHSTF4"
      },
      "source": [
        ""
      ],
      "execution_count": null,
      "outputs": []
    }
  ]
}