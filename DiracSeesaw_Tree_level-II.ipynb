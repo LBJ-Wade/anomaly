{
 "cells": [
  {
   "cell_type": "markdown",
   "metadata": {},
   "source": [
    "# Chiral solutions for Type-II Dirac seesaw"
   ]
  },
  {
   "cell_type": "code",
   "execution_count": 1,
   "metadata": {},
   "outputs": [],
   "source": [
    "import pandas as pd\n",
    "import numpy as np\n",
    "import itertools\n",
    "import sys\n",
    "pd.set_option('display.max_colwidth',400)"
   ]
  },
  {
   "cell_type": "markdown",
   "metadata": {},
   "source": [
    "General functions"
   ]
  },
  {
   "cell_type": "code",
   "execution_count": 2,
   "metadata": {},
   "outputs": [],
   "source": [
    "from filter_functions import *"
   ]
  },
  {
   "cell_type": "markdown",
   "metadata": {},
   "source": [
    "## Methodology\n",
    "1. __Apply__ the conditions and store the list of dictionaries with the solutions in column 'tree_level'. For each dictionary add:\n",
    "   * List of massless quiral fermions\n",
    "   * Best extra escalar, `sp` and list of massless fermions after use `sp` → `sp_massless`\n",
    "2. __Filter__ the solutions with empty `sp_massless` list\n",
    "3. __Prepre__ equivalent solutions. Creates new columns with the counting of each used particle\n",
    "5. __Prepare__ output"
   ]
  },
  {
   "cell_type": "markdown",
   "metadata": {},
   "source": [
    "## Load full solutions"
   ]
  },
  {
   "cell_type": "code",
   "execution_count": 3,
   "metadata": {},
   "outputs": [
    {
     "data": {
      "text/plain": [
       "(148097, 5)"
      ]
     },
     "execution_count": 3,
     "metadata": {},
     "output_type": "execute_result"
    }
   ],
   "source": [
    "ds=pd.read_json('https://github.com/restrepo/anomaly/raw/main/solutions.json')\n",
    "ds.shape"
   ]
  },
  {
   "cell_type": "markdown",
   "metadata": {},
   "source": [
    "Check that solutions are unique"
   ]
  },
  {
   "cell_type": "code",
   "execution_count": 4,
   "metadata": {},
   "outputs": [
    {
     "data": {
      "text/plain": [
       "(148097, 6)"
      ]
     },
     "execution_count": 4,
     "metadata": {},
     "output_type": "execute_result"
    }
   ],
   "source": [
    "ds['strz']=ds['solution'].astype(str)\n",
    "ds.drop_duplicates('strz').shape"
   ]
  },
  {
   "cell_type": "code",
   "execution_count": 5,
   "metadata": {},
   "outputs": [],
   "source": [
    "ds=ds.drop('strz',axis='columns')"
   ]
  },
  {
   "cell_type": "markdown",
   "metadata": {},
   "source": [
    "Number of solutions with repeated charges"
   ]
  },
  {
   "cell_type": "code",
   "execution_count": 6,
   "metadata": {},
   "outputs": [
    {
     "data": {
      "text/plain": [
       "95358"
      ]
     },
     "execution_count": 6,
     "metadata": {},
     "output_type": "execute_result"
    }
   ],
   "source": [
    "ds[ds['solution'].apply(lambda l: len(l)-len(set(l)))>0].shape[0]"
   ]
  },
  {
   "cell_type": "markdown",
   "metadata": {},
   "source": [
    "## 1. Check phenomenological conditions and 2. Filter `sp_massless`\n",
    "$$ \\nu+m+s=0$$"
   ]
  },
  {
   "cell_type": "code",
   "execution_count": 13,
   "metadata": {},
   "outputs": [],
   "source": [
    "#See anomalysolutions.ipynb for details\n",
    "#from anomalytools import *"
   ]
  },
  {
   "cell_type": "markdown",
   "metadata": {},
   "source": [
    "### Prepare functions to filter solutions with at least two sets of repeated charges"
   ]
  },
  {
   "cell_type": "code",
   "execution_count": 8,
   "metadata": {},
   "outputs": [],
   "source": [
    "def multiple_repeated(ll):\n",
    "    MR=False\n",
    "    rp=[]\n",
    "    triplet=False\n",
    "    for x in ll:\n",
    "        if ll.count(x)>1:\n",
    "            if ll.count(x)>2:\n",
    "                triplet=True\n",
    "            rp.append(x)\n",
    "    rp=sorted(np.unique(rp))\n",
    "    if len(rp)>=2 and triplet:\n",
    "        MR=True\n",
    "    return MR\n",
    "\n",
    "assert extract_Dirac_and_Majorana([2,6,4,3],8)==[3]\n",
    "\n",
    "def tree_level_ii(ll):\n",
    "    '''\n",
    "    At least a triplet and a doublet is guaranteed\n",
    "    (m,m,m,...,ν,ν,...)\n",
    "    '''\n",
    "    fs=[]\n",
    "    mrp=[]\n",
    "    νrp=[]\n",
    "    for x in ll:\n",
    "        if ll.count(x)==1:\n",
    "            fs.append(x)\n",
    "        elif ll.count(x)==3:\n",
    "            mrp.append(x)\n",
    "        elif ll.count(x)>3:\n",
    "            mrp.append(x)\n",
    "            fs.append(x)\n",
    "        elif ll.count(x)==2:\n",
    "            νrp.append(x)\n",
    "    mrp=sorted(np.unique(mrp))\n",
    "    νrp=sorted(np.unique(νrp))\n",
    "    fs=sorted(np.unique(fs))\n",
    "    #print(len(mrp),len(νrp),ll)\n",
    "    sltn=[]\n",
    "    for m in mrp:\n",
    "        for ν in νrp:\n",
    "            #if (mrp[0]+ν in [sum(k)  for k  in itertools.combinations(fs,2)]+list(2*np.array(fs))):\n",
    "            s=-m-ν# ,fs,[sum(k)  for k  in itertools.combinations(fs,2)],list(2*np.array(fs)))\n",
    "            nom=mrp.copy()\n",
    "            kk=nom.remove(m)\n",
    "            noν=νrp.copy()\n",
    "            kk=noν.remove(ν)\n",
    "            massless=fs+nom+noν\n",
    "            massless=extract_Dirac_and_Majorana(massless,s)\n",
    "            slt={'[m,ν,s]':[m,ν,s],'massless':massless}\n",
    "            if len(massless)>0:\n",
    "                slt['sp'],slt['sp_massless']=best_higgs_singlet(massless)\n",
    "            else:\n",
    "                slt['sp'],slt['sp_massless']=(None,None)            \n",
    "            sltn.append(slt)\n",
    "    return sltn\n",
    "\n",
    "#assert best_higgs_singlet([1,-11,9])==(2, [])\n",
    "#assert tree_level([1, -4, -4, 9, 9,7,7,7,-11])[0]['[l,ν,s,m_in,m_out]']==[-4, 7, -3, 0, -1]\n",
    "#assert tree_level([ -4, -4,-4, 9, 9,9])[0]['sp']==None"
   ]
  },
  {
   "cell_type": "markdown",
   "metadata": {},
   "source": [
    "### Initialize filtered solutions"
   ]
  },
  {
   "cell_type": "code",
   "execution_count": 9,
   "metadata": {},
   "outputs": [],
   "source": [
    "cl=ds.copy()\n",
    "cl=cl[cl['solution'].apply(multiple_repeated)].sort_values('n').reset_index(drop=True)"
   ]
  },
  {
   "cell_type": "markdown",
   "metadata": {},
   "source": [
    "Find solutions that satisfy the condition"
   ]
  },
  {
   "cell_type": "code",
   "execution_count": 10,
   "metadata": {},
   "outputs": [],
   "source": [
    "cl['tree_level']=cl['solution'].apply(tree_level_ii)"
   ]
  },
  {
   "cell_type": "markdown",
   "metadata": {},
   "source": [
    "Reorder the filtered solutions"
   ]
  },
  {
   "cell_type": "code",
   "execution_count": 11,
   "metadata": {},
   "outputs": [
    {
     "data": {
      "text/html": [
       "<div>\n",
       "<style scoped>\n",
       "    .dataframe tbody tr th:only-of-type {\n",
       "        vertical-align: middle;\n",
       "    }\n",
       "\n",
       "    .dataframe tbody tr th {\n",
       "        vertical-align: top;\n",
       "    }\n",
       "\n",
       "    .dataframe thead th {\n",
       "        text-align: right;\n",
       "    }\n",
       "</style>\n",
       "<table border=\"1\" class=\"dataframe\">\n",
       "  <thead>\n",
       "    <tr style=\"text-align: right;\">\n",
       "      <th></th>\n",
       "      <th>l</th>\n",
       "      <th>k</th>\n",
       "      <th>solution</th>\n",
       "      <th>gcd</th>\n",
       "      <th>n</th>\n",
       "      <th>tree_level</th>\n",
       "      <th>smax</th>\n",
       "    </tr>\n",
       "  </thead>\n",
       "  <tbody>\n",
       "    <tr>\n",
       "      <th>0</th>\n",
       "      <td>[-1, -2]</td>\n",
       "      <td>[-1, 2]</td>\n",
       "      <td>[1, 1, 1, -4, -4, 5]</td>\n",
       "      <td>1</td>\n",
       "      <td>6</td>\n",
       "      <td>[{'[m,ν,s]': [1, -4, 3], 'massless': [5], 'sp': 10, 'sp_massless': []}]</td>\n",
       "      <td>5</td>\n",
       "    </tr>\n",
       "  </tbody>\n",
       "</table>\n",
       "</div>"
      ],
      "text/plain": [
       "          l        k              solution  gcd  n  \\\n",
       "0  [-1, -2]  [-1, 2]  [1, 1, 1, -4, -4, 5]    1  6   \n",
       "\n",
       "                                                                tree_level  \\\n",
       "0  [{'[m,ν,s]': [1, -4, 3], 'massless': [5], 'sp': 10, 'sp_massless': []}]   \n",
       "\n",
       "   smax  \n",
       "0     5  "
      ]
     },
     "execution_count": 11,
     "metadata": {},
     "output_type": "execute_result"
    }
   ],
   "source": [
    "cl['smax']=cl['solution'].apply(lambda l:np.abs(l).max())\n",
    "cl=cl[cl['tree_level'].apply(lambda l: [d for d in l if len(d.get('massless'))==0 or len(d.get('sp_massless'))==0 ] if isinstance(l,list) else None \n",
    "               ).apply(len)>0].sort_values(['n','smax']).reset_index(drop=True)\n",
    "\n",
    "cl['tree_level']=cl['tree_level'].apply(lambda l: [d for d in l if len(d.get('massless'))==0 or \n",
    "                                                   len(d.get('sp_massless'))==0 ] if isinstance(l,list) else None \n",
    "             )\n",
    "cl=cl[cl.smax<=30].reset_index(drop=True)\n",
    "cl[:1]"
   ]
  },
  {
   "cell_type": "markdown",
   "metadata": {},
   "source": [
    "## 3. Flag equivalent solutions"
   ]
  },
  {
   "cell_type": "code",
   "execution_count": 14,
   "metadata": {},
   "outputs": [],
   "source": [
    "def characterize_solution(cl,i,j=0):\n",
    "    if j%2==0:\n",
    "        cl.loc[i,'D_msls']=j\n",
    "    else:\n",
    "        cl.loc[i,'M_msls']=j\n",
    "    #if j==0:\n",
    "    #    cl.loc[i,'M_msls']=j\n",
    "        \n",
    "    cl.loc[i,'rptd']=len( [ cl.loc[i,'solution'].count(x) for x in np.unique(cl.loc[i,'solution']) if cl.loc[i,'solution'].count(x)>1] )\n",
    "    sl=[d.get('[m,ν,s]') for d in cl.loc[i,'tree_level'] if len(d.get('massless'))==j]\n",
    "    if len(sl)>0:\n",
    "        cl.loc[i,'nl']=0\n",
    "        cl.loc[i,'nν'] =cl.loc[i,'solution'].count(sl[0][1] )\n",
    "        cl.loc[i,'nr']=0\n",
    "    return cl"
   ]
  },
  {
   "cell_type": "markdown",
   "metadata": {},
   "source": [
    "Example: massless solutions"
   ]
  },
  {
   "cell_type": "code",
   "execution_count": 15,
   "metadata": {},
   "outputs": [],
   "source": [
    "for i in cl[cl['tree_level'].apply(lambda l: [d for d in l if len(d.get('massless'))==0 ] if isinstance(l,list) else None \n",
    "             ).apply(len)>0].index:\n",
    "    cl=characterize_solution(cl,i,0)"
   ]
  },
  {
   "cell_type": "markdown",
   "metadata": {},
   "source": [
    "### Add solutions with massless fermions that get masses with some $S'$"
   ]
  },
  {
   "cell_type": "code",
   "execution_count": 17,
   "metadata": {},
   "outputs": [
    {
     "name": "stdout",
     "output_type": "stream",
     "text": [
      "1\n",
      "2\n",
      "3\n",
      "4\n",
      "5\n"
     ]
    }
   ],
   "source": [
    "for j in range(1,6):\n",
    "    print(j)\n",
    "    for i in cl[cl['tree_level'].apply(lambda l: [d for d in l if d.get('sp_massless') is not None and len(d.get('sp_massless'))==0  and len(d.get('massless'))==j ] if isinstance(l,list) else None \n",
    "             ).apply(len)>0].index:\n",
    "        cl=characterize_solution(cl,i,j)"
   ]
  },
  {
   "cell_type": "code",
   "execution_count": 18,
   "metadata": {},
   "outputs": [],
   "source": [
    "cl['D_msls']=cl['D_msls'].apply(lambda n: 10 if np.isnan(n) else n)\n",
    "cl['M_msls']=cl['M_msls'].apply(lambda n: 10 if np.isnan(n) else n)\n",
    "for k  in ['D_msls','M_msls','nl','nν','nr','rptd']:\n",
    "    cl[k]=cl[k].astype(int)"
   ]
  },
  {
   "cell_type": "code",
   "execution_count": 19,
   "metadata": {},
   "outputs": [],
   "source": [
    "cl=cl.sort_values(['n','smax','D_msls','rptd','nl','nν','nr']).reset_index(drop=True)"
   ]
  },
  {
   "cell_type": "markdown",
   "metadata": {},
   "source": [
    "## Build the final table dropping out equivalent solutions "
   ]
  },
  {
   "cell_type": "code",
   "execution_count": 20,
   "metadata": {},
   "outputs": [],
   "source": [
    "fl=pd.DataFrame()"
   ]
  },
  {
   "cell_type": "code",
   "execution_count": 21,
   "metadata": {},
   "outputs": [],
   "source": [
    "fl=fl.append( cl[ cl['n']==9 ].drop_duplicates(subset=['D_msls','rptd','nl','nν','nr','M_msls']).reset_index(drop=True) )"
   ]
  },
  {
   "cell_type": "code",
   "execution_count": 22,
   "metadata": {},
   "outputs": [],
   "source": [
    "fl=fl.append( cl[ cl['n']==6 ].drop_duplicates(subset=['D_msls','rptd','nl','nν','nr','M_msls']).reset_index(drop=True) )"
   ]
  },
  {
   "cell_type": "code",
   "execution_count": 23,
   "metadata": {},
   "outputs": [],
   "source": [
    "fl=fl.append(cl[ cl['n']==7 ].drop_duplicates(subset=['D_msls','rptd','nl','nν','nr','M_msls']).reset_index(drop=True) )"
   ]
  },
  {
   "cell_type": "code",
   "execution_count": 24,
   "metadata": {},
   "outputs": [],
   "source": [
    "fl=fl.append(cl[ cl['n']==8 ].drop_duplicates(subset=['D_msls','rptd','nl','nν','nr','M_msls']).reset_index(drop=True) )"
   ]
  },
  {
   "cell_type": "code",
   "execution_count": 25,
   "metadata": {},
   "outputs": [],
   "source": [
    "fl=fl.reset_index(drop=True)"
   ]
  },
  {
   "cell_type": "markdown",
   "metadata": {},
   "source": [
    "## 4. Check the rank of the chiral fermion matrix "
   ]
  },
  {
   "cell_type": "code",
   "execution_count": 26,
   "metadata": {},
   "outputs": [
    {
     "data": {
      "text/html": [
       "<div>\n",
       "<style scoped>\n",
       "    .dataframe tbody tr th:only-of-type {\n",
       "        vertical-align: middle;\n",
       "    }\n",
       "\n",
       "    .dataframe tbody tr th {\n",
       "        vertical-align: top;\n",
       "    }\n",
       "\n",
       "    .dataframe thead th {\n",
       "        text-align: right;\n",
       "    }\n",
       "</style>\n",
       "<table border=\"1\" class=\"dataframe\">\n",
       "  <thead>\n",
       "    <tr style=\"text-align: right;\">\n",
       "      <th></th>\n",
       "      <th>n</th>\n",
       "      <th>l</th>\n",
       "      <th>k</th>\n",
       "      <th>solution</th>\n",
       "      <th>gcd</th>\n",
       "      <th>m</th>\n",
       "      <th>ν</th>\n",
       "      <th>s</th>\n",
       "      <th>massless</th>\n",
       "      <th>sp</th>\n",
       "      <th>M_msls</th>\n",
       "      <th>rptd</th>\n",
       "      <th>nl</th>\n",
       "      <th>nν</th>\n",
       "      <th>nr</th>\n",
       "      <th>D_msls</th>\n",
       "    </tr>\n",
       "  </thead>\n",
       "  <tbody>\n",
       "    <tr>\n",
       "      <th>0</th>\n",
       "      <td>6</td>\n",
       "      <td>[-1, -2]</td>\n",
       "      <td>[-1, 2]</td>\n",
       "      <td>[1, 1, 1, -4, -4, 5]</td>\n",
       "      <td>1</td>\n",
       "      <td>1</td>\n",
       "      <td>-4</td>\n",
       "      <td>3</td>\n",
       "      <td>[5]</td>\n",
       "      <td>10</td>\n",
       "      <td>1</td>\n",
       "      <td>2</td>\n",
       "      <td>0</td>\n",
       "      <td>2</td>\n",
       "      <td>0</td>\n",
       "      <td>10</td>\n",
       "    </tr>\n",
       "    <tr>\n",
       "      <th>1</th>\n",
       "      <td>7</td>\n",
       "      <td>[-1, 1]</td>\n",
       "      <td>[-1, 0, -1]</td>\n",
       "      <td>[1, 2, 2, -3, -3, -3, 4]</td>\n",
       "      <td>1</td>\n",
       "      <td>-3</td>\n",
       "      <td>2</td>\n",
       "      <td>1</td>\n",
       "      <td>[1, 4]</td>\n",
       "      <td>5</td>\n",
       "      <td>10</td>\n",
       "      <td>2</td>\n",
       "      <td>0</td>\n",
       "      <td>2</td>\n",
       "      <td>0</td>\n",
       "      <td>2</td>\n",
       "    </tr>\n",
       "    <tr>\n",
       "      <th>2</th>\n",
       "      <td>8</td>\n",
       "      <td>[1, -3, -2]</td>\n",
       "      <td>[-4, -9, -5, -3]</td>\n",
       "      <td>[1, 3, 3, 3, -5, -7, -7, 9]</td>\n",
       "      <td>1</td>\n",
       "      <td>3</td>\n",
       "      <td>-7</td>\n",
       "      <td>4</td>\n",
       "      <td>[9]</td>\n",
       "      <td>18</td>\n",
       "      <td>1</td>\n",
       "      <td>2</td>\n",
       "      <td>0</td>\n",
       "      <td>2</td>\n",
       "      <td>0</td>\n",
       "      <td>10</td>\n",
       "    </tr>\n",
       "    <tr>\n",
       "      <th>4</th>\n",
       "      <td>8</td>\n",
       "      <td>[-8, -1, -4]</td>\n",
       "      <td>[-2, -6, 4, -5]</td>\n",
       "      <td>[7, -8, -18, -18, 20, 20, 20, -23]</td>\n",
       "      <td>2</td>\n",
       "      <td>20</td>\n",
       "      <td>-18</td>\n",
       "      <td>-2</td>\n",
       "      <td>[-23, -8, 7]</td>\n",
       "      <td>16</td>\n",
       "      <td>3</td>\n",
       "      <td>2</td>\n",
       "      <td>0</td>\n",
       "      <td>2</td>\n",
       "      <td>0</td>\n",
       "      <td>10</td>\n",
       "    </tr>\n",
       "    <tr>\n",
       "      <th>3</th>\n",
       "      <td>8</td>\n",
       "      <td>[-9, 2, 3]</td>\n",
       "      <td>[-1, -9, 6, 8]</td>\n",
       "      <td>[9, -11, -11, 15, 15, 15, -16, -16]</td>\n",
       "      <td>12</td>\n",
       "      <td>15</td>\n",
       "      <td>-16</td>\n",
       "      <td>1</td>\n",
       "      <td>[9, -11]</td>\n",
       "      <td>2</td>\n",
       "      <td>10</td>\n",
       "      <td>3</td>\n",
       "      <td>0</td>\n",
       "      <td>2</td>\n",
       "      <td>0</td>\n",
       "      <td>2</td>\n",
       "    </tr>\n",
       "    <tr>\n",
       "      <th>5</th>\n",
       "      <td>9</td>\n",
       "      <td>[3, 0, -1, 1]</td>\n",
       "      <td>[-6, -5, 5, -1]</td>\n",
       "      <td>[2, 2, 2, -3, -3, 4, -5, -5, 6]</td>\n",
       "      <td>1</td>\n",
       "      <td>2</td>\n",
       "      <td>-5</td>\n",
       "      <td>3</td>\n",
       "      <td>[4]</td>\n",
       "      <td>8</td>\n",
       "      <td>1</td>\n",
       "      <td>3</td>\n",
       "      <td>0</td>\n",
       "      <td>2</td>\n",
       "      <td>0</td>\n",
       "      <td>10</td>\n",
       "    </tr>\n",
       "    <tr>\n",
       "      <th>10</th>\n",
       "      <td>9</td>\n",
       "      <td>[-5, -2, 3]</td>\n",
       "      <td>[-1, -2, 3, -4]</td>\n",
       "      <td>[3, 5, 5, -8, -8, -8, 12, 12, -13]</td>\n",
       "      <td>3</td>\n",
       "      <td>-8</td>\n",
       "      <td>12</td>\n",
       "      <td>-4</td>\n",
       "      <td>[-13, 3, 5]</td>\n",
       "      <td>10</td>\n",
       "      <td>3</td>\n",
       "      <td>3</td>\n",
       "      <td>0</td>\n",
       "      <td>2</td>\n",
       "      <td>0</td>\n",
       "      <td>10</td>\n",
       "    </tr>\n",
       "    <tr>\n",
       "      <th>6</th>\n",
       "      <td>9</td>\n",
       "      <td>[1, -1, -2, -1]</td>\n",
       "      <td>[-6, -5, -3, -5]</td>\n",
       "      <td>[1, 1, 2, 2, 2, -3, -6, -8, 9]</td>\n",
       "      <td>1</td>\n",
       "      <td>2</td>\n",
       "      <td>1</td>\n",
       "      <td>-3</td>\n",
       "      <td>[-8, -3]</td>\n",
       "      <td>11</td>\n",
       "      <td>10</td>\n",
       "      <td>2</td>\n",
       "      <td>0</td>\n",
       "      <td>2</td>\n",
       "      <td>0</td>\n",
       "      <td>2</td>\n",
       "    </tr>\n",
       "    <tr>\n",
       "      <th>8</th>\n",
       "      <td>9</td>\n",
       "      <td>[-2, -3, 0, 1]</td>\n",
       "      <td>[-2, -4, -3, 0]</td>\n",
       "      <td>[1, 4, 5, -6, -6, -6, 9, 9, -10]</td>\n",
       "      <td>1</td>\n",
       "      <td>-6</td>\n",
       "      <td>9</td>\n",
       "      <td>-3</td>\n",
       "      <td>[-10, 1, 4, 5]</td>\n",
       "      <td>5</td>\n",
       "      <td>10</td>\n",
       "      <td>2</td>\n",
       "      <td>0</td>\n",
       "      <td>2</td>\n",
       "      <td>0</td>\n",
       "      <td>4</td>\n",
       "    </tr>\n",
       "    <tr>\n",
       "      <th>9</th>\n",
       "      <td>9</td>\n",
       "      <td>[1, 2, 1, -1]</td>\n",
       "      <td>[-6, -3, -5, -3]</td>\n",
       "      <td>[1, 2, -6, -6, -6, 8, 9, 9, -11]</td>\n",
       "      <td>1</td>\n",
       "      <td>-6</td>\n",
       "      <td>9</td>\n",
       "      <td>-3</td>\n",
       "      <td>[]</td>\n",
       "      <td>None</td>\n",
       "      <td>10</td>\n",
       "      <td>2</td>\n",
       "      <td>0</td>\n",
       "      <td>2</td>\n",
       "      <td>0</td>\n",
       "      <td>0</td>\n",
       "    </tr>\n",
       "    <tr>\n",
       "      <th>7</th>\n",
       "      <td>9</td>\n",
       "      <td>[-2, 0, 2]</td>\n",
       "      <td>[-1, 1, 0, -1]</td>\n",
       "      <td>[1, 1, -4, -5, 9, 9, 9, -10, -10]</td>\n",
       "      <td>1</td>\n",
       "      <td>9</td>\n",
       "      <td>1</td>\n",
       "      <td>-10</td>\n",
       "      <td>[-4, -10]</td>\n",
       "      <td>14</td>\n",
       "      <td>10</td>\n",
       "      <td>3</td>\n",
       "      <td>0</td>\n",
       "      <td>2</td>\n",
       "      <td>0</td>\n",
       "      <td>2</td>\n",
       "    </tr>\n",
       "  </tbody>\n",
       "</table>\n",
       "</div>"
      ],
      "text/plain": [
       "    n                l                 k                             solution  \\\n",
       "0   6         [-1, -2]           [-1, 2]                 [1, 1, 1, -4, -4, 5]   \n",
       "1   7          [-1, 1]       [-1, 0, -1]             [1, 2, 2, -3, -3, -3, 4]   \n",
       "2   8      [1, -3, -2]  [-4, -9, -5, -3]          [1, 3, 3, 3, -5, -7, -7, 9]   \n",
       "4   8     [-8, -1, -4]   [-2, -6, 4, -5]   [7, -8, -18, -18, 20, 20, 20, -23]   \n",
       "3   8       [-9, 2, 3]    [-1, -9, 6, 8]  [9, -11, -11, 15, 15, 15, -16, -16]   \n",
       "5   9    [3, 0, -1, 1]   [-6, -5, 5, -1]      [2, 2, 2, -3, -3, 4, -5, -5, 6]   \n",
       "10  9      [-5, -2, 3]   [-1, -2, 3, -4]   [3, 5, 5, -8, -8, -8, 12, 12, -13]   \n",
       "6   9  [1, -1, -2, -1]  [-6, -5, -3, -5]       [1, 1, 2, 2, 2, -3, -6, -8, 9]   \n",
       "8   9   [-2, -3, 0, 1]   [-2, -4, -3, 0]     [1, 4, 5, -6, -6, -6, 9, 9, -10]   \n",
       "9   9    [1, 2, 1, -1]  [-6, -3, -5, -3]     [1, 2, -6, -6, -6, 8, 9, 9, -11]   \n",
       "7   9       [-2, 0, 2]    [-1, 1, 0, -1]    [1, 1, -4, -5, 9, 9, 9, -10, -10]   \n",
       "\n",
       "    gcd   m   ν   s        massless    sp  M_msls  rptd  nl  nν  nr  D_msls  \n",
       "0     1   1  -4   3             [5]    10       1     2   0   2   0      10  \n",
       "1     1  -3   2   1          [1, 4]     5      10     2   0   2   0       2  \n",
       "2     1   3  -7   4             [9]    18       1     2   0   2   0      10  \n",
       "4     2  20 -18  -2    [-23, -8, 7]    16       3     2   0   2   0      10  \n",
       "3    12  15 -16   1        [9, -11]     2      10     3   0   2   0       2  \n",
       "5     1   2  -5   3             [4]     8       1     3   0   2   0      10  \n",
       "10    3  -8  12  -4     [-13, 3, 5]    10       3     3   0   2   0      10  \n",
       "6     1   2   1  -3        [-8, -3]    11      10     2   0   2   0       2  \n",
       "8     1  -6   9  -3  [-10, 1, 4, 5]     5      10     2   0   2   0       4  \n",
       "9     1  -6   9  -3              []  None      10     2   0   2   0       0  \n",
       "7     1   9   1 -10       [-4, -10]    14      10     3   0   2   0       2  "
      ]
     },
     "execution_count": 26,
     "metadata": {},
     "output_type": "execute_result"
    }
   ],
   "source": [
    "def getit(it,dk):\n",
    "    it['m']=dk.get('[m,ν,s]')[0]\n",
    "    it['ν']=dk.get('[m,ν,s]')[1]\n",
    "    it['s']=dk.get('[m,ν,s]')[2]\n",
    "    it['massless']=dk.get('massless')\n",
    "    it['sp']=dk.get('sp')\n",
    "    return it\n",
    "    \n",
    "tm=pd.DataFrame()\n",
    "fl=fl.sort_values(['n','smax','D_msls','M_msls']).reset_index(drop=True)\n",
    "for i in fl.index:\n",
    "    it=fl.loc[i].to_dict()\n",
    "    if fl.loc[i,'D_msls']==10:\n",
    "        k=[d for d in fl.loc[i,'tree_level'] if len(d.get('massless'))==fl.loc[i,'M_msls']]\n",
    "        if len(k)>0:\n",
    "            dk=k[0]\n",
    "            it=getit(it,dk)\n",
    "            tm=tm.append(it,ignore_index=True)\n",
    "    elif fl.loc[i,'M_msls']==10:\n",
    "        k=[d for d in fl.loc[i,'tree_level'] if len(d.get('massless'))==fl.loc[i,'D_msls']]\n",
    "        if len(k)>0:\n",
    "            dk=k[0]\n",
    "            it=getit(it,dk)\n",
    "            tm=tm.append(it,ignore_index=True)\n",
    "    else:\n",
    "        k=[d for d in fl.loc[i,'tree_level'] if len(d.get('massless'))==fl.loc[i,'M_msls']]\n",
    "        if len(k)>0:\n",
    "            dk=k[0]\n",
    "            it=getit(it,dk)\n",
    "            tm=tm.append(it,ignore_index=True)\n",
    "        k=[d for d in fl.loc[i,'tree_level'] if len(d.get('massless'))==fl.loc[i,'D_msls']]\n",
    "        if len(k)>0:\n",
    "            dk=k[0]\n",
    "            it=getit(it,dk)\n",
    "            tm=tm.append(it,ignore_index=True)\n",
    "        \n",
    "\n",
    "for k in ['n','gcd','m','ν','s','D_msls','rptd','nl','nν','nr','M_msls']:\n",
    "    tm[k]=tm[k].astype(int)\n",
    "tm['nsmax']=tm.apply(lambda row: np.abs( row['solution'] ).max(),axis='columns' )\n",
    "tm=tm.sort_values(['n','nsmax']).reset_index(drop=True)\n",
    "\n",
    "#Delete equivalent solutions\n",
    "#tm['Q']=True\n",
    "#sltns={'[3, -4, 8, -9]': [3, -4, -6, -6, 7, 7, 8, -9],}\n",
    "#for k in sltns.keys():\n",
    "#    iq=tm[((tm['solution'].astype(str)==str(sltns[k])) &  (tm['massless'].astype(str)==k)\n",
    "#          )].index[0] #unstable dark matter\n",
    "#    tm.loc[iq,'Q']=False\n",
    "\n",
    "#tm=tm[tm['Q']].reset_index(drop=True).drop('Q',axis='columns')\n",
    "tm[['n','l','k','solution','gcd','m','ν','s','massless','sp','M_msls','rptd','nl','nν','nr','D_msls']\n",
    "  ].sort_values(['n','M_msls','rptd','nl','nν','nr'])#.loc[[0,4]]#.loc[[0,4]]"
   ]
  },
  {
   "cell_type": "code",
   "execution_count": 27,
   "metadata": {},
   "outputs": [],
   "source": [
    "tm=tm[tm.apply(lambda row: rank(row['solution'],row['massless'],row['sp']) if row['sp'] else 0,axis='columns')==0].reset_index(drop=True)"
   ]
  },
  {
   "cell_type": "code",
   "execution_count": 32,
   "metadata": {},
   "outputs": [],
   "source": [
    "kk=tm[['n','l','k','solution','gcd','m','ν','s','massless','sp','D_msls','rptd','nl','nν','nr','M_msls']].reset_index(drop=True)\n",
    "kk['sltn']=kk['solution'].astype(str)\n",
    "#kk.sort_values('n').drop('sltn',axis='columns').reset_index(drop=True)"
   ]
  },
  {
   "cell_type": "code",
   "execution_count": 33,
   "metadata": {},
   "outputs": [],
   "source": [
    "kk=tm[['n','l','k','solution','gcd','m','ν','s','massless','sp']].copy()"
   ]
  },
  {
   "cell_type": "code",
   "execution_count": 34,
   "metadata": {},
   "outputs": [],
   "source": [
    "import re\n",
    "def add_boldsymbol(ss):\n",
    "    if str(ss).find(r'\\boldsymbol')==-1:\n",
    "        return re.sub('(\\-*[0-9]+)',r'\\\\boldsymbol{\\1}',str(ss))\n",
    "    else:\n",
    "        return ss"
   ]
  },
  {
   "cell_type": "code",
   "execution_count": 35,
   "metadata": {},
   "outputs": [
    {
     "name": "stdout",
     "output_type": "stream",
     "text": [
      "7\n"
     ]
    }
   ],
   "source": [
    "kk=tm[['n','l','k','solution','gcd','m','ν','s','massless','sp']].copy()\n",
    "\n",
    "for i in kk.index:\n",
    "    #for s in ['DD','DM','XD','XM']:\n",
    "    if not kk.loc[i,'massless']:\n",
    "        print(i)\n",
    "        kk.loc[i,'n']=add_boldsymbol(kk.loc[i,'n'])\n",
    "        #kk.loc[i,s]  =add_boldsymbol(kk.loc[i,s])\n",
    "\n",
    "kkk=kk#[['n','l','k','solution','gcd']]#Ref','DD','DM','XD','XM']]\n",
    "def f(x):\n",
    "    return  r'{}'.format(str(x).replace('[','(').replace(']',')'))\n",
    "\n",
    "kkk.to_latex('solutions.tex',index=False,formatters=dict( [(k,f) for k in kk.columns ]) ,escape=False  )"
   ]
  },
  {
   "cell_type": "code",
   "execution_count": 36,
   "metadata": {},
   "outputs": [
    {
     "name": "stdout",
     "output_type": "stream",
     "text": [
      "\\begin{tabular}{llllrrrrll}\n",
      "\\toprule\n",
      "              n &                l &                 k &                            solution & gcd &  m &   ν &  s &        massless &    sp \\\\\n",
      "\\midrule\n",
      "              6 &         (-1, -2) &           (-1, 2) &                (1, 1, 1, -4, -4, 5) &   1 &  1 &  -4 &  3 &             (5) &    10 \\\\\n",
      "              7 &          (-1, 1) &       (-1, 0, -1) &            (1, 2, 2, -3, -3, -3, 4) &   1 & -3 &   2 &  1 &          (1, 4) &     5 \\\\\n",
      "              8 &      (1, -3, -2) &  (-4, -9, -5, -3) &         (1, 3, 3, 3, -5, -7, -7, 9) &   1 &  3 &  -7 &  4 &             (9) &    18 \\\\\n",
      "              8 &     (-8, -1, -4) &   (-2, -6, 4, -5) &  (7, -8, -18, -18, 20, 20, 20, -23) &   2 & 20 & -18 & -2 &    (-23, -8, 7) &    16 \\\\\n",
      "              9 &    (3, 0, -1, 1) &   (-6, -5, 5, -1) &     (2, 2, 2, -3, -3, 4, -5, -5, 6) &   1 &  2 &  -5 &  3 &             (4) &     8 \\\\\n",
      "              9 &  (1, -1, -2, -1) &  (-6, -5, -3, -5) &      (1, 1, 2, 2, 2, -3, -6, -8, 9) &   1 &  2 &   1 & -3 &        (-8, -3) &    11 \\\\\n",
      "              9 &   (-2, -3, 0, 1) &   (-2, -4, -3, 0) &    (1, 4, 5, -6, -6, -6, 9, 9, -10) &   1 & -6 &   9 & -3 &  (-10, 1, 4, 5) &     5 \\\\\n",
      " \\boldsymbol{9} &    (1, 2, 1, -1) &  (-6, -3, -5, -3) &    (1, 2, -6, -6, -6, 8, 9, 9, -11) &   1 & -6 &   9 & -3 &              () &  None \\\\\n",
      "              9 &      (-5, -2, 3) &   (-1, -2, 3, -4) &  (3, 5, 5, -8, -8, -8, 12, 12, -13) &   3 & -8 &  12 & -4 &     (-13, 3, 5) &    10 \\\\\n",
      "\\bottomrule\n",
      "\\end{tabular}\n"
     ]
    }
   ],
   "source": [
    "cat solutions.tex"
   ]
  },
  {
   "cell_type": "code",
   "execution_count": 37,
   "metadata": {},
   "outputs": [
    {
     "data": {
      "text/html": [
       "<div>\n",
       "<style scoped>\n",
       "    .dataframe tbody tr th:only-of-type {\n",
       "        vertical-align: middle;\n",
       "    }\n",
       "\n",
       "    .dataframe tbody tr th {\n",
       "        vertical-align: top;\n",
       "    }\n",
       "\n",
       "    .dataframe thead th {\n",
       "        text-align: right;\n",
       "    }\n",
       "</style>\n",
       "<table border=\"1\" class=\"dataframe\">\n",
       "  <thead>\n",
       "    <tr style=\"text-align: right;\">\n",
       "      <th></th>\n",
       "      <th>n</th>\n",
       "      <th>l</th>\n",
       "      <th>k</th>\n",
       "      <th>solution</th>\n",
       "      <th>gcd</th>\n",
       "      <th>m</th>\n",
       "      <th>ν</th>\n",
       "      <th>s</th>\n",
       "      <th>massless</th>\n",
       "      <th>sp</th>\n",
       "    </tr>\n",
       "  </thead>\n",
       "  <tbody>\n",
       "    <tr>\n",
       "      <th>0</th>\n",
       "      <td>6</td>\n",
       "      <td>[-1, -2]</td>\n",
       "      <td>[-1, 2]</td>\n",
       "      <td>[1, 1, 1, -4, -4, 5]</td>\n",
       "      <td>1</td>\n",
       "      <td>1</td>\n",
       "      <td>-4</td>\n",
       "      <td>3</td>\n",
       "      <td>[5]</td>\n",
       "      <td>10</td>\n",
       "    </tr>\n",
       "    <tr>\n",
       "      <th>1</th>\n",
       "      <td>7</td>\n",
       "      <td>[-1, 1]</td>\n",
       "      <td>[-1, 0, -1]</td>\n",
       "      <td>[1, 2, 2, -3, -3, -3, 4]</td>\n",
       "      <td>1</td>\n",
       "      <td>-3</td>\n",
       "      <td>2</td>\n",
       "      <td>1</td>\n",
       "      <td>[1, 4]</td>\n",
       "      <td>5</td>\n",
       "    </tr>\n",
       "    <tr>\n",
       "      <th>2</th>\n",
       "      <td>8</td>\n",
       "      <td>[1, -3, -2]</td>\n",
       "      <td>[-4, -9, -5, -3]</td>\n",
       "      <td>[1, 3, 3, 3, -5, -7, -7, 9]</td>\n",
       "      <td>1</td>\n",
       "      <td>3</td>\n",
       "      <td>-7</td>\n",
       "      <td>4</td>\n",
       "      <td>[9]</td>\n",
       "      <td>18</td>\n",
       "    </tr>\n",
       "    <tr>\n",
       "      <th>3</th>\n",
       "      <td>8</td>\n",
       "      <td>[-8, -1, -4]</td>\n",
       "      <td>[-2, -6, 4, -5]</td>\n",
       "      <td>[7, -8, -18, -18, 20, 20, 20, -23]</td>\n",
       "      <td>2</td>\n",
       "      <td>20</td>\n",
       "      <td>-18</td>\n",
       "      <td>-2</td>\n",
       "      <td>[-23, -8, 7]</td>\n",
       "      <td>16</td>\n",
       "    </tr>\n",
       "    <tr>\n",
       "      <th>4</th>\n",
       "      <td>9</td>\n",
       "      <td>[3, 0, -1, 1]</td>\n",
       "      <td>[-6, -5, 5, -1]</td>\n",
       "      <td>[2, 2, 2, -3, -3, 4, -5, -5, 6]</td>\n",
       "      <td>1</td>\n",
       "      <td>2</td>\n",
       "      <td>-5</td>\n",
       "      <td>3</td>\n",
       "      <td>[4]</td>\n",
       "      <td>8</td>\n",
       "    </tr>\n",
       "    <tr>\n",
       "      <th>5</th>\n",
       "      <td>9</td>\n",
       "      <td>[1, -1, -2, -1]</td>\n",
       "      <td>[-6, -5, -3, -5]</td>\n",
       "      <td>[1, 1, 2, 2, 2, -3, -6, -8, 9]</td>\n",
       "      <td>1</td>\n",
       "      <td>2</td>\n",
       "      <td>1</td>\n",
       "      <td>-3</td>\n",
       "      <td>[-8, -3]</td>\n",
       "      <td>11</td>\n",
       "    </tr>\n",
       "    <tr>\n",
       "      <th>6</th>\n",
       "      <td>9</td>\n",
       "      <td>[-2, -3, 0, 1]</td>\n",
       "      <td>[-2, -4, -3, 0]</td>\n",
       "      <td>[1, 4, 5, -6, -6, -6, 9, 9, -10]</td>\n",
       "      <td>1</td>\n",
       "      <td>-6</td>\n",
       "      <td>9</td>\n",
       "      <td>-3</td>\n",
       "      <td>[-10, 1, 4, 5]</td>\n",
       "      <td>5</td>\n",
       "    </tr>\n",
       "    <tr>\n",
       "      <th>7</th>\n",
       "      <td>\\boldsymbol{9}</td>\n",
       "      <td>[1, 2, 1, -1]</td>\n",
       "      <td>[-6, -3, -5, -3]</td>\n",
       "      <td>[1, 2, -6, -6, -6, 8, 9, 9, -11]</td>\n",
       "      <td>1</td>\n",
       "      <td>-6</td>\n",
       "      <td>9</td>\n",
       "      <td>-3</td>\n",
       "      <td>[]</td>\n",
       "      <td>None</td>\n",
       "    </tr>\n",
       "    <tr>\n",
       "      <th>8</th>\n",
       "      <td>9</td>\n",
       "      <td>[-5, -2, 3]</td>\n",
       "      <td>[-1, -2, 3, -4]</td>\n",
       "      <td>[3, 5, 5, -8, -8, -8, 12, 12, -13]</td>\n",
       "      <td>3</td>\n",
       "      <td>-8</td>\n",
       "      <td>12</td>\n",
       "      <td>-4</td>\n",
       "      <td>[-13, 3, 5]</td>\n",
       "      <td>10</td>\n",
       "    </tr>\n",
       "  </tbody>\n",
       "</table>\n",
       "</div>"
      ],
      "text/plain": [
       "                n                l                 k  \\\n",
       "0               6         [-1, -2]           [-1, 2]   \n",
       "1               7          [-1, 1]       [-1, 0, -1]   \n",
       "2               8      [1, -3, -2]  [-4, -9, -5, -3]   \n",
       "3               8     [-8, -1, -4]   [-2, -6, 4, -5]   \n",
       "4               9    [3, 0, -1, 1]   [-6, -5, 5, -1]   \n",
       "5               9  [1, -1, -2, -1]  [-6, -5, -3, -5]   \n",
       "6               9   [-2, -3, 0, 1]   [-2, -4, -3, 0]   \n",
       "7  \\boldsymbol{9}    [1, 2, 1, -1]  [-6, -3, -5, -3]   \n",
       "8               9      [-5, -2, 3]   [-1, -2, 3, -4]   \n",
       "\n",
       "                             solution  gcd   m   ν  s        massless    sp  \n",
       "0                [1, 1, 1, -4, -4, 5]    1   1  -4  3             [5]    10  \n",
       "1            [1, 2, 2, -3, -3, -3, 4]    1  -3   2  1          [1, 4]     5  \n",
       "2         [1, 3, 3, 3, -5, -7, -7, 9]    1   3  -7  4             [9]    18  \n",
       "3  [7, -8, -18, -18, 20, 20, 20, -23]    2  20 -18 -2    [-23, -8, 7]    16  \n",
       "4     [2, 2, 2, -3, -3, 4, -5, -5, 6]    1   2  -5  3             [4]     8  \n",
       "5      [1, 1, 2, 2, 2, -3, -6, -8, 9]    1   2   1 -3        [-8, -3]    11  \n",
       "6    [1, 4, 5, -6, -6, -6, 9, 9, -10]    1  -6   9 -3  [-10, 1, 4, 5]     5  \n",
       "7    [1, 2, -6, -6, -6, 8, 9, 9, -11]    1  -6   9 -3              []  None  \n",
       "8  [3, 5, 5, -8, -8, -8, 12, 12, -13]    3  -8  12 -4     [-13, 3, 5]    10  "
      ]
     },
     "execution_count": 37,
     "metadata": {},
     "output_type": "execute_result"
    }
   ],
   "source": [
    "kkk"
   ]
  },
  {
   "cell_type": "code",
   "execution_count": 39,
   "metadata": {},
   "outputs": [],
   "source": [
    "assert kkk.shape==(9,10)"
   ]
  },
  {
   "cell_type": "code",
   "execution_count": null,
   "metadata": {},
   "outputs": [],
   "source": []
  }
 ],
 "metadata": {
  "kernelspec": {
   "display_name": "Python 3",
   "language": "python",
   "name": "python3"
  },
  "language_info": {
   "codemirror_mode": {
    "name": "ipython",
    "version": 3
   },
   "file_extension": ".py",
   "mimetype": "text/x-python",
   "name": "python",
   "nbconvert_exporter": "python",
   "pygments_lexer": "ipython3",
   "version": "3.7.3"
  }
 },
 "nbformat": 4,
 "nbformat_minor": 4
}
