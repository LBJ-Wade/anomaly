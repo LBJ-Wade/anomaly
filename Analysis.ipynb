{
 "cells": [
  {
   "cell_type": "markdown",
   "metadata": {},
   "source": [
    "Analysis"
   ]
  },
  {
   "cell_type": "code",
   "execution_count": 648,
   "metadata": {},
   "outputs": [],
   "source": [
    "import itertools\n",
    "import numpy as np\n",
    "def get_permutations(l,n=3):\n",
    "    prmts=[]\n",
    "    for p in itertools. permutations(l, n):\n",
    "        if sorted(p) not in prmts:\n",
    "            prmts.append(sorted(p))\n",
    "    return [ np.asarray(p) for p in prmts if isinstance(p,list) ]\n",
    "def jsonKeys2int(x):\n",
    "    if isinstance(x, dict):\n",
    "            return {int(k):v for k,v in x.items()}\n",
    "    return x"
   ]
  },
  {
   "cell_type": "code",
   "execution_count": 649,
   "metadata": {},
   "outputs": [],
   "source": [
    "import pandas as pd"
   ]
  },
  {
   "cell_type": "code",
   "execution_count": 915,
   "metadata": {},
   "outputs": [],
   "source": [
    "cl=pd.read_json('cl.json').reset_index(drop=True)\n",
    "cl['sltn']=cl['sltn'].apply(jsonKeys2int)\n",
    "cl=cl.sort_values('n').reset_index(drop=True)\n",
    "cl6=pd.read_json('cl6.json').reset_index(drop=True)\n",
    "cl6['sltn']=cl6['sltn'].apply(jsonKeys2int)\n",
    "cl6=cl6.sort_values('n').reset_index(drop=True)"
   ]
  },
  {
   "cell_type": "markdown",
   "metadata": {},
   "source": [
    "DD analysis"
   ]
  },
  {
   "cell_type": "code",
   "execution_count": 916,
   "metadata": {},
   "outputs": [],
   "source": [
    "pd.set_option('display.max_rows', 100)\n",
    "pd.set_option('display.max_colwidth',500)"
   ]
  },
  {
   "cell_type": "code",
   "execution_count": 1005,
   "metadata": {},
   "outputs": [],
   "source": [
    "def extract(l,x):\n",
    "    for i in range(5):\n",
    "        try:\n",
    "            l.remove(x)\n",
    "        except:\n",
    "            break\n",
    "    return l\n",
    "\n",
    "def remove_list(l,pr):\n",
    "    for x in pr:\n",
    "        try:\n",
    "            l=extract(l,x)\n",
    "        except:\n",
    "            pass\n",
    "    return l\n",
    "\n",
    "def remove(l,pr):\n",
    "    if pr:\n",
    "        pr=np.concatenate(pr).ravel()\n",
    "    l=remove_list(l,pr)\n",
    "    return l\n",
    "\n",
    "def get_massless_fermions(l,ν,m=0,Dim=5):\n",
    "    if Dim==5:\n",
    "        d=1\n",
    "    elif Dim==6:\n",
    "        d=2\n",
    "    s=-(ν+m)//d\n",
    "    l=extract(l,ν)\n",
    "    if m:\n",
    "        l=extract(l,m)\n",
    "    #Dirac masses\n",
    "    for ss in [s,-s]:\n",
    "        pr=[ p for  p in get_permuations( l,n=2  ) if np.append( p,ss).sum()==0 ]\n",
    "        l=remove(l,pr)\n",
    "\n",
    "    #Majorana masses\n",
    "    for ss in [s,-s]:\n",
    "        pr=[ll for ll in l if 2*ll+ss==0]\n",
    "        l=remove_list(l,pr)\n",
    "    return list(np.unique(l))\n",
    "\n",
    "def count_massless_fermions(l,ν,m=0,Dim=5):\n",
    "    return len( get_massless_fermions(l,ν,m,Dim=Dim) )"
   ]
  },
  {
   "cell_type": "code",
   "execution_count": 1006,
   "metadata": {},
   "outputs": [],
   "source": [
    "l=[2, -3, -10, 13, 13, -15]\n",
    "l=[3, -4, -21, 25, 25, -28]\n",
    "l=[8, 9, 11, -13, -20, -20, 25]\n",
    "l=[2, 2, -3, 12, -14, -18, 19]\n",
    "l=[5, 5, 7, -8, -12, -12, 15]\n",
    "#l=[6, 8, 11, -14, -14, -18, 21]\n",
    "#l=[3, 3, -8, -15, 20, 20, -23]\n",
    "#l=[1, -3, 6, -7, -14, 21, 21, -25]\n",
    "#l=[1, 1, -4, -5, 9, 9, 9, -10, -10]\n",
    "l=[3, 3, -6, -9, 10, 12, -15, -15, 17]\n",
    "l=[1, 3, -7, -9, 13, 24, -27, -27, 29]\n",
    "#XD\n",
    "l=[2, -5, -5, -5, 7, 8, 8, -10]"
   ]
  },
  {
   "cell_type": "code",
   "execution_count": 1013,
   "metadata": {},
   "outputs": [
    {
     "data": {
      "text/plain": [
       "True"
      ]
     },
     "execution_count": 1013,
     "metadata": {},
     "output_type": "execute_result"
    }
   ],
   "source": [
    "get_massless_fermions([2, -3, -3, -5, 9, -13, 15, 16, -18],ν=-3)==[9]"
   ]
  },
  {
   "cell_type": "code",
   "execution_count": 1014,
   "metadata": {},
   "outputs": [
    {
     "data": {
      "text/plain": [
       "True"
      ]
     },
     "execution_count": 1014,
     "metadata": {},
     "output_type": "execute_result"
    }
   ],
   "source": [
    "count_massless_fermions( [2, -5, -5, -5, 7, 8, 8, -10],ν=8,m=0)==2"
   ]
  },
  {
   "cell_type": "code",
   "execution_count": 1015,
   "metadata": {},
   "outputs": [
    {
     "data": {
      "text/plain": [
       "True"
      ]
     },
     "execution_count": 1015,
     "metadata": {},
     "output_type": "execute_result"
    }
   ],
   "source": [
    "count_massless_fermions( [2, -5, -5, -5, 7, 8, 8, -10],ν=8,m=-5)==1"
   ]
  },
  {
   "cell_type": "code",
   "execution_count": 1016,
   "metadata": {},
   "outputs": [
    {
     "data": {
      "text/plain": [
       "True"
      ]
     },
     "execution_count": 1016,
     "metadata": {},
     "output_type": "execute_result"
    }
   ],
   "source": [
    "count_massless_fermions( [2, -3, -10, 13, 13, -15], ν=13)==0"
   ]
  },
  {
   "cell_type": "code",
   "execution_count": 1017,
   "metadata": {},
   "outputs": [
    {
     "data": {
      "text/plain": [
       "True"
      ]
     },
     "execution_count": 1017,
     "metadata": {},
     "output_type": "execute_result"
    }
   ],
   "source": [
    "count_massless_fermions( [5, 13, 13, -16, -18, -23, 26],ν=13)==3"
   ]
  },
  {
   "cell_type": "code",
   "execution_count": 1018,
   "metadata": {},
   "outputs": [
    {
     "data": {
      "text/plain": [
       "True"
      ]
     },
     "execution_count": 1018,
     "metadata": {},
     "output_type": "execute_result"
    }
   ],
   "source": [
    "get_massless_fermions( [2, -4, 7, 9, -18, -18, 22],ν=-18 )==[2,7]"
   ]
  },
  {
   "cell_type": "code",
   "execution_count": 1019,
   "metadata": {},
   "outputs": [
    {
     "data": {
      "text/plain": [
       "True"
      ]
     },
     "execution_count": 1019,
     "metadata": {},
     "output_type": "execute_result"
    }
   ],
   "source": [
    "# XDirac with two triplets and Dim 6\n",
    "get_massless_fermions([2, -7, -8, -8, -8, 18, 18, 18, -25],-8,m=18,Dim=6)==[-25]"
   ]
  },
  {
   "cell_type": "code",
   "execution_count": 1020,
   "metadata": {},
   "outputs": [],
   "source": [
    "def massfer(row,label='DarkDirac',nmax=10,Dim=5):        \n",
    "    # \n",
    "    if label=='DarkDirac' or label=='DarkMajor':\n",
    "        if label=='DarkDirac':\n",
    "            nuR='DD'\n",
    "        else:\n",
    "            nuR='DM'\n",
    "        if row.get(label)>0:\n",
    "            cdd=[]\n",
    "            for ν in row.get(nuR):\n",
    "                l=row.get('solution').copy()\n",
    "                cdd.append( count_massless_fermions(l , ν,Dim=Dim)  )\n",
    "            return min(cdd)\n",
    "        else:\n",
    "            return nmax\n",
    "    if label=='XDirac' or label=='XMajor':\n",
    "        if label=='XDirac':\n",
    "            nuR='XD'\n",
    "        else:\n",
    "            nuR='XM'\n",
    "        if row.get(label)>0:\n",
    "            cddmax=100\n",
    "            for m in row['sltn'].get(3):\n",
    "                cdp=[]\n",
    "                for ν in row.get(nuR):\n",
    "                    l=row.get('solution').copy()\n",
    "                    l=[ll for ll in l if ll!=m]\n",
    "                    cdp.append( count_massless_fermions(l , ν,m,Dim=Dim)  )\n",
    "                if min(cdp)<cddmax:\n",
    "                    cdd=cdp\n",
    "            return min(cdd)\n",
    "        else:\n",
    "            return nmax    "
   ]
  },
  {
   "cell_type": "code",
   "execution_count": 1021,
   "metadata": {},
   "outputs": [],
   "source": [
    "cl['DD_massless']=cl.apply(lambda row: massfer(row,label='DarkDirac'),axis='columns')\n",
    "cl['DM_massless']=cl.apply(lambda row: massfer(row,label='DarkMajor'),axis='columns')\n",
    "cl['XD_massless']=cl.apply(lambda row: massfer(row,label='XDirac'),axis='columns')\n",
    "cl['XM_massless']=cl.apply(lambda row: massfer(row,label='XMajor'),axis='columns')"
   ]
  },
  {
   "cell_type": "code",
   "execution_count": 1022,
   "metadata": {},
   "outputs": [],
   "source": [
    "cl6['DD_massless']=cl6.apply(lambda row: massfer(row,label='DarkDirac',Dim=6),axis='columns')\n",
    "cl6['DM_massless']=cl.apply(lambda row: massfer(row,label='DarkMajor',Dim=6),axis='columns')\n",
    "cl6['DM_massless']=cl6.apply(lambda row: massfer(row,label='DarkMajor',Dim=6),axis='columns')\n",
    "cl6['XM_massless']=cl6.apply(lambda row: massfer(row,label='XMajor',Dim=6),axis='columns')"
   ]
  },
  {
   "cell_type": "code",
   "execution_count": 1023,
   "metadata": {},
   "outputs": [],
   "source": [
    "cl['total']=cl['solution'].reset_index(drop=True).apply(lambda l: np.abs( np.array(l) ).sum() )"
   ]
  },
  {
   "cell_type": "code",
   "execution_count": 1024,
   "metadata": {},
   "outputs": [],
   "source": [
    "cl6['total']=cl6['solution'].reset_index(drop=True).apply(lambda l: np.abs( np.array(l) ).sum() )"
   ]
  },
  {
   "cell_type": "code",
   "execution_count": 1025,
   "metadata": {},
   "outputs": [
    {
     "data": {
      "text/html": [
       "<div>\n",
       "<style scoped>\n",
       "    .dataframe tbody tr th:only-of-type {\n",
       "        vertical-align: middle;\n",
       "    }\n",
       "\n",
       "    .dataframe tbody tr th {\n",
       "        vertical-align: top;\n",
       "    }\n",
       "\n",
       "    .dataframe thead th {\n",
       "        text-align: right;\n",
       "    }\n",
       "</style>\n",
       "<table border=\"1\" class=\"dataframe\">\n",
       "  <thead>\n",
       "    <tr style=\"text-align: right;\">\n",
       "      <th></th>\n",
       "      <th>k</th>\n",
       "      <th>l</th>\n",
       "      <th>n</th>\n",
       "      <th>solution</th>\n",
       "      <th>gcd</th>\n",
       "      <th>nu_R</th>\n",
       "      <th>DarkDirac</th>\n",
       "      <th>DarkMajor</th>\n",
       "      <th>XDirac</th>\n",
       "      <th>XMajor</th>\n",
       "      <th>sltn</th>\n",
       "      <th>DD</th>\n",
       "      <th>DM</th>\n",
       "      <th>XD</th>\n",
       "      <th>XM</th>\n",
       "      <th>DD_massless</th>\n",
       "      <th>DM_massless</th>\n",
       "      <th>XD_massless</th>\n",
       "      <th>XM_massless</th>\n",
       "      <th>total</th>\n",
       "    </tr>\n",
       "  </thead>\n",
       "  <tbody>\n",
       "    <tr>\n",
       "      <th>0</th>\n",
       "      <td>[-5, 0]</td>\n",
       "      <td>[1, -1]</td>\n",
       "      <td>6</td>\n",
       "      <td>[2, -3, -10, 13, 13, -15]</td>\n",
       "      <td>2</td>\n",
       "      <td>[{'D→nu_R+fi+fj': [-15, 2, 13]}, {'D→nu_R+fi+fj': [-10, -3, 13]}]</td>\n",
       "      <td>2</td>\n",
       "      <td>0</td>\n",
       "      <td>0</td>\n",
       "      <td>0</td>\n",
       "      <td>{2: [13]}</td>\n",
       "      <td>[13]</td>\n",
       "      <td>0</td>\n",
       "      <td>0</td>\n",
       "      <td>0</td>\n",
       "      <td>0</td>\n",
       "      <td>10</td>\n",
       "      <td>10</td>\n",
       "      <td>10</td>\n",
       "      <td>56</td>\n",
       "    </tr>\n",
       "    <tr>\n",
       "      <th>1</th>\n",
       "      <td>[4, 7]</td>\n",
       "      <td>[21, 18]</td>\n",
       "      <td>6</td>\n",
       "      <td>[3, -4, -21, 25, 25, -28]</td>\n",
       "      <td>7749</td>\n",
       "      <td>[{'D→nu_R+fi+fj': [-28, 3, 25]}, {'D→nu_R+fi+fj': [-21, -4, 25]}]</td>\n",
       "      <td>2</td>\n",
       "      <td>0</td>\n",
       "      <td>0</td>\n",
       "      <td>0</td>\n",
       "      <td>{2: [25]}</td>\n",
       "      <td>[25]</td>\n",
       "      <td>0</td>\n",
       "      <td>0</td>\n",
       "      <td>0</td>\n",
       "      <td>0</td>\n",
       "      <td>10</td>\n",
       "      <td>10</td>\n",
       "      <td>10</td>\n",
       "      <td>106</td>\n",
       "    </tr>\n",
       "    <tr>\n",
       "      <th>2</th>\n",
       "      <td>[-4, 0]</td>\n",
       "      <td>[-1, 1]</td>\n",
       "      <td>6</td>\n",
       "      <td>[3, -5, -12, 17, 17, -20]</td>\n",
       "      <td>1</td>\n",
       "      <td>[{'D→nu_R+fi+fj': [-20, 3, 17]}, {'D→nu_R+fi+fj': [-12, -5, 17]}]</td>\n",
       "      <td>2</td>\n",
       "      <td>0</td>\n",
       "      <td>0</td>\n",
       "      <td>0</td>\n",
       "      <td>{2: [17]}</td>\n",
       "      <td>[17]</td>\n",
       "      <td>0</td>\n",
       "      <td>0</td>\n",
       "      <td>0</td>\n",
       "      <td>0</td>\n",
       "      <td>10</td>\n",
       "      <td>10</td>\n",
       "      <td>10</td>\n",
       "      <td>74</td>\n",
       "    </tr>\n",
       "  </tbody>\n",
       "</table>\n",
       "</div>"
      ],
      "text/plain": [
       "         k         l  n                   solution   gcd  \\\n",
       "0  [-5, 0]   [1, -1]  6  [2, -3, -10, 13, 13, -15]     2   \n",
       "1   [4, 7]  [21, 18]  6  [3, -4, -21, 25, 25, -28]  7749   \n",
       "2  [-4, 0]   [-1, 1]  6  [3, -5, -12, 17, 17, -20]     1   \n",
       "\n",
       "                                                                nu_R  \\\n",
       "0  [{'D→nu_R+fi+fj': [-15, 2, 13]}, {'D→nu_R+fi+fj': [-10, -3, 13]}]   \n",
       "1  [{'D→nu_R+fi+fj': [-28, 3, 25]}, {'D→nu_R+fi+fj': [-21, -4, 25]}]   \n",
       "2  [{'D→nu_R+fi+fj': [-20, 3, 17]}, {'D→nu_R+fi+fj': [-12, -5, 17]}]   \n",
       "\n",
       "   DarkDirac  DarkMajor  XDirac  XMajor       sltn    DD DM XD XM  \\\n",
       "0          2          0       0       0  {2: [13]}  [13]  0  0  0   \n",
       "1          2          0       0       0  {2: [25]}  [25]  0  0  0   \n",
       "2          2          0       0       0  {2: [17]}  [17]  0  0  0   \n",
       "\n",
       "   DD_massless  DM_massless  XD_massless  XM_massless  total  \n",
       "0            0           10           10           10     56  \n",
       "1            0           10           10           10    106  \n",
       "2            0           10           10           10     74  "
      ]
     },
     "execution_count": 1025,
     "metadata": {},
     "output_type": "execute_result"
    }
   ],
   "source": [
    "cl[cl.apply(lambda row: massfer(row,label='DarkDirac'),axis='columns')<10][:3]"
   ]
  },
  {
   "cell_type": "code",
   "execution_count": 1026,
   "metadata": {},
   "outputs": [
    {
     "data": {
      "text/html": [
       "<div>\n",
       "<style scoped>\n",
       "    .dataframe tbody tr th:only-of-type {\n",
       "        vertical-align: middle;\n",
       "    }\n",
       "\n",
       "    .dataframe tbody tr th {\n",
       "        vertical-align: top;\n",
       "    }\n",
       "\n",
       "    .dataframe thead th {\n",
       "        text-align: right;\n",
       "    }\n",
       "</style>\n",
       "<table border=\"1\" class=\"dataframe\">\n",
       "  <thead>\n",
       "    <tr style=\"text-align: right;\">\n",
       "      <th></th>\n",
       "      <th>k</th>\n",
       "      <th>l</th>\n",
       "      <th>n</th>\n",
       "      <th>solution</th>\n",
       "      <th>gcd</th>\n",
       "      <th>nu_R</th>\n",
       "      <th>DarkDirac</th>\n",
       "      <th>DarkMajor</th>\n",
       "      <th>XDirac</th>\n",
       "      <th>XMajor</th>\n",
       "      <th>sltn</th>\n",
       "      <th>DD</th>\n",
       "      <th>DM</th>\n",
       "      <th>XD</th>\n",
       "      <th>XM</th>\n",
       "      <th>DD_massless</th>\n",
       "      <th>DM_massless</th>\n",
       "      <th>XD_massless</th>\n",
       "      <th>XM_massless</th>\n",
       "      <th>total</th>\n",
       "    </tr>\n",
       "  </thead>\n",
       "  <tbody>\n",
       "    <tr>\n",
       "      <th>81</th>\n",
       "      <td>[1, 0, -1]</td>\n",
       "      <td>[-4, -6]</td>\n",
       "      <td>7</td>\n",
       "      <td>[1, 1, -3, -4, 6, 6, -7]</td>\n",
       "      <td>3</td>\n",
       "      <td>[{'D→nu_R+fi+fj': [-7, 1, 6]}, {'D→nu_R+2fi': [6, -3]}]</td>\n",
       "      <td>1</td>\n",
       "      <td>1</td>\n",
       "      <td>0</td>\n",
       "      <td>0</td>\n",
       "      <td>{2: [1, 6]}</td>\n",
       "      <td>[1, 6]</td>\n",
       "      <td>[6]</td>\n",
       "      <td>0</td>\n",
       "      <td>0</td>\n",
       "      <td>1</td>\n",
       "      <td>1</td>\n",
       "      <td>10</td>\n",
       "      <td>10</td>\n",
       "      <td>28</td>\n",
       "    </tr>\n",
       "    <tr>\n",
       "      <th>57</th>\n",
       "      <td>[-1, -4, -3]</td>\n",
       "      <td>[2, 0]</td>\n",
       "      <td>7</td>\n",
       "      <td>[1, 3, -4, 5, -6, -6, 7]</td>\n",
       "      <td>3</td>\n",
       "      <td>[{'D→nu_R+2fi': [-6, 3]}, {'D→nu_R+fi+fj': [-6, 1, 5]}]</td>\n",
       "      <td>1</td>\n",
       "      <td>1</td>\n",
       "      <td>0</td>\n",
       "      <td>0</td>\n",
       "      <td>{2: [-6]}</td>\n",
       "      <td>[-6]</td>\n",
       "      <td>[-6]</td>\n",
       "      <td>0</td>\n",
       "      <td>0</td>\n",
       "      <td>2</td>\n",
       "      <td>2</td>\n",
       "      <td>10</td>\n",
       "      <td>10</td>\n",
       "      <td>32</td>\n",
       "    </tr>\n",
       "    <tr>\n",
       "      <th>10</th>\n",
       "      <td>[-5, -9, 7]</td>\n",
       "      <td>[5, 15]</td>\n",
       "      <td>7</td>\n",
       "      <td>[2, -4, 7, 9, -18, -18, 22]</td>\n",
       "      <td>625</td>\n",
       "      <td>[{'D→nu_R+2fi': [-18, 9]}, {'D→nu_R+fi+fj': [-18, -4, 22]}]</td>\n",
       "      <td>1</td>\n",
       "      <td>1</td>\n",
       "      <td>0</td>\n",
       "      <td>0</td>\n",
       "      <td>{2: [-18]}</td>\n",
       "      <td>[-18]</td>\n",
       "      <td>[-18]</td>\n",
       "      <td>0</td>\n",
       "      <td>0</td>\n",
       "      <td>2</td>\n",
       "      <td>2</td>\n",
       "      <td>10</td>\n",
       "      <td>10</td>\n",
       "      <td>80</td>\n",
       "    </tr>\n",
       "  </tbody>\n",
       "</table>\n",
       "</div>"
      ],
      "text/plain": [
       "               k         l  n                     solution  gcd  \\\n",
       "81    [1, 0, -1]  [-4, -6]  7     [1, 1, -3, -4, 6, 6, -7]    3   \n",
       "57  [-1, -4, -3]    [2, 0]  7     [1, 3, -4, 5, -6, -6, 7]    3   \n",
       "10   [-5, -9, 7]   [5, 15]  7  [2, -4, 7, 9, -18, -18, 22]  625   \n",
       "\n",
       "                                                           nu_R  DarkDirac  \\\n",
       "81      [{'D→nu_R+fi+fj': [-7, 1, 6]}, {'D→nu_R+2fi': [6, -3]}]          1   \n",
       "57      [{'D→nu_R+2fi': [-6, 3]}, {'D→nu_R+fi+fj': [-6, 1, 5]}]          1   \n",
       "10  [{'D→nu_R+2fi': [-18, 9]}, {'D→nu_R+fi+fj': [-18, -4, 22]}]          1   \n",
       "\n",
       "    DarkMajor  XDirac  XMajor         sltn      DD     DM XD XM  DD_massless  \\\n",
       "81          1       0       0  {2: [1, 6]}  [1, 6]    [6]  0  0            1   \n",
       "57          1       0       0    {2: [-6]}    [-6]   [-6]  0  0            2   \n",
       "10          1       0       0   {2: [-18]}   [-18]  [-18]  0  0            2   \n",
       "\n",
       "    DM_massless  XD_massless  XM_massless  total  \n",
       "81            1           10           10     28  \n",
       "57            2           10           10     32  \n",
       "10            2           10           10     80  "
      ]
     },
     "execution_count": 1026,
     "metadata": {},
     "output_type": "execute_result"
    }
   ],
   "source": [
    "cl[ (cl['n']>0) &  (cl['DarkMajor']>0) ].sort_values(['n','DM_massless','total'])[:3]"
   ]
  },
  {
   "cell_type": "code",
   "execution_count": 1027,
   "metadata": {},
   "outputs": [
    {
     "data": {
      "text/html": [
       "<div>\n",
       "<style scoped>\n",
       "    .dataframe tbody tr th:only-of-type {\n",
       "        vertical-align: middle;\n",
       "    }\n",
       "\n",
       "    .dataframe tbody tr th {\n",
       "        vertical-align: top;\n",
       "    }\n",
       "\n",
       "    .dataframe thead th {\n",
       "        text-align: right;\n",
       "    }\n",
       "</style>\n",
       "<table border=\"1\" class=\"dataframe\">\n",
       "  <thead>\n",
       "    <tr style=\"text-align: right;\">\n",
       "      <th></th>\n",
       "      <th>k</th>\n",
       "      <th>l</th>\n",
       "      <th>n</th>\n",
       "      <th>solution</th>\n",
       "      <th>gcd</th>\n",
       "      <th>nu_R</th>\n",
       "      <th>DarkDirac</th>\n",
       "      <th>DarkMajor</th>\n",
       "      <th>XDirac</th>\n",
       "      <th>XMajor</th>\n",
       "      <th>sltn</th>\n",
       "      <th>DD</th>\n",
       "      <th>DM</th>\n",
       "      <th>XD</th>\n",
       "      <th>XM</th>\n",
       "      <th>DD_massless</th>\n",
       "      <th>DM_massless</th>\n",
       "      <th>XD_massless</th>\n",
       "      <th>XM_massless</th>\n",
       "      <th>total</th>\n",
       "    </tr>\n",
       "  </thead>\n",
       "  <tbody>\n",
       "    <tr>\n",
       "      <th>3735</th>\n",
       "      <td>[4, 8, 6, 3]</td>\n",
       "      <td>[-2, 3, 0]</td>\n",
       "      <td>9</td>\n",
       "      <td>[1, 1, 2, 2, 3, -5, -6, -6, 8]</td>\n",
       "      <td>4</td>\n",
       "      <td>[{'D→nu_R+fi+fj': [-5, 2, 3]}, {'D→nu_R+2fi': [-6, 3]}]</td>\n",
       "      <td>1</td>\n",
       "      <td>1</td>\n",
       "      <td>0</td>\n",
       "      <td>0</td>\n",
       "      <td>{2: [1, 2, -6]}</td>\n",
       "      <td>[2]</td>\n",
       "      <td>[-6]</td>\n",
       "      <td>0</td>\n",
       "      <td>0</td>\n",
       "      <td>0</td>\n",
       "      <td>4</td>\n",
       "      <td>10</td>\n",
       "      <td>10</td>\n",
       "      <td>34</td>\n",
       "    </tr>\n",
       "    <tr>\n",
       "      <th>3388</th>\n",
       "      <td>[1, 0, -5, 9]</td>\n",
       "      <td>[-3, -1, -2]</td>\n",
       "      <td>9</td>\n",
       "      <td>[1, -2, 3, 4, 6, -7, -7, -7, 9]</td>\n",
       "      <td>2</td>\n",
       "      <td>[{'D→nu_R+fi+fj': [-7, -2, 9]}, {'D→nu_R+fi+fj': [-7, 1, 6]}, {'D→nu_R+fi+fj': [-7, 3, 4]}]</td>\n",
       "      <td>3</td>\n",
       "      <td>0</td>\n",
       "      <td>0</td>\n",
       "      <td>0</td>\n",
       "      <td>{3: [-7]}</td>\n",
       "      <td>[-7]</td>\n",
       "      <td>0</td>\n",
       "      <td>0</td>\n",
       "      <td>0</td>\n",
       "      <td>0</td>\n",
       "      <td>10</td>\n",
       "      <td>10</td>\n",
       "      <td>10</td>\n",
       "      <td>46</td>\n",
       "    </tr>\n",
       "    <tr>\n",
       "      <th>3334</th>\n",
       "      <td>[4, 10, 14, 3]</td>\n",
       "      <td>[16, 2, 10]</td>\n",
       "      <td>9</td>\n",
       "      <td>[1, -3, -3, -4, -5, 8, 9, 9, -12]</td>\n",
       "      <td>1272</td>\n",
       "      <td>[{'D→nu_R+fi+fj': [-5, -3, 8]}, {'D→nu_R+fi+fj': [-5, -4, 9]}]</td>\n",
       "      <td>2</td>\n",
       "      <td>0</td>\n",
       "      <td>0</td>\n",
       "      <td>0</td>\n",
       "      <td>{2: [-3, 9]}</td>\n",
       "      <td>[-3, 9]</td>\n",
       "      <td>0</td>\n",
       "      <td>0</td>\n",
       "      <td>0</td>\n",
       "      <td>0</td>\n",
       "      <td>10</td>\n",
       "      <td>10</td>\n",
       "      <td>10</td>\n",
       "      <td>54</td>\n",
       "    </tr>\n",
       "  </tbody>\n",
       "</table>\n",
       "</div>"
      ],
      "text/plain": [
       "                   k             l  n                           solution  \\\n",
       "3735    [4, 8, 6, 3]    [-2, 3, 0]  9     [1, 1, 2, 2, 3, -5, -6, -6, 8]   \n",
       "3388   [1, 0, -5, 9]  [-3, -1, -2]  9    [1, -2, 3, 4, 6, -7, -7, -7, 9]   \n",
       "3334  [4, 10, 14, 3]   [16, 2, 10]  9  [1, -3, -3, -4, -5, 8, 9, 9, -12]   \n",
       "\n",
       "       gcd  \\\n",
       "3735     4   \n",
       "3388     2   \n",
       "3334  1272   \n",
       "\n",
       "                                                                                             nu_R  \\\n",
       "3735                                      [{'D→nu_R+fi+fj': [-5, 2, 3]}, {'D→nu_R+2fi': [-6, 3]}]   \n",
       "3388  [{'D→nu_R+fi+fj': [-7, -2, 9]}, {'D→nu_R+fi+fj': [-7, 1, 6]}, {'D→nu_R+fi+fj': [-7, 3, 4]}]   \n",
       "3334                               [{'D→nu_R+fi+fj': [-5, -3, 8]}, {'D→nu_R+fi+fj': [-5, -4, 9]}]   \n",
       "\n",
       "      DarkDirac  DarkMajor  XDirac  XMajor             sltn       DD    DM XD  \\\n",
       "3735          1          1       0       0  {2: [1, 2, -6]}      [2]  [-6]  0   \n",
       "3388          3          0       0       0        {3: [-7]}     [-7]     0  0   \n",
       "3334          2          0       0       0     {2: [-3, 9]}  [-3, 9]     0  0   \n",
       "\n",
       "     XM  DD_massless  DM_massless  XD_massless  XM_massless  total  \n",
       "3735  0            0            4           10           10     34  \n",
       "3388  0            0           10           10           10     46  \n",
       "3334  0            0           10           10           10     54  "
      ]
     },
     "execution_count": 1027,
     "metadata": {},
     "output_type": "execute_result"
    }
   ],
   "source": [
    "cl[ (cl['n']==9) &  (cl['DarkDirac']>0) ].sort_values(['DD_massless','total'])[:3]"
   ]
  },
  {
   "cell_type": "markdown",
   "metadata": {},
   "source": [
    "def repeated(f):\n",
    "    r={}\n",
    "    r[1]=f\n",
    "    for ri in range(2,f.size+2):\n",
    "        r[ri]=r[ri-1][pd.Series(r[ri-1]).duplicated()]\n",
    "        if ri>2:\n",
    "            for a in np.unique(r[ri]):\n",
    "                r[ri-1]=r[ri-1][ r[ri-1]!=a ]\n",
    "                if len(r[ri-1])>0:\n",
    "                    r[ri-1][ r[ri-1]!=a ]\n",
    "        if len(r[ri])<=1:\n",
    "            r[ri]=r[ri]\n",
    "            r.pop(1)\n",
    "            break\n",
    "    return dict( (k,list(v)) for k,v in r.items() if len(v)!=0 )"
   ]
  },
  {
   "cell_type": "code",
   "execution_count": 678,
   "metadata": {},
   "outputs": [
    {
     "data": {
      "text/plain": [
       "2799    {2: [-23], 3: [2]}\n",
       "Name: solution, dtype: object"
      ]
     },
     "execution_count": 678,
     "metadata": {},
     "output_type": "execute_result"
    }
   ],
   "source": [
    "cl[2799:2800]['solution'].apply(lambda s: repeated(np.asarray(s)))"
   ]
  },
  {
   "cell_type": "code",
   "execution_count": 679,
   "metadata": {},
   "outputs": [],
   "source": [
    "r={2: [-23], 3: [2]} "
   ]
  },
  {
   "cell_type": "code",
   "execution_count": 683,
   "metadata": {},
   "outputs": [
    {
     "data": {
      "text/plain": [
       "{2: [-23]}"
      ]
     },
     "execution_count": 683,
     "metadata": {},
     "output_type": "execute_result"
    }
   ],
   "source": [
    "dict( ((k,v) for k,v in r.items() if k!=3) )"
   ]
  },
  {
   "cell_type": "code",
   "execution_count": 645,
   "metadata": {},
   "outputs": [],
   "source": [
    "def get_nuR_i(row,i,model,label):\n",
    "    print( row[model]>0,'**',  row['sltn'].get(i))\n",
    "    if row[model]>0 and row['sltn'].get(i) and row['nu_R'] and len( [ d.get(label) for d in row['nu_R'] if d.get(label)] )>0:\n",
    "        M=[m  for m in  row['nu_R'] if m.get(label)]\n",
    "        nuR=[n for n in row['sltn'][i] for m in M  if n in m.get(label)  ]\n",
    "        #print(nuR)\n",
    "        if nuR:\n",
    "            return list(np.unique(nuR))\n",
    "    else:\n",
    "        return []"
   ]
  },
  {
   "cell_type": "code",
   "execution_count": 647,
   "metadata": {},
   "outputs": [
    {
     "name": "stdout",
     "output_type": "stream",
     "text": [
      "True ** None\n"
     ]
    },
    {
     "data": {
      "text/plain": [
       "1515    []\n",
       "dtype: object"
      ]
     },
     "execution_count": 647,
     "metadata": {},
     "output_type": "execute_result"
    }
   ],
   "source": [
    "kk.apply(lambda row: get_nuR_i(row,3,'DarkDirac','D→nu_R+fi+fj'),axis='columns')"
   ]
  },
  {
   "cell_type": "code",
   "execution_count": 601,
   "metadata": {},
   "outputs": [
    {
     "data": {
      "text/plain": [
       "[2]"
      ]
     },
     "execution_count": 601,
     "metadata": {},
     "output_type": "execute_result"
    }
   ],
   "source": [
    "kk.sltn.loc[1542]['4']"
   ]
  },
  {
   "cell_type": "code",
   "execution_count": 640,
   "metadata": {},
   "outputs": [
    {
     "data": {
      "text/html": [
       "<div>\n",
       "<style scoped>\n",
       "    .dataframe tbody tr th:only-of-type {\n",
       "        vertical-align: middle;\n",
       "    }\n",
       "\n",
       "    .dataframe tbody tr th {\n",
       "        vertical-align: top;\n",
       "    }\n",
       "\n",
       "    .dataframe thead th {\n",
       "        text-align: right;\n",
       "    }\n",
       "</style>\n",
       "<table border=\"1\" class=\"dataframe\">\n",
       "  <thead>\n",
       "    <tr style=\"text-align: right;\">\n",
       "      <th></th>\n",
       "      <th>k</th>\n",
       "      <th>l</th>\n",
       "      <th>n</th>\n",
       "      <th>solution</th>\n",
       "      <th>gcd</th>\n",
       "      <th>nu_R</th>\n",
       "      <th>DarkDirac</th>\n",
       "      <th>DarkMajor</th>\n",
       "      <th>XDirac</th>\n",
       "      <th>XMajor</th>\n",
       "      <th>sltn</th>\n",
       "      <th>DD</th>\n",
       "      <th>DM</th>\n",
       "      <th>XD</th>\n",
       "      <th>XM</th>\n",
       "    </tr>\n",
       "  </thead>\n",
       "  <tbody>\n",
       "    <tr>\n",
       "      <th>1537</th>\n",
       "      <td>[6, -1, 7, 1]</td>\n",
       "      <td>[12, 0, 9]</td>\n",
       "      <td>9</td>\n",
       "      <td>[2, -3, -3, -5, 9, -13, 15, 16, -18]</td>\n",
       "      <td>432</td>\n",
       "      <td>[{'D→nu_R+fi+fj': [-13, -3, 16]}]</td>\n",
       "      <td>1</td>\n",
       "      <td>0</td>\n",
       "      <td>0</td>\n",
       "      <td>0</td>\n",
       "      <td>{2: [-3]}</td>\n",
       "      <td>[-3]</td>\n",
       "      <td>0</td>\n",
       "      <td>0</td>\n",
       "      <td>0</td>\n",
       "    </tr>\n",
       "  </tbody>\n",
       "</table>\n",
       "</div>"
      ],
      "text/plain": [
       "                  k           l  n                              solution  gcd  \\\n",
       "1537  [6, -1, 7, 1]  [12, 0, 9]  9  [2, -3, -3, -5, 9, -13, 15, 16, -18]  432   \n",
       "\n",
       "                                   nu_R  DarkDirac  DarkMajor  XDirac  XMajor  \\\n",
       "1537  [{'D→nu_R+fi+fj': [-13, -3, 16]}]          1          0       0       0   \n",
       "\n",
       "           sltn    DD DM XD XM  \n",
       "1537  {2: [-3]}  [-3]  0  0  0  "
      ]
     },
     "execution_count": 640,
     "metadata": {},
     "output_type": "execute_result"
    }
   ],
   "source": [
    "cl[1537:1538]"
   ]
  },
  {
   "cell_type": "code",
   "execution_count": 471,
   "metadata": {},
   "outputs": [
    {
     "data": {
      "text/html": [
       "<div>\n",
       "<style scoped>\n",
       "    .dataframe tbody tr th:only-of-type {\n",
       "        vertical-align: middle;\n",
       "    }\n",
       "\n",
       "    .dataframe tbody tr th {\n",
       "        vertical-align: top;\n",
       "    }\n",
       "\n",
       "    .dataframe thead th {\n",
       "        text-align: right;\n",
       "    }\n",
       "</style>\n",
       "<table border=\"1\" class=\"dataframe\">\n",
       "  <thead>\n",
       "    <tr style=\"text-align: right;\">\n",
       "      <th></th>\n",
       "      <th>DarkDirac</th>\n",
       "      <th>DarkMajor</th>\n",
       "      <th>XDirac</th>\n",
       "      <th>XMajor</th>\n",
       "      <th>gcd</th>\n",
       "      <th>k</th>\n",
       "      <th>l</th>\n",
       "      <th>n</th>\n",
       "      <th>nu_R</th>\n",
       "      <th>sltn</th>\n",
       "      <th>solution</th>\n",
       "      <th>DD</th>\n",
       "      <th>DM</th>\n",
       "      <th>XD</th>\n",
       "      <th>XM</th>\n",
       "    </tr>\n",
       "  </thead>\n",
       "  <tbody>\n",
       "    <tr>\n",
       "      <th>0</th>\n",
       "      <td>2</td>\n",
       "      <td>0</td>\n",
       "      <td>0</td>\n",
       "      <td>0</td>\n",
       "      <td>2</td>\n",
       "      <td>[-5, 0]</td>\n",
       "      <td>[1, -1]</td>\n",
       "      <td>6</td>\n",
       "      <td>[{'D→nu_R+fi+fj': [-15, 2, 13]}, {'D→nu_R+fi+fj': [-10, -3, 13]}]</td>\n",
       "      <td>{'2': [13]}</td>\n",
       "      <td>[2, -3, -10, 13, 13, -15]</td>\n",
       "      <td>[13]</td>\n",
       "      <td>0</td>\n",
       "      <td>0</td>\n",
       "      <td>0</td>\n",
       "    </tr>\n",
       "    <tr>\n",
       "      <th>1</th>\n",
       "      <td>2</td>\n",
       "      <td>0</td>\n",
       "      <td>0</td>\n",
       "      <td>0</td>\n",
       "      <td>7749</td>\n",
       "      <td>[4, 7]</td>\n",
       "      <td>[21, 18]</td>\n",
       "      <td>6</td>\n",
       "      <td>[{'D→nu_R+fi+fj': [-28, 3, 25]}, {'D→nu_R+fi+fj': [-21, -4, 25]}]</td>\n",
       "      <td>{'2': [25]}</td>\n",
       "      <td>[3, -4, -21, 25, 25, -28]</td>\n",
       "      <td>[25]</td>\n",
       "      <td>0</td>\n",
       "      <td>0</td>\n",
       "      <td>0</td>\n",
       "    </tr>\n",
       "    <tr>\n",
       "      <th>2</th>\n",
       "      <td>2</td>\n",
       "      <td>0</td>\n",
       "      <td>0</td>\n",
       "      <td>0</td>\n",
       "      <td>1</td>\n",
       "      <td>[-4, 0]</td>\n",
       "      <td>[-1, 1]</td>\n",
       "      <td>6</td>\n",
       "      <td>[{'D→nu_R+fi+fj': [-20, 3, 17]}, {'D→nu_R+fi+fj': [-12, -5, 17]}]</td>\n",
       "      <td>{'2': [17]}</td>\n",
       "      <td>[3, -5, -12, 17, 17, -20]</td>\n",
       "      <td>[17]</td>\n",
       "      <td>0</td>\n",
       "      <td>0</td>\n",
       "      <td>0</td>\n",
       "    </tr>\n",
       "  </tbody>\n",
       "</table>\n",
       "</div>"
      ],
      "text/plain": [
       "   DarkDirac  DarkMajor  XDirac  XMajor   gcd        k         l  n  \\\n",
       "0          2          0       0       0     2  [-5, 0]   [1, -1]  6   \n",
       "1          2          0       0       0  7749   [4, 7]  [21, 18]  6   \n",
       "2          2          0       0       0     1  [-4, 0]   [-1, 1]  6   \n",
       "\n",
       "                                                                nu_R  \\\n",
       "0  [{'D→nu_R+fi+fj': [-15, 2, 13]}, {'D→nu_R+fi+fj': [-10, -3, 13]}]   \n",
       "1  [{'D→nu_R+fi+fj': [-28, 3, 25]}, {'D→nu_R+fi+fj': [-21, -4, 25]}]   \n",
       "2  [{'D→nu_R+fi+fj': [-20, 3, 17]}, {'D→nu_R+fi+fj': [-12, -5, 17]}]   \n",
       "\n",
       "          sltn                   solution    DD DM XD XM  \n",
       "0  {'2': [13]}  [2, -3, -10, 13, 13, -15]  [13]  0  0  0  \n",
       "1  {'2': [25]}  [3, -4, -21, 25, 25, -28]  [25]  0  0  0  \n",
       "2  {'2': [17]}  [3, -5, -12, 17, 17, -20]  [17]  0  0  0  "
      ]
     },
     "execution_count": 471,
     "metadata": {},
     "output_type": "execute_result"
    }
   ],
   "source": [
    "cl[:3]"
   ]
  },
  {
   "cell_type": "markdown",
   "metadata": {},
   "source": [
    "### Tree level neutrino Dirac masses"
   ]
  },
  {
   "cell_type": "code",
   "execution_count": 416,
   "metadata": {},
   "outputs": [
    {
     "data": {
      "text/plain": [
       "[]"
      ]
     },
     "execution_count": 416,
     "metadata": {},
     "output_type": "execute_result"
    }
   ],
   "source": [
    "l=get_massless_fermions( [2, -3, -10, 13, 13, -15], ν=13,m=0)\n",
    "[ ll for ll in l if ll+ν-s==0]"
   ]
  },
  {
   "cell_type": "code",
   "execution_count": 417,
   "metadata": {},
   "outputs": [
    {
     "data": {
      "text/plain": [
       "[]"
      ]
     },
     "execution_count": 417,
     "metadata": {},
     "output_type": "execute_result"
    }
   ],
   "source": [
    "[ ll for ll in l if ll-ν+s==0]"
   ]
  },
  {
   "cell_type": "code",
   "execution_count": null,
   "metadata": {},
   "outputs": [],
   "source": []
  }
 ],
 "metadata": {
  "kernelspec": {
   "display_name": "Python 3",
   "language": "python",
   "name": "python3"
  },
  "language_info": {
   "codemirror_mode": {
    "name": "ipython",
    "version": 3
   },
   "file_extension": ".py",
   "mimetype": "text/x-python",
   "name": "python",
   "nbconvert_exporter": "python",
   "pygments_lexer": "ipython3",
   "version": "3.7.3"
  }
 },
 "nbformat": 4,
 "nbformat_minor": 4
}
