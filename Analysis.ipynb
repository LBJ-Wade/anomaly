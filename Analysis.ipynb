{
 "cells": [
  {
   "cell_type": "markdown",
   "metadata": {},
   "source": [
    "Analysis"
   ]
  },
  {
   "cell_type": "code",
   "execution_count": 122,
   "metadata": {},
   "outputs": [],
   "source": [
    "import itertools\n",
    "import numpy as np\n",
    "def get_permutations(l,n=3):\n",
    "    prmts=[]\n",
    "    for p in itertools. permutations(l, n):\n",
    "        if sorted(p) not in prmts:\n",
    "            prmts.append(sorted(p))\n",
    "    return [ np.asarray(p) for p in prmts if isinstance(p,list) ]"
   ]
  },
  {
   "cell_type": "code",
   "execution_count": 123,
   "metadata": {},
   "outputs": [],
   "source": [
    "import pandas as pd"
   ]
  },
  {
   "cell_type": "code",
   "execution_count": 526,
   "metadata": {},
   "outputs": [],
   "source": [
    "cl=pd.read_json('cl.json').reset_index(drop=True)\n",
    "cl=cl.sort_values('n').reset_index(drop=True)"
   ]
  },
  {
   "cell_type": "markdown",
   "metadata": {},
   "source": [
    "DD analysis"
   ]
  },
  {
   "cell_type": "code",
   "execution_count": 527,
   "metadata": {},
   "outputs": [],
   "source": [
    "pd.set_option('display.max_rows', 100)\n",
    "pd.set_option('display.max_colwidth',500)"
   ]
  },
  {
   "cell_type": "code",
   "execution_count": 528,
   "metadata": {},
   "outputs": [
    {
     "data": {
      "text/html": [
       "<div>\n",
       "<style scoped>\n",
       "    .dataframe tbody tr th:only-of-type {\n",
       "        vertical-align: middle;\n",
       "    }\n",
       "\n",
       "    .dataframe tbody tr th {\n",
       "        vertical-align: top;\n",
       "    }\n",
       "\n",
       "    .dataframe thead th {\n",
       "        text-align: right;\n",
       "    }\n",
       "</style>\n",
       "<table border=\"1\" class=\"dataframe\">\n",
       "  <thead>\n",
       "    <tr style=\"text-align: right;\">\n",
       "      <th></th>\n",
       "      <th>DarkDirac</th>\n",
       "      <th>DarkMajor</th>\n",
       "      <th>XDirac</th>\n",
       "      <th>XMajor</th>\n",
       "      <th>gcd</th>\n",
       "      <th>k</th>\n",
       "      <th>l</th>\n",
       "      <th>n</th>\n",
       "      <th>nu_R</th>\n",
       "      <th>sltn</th>\n",
       "      <th>solution</th>\n",
       "      <th>DD</th>\n",
       "      <th>DM</th>\n",
       "      <th>XD</th>\n",
       "      <th>XM</th>\n",
       "    </tr>\n",
       "  </thead>\n",
       "  <tbody>\n",
       "    <tr>\n",
       "      <th>10</th>\n",
       "      <td>1</td>\n",
       "      <td>1</td>\n",
       "      <td>0</td>\n",
       "      <td>0</td>\n",
       "      <td>625</td>\n",
       "      <td>[-5, -9, 7]</td>\n",
       "      <td>[5, 15]</td>\n",
       "      <td>7</td>\n",
       "      <td>[{'D→nu_R+2fi': [-18, 9]}, {'D→nu_R+fi+fj': [-18, -4, 22]}]</td>\n",
       "      <td>{'2': [-18]}</td>\n",
       "      <td>[2, -4, 7, 9, -18, -18, 22]</td>\n",
       "      <td>[-18]</td>\n",
       "      <td>[-18]</td>\n",
       "      <td>0</td>\n",
       "      <td>0</td>\n",
       "    </tr>\n",
       "  </tbody>\n",
       "</table>\n",
       "</div>"
      ],
      "text/plain": [
       "    DarkDirac  DarkMajor  XDirac  XMajor  gcd            k        l  n  \\\n",
       "10          1          1       0       0  625  [-5, -9, 7]  [5, 15]  7   \n",
       "\n",
       "                                                           nu_R          sltn  \\\n",
       "10  [{'D→nu_R+2fi': [-18, 9]}, {'D→nu_R+fi+fj': [-18, -4, 22]}]  {'2': [-18]}   \n",
       "\n",
       "                       solution     DD     DM XD XM  \n",
       "10  [2, -4, 7, 9, -18, -18, 22]  [-18]  [-18]  0  0  "
      ]
     },
     "execution_count": 528,
     "metadata": {},
     "output_type": "execute_result"
    }
   ],
   "source": [
    "cl[10:11]"
   ]
  },
  {
   "cell_type": "code",
   "execution_count": 575,
   "metadata": {},
   "outputs": [],
   "source": [
    "def extract(l,x):\n",
    "    for i in range(5):\n",
    "        try:\n",
    "            l.remove(x)\n",
    "        except:\n",
    "            break\n",
    "    return l\n",
    "\n",
    "def remove_list(l,pr):\n",
    "    for x in pr:\n",
    "        try:\n",
    "            l=extract(l,x)\n",
    "        except:\n",
    "            pass\n",
    "    return l\n",
    "\n",
    "def remove(l,pr):\n",
    "    if pr:\n",
    "        pr=np.concatenate(pr).ravel()\n",
    "    l=remove_list(l,pr)\n",
    "    return l\n",
    "\n",
    "def get_massless_fermions(l,ν,m=0):\n",
    "    s=-(ν+m)\n",
    "    l=extract(l,ν)\n",
    "    if m:\n",
    "        l=extract(l,m)\n",
    "    #Dirac masses\n",
    "    for ss in [s,-s]:\n",
    "        pr=[ p for  p in get_permuations( l,n=2  ) if np.append( p,ss).sum()==0 ]\n",
    "        l=remove(l,pr)\n",
    "\n",
    "    #Majorana masses\n",
    "    for ss in [s,-s]:\n",
    "        pr=[ll for ll in l if 2*ll+ss==0]\n",
    "        l=remove_list(l,pr)\n",
    "    return list(np.unique(l))\n",
    "\n",
    "def count_massless_fermions(l,ν,XD=False):\n",
    "    m=0\n",
    "    if XD:\n",
    "        ms=[ x for x in l if l.count(x)==3 ]\n",
    "        if ms:\n",
    "            m=ms[0]\n",
    "\n",
    "    return len( get_massless_fermions(l,ν,m) )"
   ]
  },
  {
   "cell_type": "code",
   "execution_count": 576,
   "metadata": {},
   "outputs": [],
   "source": [
    "l=[2, -3, -10, 13, 13, -15]\n",
    "l=[3, -4, -21, 25, 25, -28]\n",
    "l=[8, 9, 11, -13, -20, -20, 25]\n",
    "l=[2, 2, -3, 12, -14, -18, 19]\n",
    "l=[5, 5, 7, -8, -12, -12, 15]\n",
    "#l=[6, 8, 11, -14, -14, -18, 21]\n",
    "#l=[3, 3, -8, -15, 20, 20, -23]\n",
    "#l=[1, -3, 6, -7, -14, 21, 21, -25]\n",
    "#l=[1, 1, -4, -5, 9, 9, 9, -10, -10]\n",
    "l=[3, 3, -6, -9, 10, 12, -15, -15, 17]\n",
    "l=[1, 3, -7, -9, 13, 24, -27, -27, 29]\n",
    "#XD\n",
    "l=[2, -5, -5, -5, 7, 8, 8, -10]"
   ]
  },
  {
   "cell_type": "code",
   "execution_count": 592,
   "metadata": {},
   "outputs": [
    {
     "data": {
      "text/plain": [
       "[9]"
      ]
     },
     "execution_count": 592,
     "metadata": {},
     "output_type": "execute_result"
    }
   ],
   "source": [
    "get_massless_fermions([2, -3, -3, -5, 9, -13, 15, 16, -18],ν=-3)"
   ]
  },
  {
   "cell_type": "code",
   "execution_count": 577,
   "metadata": {},
   "outputs": [
    {
     "data": {
      "text/plain": [
       "True"
      ]
     },
     "execution_count": 577,
     "metadata": {},
     "output_type": "execute_result"
    }
   ],
   "source": [
    "count_massless_fermions( [2, -5, -5, -5, 7, 8, 8, -10],ν=8,XD=False)==2"
   ]
  },
  {
   "cell_type": "code",
   "execution_count": 578,
   "metadata": {},
   "outputs": [
    {
     "data": {
      "text/plain": [
       "True"
      ]
     },
     "execution_count": 578,
     "metadata": {},
     "output_type": "execute_result"
    }
   ],
   "source": [
    "count_massless_fermions( [2, -5, -5, -5, 7, 8, 8, -10],ν=8,XD=True)==1"
   ]
  },
  {
   "cell_type": "code",
   "execution_count": 579,
   "metadata": {},
   "outputs": [
    {
     "data": {
      "text/plain": [
       "True"
      ]
     },
     "execution_count": 579,
     "metadata": {},
     "output_type": "execute_result"
    }
   ],
   "source": [
    "count_massless_fermions( [2, -3, -10, 13, 13, -15], ν=13)==0"
   ]
  },
  {
   "cell_type": "code",
   "execution_count": 580,
   "metadata": {},
   "outputs": [
    {
     "data": {
      "text/plain": [
       "True"
      ]
     },
     "execution_count": 580,
     "metadata": {},
     "output_type": "execute_result"
    }
   ],
   "source": [
    "count_massless_fermions( [5, 13, 13, -16, -18, -23, 26],ν=13)==3"
   ]
  },
  {
   "cell_type": "code",
   "execution_count": 584,
   "metadata": {},
   "outputs": [],
   "source": [
    "def massfer(row,label='DarkDirac',nmax=10):\n",
    "    if label=='DarkDirac':\n",
    "        if row.get(label)>0:\n",
    "            cdd=[]\n",
    "            for ν in row.get('DD'):\n",
    "                l=row.get('solution').copy()\n",
    "                cdd.append( count_massless_fermions(l , ν)  )\n",
    "            return min(cdd)\n",
    "        else:\n",
    "            return nmax"
   ]
  },
  {
   "cell_type": "code",
   "execution_count": 585,
   "metadata": {},
   "outputs": [
    {
     "data": {
      "text/plain": [
       "[2, 7]"
      ]
     },
     "execution_count": 585,
     "metadata": {},
     "output_type": "execute_result"
    }
   ],
   "source": [
    "get_massless_fermions([2, -4, 7, 9, -18, -18, 22],ν=-18)"
   ]
  },
  {
   "cell_type": "code",
   "execution_count": 590,
   "metadata": {},
   "outputs": [
    {
     "data": {
      "text/plain": [
       "0        0\n",
       "1        0\n",
       "2        0\n",
       "3        0\n",
       "4       10\n",
       "5        3\n",
       "6        3\n",
       "7        2\n",
       "8        3\n",
       "9        3\n",
       "10       2\n",
       "11       3\n",
       "12       3\n",
       "13       3\n",
       "14       3\n",
       "15       2\n",
       "16       3\n",
       "17       3\n",
       "18       2\n",
       "19       3\n",
       "20       3\n",
       "21       3\n",
       "22       2\n",
       "23       2\n",
       "24       2\n",
       "25       2\n",
       "26      10\n",
       "27       2\n",
       "28       3\n",
       "29      10\n",
       "30      10\n",
       "31      10\n",
       "32       1\n",
       "33      10\n",
       "34       1\n",
       "35       3\n",
       "36      10\n",
       "37       3\n",
       "38       3\n",
       "39       3\n",
       "40       3\n",
       "41       1\n",
       "42       3\n",
       "43       1\n",
       "44       3\n",
       "45       1\n",
       "46       3\n",
       "47       2\n",
       "48       3\n",
       "49       3\n",
       "        ..\n",
       "1492     4\n",
       "1493     5\n",
       "1494     5\n",
       "1495     5\n",
       "1496     4\n",
       "1497     5\n",
       "1498     5\n",
       "1499     5\n",
       "1500     5\n",
       "1501     4\n",
       "1502     4\n",
       "1503     2\n",
       "1504     3\n",
       "1505     5\n",
       "1506     5\n",
       "1507     5\n",
       "1508     5\n",
       "1509     5\n",
       "1510     5\n",
       "1511     5\n",
       "1512     5\n",
       "1513     5\n",
       "1514     4\n",
       "1515     5\n",
       "1516     2\n",
       "1517     4\n",
       "1518     5\n",
       "1519     4\n",
       "1520     3\n",
       "1521     3\n",
       "1522     5\n",
       "1523     5\n",
       "1524     4\n",
       "1525     3\n",
       "1526     4\n",
       "1527     4\n",
       "1528     5\n",
       "1529     5\n",
       "1530     4\n",
       "1531     5\n",
       "1532     5\n",
       "1533     3\n",
       "1534     5\n",
       "1535     5\n",
       "1536     4\n",
       "1537     1\n",
       "1538     4\n",
       "1539     5\n",
       "1540     5\n",
       "1541     2\n",
       "Length: 1542, dtype: int64"
      ]
     },
     "execution_count": 590,
     "metadata": {},
     "output_type": "execute_result"
    }
   ],
   "source": [
    "cl[:1542].apply(lambda row: massfer(row,label='DarkDirac'),axis='columns')"
   ]
  },
  {
   "cell_type": "code",
   "execution_count": 593,
   "metadata": {},
   "outputs": [
    {
     "data": {
      "text/html": [
       "<div>\n",
       "<style scoped>\n",
       "    .dataframe tbody tr th:only-of-type {\n",
       "        vertical-align: middle;\n",
       "    }\n",
       "\n",
       "    .dataframe tbody tr th {\n",
       "        vertical-align: top;\n",
       "    }\n",
       "\n",
       "    .dataframe thead th {\n",
       "        text-align: right;\n",
       "    }\n",
       "</style>\n",
       "<table border=\"1\" class=\"dataframe\">\n",
       "  <thead>\n",
       "    <tr style=\"text-align: right;\">\n",
       "      <th></th>\n",
       "      <th>DarkDirac</th>\n",
       "      <th>DarkMajor</th>\n",
       "      <th>XDirac</th>\n",
       "      <th>XMajor</th>\n",
       "      <th>gcd</th>\n",
       "      <th>k</th>\n",
       "      <th>l</th>\n",
       "      <th>n</th>\n",
       "      <th>nu_R</th>\n",
       "      <th>sltn</th>\n",
       "      <th>solution</th>\n",
       "      <th>DD</th>\n",
       "      <th>DM</th>\n",
       "      <th>XD</th>\n",
       "      <th>XM</th>\n",
       "    </tr>\n",
       "  </thead>\n",
       "  <tbody>\n",
       "    <tr>\n",
       "      <th>1542</th>\n",
       "      <td>1</td>\n",
       "      <td>0</td>\n",
       "      <td>0</td>\n",
       "      <td>0</td>\n",
       "      <td>8</td>\n",
       "      <td>[-2, -5, -2, 3]</td>\n",
       "      <td>[-4, -2, -4]</td>\n",
       "      <td>9</td>\n",
       "      <td>[{'D→nu_R+fi+fj': [-9, 2, 7]}]</td>\n",
       "      <td>{'4': [2]}</td>\n",
       "      <td>[2, 2, 2, 2, 7, -8, -9, -11, 13]</td>\n",
       "      <td>0</td>\n",
       "      <td>0</td>\n",
       "      <td>0</td>\n",
       "      <td>0</td>\n",
       "    </tr>\n",
       "  </tbody>\n",
       "</table>\n",
       "</div>"
      ],
      "text/plain": [
       "      DarkDirac  DarkMajor  XDirac  XMajor  gcd                k  \\\n",
       "1542          1          0       0       0    8  [-2, -5, -2, 3]   \n",
       "\n",
       "                 l  n                            nu_R        sltn  \\\n",
       "1542  [-4, -2, -4]  9  [{'D→nu_R+fi+fj': [-9, 2, 7]}]  {'4': [2]}   \n",
       "\n",
       "                              solution DD DM XD XM  \n",
       "1542  [2, 2, 2, 2, 7, -8, -9, -11, 13]  0  0  0  0  "
      ]
     },
     "execution_count": 593,
     "metadata": {},
     "output_type": "execute_result"
    }
   ],
   "source": [
    "cl[1542:1543]"
   ]
  },
  {
   "cell_type": "code",
   "execution_count": 591,
   "metadata": {},
   "outputs": [
    {
     "data": {
      "text/html": [
       "<div>\n",
       "<style scoped>\n",
       "    .dataframe tbody tr th:only-of-type {\n",
       "        vertical-align: middle;\n",
       "    }\n",
       "\n",
       "    .dataframe tbody tr th {\n",
       "        vertical-align: top;\n",
       "    }\n",
       "\n",
       "    .dataframe thead th {\n",
       "        text-align: right;\n",
       "    }\n",
       "</style>\n",
       "<table border=\"1\" class=\"dataframe\">\n",
       "  <thead>\n",
       "    <tr style=\"text-align: right;\">\n",
       "      <th></th>\n",
       "      <th>DarkDirac</th>\n",
       "      <th>DarkMajor</th>\n",
       "      <th>XDirac</th>\n",
       "      <th>XMajor</th>\n",
       "      <th>gcd</th>\n",
       "      <th>k</th>\n",
       "      <th>l</th>\n",
       "      <th>n</th>\n",
       "      <th>nu_R</th>\n",
       "      <th>sltn</th>\n",
       "      <th>solution</th>\n",
       "      <th>DD</th>\n",
       "      <th>DM</th>\n",
       "      <th>XD</th>\n",
       "      <th>XM</th>\n",
       "    </tr>\n",
       "  </thead>\n",
       "  <tbody>\n",
       "    <tr>\n",
       "      <th>1537</th>\n",
       "      <td>1</td>\n",
       "      <td>0</td>\n",
       "      <td>0</td>\n",
       "      <td>0</td>\n",
       "      <td>432</td>\n",
       "      <td>[6, -1, 7, 1]</td>\n",
       "      <td>[12, 0, 9]</td>\n",
       "      <td>9</td>\n",
       "      <td>[{'D→nu_R+fi+fj': [-13, -3, 16]}]</td>\n",
       "      <td>{'2': [-3]}</td>\n",
       "      <td>[2, -3, -3, -5, 9, -13, 15, 16, -18]</td>\n",
       "      <td>[-3]</td>\n",
       "      <td>0</td>\n",
       "      <td>0</td>\n",
       "      <td>0</td>\n",
       "    </tr>\n",
       "  </tbody>\n",
       "</table>\n",
       "</div>"
      ],
      "text/plain": [
       "      DarkDirac  DarkMajor  XDirac  XMajor  gcd              k           l  n  \\\n",
       "1537          1          0       0       0  432  [6, -1, 7, 1]  [12, 0, 9]  9   \n",
       "\n",
       "                                   nu_R         sltn  \\\n",
       "1537  [{'D→nu_R+fi+fj': [-13, -3, 16]}]  {'2': [-3]}   \n",
       "\n",
       "                                  solution    DD DM XD XM  \n",
       "1537  [2, -3, -3, -5, 9, -13, 15, 16, -18]  [-3]  0  0  0  "
      ]
     },
     "execution_count": 591,
     "metadata": {},
     "output_type": "execute_result"
    }
   ],
   "source": [
    "cl[1537:1538]"
   ]
  },
  {
   "cell_type": "code",
   "execution_count": 471,
   "metadata": {},
   "outputs": [
    {
     "data": {
      "text/html": [
       "<div>\n",
       "<style scoped>\n",
       "    .dataframe tbody tr th:only-of-type {\n",
       "        vertical-align: middle;\n",
       "    }\n",
       "\n",
       "    .dataframe tbody tr th {\n",
       "        vertical-align: top;\n",
       "    }\n",
       "\n",
       "    .dataframe thead th {\n",
       "        text-align: right;\n",
       "    }\n",
       "</style>\n",
       "<table border=\"1\" class=\"dataframe\">\n",
       "  <thead>\n",
       "    <tr style=\"text-align: right;\">\n",
       "      <th></th>\n",
       "      <th>DarkDirac</th>\n",
       "      <th>DarkMajor</th>\n",
       "      <th>XDirac</th>\n",
       "      <th>XMajor</th>\n",
       "      <th>gcd</th>\n",
       "      <th>k</th>\n",
       "      <th>l</th>\n",
       "      <th>n</th>\n",
       "      <th>nu_R</th>\n",
       "      <th>sltn</th>\n",
       "      <th>solution</th>\n",
       "      <th>DD</th>\n",
       "      <th>DM</th>\n",
       "      <th>XD</th>\n",
       "      <th>XM</th>\n",
       "    </tr>\n",
       "  </thead>\n",
       "  <tbody>\n",
       "    <tr>\n",
       "      <th>0</th>\n",
       "      <td>2</td>\n",
       "      <td>0</td>\n",
       "      <td>0</td>\n",
       "      <td>0</td>\n",
       "      <td>2</td>\n",
       "      <td>[-5, 0]</td>\n",
       "      <td>[1, -1]</td>\n",
       "      <td>6</td>\n",
       "      <td>[{'D→nu_R+fi+fj': [-15, 2, 13]}, {'D→nu_R+fi+fj': [-10, -3, 13]}]</td>\n",
       "      <td>{'2': [13]}</td>\n",
       "      <td>[2, -3, -10, 13, 13, -15]</td>\n",
       "      <td>[13]</td>\n",
       "      <td>0</td>\n",
       "      <td>0</td>\n",
       "      <td>0</td>\n",
       "    </tr>\n",
       "    <tr>\n",
       "      <th>1</th>\n",
       "      <td>2</td>\n",
       "      <td>0</td>\n",
       "      <td>0</td>\n",
       "      <td>0</td>\n",
       "      <td>7749</td>\n",
       "      <td>[4, 7]</td>\n",
       "      <td>[21, 18]</td>\n",
       "      <td>6</td>\n",
       "      <td>[{'D→nu_R+fi+fj': [-28, 3, 25]}, {'D→nu_R+fi+fj': [-21, -4, 25]}]</td>\n",
       "      <td>{'2': [25]}</td>\n",
       "      <td>[3, -4, -21, 25, 25, -28]</td>\n",
       "      <td>[25]</td>\n",
       "      <td>0</td>\n",
       "      <td>0</td>\n",
       "      <td>0</td>\n",
       "    </tr>\n",
       "    <tr>\n",
       "      <th>2</th>\n",
       "      <td>2</td>\n",
       "      <td>0</td>\n",
       "      <td>0</td>\n",
       "      <td>0</td>\n",
       "      <td>1</td>\n",
       "      <td>[-4, 0]</td>\n",
       "      <td>[-1, 1]</td>\n",
       "      <td>6</td>\n",
       "      <td>[{'D→nu_R+fi+fj': [-20, 3, 17]}, {'D→nu_R+fi+fj': [-12, -5, 17]}]</td>\n",
       "      <td>{'2': [17]}</td>\n",
       "      <td>[3, -5, -12, 17, 17, -20]</td>\n",
       "      <td>[17]</td>\n",
       "      <td>0</td>\n",
       "      <td>0</td>\n",
       "      <td>0</td>\n",
       "    </tr>\n",
       "  </tbody>\n",
       "</table>\n",
       "</div>"
      ],
      "text/plain": [
       "   DarkDirac  DarkMajor  XDirac  XMajor   gcd        k         l  n  \\\n",
       "0          2          0       0       0     2  [-5, 0]   [1, -1]  6   \n",
       "1          2          0       0       0  7749   [4, 7]  [21, 18]  6   \n",
       "2          2          0       0       0     1  [-4, 0]   [-1, 1]  6   \n",
       "\n",
       "                                                                nu_R  \\\n",
       "0  [{'D→nu_R+fi+fj': [-15, 2, 13]}, {'D→nu_R+fi+fj': [-10, -3, 13]}]   \n",
       "1  [{'D→nu_R+fi+fj': [-28, 3, 25]}, {'D→nu_R+fi+fj': [-21, -4, 25]}]   \n",
       "2  [{'D→nu_R+fi+fj': [-20, 3, 17]}, {'D→nu_R+fi+fj': [-12, -5, 17]}]   \n",
       "\n",
       "          sltn                   solution    DD DM XD XM  \n",
       "0  {'2': [13]}  [2, -3, -10, 13, 13, -15]  [13]  0  0  0  \n",
       "1  {'2': [25]}  [3, -4, -21, 25, 25, -28]  [25]  0  0  0  \n",
       "2  {'2': [17]}  [3, -5, -12, 17, 17, -20]  [17]  0  0  0  "
      ]
     },
     "execution_count": 471,
     "metadata": {},
     "output_type": "execute_result"
    }
   ],
   "source": [
    "cl[:3]"
   ]
  },
  {
   "cell_type": "markdown",
   "metadata": {},
   "source": [
    "### Tree level neutrino Dirac masses"
   ]
  },
  {
   "cell_type": "code",
   "execution_count": 416,
   "metadata": {},
   "outputs": [
    {
     "data": {
      "text/plain": [
       "[]"
      ]
     },
     "execution_count": 416,
     "metadata": {},
     "output_type": "execute_result"
    }
   ],
   "source": [
    "l=get_massless_fermions( [2, -3, -10, 13, 13, -15], ν=13,m=0)\n",
    "[ ll for ll in l if ll+ν-s==0]"
   ]
  },
  {
   "cell_type": "code",
   "execution_count": 417,
   "metadata": {},
   "outputs": [
    {
     "data": {
      "text/plain": [
       "[]"
      ]
     },
     "execution_count": 417,
     "metadata": {},
     "output_type": "execute_result"
    }
   ],
   "source": [
    "[ ll for ll in l if ll-ν+s==0]"
   ]
  },
  {
   "cell_type": "code",
   "execution_count": null,
   "metadata": {},
   "outputs": [],
   "source": []
  }
 ],
 "metadata": {
  "kernelspec": {
   "display_name": "Python 3",
   "language": "python",
   "name": "python3"
  },
  "language_info": {
   "codemirror_mode": {
    "name": "ipython",
    "version": 3
   },
   "file_extension": ".py",
   "mimetype": "text/x-python",
   "name": "python",
   "nbconvert_exporter": "python",
   "pygments_lexer": "ipython3",
   "version": "3.7.3"
  }
 },
 "nbformat": 4,
 "nbformat_minor": 4
}
