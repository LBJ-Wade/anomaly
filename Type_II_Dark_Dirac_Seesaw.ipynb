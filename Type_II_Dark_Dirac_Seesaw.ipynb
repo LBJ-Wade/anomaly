{
  "nbformat": 4,
  "nbformat_minor": 0,
  "metadata": {
    "kernelspec": {
      "display_name": "Python 3 (ipykernel)",
      "language": "python",
      "name": "python3"
    },
    "language_info": {
      "codemirror_mode": {
        "name": "ipython",
        "version": 3
      },
      "file_extension": ".py",
      "mimetype": "text/x-python",
      "name": "python",
      "nbconvert_exporter": "python",
      "pygments_lexer": "ipython3",
      "version": "3.7.3"
    },
    "colab": {
      "name": "Type-II Dark Dirac Seesaw.ipynb",
      "provenance": [],
      "collapsed_sections": []
    }
  },
  "cells": [
    {
      "cell_type": "markdown",
      "metadata": {
        "id": "tlDEHLH6KCEM"
      },
      "source": [
        "# Chiral solutions for Type-II Dirac seesaw with a Dark Symmetry"
      ]
    },
    {
      "cell_type": "code",
      "metadata": {
        "id": "GYaKHGh7KCEP"
      },
      "source": [
        "import pandas as pd\n",
        "import numpy as np\n",
        "import itertools"
      ],
      "execution_count": null,
      "outputs": []
    },
    {
      "cell_type": "markdown",
      "metadata": {
        "id": "naEIRR7wKCER"
      },
      "source": [
        "### Load full solutions"
      ]
    },
    {
      "cell_type": "code",
      "metadata": {
        "colab": {
          "base_uri": "https://localhost:8080/"
        },
        "id": "d-RviMb0KCER",
        "outputId": "e25bbb71-1f88-42e1-fe68-905b94be0b8e"
      },
      "source": [
        "ds=pd.read_json('https://github.com/restrepo/anomaly/raw/main/solutions.json.gz')\n",
        "ds.shape"
      ],
      "execution_count": null,
      "outputs": [
        {
          "output_type": "execute_result",
          "data": {
            "text/plain": [
              "(390074, 5)"
            ]
          },
          "metadata": {
            "tags": []
          },
          "execution_count": 2
        }
      ]
    },
    {
      "cell_type": "markdown",
      "metadata": {
        "id": "AvO5f37lKCET"
      },
      "source": [
        "Number of solutions with repeated charges: $(\\nu,\\nu,\\cdots)$"
      ]
    },
    {
      "cell_type": "code",
      "metadata": {
        "colab": {
          "base_uri": "https://localhost:8080/"
        },
        "id": "ByzN9LCDKCEU",
        "outputId": "b7d24039-bdb3-4fd2-f679-129a0f99dd45"
      },
      "source": [
        "dsp=ds[ds['solution'].apply(lambda l: len(l)-len(set(l))>0)].reset_index(drop=True)\n",
        "dsp.shape"
      ],
      "execution_count": null,
      "outputs": [
        {
          "output_type": "execute_result",
          "data": {
            "text/plain": [
              "(280959, 5)"
            ]
          },
          "metadata": {
            "tags": []
          },
          "execution_count": 5
        }
      ]
    },
    {
      "cell_type": "markdown",
      "metadata": {
        "id": "cthph7K1SlI9"
      },
      "source": [
        "Some reordering"
      ]
    },
    {
      "cell_type": "code",
      "metadata": {
        "colab": {
          "base_uri": "https://localhost:8080/",
          "height": 110
        },
        "id": "WZw5N5CVSqhj",
        "outputId": "79be3fba-d730-4fb2-d4ec-33bbdcb03649"
      },
      "source": [
        "dsp['nmax']=dsp['solution'].apply(lambda l: map(abs,l)).apply(max)\n",
        "dsp=dsp.sort_values(['n','nmax']).reset_index(drop=True)\n",
        "#Show the first and last one solutions\n",
        "dsp.iloc[[0,-1]]"
      ],
      "execution_count": null,
      "outputs": [
        {
          "output_type": "execute_result",
          "data": {
            "text/html": [
              "<div>\n",
              "<style scoped>\n",
              "    .dataframe tbody tr th:only-of-type {\n",
              "        vertical-align: middle;\n",
              "    }\n",
              "\n",
              "    .dataframe tbody tr th {\n",
              "        vertical-align: top;\n",
              "    }\n",
              "\n",
              "    .dataframe thead th {\n",
              "        text-align: right;\n",
              "    }\n",
              "</style>\n",
              "<table border=\"1\" class=\"dataframe\">\n",
              "  <thead>\n",
              "    <tr style=\"text-align: right;\">\n",
              "      <th></th>\n",
              "      <th>l</th>\n",
              "      <th>k</th>\n",
              "      <th>solution</th>\n",
              "      <th>gcd</th>\n",
              "      <th>n</th>\n",
              "      <th>nmax</th>\n",
              "    </tr>\n",
              "  </thead>\n",
              "  <tbody>\n",
              "    <tr>\n",
              "      <th>0</th>\n",
              "      <td>[-1, -2]</td>\n",
              "      <td>[-1, 2]</td>\n",
              "      <td>[1, 1, 1, -4, -4, 5]</td>\n",
              "      <td>1</td>\n",
              "      <td>6</td>\n",
              "      <td>5</td>\n",
              "    </tr>\n",
              "    <tr>\n",
              "      <th>280958</th>\n",
              "      <td>[-1, -2, 3, -3, 2]</td>\n",
              "      <td>[-1, 3, 2, 0, -2]</td>\n",
              "      <td>[1, 6, 6, 8, -9, -9, 21, 21, -25, -26, -26, 32]</td>\n",
              "      <td>4</td>\n",
              "      <td>12</td>\n",
              "      <td>32</td>\n",
              "    </tr>\n",
              "  </tbody>\n",
              "</table>\n",
              "</div>"
            ],
            "text/plain": [
              "                         l                  k  ...   n  nmax\n",
              "0                 [-1, -2]            [-1, 2]  ...   6     5\n",
              "280958  [-1, -2, 3, -3, 2]  [-1, 3, 2, 0, -2]  ...  12    32\n",
              "\n",
              "[2 rows x 6 columns]"
            ]
          },
          "metadata": {
            "tags": []
          },
          "execution_count": 13
        }
      ]
    },
    {
      "cell_type": "markdown",
      "metadata": {
        "id": "pJzdUkReKCEU"
      },
      "source": [
        "## 1. Check phenomenological conditions\n",
        "$$ \\nu+s=0$$"
      ]
    },
    {
      "cell_type": "code",
      "metadata": {
        "id": "NYJZBQ52KCEU"
      },
      "source": [
        "def conditions(l):\n",
        "    #Fix first set of repeated integers as 𝜈\n",
        "    νs=list(set([x for x in l if l.count(x)>=2 ]))\n",
        "    ν=νs[0]\n",
        "    #implement the phenomenological condition:\n",
        "    s=-ν\n",
        "    #Remove neutrinos from list, `l` and get extra quiral fermions\n",
        "    ψs=[x for x in l if x!=ν]\n",
        "    if len(ψs)<=2:\n",
        "        ms=ψs\n",
        "    else:\n",
        "        ms=list(set([x for x in itertools.permutations(ψs,2) if x[0]<=x[1] ]))\n",
        "    xs=[ x for x in ms if abs(x[0]+x[1])==abs(s) ]\n",
        "    #flatten\n",
        "    massive=[x for sublist in xs for x in sublist]\n",
        "\n",
        "    return list( set(ψs).difference(set(massive)) )"
      ],
      "execution_count": null,
      "outputs": []
    },
    {
      "cell_type": "code",
      "metadata": {
        "id": "5SWViO6CKCEV"
      },
      "source": [
        "dsp['massless']=dsp['solution'].apply(conditions)"
      ],
      "execution_count": null,
      "outputs": []
    },
    {
      "cell_type": "code",
      "metadata": {
        "id": "uVx-Qo3vj2oj"
      },
      "source": [
        "sltns=dsp[dsp['massless'].apply(len)<=2].reset_index(drop=True)"
      ],
      "execution_count": null,
      "outputs": []
    },
    {
      "cell_type": "code",
      "metadata": {
        "colab": {
          "base_uri": "https://localhost:8080/"
        },
        "id": "9ilKcPNhnL-u",
        "outputId": "edf8a832-9707-41ca-cc3b-f8819da781b5"
      },
      "source": [
        "sltns.shape"
      ],
      "execution_count": null,
      "outputs": [
        {
          "output_type": "execute_result",
          "data": {
            "text/plain": [
              "(12584, 7)"
            ]
          },
          "metadata": {
            "tags": []
          },
          "execution_count": 118
        }
      ]
    },
    {
      "cell_type": "code",
      "metadata": {
        "colab": {
          "base_uri": "https://localhost:8080/",
          "height": 110
        },
        "id": "GuGb5LsFnxwE",
        "outputId": "2626dd41-9127-4fec-884c-a86db491f3ad"
      },
      "source": [
        "sltns[:2]"
      ],
      "execution_count": null,
      "outputs": [
        {
          "output_type": "execute_result",
          "data": {
            "text/html": [
              "<div>\n",
              "<style scoped>\n",
              "    .dataframe tbody tr th:only-of-type {\n",
              "        vertical-align: middle;\n",
              "    }\n",
              "\n",
              "    .dataframe tbody tr th {\n",
              "        vertical-align: top;\n",
              "    }\n",
              "\n",
              "    .dataframe thead th {\n",
              "        text-align: right;\n",
              "    }\n",
              "</style>\n",
              "<table border=\"1\" class=\"dataframe\">\n",
              "  <thead>\n",
              "    <tr style=\"text-align: right;\">\n",
              "      <th></th>\n",
              "      <th>l</th>\n",
              "      <th>k</th>\n",
              "      <th>solution</th>\n",
              "      <th>gcd</th>\n",
              "      <th>n</th>\n",
              "      <th>nmax</th>\n",
              "      <th>massless</th>\n",
              "    </tr>\n",
              "  </thead>\n",
              "  <tbody>\n",
              "    <tr>\n",
              "      <th>0</th>\n",
              "      <td>[-1, -2]</td>\n",
              "      <td>[-1, 2]</td>\n",
              "      <td>[1, 1, 1, -4, -4, 5]</td>\n",
              "      <td>1</td>\n",
              "      <td>6</td>\n",
              "      <td>5</td>\n",
              "      <td>[]</td>\n",
              "    </tr>\n",
              "    <tr>\n",
              "      <th>1</th>\n",
              "      <td>[-1, 1]</td>\n",
              "      <td>[-2, 0]</td>\n",
              "      <td>[1, -2, -3, 5, 5, -6]</td>\n",
              "      <td>1</td>\n",
              "      <td>6</td>\n",
              "      <td>6</td>\n",
              "      <td>[]</td>\n",
              "    </tr>\n",
              "  </tbody>\n",
              "</table>\n",
              "</div>"
            ],
            "text/plain": [
              "          l        k               solution  gcd  n  nmax massless\n",
              "0  [-1, -2]  [-1, 2]   [1, 1, 1, -4, -4, 5]    1  6     5       []\n",
              "1   [-1, 1]  [-2, 0]  [1, -2, -3, 5, 5, -6]    1  6     6       []"
            ]
          },
          "metadata": {
            "tags": []
          },
          "execution_count": 119
        }
      ]
    },
    {
      "cell_type": "code",
      "metadata": {
        "id": "2PlDvWahoCBG"
      },
      "source": [
        ""
      ],
      "execution_count": null,
      "outputs": []
    }
  ]
}