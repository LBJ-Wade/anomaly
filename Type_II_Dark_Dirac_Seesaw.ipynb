{
  "nbformat": 4,
  "nbformat_minor": 0,
  "metadata": {
    "kernelspec": {
      "display_name": "Python 3 (ipykernel)",
      "language": "python",
      "name": "python3"
    },
    "language_info": {
      "codemirror_mode": {
        "name": "ipython",
        "version": 3
      },
      "file_extension": ".py",
      "mimetype": "text/x-python",
      "name": "python",
      "nbconvert_exporter": "python",
      "pygments_lexer": "ipython3",
      "version": "3.7.3"
    },
    "colab": {
      "name": "Type-II Dark Dirac Seesaw.ipynb",
      "provenance": [],
      "collapsed_sections": []
    }
  },
  "cells": [
    {
      "cell_type": "markdown",
      "metadata": {
        "id": "tlDEHLH6KCEM"
      },
      "source": [
        "# Chiral solutions for Type-II Dirac seesaw with a Dark Symmetry"
      ]
    },
    {
      "cell_type": "code",
      "metadata": {
        "id": "GYaKHGh7KCEP"
      },
      "source": [
        "import pandas as pd\n",
        "import numpy as np\n",
        "import itertools"
      ],
      "execution_count": null,
      "outputs": []
    },
    {
      "cell_type": "markdown",
      "metadata": {
        "id": "naEIRR7wKCER"
      },
      "source": [
        "### Load full solutions"
      ]
    },
    {
      "cell_type": "code",
      "metadata": {
        "colab": {
          "base_uri": "https://localhost:8080/"
        },
        "id": "d-RviMb0KCER",
        "outputId": "dde4279b-5e65-4ca5-8a45-d1d56968b2e0"
      },
      "source": [
        "ds=pd.read_json('https://github.com/restrepo/anomaly/raw/main/solutions.json.gz')\n",
        "ds.shape"
      ],
      "execution_count": null,
      "outputs": [
        {
          "output_type": "execute_result",
          "data": {
            "text/plain": [
              "(390074, 5)"
            ]
          },
          "metadata": {
            "tags": []
          },
          "execution_count": 2
        }
      ]
    },
    {
      "cell_type": "markdown",
      "metadata": {
        "id": "AvO5f37lKCET"
      },
      "source": [
        "Number of solutions with repeated charges: $(\\nu,\\nu,\\cdots)$"
      ]
    },
    {
      "cell_type": "code",
      "metadata": {
        "colab": {
          "base_uri": "https://localhost:8080/",
          "height": 415
        },
        "id": "3yhWUi8WAIod",
        "outputId": "ce77bba2-bfa8-4cf6-8e89-579cbf25d278"
      },
      "source": [
        "ds"
      ],
      "execution_count": null,
      "outputs": [
        {
          "output_type": "execute_result",
          "data": {
            "text/html": [
              "<div>\n",
              "<style scoped>\n",
              "    .dataframe tbody tr th:only-of-type {\n",
              "        vertical-align: middle;\n",
              "    }\n",
              "\n",
              "    .dataframe tbody tr th {\n",
              "        vertical-align: top;\n",
              "    }\n",
              "\n",
              "    .dataframe thead th {\n",
              "        text-align: right;\n",
              "    }\n",
              "</style>\n",
              "<table border=\"1\" class=\"dataframe\">\n",
              "  <thead>\n",
              "    <tr style=\"text-align: right;\">\n",
              "      <th></th>\n",
              "      <th>l</th>\n",
              "      <th>k</th>\n",
              "      <th>solution</th>\n",
              "      <th>gcd</th>\n",
              "      <th>n</th>\n",
              "    </tr>\n",
              "  </thead>\n",
              "  <tbody>\n",
              "    <tr>\n",
              "      <th>0</th>\n",
              "      <td>[-1, 0, -1, 0, -1]</td>\n",
              "      <td>[-1, 0, -1, 1, -1]</td>\n",
              "      <td>[1, 4, 4, 4, -5, -5, -5, -5, -5, 6, 6]</td>\n",
              "      <td>1</td>\n",
              "      <td>11</td>\n",
              "    </tr>\n",
              "    <tr>\n",
              "      <th>1</th>\n",
              "      <td>[-1, 1]</td>\n",
              "      <td>[-1, 0, -1]</td>\n",
              "      <td>[1, 2, 2, -3, -3, -3, 4]</td>\n",
              "      <td>1</td>\n",
              "      <td>7</td>\n",
              "    </tr>\n",
              "    <tr>\n",
              "      <th>2</th>\n",
              "      <td>[1, -1, 0, 1, -1]</td>\n",
              "      <td>[-2, 0, -1, -2, 0]</td>\n",
              "      <td>[1, 1, -2, -2, -3, -3, 5, 5, 5, 5, -6, -6]</td>\n",
              "      <td>2</td>\n",
              "      <td>12</td>\n",
              "    </tr>\n",
              "    <tr>\n",
              "      <th>3</th>\n",
              "      <td>[-1, 1, -1, 1, -1]</td>\n",
              "      <td>[-2, -1, 0, -1, 0]</td>\n",
              "      <td>[1, 1, 1, 1, 2, 2, 2, -3, -4, -4, -6, 7]</td>\n",
              "      <td>1</td>\n",
              "      <td>12</td>\n",
              "    </tr>\n",
              "    <tr>\n",
              "      <th>4</th>\n",
              "      <td>[1, 0, 1, 0, -1]</td>\n",
              "      <td>[-2, -1, -2, -1, 0]</td>\n",
              "      <td>[1, 1, 1, -2, -2, -5, -5, 6, 6, 7, -8]</td>\n",
              "      <td>1</td>\n",
              "      <td>11</td>\n",
              "    </tr>\n",
              "    <tr>\n",
              "      <th>...</th>\n",
              "      <td>...</td>\n",
              "      <td>...</td>\n",
              "      <td>...</td>\n",
              "      <td>...</td>\n",
              "      <td>...</td>\n",
              "    </tr>\n",
              "    <tr>\n",
              "      <th>390069</th>\n",
              "      <td>[-3, -15, -6]</td>\n",
              "      <td>[-3, 8, 9]</td>\n",
              "      <td>[8, -9, -9, 11, 25, -29, -29, 32]</td>\n",
              "      <td>36</td>\n",
              "      <td>8</td>\n",
              "    </tr>\n",
              "    <tr>\n",
              "      <th>390070</th>\n",
              "      <td>[-10, -5, -15]</td>\n",
              "      <td>[-10, -12, 12]</td>\n",
              "      <td>[5, 5, 5, -17, -27, -27, 28, 28]</td>\n",
              "      <td>100</td>\n",
              "      <td>8</td>\n",
              "    </tr>\n",
              "    <tr>\n",
              "      <th>390071</th>\n",
              "      <td>[15, -1, 15]</td>\n",
              "      <td>[-14, -13, -14]</td>\n",
              "      <td>[14, -15, -16, 17, -30, 31, 31, -32]</td>\n",
              "      <td>1</td>\n",
              "      <td>8</td>\n",
              "    </tr>\n",
              "    <tr>\n",
              "      <th>390072</th>\n",
              "      <td>[-15, -9, -1]</td>\n",
              "      <td>[-13, -14, -12]</td>\n",
              "      <td>[11, -13, -15, 19, 23, -26, -30, 31]</td>\n",
              "      <td>18</td>\n",
              "      <td>8</td>\n",
              "    </tr>\n",
              "    <tr>\n",
              "      <th>390073</th>\n",
              "      <td>[10, 15, 5]</td>\n",
              "      <td>[-11, -14, 7]</td>\n",
              "      <td>[16, -17, -17, 19, 20, -22, -22, 23]</td>\n",
              "      <td>2000</td>\n",
              "      <td>8</td>\n",
              "    </tr>\n",
              "  </tbody>\n",
              "</table>\n",
              "<p>390074 rows × 5 columns</p>\n",
              "</div>"
            ],
            "text/plain": [
              "                         l                    k  ...   gcd   n\n",
              "0       [-1, 0, -1, 0, -1]   [-1, 0, -1, 1, -1]  ...     1  11\n",
              "1                  [-1, 1]          [-1, 0, -1]  ...     1   7\n",
              "2        [1, -1, 0, 1, -1]   [-2, 0, -1, -2, 0]  ...     2  12\n",
              "3       [-1, 1, -1, 1, -1]   [-2, -1, 0, -1, 0]  ...     1  12\n",
              "4         [1, 0, 1, 0, -1]  [-2, -1, -2, -1, 0]  ...     1  11\n",
              "...                    ...                  ...  ...   ...  ..\n",
              "390069       [-3, -15, -6]           [-3, 8, 9]  ...    36   8\n",
              "390070      [-10, -5, -15]       [-10, -12, 12]  ...   100   8\n",
              "390071        [15, -1, 15]      [-14, -13, -14]  ...     1   8\n",
              "390072       [-15, -9, -1]      [-13, -14, -12]  ...    18   8\n",
              "390073         [10, 15, 5]        [-11, -14, 7]  ...  2000   8\n",
              "\n",
              "[390074 rows x 5 columns]"
            ]
          },
          "metadata": {
            "tags": []
          },
          "execution_count": 3
        }
      ]
    },
    {
      "cell_type": "code",
      "metadata": {
        "colab": {
          "base_uri": "https://localhost:8080/"
        },
        "id": "ByzN9LCDKCEU",
        "outputId": "a576876a-2024-46e5-9d90-bc73534c197e"
      },
      "source": [
        "dsp=ds[ds['solution'].apply(lambda l: len(l)-len(set(l))>0)].reset_index(drop=True)\n",
        "dsp.shape"
      ],
      "execution_count": null,
      "outputs": [
        {
          "output_type": "execute_result",
          "data": {
            "text/plain": [
              "(280959, 5)"
            ]
          },
          "metadata": {
            "tags": []
          },
          "execution_count": 4
        }
      ]
    },
    {
      "cell_type": "markdown",
      "metadata": {
        "id": "cthph7K1SlI9"
      },
      "source": [
        "Some reordering"
      ]
    },
    {
      "cell_type": "code",
      "metadata": {
        "colab": {
          "base_uri": "https://localhost:8080/",
          "height": 171
        },
        "id": "WZw5N5CVSqhj",
        "outputId": "0d2761c9-27d3-45ba-a8dc-f9a817e7a6de"
      },
      "source": [
        "dsp['nmax']=dsp['solution'].apply(lambda l: map(abs,l)).apply(max)\n",
        "dsp=dsp.sort_values(['n','nmax']).reset_index(drop=True)\n",
        "#Show the first and last one solutions\n",
        "dsp.iloc[[0,1,2,-1]]"
      ],
      "execution_count": null,
      "outputs": [
        {
          "output_type": "execute_result",
          "data": {
            "text/html": [
              "<div>\n",
              "<style scoped>\n",
              "    .dataframe tbody tr th:only-of-type {\n",
              "        vertical-align: middle;\n",
              "    }\n",
              "\n",
              "    .dataframe tbody tr th {\n",
              "        vertical-align: top;\n",
              "    }\n",
              "\n",
              "    .dataframe thead th {\n",
              "        text-align: right;\n",
              "    }\n",
              "</style>\n",
              "<table border=\"1\" class=\"dataframe\">\n",
              "  <thead>\n",
              "    <tr style=\"text-align: right;\">\n",
              "      <th></th>\n",
              "      <th>l</th>\n",
              "      <th>k</th>\n",
              "      <th>solution</th>\n",
              "      <th>gcd</th>\n",
              "      <th>n</th>\n",
              "      <th>nmax</th>\n",
              "    </tr>\n",
              "  </thead>\n",
              "  <tbody>\n",
              "    <tr>\n",
              "      <th>0</th>\n",
              "      <td>[-1, -2]</td>\n",
              "      <td>[-1, 2]</td>\n",
              "      <td>[1, 1, 1, -4, -4, 5]</td>\n",
              "      <td>1</td>\n",
              "      <td>6</td>\n",
              "      <td>5</td>\n",
              "    </tr>\n",
              "    <tr>\n",
              "      <th>1</th>\n",
              "      <td>[-1, 1]</td>\n",
              "      <td>[-2, 0]</td>\n",
              "      <td>[1, -2, -3, 5, 5, -6]</td>\n",
              "      <td>1</td>\n",
              "      <td>6</td>\n",
              "      <td>6</td>\n",
              "    </tr>\n",
              "    <tr>\n",
              "      <th>2</th>\n",
              "      <td>[0, 1]</td>\n",
              "      <td>[-1, -3, 1]</td>\n",
              "      <td>[1, 1, 5, -9, -9, 11]</td>\n",
              "      <td>2</td>\n",
              "      <td>6</td>\n",
              "      <td>11</td>\n",
              "    </tr>\n",
              "    <tr>\n",
              "      <th>280958</th>\n",
              "      <td>[-1, -2, 3, -3, 2]</td>\n",
              "      <td>[-1, 3, 2, 0, -2]</td>\n",
              "      <td>[1, 6, 6, 8, -9, -9, 21, 21, -25, -26, -26, 32]</td>\n",
              "      <td>4</td>\n",
              "      <td>12</td>\n",
              "      <td>32</td>\n",
              "    </tr>\n",
              "  </tbody>\n",
              "</table>\n",
              "</div>"
            ],
            "text/plain": [
              "                         l                  k  ...   n  nmax\n",
              "0                 [-1, -2]            [-1, 2]  ...   6     5\n",
              "1                  [-1, 1]            [-2, 0]  ...   6     6\n",
              "2                   [0, 1]        [-1, -3, 1]  ...   6    11\n",
              "280958  [-1, -2, 3, -3, 2]  [-1, 3, 2, 0, -2]  ...  12    32\n",
              "\n",
              "[4 rows x 6 columns]"
            ]
          },
          "metadata": {
            "tags": []
          },
          "execution_count": 7
        }
      ]
    },
    {
      "cell_type": "markdown",
      "metadata": {
        "id": "pJzdUkReKCEU"
      },
      "source": [
        "## 1. Check phenomenological conditions\n",
        "$$(\\nu,\\nu,\\nu,\\psi_1,\\psi_2,\\cdots)$$\n",
        "\n",
        "\n",
        "$$ \\nu+s=0$$\n",
        "\n",
        "$$ \\psi_i+\\psi_j=|s|$$"
      ]
    },
    {
      "cell_type": "markdown",
      "metadata": {
        "id": "63GncyNNL-ZH"
      },
      "source": [
        "Test:"
      ]
    },
    {
      "cell_type": "code",
      "metadata": {
        "colab": {
          "base_uri": "https://localhost:8080/"
        },
        "id": "P98Y4w07DFr_",
        "outputId": "0809b258-b9c9-4f6d-aab6-5a8077d54c96"
      },
      "source": [
        "s=-1\n",
        "ms=set([x for x in itertools.permutations([-4, -4, 5],2) if x[0]<=x[1]])\n",
        "xs=[ x for x in ms if abs(x[0]+x[1])==abs(s) ]\n",
        "[x for sublist in xs for x in sublist]"
      ],
      "execution_count": null,
      "outputs": [
        {
          "output_type": "execute_result",
          "data": {
            "text/plain": [
              "[-4, 5]"
            ]
          },
          "metadata": {
            "tags": []
          },
          "execution_count": 18
        }
      ]
    },
    {
      "cell_type": "markdown",
      "metadata": {
        "id": "ByWsvK9kMCQb"
      },
      "source": [
        "Real implementation"
      ]
    },
    {
      "cell_type": "code",
      "metadata": {
        "id": "NYJZBQ52KCEU"
      },
      "source": [
        "def conditions(l):\n",
        "    #Fix first set of repeated integers as 𝜈\n",
        "    νs=list(set([x for x in l if l.count(x)>=2 ]))\n",
        "    ν=νs[0]\n",
        "    #implement the phenomenological condition:\n",
        "    s=-ν\n",
        "    #Remove neutrinos from list, `l` and get extra quiral fermions\n",
        "    ψs=[x for x in l if x!=ν]\n",
        "    if len(ψs)<=2:\n",
        "        ms=ψs\n",
        "    else:\n",
        "        ms=set([x for x in itertools.permutations(ψs,2) if x[0]<=x[1] ])\n",
        "    xs=[ x for x in ms if abs(x[0]+x[1])==abs(s) ]\n",
        "    #flatten list of list into list\n",
        "    massive=[x for sublist in xs for x in sublist]\n",
        "\n",
        "    return list( set(ψs).difference(set(massive)) )"
      ],
      "execution_count": null,
      "outputs": []
    },
    {
      "cell_type": "code",
      "metadata": {
        "id": "5SWViO6CKCEV"
      },
      "source": [
        "dsp['massless']=dsp['solution'].apply(conditions)"
      ],
      "execution_count": null,
      "outputs": []
    },
    {
      "cell_type": "code",
      "metadata": {
        "colab": {
          "base_uri": "https://localhost:8080/",
          "height": 415
        },
        "id": "L_0PtC9aFm0N",
        "outputId": "dd81a7d1-7229-46ab-f136-1ef9aaa12de1"
      },
      "source": [
        "dsp"
      ],
      "execution_count": null,
      "outputs": [
        {
          "output_type": "execute_result",
          "data": {
            "text/html": [
              "<div>\n",
              "<style scoped>\n",
              "    .dataframe tbody tr th:only-of-type {\n",
              "        vertical-align: middle;\n",
              "    }\n",
              "\n",
              "    .dataframe tbody tr th {\n",
              "        vertical-align: top;\n",
              "    }\n",
              "\n",
              "    .dataframe thead th {\n",
              "        text-align: right;\n",
              "    }\n",
              "</style>\n",
              "<table border=\"1\" class=\"dataframe\">\n",
              "  <thead>\n",
              "    <tr style=\"text-align: right;\">\n",
              "      <th></th>\n",
              "      <th>l</th>\n",
              "      <th>k</th>\n",
              "      <th>solution</th>\n",
              "      <th>gcd</th>\n",
              "      <th>n</th>\n",
              "      <th>nmax</th>\n",
              "      <th>massless</th>\n",
              "    </tr>\n",
              "  </thead>\n",
              "  <tbody>\n",
              "    <tr>\n",
              "      <th>0</th>\n",
              "      <td>[-1, -2]</td>\n",
              "      <td>[-1, 2]</td>\n",
              "      <td>[1, 1, 1, -4, -4, 5]</td>\n",
              "      <td>1</td>\n",
              "      <td>6</td>\n",
              "      <td>5</td>\n",
              "      <td>[]</td>\n",
              "    </tr>\n",
              "    <tr>\n",
              "      <th>1</th>\n",
              "      <td>[-1, 1]</td>\n",
              "      <td>[-2, 0]</td>\n",
              "      <td>[1, -2, -3, 5, 5, -6]</td>\n",
              "      <td>1</td>\n",
              "      <td>6</td>\n",
              "      <td>6</td>\n",
              "      <td>[]</td>\n",
              "    </tr>\n",
              "    <tr>\n",
              "      <th>2</th>\n",
              "      <td>[0, 1]</td>\n",
              "      <td>[-1, -3, 1]</td>\n",
              "      <td>[1, 1, 5, -9, -9, 11]</td>\n",
              "      <td>2</td>\n",
              "      <td>6</td>\n",
              "      <td>11</td>\n",
              "      <td>[11, 5, -9]</td>\n",
              "    </tr>\n",
              "    <tr>\n",
              "      <th>3</th>\n",
              "      <td>[1, -2]</td>\n",
              "      <td>[-4, 1]</td>\n",
              "      <td>[1, -4, -4, 9, 9, -11]</td>\n",
              "      <td>3</td>\n",
              "      <td>6</td>\n",
              "      <td>11</td>\n",
              "      <td>[1, -4, -11]</td>\n",
              "    </tr>\n",
              "    <tr>\n",
              "      <th>4</th>\n",
              "      <td>[-2, -1]</td>\n",
              "      <td>[-2, -3]</td>\n",
              "      <td>[2, 2, 3, -8, -12, 13]</td>\n",
              "      <td>1</td>\n",
              "      <td>6</td>\n",
              "      <td>13</td>\n",
              "      <td>[-8, 3, -12, 13]</td>\n",
              "    </tr>\n",
              "    <tr>\n",
              "      <th>...</th>\n",
              "      <td>...</td>\n",
              "      <td>...</td>\n",
              "      <td>...</td>\n",
              "      <td>...</td>\n",
              "      <td>...</td>\n",
              "      <td>...</td>\n",
              "      <td>...</td>\n",
              "    </tr>\n",
              "    <tr>\n",
              "      <th>280954</th>\n",
              "      <td>[-2, -3, -1, 3, 2]</td>\n",
              "      <td>[-1, 3, 1, -1, -3]</td>\n",
              "      <td>[1, 2, -10, 12, 19, 19, -23, -24, -30, -30, 32...</td>\n",
              "      <td>2</td>\n",
              "      <td>12</td>\n",
              "      <td>32</td>\n",
              "      <td>[1, 2, -30, -24, -23, 12, 19, -10]</td>\n",
              "    </tr>\n",
              "    <tr>\n",
              "      <th>280955</th>\n",
              "      <td>[-1, -2, 0, 3, 2]</td>\n",
              "      <td>[-1, 3, 1, -1, -2]</td>\n",
              "      <td>[1, 1, 1, 1, 8, -12, -19, 20, 21, -23, -31, 32]</td>\n",
              "      <td>1</td>\n",
              "      <td>12</td>\n",
              "      <td>32</td>\n",
              "      <td>[8, -23, -12, 21]</td>\n",
              "    </tr>\n",
              "    <tr>\n",
              "      <th>280956</th>\n",
              "      <td>[-1, 2, -3, -2, -3]</td>\n",
              "      <td>[-1, 3, 2, -2, -1]</td>\n",
              "      <td>[1, 2, 2, 4, 5, -7, -7, -9, -11, 25, 27, -32]</td>\n",
              "      <td>2</td>\n",
              "      <td>12</td>\n",
              "      <td>32</td>\n",
              "      <td>[1, 27]</td>\n",
              "    </tr>\n",
              "    <tr>\n",
              "      <th>280957</th>\n",
              "      <td>[-1, 3, -2, 2, -2]</td>\n",
              "      <td>[-1, 3, 2, -1, -2]</td>\n",
              "      <td>[1, 3, 4, 8, -9, -9, -12, 19, 19, -28, -28, 32]</td>\n",
              "      <td>1</td>\n",
              "      <td>12</td>\n",
              "      <td>32</td>\n",
              "      <td>[32, 1, 3, 4, -28, 8, -12, -9]</td>\n",
              "    </tr>\n",
              "    <tr>\n",
              "      <th>280958</th>\n",
              "      <td>[-1, -2, 3, -3, 2]</td>\n",
              "      <td>[-1, 3, 2, 0, -2]</td>\n",
              "      <td>[1, 6, 6, 8, -9, -9, 21, 21, -25, -26, -26, 32]</td>\n",
              "      <td>4</td>\n",
              "      <td>12</td>\n",
              "      <td>32</td>\n",
              "      <td>[32, 1, -9, 21, 6, -25, 8]</td>\n",
              "    </tr>\n",
              "  </tbody>\n",
              "</table>\n",
              "<p>280959 rows × 7 columns</p>\n",
              "</div>"
            ],
            "text/plain": [
              "                          l  ...                            massless\n",
              "0                  [-1, -2]  ...                                  []\n",
              "1                   [-1, 1]  ...                                  []\n",
              "2                    [0, 1]  ...                         [11, 5, -9]\n",
              "3                   [1, -2]  ...                        [1, -4, -11]\n",
              "4                  [-2, -1]  ...                    [-8, 3, -12, 13]\n",
              "...                     ...  ...                                 ...\n",
              "280954   [-2, -3, -1, 3, 2]  ...  [1, 2, -30, -24, -23, 12, 19, -10]\n",
              "280955    [-1, -2, 0, 3, 2]  ...                   [8, -23, -12, 21]\n",
              "280956  [-1, 2, -3, -2, -3]  ...                             [1, 27]\n",
              "280957   [-1, 3, -2, 2, -2]  ...      [32, 1, 3, 4, -28, 8, -12, -9]\n",
              "280958   [-1, -2, 3, -3, 2]  ...          [32, 1, -9, 21, 6, -25, 8]\n",
              "\n",
              "[280959 rows x 7 columns]"
            ]
          },
          "metadata": {
            "tags": []
          },
          "execution_count": 23
        }
      ]
    },
    {
      "cell_type": "code",
      "metadata": {
        "id": "uVx-Qo3vj2oj"
      },
      "source": [
        "sltns=dsp[dsp['massless'].apply(len)<=2].reset_index(drop=True)"
      ],
      "execution_count": null,
      "outputs": []
    },
    {
      "cell_type": "code",
      "metadata": {
        "colab": {
          "base_uri": "https://localhost:8080/"
        },
        "id": "9ilKcPNhnL-u",
        "outputId": "61892c4e-3500-4f7c-8f71-7768412f2978"
      },
      "source": [
        "sltns.shape"
      ],
      "execution_count": null,
      "outputs": [
        {
          "output_type": "execute_result",
          "data": {
            "text/plain": [
              "(12584, 7)"
            ]
          },
          "metadata": {
            "tags": []
          },
          "execution_count": 25
        }
      ]
    },
    {
      "cell_type": "code",
      "metadata": {
        "colab": {
          "base_uri": "https://localhost:8080/",
          "height": 355
        },
        "id": "GuGb5LsFnxwE",
        "outputId": "769d91a7-8bc0-48f9-f07b-5d07ae89f917"
      },
      "source": [
        "sltns[:10]"
      ],
      "execution_count": null,
      "outputs": [
        {
          "output_type": "execute_result",
          "data": {
            "text/html": [
              "<div>\n",
              "<style scoped>\n",
              "    .dataframe tbody tr th:only-of-type {\n",
              "        vertical-align: middle;\n",
              "    }\n",
              "\n",
              "    .dataframe tbody tr th {\n",
              "        vertical-align: top;\n",
              "    }\n",
              "\n",
              "    .dataframe thead th {\n",
              "        text-align: right;\n",
              "    }\n",
              "</style>\n",
              "<table border=\"1\" class=\"dataframe\">\n",
              "  <thead>\n",
              "    <tr style=\"text-align: right;\">\n",
              "      <th></th>\n",
              "      <th>l</th>\n",
              "      <th>k</th>\n",
              "      <th>solution</th>\n",
              "      <th>gcd</th>\n",
              "      <th>n</th>\n",
              "      <th>nmax</th>\n",
              "      <th>massless</th>\n",
              "    </tr>\n",
              "  </thead>\n",
              "  <tbody>\n",
              "    <tr>\n",
              "      <th>0</th>\n",
              "      <td>[-1, -2]</td>\n",
              "      <td>[-1, 2]</td>\n",
              "      <td>[1, 1, 1, -4, -4, 5]</td>\n",
              "      <td>1</td>\n",
              "      <td>6</td>\n",
              "      <td>5</td>\n",
              "      <td>[]</td>\n",
              "    </tr>\n",
              "    <tr>\n",
              "      <th>1</th>\n",
              "      <td>[-1, 1]</td>\n",
              "      <td>[-2, 0]</td>\n",
              "      <td>[1, -2, -3, 5, 5, -6]</td>\n",
              "      <td>1</td>\n",
              "      <td>6</td>\n",
              "      <td>6</td>\n",
              "      <td>[]</td>\n",
              "    </tr>\n",
              "    <tr>\n",
              "      <th>2</th>\n",
              "      <td>[1, 0]</td>\n",
              "      <td>[-1, -5, 0]</td>\n",
              "      <td>[2, -3, -10, 13, 13, -15]</td>\n",
              "      <td>2</td>\n",
              "      <td>6</td>\n",
              "      <td>15</td>\n",
              "      <td>[]</td>\n",
              "    </tr>\n",
              "    <tr>\n",
              "      <th>3</th>\n",
              "      <td>[0, 2]</td>\n",
              "      <td>[-1, -2, 1]</td>\n",
              "      <td>[1, 1, 8, -11, -16, 17]</td>\n",
              "      <td>1</td>\n",
              "      <td>6</td>\n",
              "      <td>17</td>\n",
              "      <td>[8, -11]</td>\n",
              "    </tr>\n",
              "    <tr>\n",
              "      <th>4</th>\n",
              "      <td>[1, 2]</td>\n",
              "      <td>[-1, -2, 0]</td>\n",
              "      <td>[8, -11, -11, 16, 17, -19]</td>\n",
              "      <td>1</td>\n",
              "      <td>6</td>\n",
              "      <td>19</td>\n",
              "      <td>[16, 17]</td>\n",
              "    </tr>\n",
              "    <tr>\n",
              "      <th>5</th>\n",
              "      <td>[1, 0]</td>\n",
              "      <td>[-1, -4, 0]</td>\n",
              "      <td>[3, -5, -12, 17, 17, -20]</td>\n",
              "      <td>1</td>\n",
              "      <td>6</td>\n",
              "      <td>20</td>\n",
              "      <td>[]</td>\n",
              "    </tr>\n",
              "    <tr>\n",
              "      <th>6</th>\n",
              "      <td>[1, -2]</td>\n",
              "      <td>[-1, -4, 0]</td>\n",
              "      <td>[10, -13, -13, 17, 22, -23]</td>\n",
              "      <td>1</td>\n",
              "      <td>6</td>\n",
              "      <td>23</td>\n",
              "      <td>[17, 22]</td>\n",
              "    </tr>\n",
              "    <tr>\n",
              "      <th>7</th>\n",
              "      <td>[1, 0]</td>\n",
              "      <td>[-1, -7, 0]</td>\n",
              "      <td>[3, -4, -21, 25, 25, -28]</td>\n",
              "      <td>2</td>\n",
              "      <td>6</td>\n",
              "      <td>28</td>\n",
              "      <td>[]</td>\n",
              "    </tr>\n",
              "    <tr>\n",
              "      <th>8</th>\n",
              "      <td>[1, 2]</td>\n",
              "      <td>[-1, 2, 0]</td>\n",
              "      <td>[4, -11, -11, 20, 29, -31]</td>\n",
              "      <td>1</td>\n",
              "      <td>6</td>\n",
              "      <td>31</td>\n",
              "      <td>[4, 29]</td>\n",
              "    </tr>\n",
              "    <tr>\n",
              "      <th>9</th>\n",
              "      <td>[0, 3]</td>\n",
              "      <td>[-1, 2, 1]</td>\n",
              "      <td>[8, -13, -13, 19, 31, -32]</td>\n",
              "      <td>2</td>\n",
              "      <td>6</td>\n",
              "      <td>32</td>\n",
              "      <td>[8, 31]</td>\n",
              "    </tr>\n",
              "  </tbody>\n",
              "</table>\n",
              "</div>"
            ],
            "text/plain": [
              "          l            k                     solution  gcd  n  nmax  massless\n",
              "0  [-1, -2]      [-1, 2]         [1, 1, 1, -4, -4, 5]    1  6     5        []\n",
              "1   [-1, 1]      [-2, 0]        [1, -2, -3, 5, 5, -6]    1  6     6        []\n",
              "2    [1, 0]  [-1, -5, 0]    [2, -3, -10, 13, 13, -15]    2  6    15        []\n",
              "3    [0, 2]  [-1, -2, 1]      [1, 1, 8, -11, -16, 17]    1  6    17  [8, -11]\n",
              "4    [1, 2]  [-1, -2, 0]   [8, -11, -11, 16, 17, -19]    1  6    19  [16, 17]\n",
              "5    [1, 0]  [-1, -4, 0]    [3, -5, -12, 17, 17, -20]    1  6    20        []\n",
              "6   [1, -2]  [-1, -4, 0]  [10, -13, -13, 17, 22, -23]    1  6    23  [17, 22]\n",
              "7    [1, 0]  [-1, -7, 0]    [3, -4, -21, 25, 25, -28]    2  6    28        []\n",
              "8    [1, 2]   [-1, 2, 0]   [4, -11, -11, 20, 29, -31]    1  6    31   [4, 29]\n",
              "9    [0, 3]   [-1, 2, 1]   [8, -13, -13, 19, 31, -32]    2  6    32   [8, 31]"
            ]
          },
          "metadata": {
            "tags": []
          },
          "execution_count": 26
        }
      ]
    },
    {
      "cell_type": "code",
      "metadata": {
        "id": "2PlDvWahoCBG"
      },
      "source": [
        ""
      ],
      "execution_count": null,
      "outputs": []
    }
  ]
}