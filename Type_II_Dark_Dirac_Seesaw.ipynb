{
 "cells": [
  {
   "cell_type": "markdown",
   "metadata": {
    "id": "tlDEHLH6KCEM"
   },
   "source": [
    "# Chiral solutions for Type-II Dirac seesaw with a Active Symmetry\n",
    "![img](https://raw.githubusercontent.com/restrepo/anomaly/main/schema.svg)"
   ]
  },
  {
   "cell_type": "code",
   "execution_count": 1,
   "metadata": {
    "id": "GYaKHGh7KCEP"
   },
   "outputs": [],
   "source": [
    "import pandas as pd\n",
    "import numpy as np\n",
    "import itertools"
   ]
  },
  {
   "cell_type": "code",
   "execution_count": 2,
   "metadata": {},
   "outputs": [],
   "source": [
    "pd.set_option('display.max_colwidth',500)"
   ]
  },
  {
   "cell_type": "markdown",
   "metadata": {
    "id": "naEIRR7wKCER"
   },
   "source": [
    "### Load full solutions"
   ]
  },
  {
   "cell_type": "code",
   "execution_count": 3,
   "metadata": {
    "colab": {
     "base_uri": "https://localhost:8080/"
    },
    "id": "d-RviMb0KCER",
    "outputId": "dde4279b-5e65-4ca5-8a45-d1d56968b2e0"
   },
   "outputs": [
    {
     "data": {
      "text/plain": [
       "(390074, 5)"
      ]
     },
     "execution_count": 3,
     "metadata": {},
     "output_type": "execute_result"
    }
   ],
   "source": [
    "ds=pd.read_json('https://github.com/restrepo/anomaly/raw/main/solutions.json.gz')\n",
    "ds.shape"
   ]
  },
  {
   "cell_type": "markdown",
   "metadata": {},
   "source": [
    "## Filter two set of repeated charges\n",
    "with one of them repeated 3 times\n",
    "$$(\\nu,\\nu[,\\nu],m,m,m,\\psi_1,\\psi_2,\\cdots)$$\n"
   ]
  },
  {
   "cell_type": "code",
   "execution_count": 4,
   "metadata": {
    "colab": {
     "base_uri": "https://localhost:8080/"
    },
    "id": "ByzN9LCDKCEU",
    "outputId": "a576876a-2024-46e5-9d90-bc73534c197e"
   },
   "outputs": [
    {
     "data": {
      "text/plain": [
       "(48290, 5)"
      ]
     },
     "execution_count": 4,
     "metadata": {},
     "output_type": "execute_result"
    }
   ],
   "source": [
    "#at least two set of repeated numbers\n",
    "dsp=ds[ds['solution'].apply(lambda l: len(l)-len(set(l))>2)].reset_index(drop=True)\n",
    "dsp.shape"
   ]
  },
  {
   "cell_type": "code",
   "execution_count": 5,
   "metadata": {},
   "outputs": [],
   "source": [
    "dsp=dsp[dsp['solution'].apply(lambda l: 3 in [ y for y in [l.count(x) for x in set(l) if l.count(x)!=1] \n",
    "                                  if y==2 or y==3\n",
    "                                ])].reset_index(drop=True)"
   ]
  },
  {
   "cell_type": "code",
   "execution_count": 6,
   "metadata": {},
   "outputs": [
    {
     "data": {
      "text/plain": [
       "0           [1, 4, 4, 4, -5, -5, -5, -5, -5, 6, 6]\n",
       "1                         [1, 2, 2, -3, -3, -3, 4]\n",
       "2         [1, 1, 1, 1, 2, 2, 2, -3, -4, -4, -6, 7]\n",
       "3           [1, 1, 1, -2, -2, -5, -5, 6, 6, 7, -8]\n",
       "4        [1, 1, 1, -2, 6, 6, 6, -7, -7, -7, -7, 9]\n",
       "                           ...                    \n",
       "21462          [3, 3, 3, 4, -14, 26, -27, -27, 29]\n",
       "21463                [9, 9, -24, -24, -24, 25, 29]\n",
       "21464         [13, -17, -17, -17, 20, 20, 23, -25]\n",
       "21465         [13, 13, -15, -15, -15, 20, 27, -28]\n",
       "21466             [5, 5, 5, -17, -27, -27, 28, 28]\n",
       "Name: solution, Length: 21467, dtype: object"
      ]
     },
     "execution_count": 6,
     "metadata": {},
     "output_type": "execute_result"
    }
   ],
   "source": [
    "dsp['solution']"
   ]
  },
  {
   "cell_type": "markdown",
   "metadata": {
    "id": "cthph7K1SlI9"
   },
   "source": [
    "Some reordering"
   ]
  },
  {
   "cell_type": "code",
   "execution_count": 7,
   "metadata": {
    "colab": {
     "base_uri": "https://localhost:8080/",
     "height": 171
    },
    "id": "WZw5N5CVSqhj",
    "outputId": "0d2761c9-27d3-45ba-a8dc-f9a817e7a6de"
   },
   "outputs": [
    {
     "data": {
      "text/html": [
       "<div>\n",
       "<style scoped>\n",
       "    .dataframe tbody tr th:only-of-type {\n",
       "        vertical-align: middle;\n",
       "    }\n",
       "\n",
       "    .dataframe tbody tr th {\n",
       "        vertical-align: top;\n",
       "    }\n",
       "\n",
       "    .dataframe thead th {\n",
       "        text-align: right;\n",
       "    }\n",
       "</style>\n",
       "<table border=\"1\" class=\"dataframe\">\n",
       "  <thead>\n",
       "    <tr style=\"text-align: right;\">\n",
       "      <th></th>\n",
       "      <th>l</th>\n",
       "      <th>k</th>\n",
       "      <th>solution</th>\n",
       "      <th>gcd</th>\n",
       "      <th>n</th>\n",
       "      <th>nmax</th>\n",
       "    </tr>\n",
       "  </thead>\n",
       "  <tbody>\n",
       "    <tr>\n",
       "      <th>0</th>\n",
       "      <td>[-1, -2]</td>\n",
       "      <td>[-1, 2]</td>\n",
       "      <td>[1, 1, 1, -4, -4, 5]</td>\n",
       "      <td>1</td>\n",
       "      <td>6</td>\n",
       "      <td>5</td>\n",
       "    </tr>\n",
       "    <tr>\n",
       "      <th>1</th>\n",
       "      <td>[-1, 1]</td>\n",
       "      <td>[-1, 0, -1]</td>\n",
       "      <td>[1, 2, 2, -3, -3, -3, 4]</td>\n",
       "      <td>1</td>\n",
       "      <td>7</td>\n",
       "      <td>4</td>\n",
       "    </tr>\n",
       "    <tr>\n",
       "      <th>2</th>\n",
       "      <td>[-3, -1]</td>\n",
       "      <td>[-2, -3, 1]</td>\n",
       "      <td>[3, 3, 3, -5, -5, -7, 8]</td>\n",
       "      <td>1</td>\n",
       "      <td>7</td>\n",
       "      <td>8</td>\n",
       "    </tr>\n",
       "    <tr>\n",
       "      <th>21466</th>\n",
       "      <td>[-2, -3, -2, -3, -2]</td>\n",
       "      <td>[-1, 3, -1, 3, -1]</td>\n",
       "      <td>[14, -18, -24, -24, -24, 27, 27, 28, 29, 29, -32, -32]</td>\n",
       "      <td>2</td>\n",
       "      <td>12</td>\n",
       "      <td>32</td>\n",
       "    </tr>\n",
       "  </tbody>\n",
       "</table>\n",
       "</div>"
      ],
      "text/plain": [
       "                          l                   k  \\\n",
       "0                  [-1, -2]             [-1, 2]   \n",
       "1                   [-1, 1]         [-1, 0, -1]   \n",
       "2                  [-3, -1]         [-2, -3, 1]   \n",
       "21466  [-2, -3, -2, -3, -2]  [-1, 3, -1, 3, -1]   \n",
       "\n",
       "                                                     solution  gcd   n  nmax  \n",
       "0                                        [1, 1, 1, -4, -4, 5]    1   6     5  \n",
       "1                                    [1, 2, 2, -3, -3, -3, 4]    1   7     4  \n",
       "2                                    [3, 3, 3, -5, -5, -7, 8]    1   7     8  \n",
       "21466  [14, -18, -24, -24, -24, 27, 27, 28, 29, 29, -32, -32]    2  12    32  "
      ]
     },
     "execution_count": 7,
     "metadata": {},
     "output_type": "execute_result"
    }
   ],
   "source": [
    "dsp['nmax']=dsp['solution'].apply(lambda l: map(abs,l)).apply(max)\n",
    "dsp=dsp.sort_values(['n','nmax']).reset_index(drop=True)\n",
    "#Show the first and last one solutions\n",
    "dsp.iloc[[0,1,2,-1]]"
   ]
  },
  {
   "cell_type": "markdown",
   "metadata": {
    "id": "pJzdUkReKCEU"
   },
   "source": [
    "## 1. Check phenomenological conditions\n",
    "<div style=\"float: right;\" markdown=\"1\">\n",
    "    <img src=\"https://raw.githubusercontent.com/restrepo/anomaly/main/TII-seesaw.svg\">\n",
    "</div>\n",
    "\n",
    "Notation:\n",
    "* $f_R \\to f$\n",
    "* $(f_L)^\\dagger \\to f$\n",
    "* $S\\to s$\n",
    "* $H\\to h$\n",
    "* $m=L-h$, where $L$ is the charge of the anti-Lepton doublet.\n",
    "\n",
    "$$(\\nu,\\nu[,\\nu],m,m,m,\\psi_1,\\psi_2,\\cdots)$$\n",
    "\n",
    "\n",
    "$$ \\nu+m+s=0$$\n",
    "\n",
    "$$ \\psi_i+\\psi_j=|s|$$"
   ]
  },
  {
   "cell_type": "code",
   "execution_count": 8,
   "metadata": {},
   "outputs": [],
   "source": [
    "def get_massles(l,s):\n",
    "    if len(l)==0:\n",
    "        return []\n",
    "    elif len(l)==1:\n",
    "        mssls=[(l[0],l[0])]\n",
    "    elif len(l)==2:\n",
    "        mssls=[tuple(l)]\n",
    "    else:\n",
    "        mssls=set([x for x in itertools.permutations(l,2) if x[0]<=x[1] ])\n",
    "    xs=[ x for x in mssls if abs(x[0]+x[1])==abs(s) ]\n",
    "    #flatten list of list into list\n",
    "    massive=[x for sublist in xs for x in sublist]\n",
    "\n",
    "    return list( set(l).difference(set(massive)) )    \n",
    "\n",
    "def get_sp(massless):\n",
    "    \"\"\"\n",
    "    For a list of numbers `x_i` find the best `sp` value such that\n",
    "    all the elements of the list satisfy:\n",
    "       |sp|=|x_i + x_j|\n",
    "    * If the list is already empty return None\n",
    "    * If not found `sp` returns 0\n",
    "    \"\"\"\n",
    "    if len(massless)==0:\n",
    "        return None\n",
    "    elif len(massless)==1:\n",
    "        drs=[(massless[0],massless[0])]\n",
    "    elif len(massless)==2:\n",
    "        drs=[tuple(massless)]\n",
    "    else:\n",
    "        drs=[x for x in itertools.permutations(massless,2) if x[0]<=x[1]]\n",
    "    sps=set(abs(sum(x)) for x in drs)    \n",
    "    for sp in sps:\n",
    "        msv =([dr for dr in drs if abs(sum(dr))==sp])\n",
    "        massive=set([x for sublist in msv for x in sublist])\n",
    "        msl=([dr for dr in drs if abs(sum(dr))!=sp])\n",
    "        massless=set( [x for sublist in msl for x in sublist])\n",
    "        majorana=massless.difference(massive)\n",
    "        majorana=[m for m in majorana if abs(2*m)!=sp]\n",
    "        if not majorana:\n",
    "            return sp\n",
    "        else:\n",
    "            return 0        "
   ]
  },
  {
   "cell_type": "code",
   "execution_count": 9,
   "metadata": {
    "id": "NYJZBQ52KCEU"
   },
   "outputs": [],
   "source": [
    "Type='TII-X'\n",
    "#l=[1,-9,-9,-9,13,18,18,18,-19,-22]\n",
    "#def conditions(l):\n",
    "def condition(l,Type='TII-X'):\n",
    "#if True:   \n",
    "    sls=[]\n",
    "    ms=set([x for x in l if l.count(x)==3])\n",
    "    νs=set([x for x in l if l.count(x)==2 or l.count(x)==3])\n",
    "    mνs=[(m,ν) for m in ms for ν in νs if m!=ν]\n",
    "    sold=0\n",
    "    for mν in mνs:\n",
    "        m=mν[0]\n",
    "        ν=mν[1]\n",
    "        s=-m-ν\n",
    "        if abs(s)==abs(sold):\n",
    "            continue\n",
    "        else:\n",
    "            sold=s            \n",
    "        ψs=[x for x in l if x!=ν and x!=m]\n",
    "        msslss=get_massles(ψs,s)\n",
    "        sp=get_sp(msslss)\n",
    "        d={'Type':Type,'m':m,'ν':ν,'s':s,'massless':msslss,'sp':sp}\n",
    "        sls.append(d)\n",
    "    #sp=None    \n",
    "    solutions=[d for d in sls if d.get('massless')==[]]\n",
    "    if not solutions:\n",
    "        solutions=[d for d in sls if d.get('sp')]    \n",
    "    return solutions\n",
    "\n",
    "l=[1, 2, -6, -6, -6, 8, 9, 9, -11]\n",
    "assert condition(l)[0].get('massless')==[]\n",
    "l=[1, 1, 1, -4, -4, 5]\n",
    "assert condition(l)[0].get('sp')==10\n",
    "l=[1,-9,-9,-9,13,18,18,18,-19,-22]\n",
    "assert condition(l)[0].get('sp')==18"
   ]
  },
  {
   "cell_type": "code",
   "execution_count": 10,
   "metadata": {},
   "outputs": [],
   "source": [
    "dsp['tree-level']=dsp['solution'].apply(condition)"
   ]
  },
  {
   "cell_type": "code",
   "execution_count": 11,
   "metadata": {},
   "outputs": [],
   "source": [
    "dsp=dsp[dsp['tree-level'].apply(len)>0].reset_index(drop=True)"
   ]
  },
  {
   "cell_type": "code",
   "execution_count": 12,
   "metadata": {},
   "outputs": [
    {
     "data": {
      "text/html": [
       "<div>\n",
       "<style scoped>\n",
       "    .dataframe tbody tr th:only-of-type {\n",
       "        vertical-align: middle;\n",
       "    }\n",
       "\n",
       "    .dataframe tbody tr th {\n",
       "        vertical-align: top;\n",
       "    }\n",
       "\n",
       "    .dataframe thead th {\n",
       "        text-align: right;\n",
       "    }\n",
       "</style>\n",
       "<table border=\"1\" class=\"dataframe\">\n",
       "  <thead>\n",
       "    <tr style=\"text-align: right;\">\n",
       "      <th></th>\n",
       "      <th>l</th>\n",
       "      <th>k</th>\n",
       "      <th>solution</th>\n",
       "      <th>gcd</th>\n",
       "      <th>n</th>\n",
       "      <th>nmax</th>\n",
       "      <th>tree-level</th>\n",
       "    </tr>\n",
       "  </thead>\n",
       "  <tbody>\n",
       "    <tr>\n",
       "      <th>4</th>\n",
       "      <td>[1, -3, -2]</td>\n",
       "      <td>[-4, -9, -5, -3]</td>\n",
       "      <td>[1, 3, 3, 3, -5, -7, -7, 9]</td>\n",
       "      <td>1</td>\n",
       "      <td>8</td>\n",
       "      <td>9</td>\n",
       "      <td>[{'Type': 'TII-X', 'm': 3, 'ν': -7, 's': 4, 'massless': [], 'sp': None}]</td>\n",
       "    </tr>\n",
       "    <tr>\n",
       "      <th>29</th>\n",
       "      <td>[3, 0, -1, 1]</td>\n",
       "      <td>[-6, -5, 5, -1]</td>\n",
       "      <td>[2, 2, 2, -3, -3, 4, -5, -5, 6]</td>\n",
       "      <td>1</td>\n",
       "      <td>9</td>\n",
       "      <td>6</td>\n",
       "      <td>[{'Type': 'TII-X', 'm': 2, 'ν': -3, 's': 1, 'massless': [], 'sp': None}]</td>\n",
       "    </tr>\n",
       "    <tr>\n",
       "      <th>37</th>\n",
       "      <td>[1, 2, 1, -1]</td>\n",
       "      <td>[-6, -3, -5, -3]</td>\n",
       "      <td>[1, 2, -6, -6, -6, 8, 9, 9, -11]</td>\n",
       "      <td>1</td>\n",
       "      <td>9</td>\n",
       "      <td>11</td>\n",
       "      <td>[{'Type': 'TII-X', 'm': -6, 'ν': 9, 's': -3, 'massless': [], 'sp': None}]</td>\n",
       "    </tr>\n",
       "    <tr>\n",
       "      <th>46</th>\n",
       "      <td>[-2, -1, 0]</td>\n",
       "      <td>[-1, -3, -5, -3]</td>\n",
       "      <td>[5, 6, 6, 6, -8, -9, -9, -10, 13]</td>\n",
       "      <td>2</td>\n",
       "      <td>9</td>\n",
       "      <td>13</td>\n",
       "      <td>[{'Type': 'TII-X', 'm': 6, 'ν': -9, 's': 3, 'massless': [], 'sp': None}]</td>\n",
       "    </tr>\n",
       "    <tr>\n",
       "      <th>51</th>\n",
       "      <td>[-2, -1, 0]</td>\n",
       "      <td>[-1, -4, -5, -4]</td>\n",
       "      <td>[1, -5, 8, 8, 8, -11, -12, -12, 15]</td>\n",
       "      <td>2</td>\n",
       "      <td>9</td>\n",
       "      <td>15</td>\n",
       "      <td>[{'Type': 'TII-X', 'm': 8, 'ν': -12, 's': 4, 'massless': [], 'sp': None}]</td>\n",
       "    </tr>\n",
       "    <tr>\n",
       "      <th>...</th>\n",
       "      <td>...</td>\n",
       "      <td>...</td>\n",
       "      <td>...</td>\n",
       "      <td>...</td>\n",
       "      <td>...</td>\n",
       "      <td>...</td>\n",
       "      <td>...</td>\n",
       "    </tr>\n",
       "    <tr>\n",
       "      <th>4674</th>\n",
       "      <td>[1, -3, 1, 2, 1]</td>\n",
       "      <td>[-3, -1, -3, -1, -3]</td>\n",
       "      <td>[5, 9, -13, -13, -13, -15, -19, 21, 23, 23, 23, -31]</td>\n",
       "      <td>4</td>\n",
       "      <td>12</td>\n",
       "      <td>31</td>\n",
       "      <td>[{'Type': 'TII-X', 'm': -13, 'ν': 23, 's': -10, 'massless': [], 'sp': None}]</td>\n",
       "    </tr>\n",
       "    <tr>\n",
       "      <th>4701</th>\n",
       "      <td>[-1, -2, -1, -2, -1]</td>\n",
       "      <td>[-2, 0, -2, 2, -2]</td>\n",
       "      <td>[1, -2, -15, 16, -28, -28, 29, 29, 29, -30, 31, -32]</td>\n",
       "      <td>1</td>\n",
       "      <td>12</td>\n",
       "      <td>32</td>\n",
       "      <td>[{'Type': 'TII-X', 'm': 29, 'ν': -28, 's': -1, 'massless': [], 'sp': None}]</td>\n",
       "    </tr>\n",
       "    <tr>\n",
       "      <th>4705</th>\n",
       "      <td>[-2, 2, -2, 1, -2]</td>\n",
       "      <td>[-1, -2, -1, 2, -1]</td>\n",
       "      <td>[2, -4, -4, -4, -7, 11, -14, -23, 25, 25, 25, -32]</td>\n",
       "      <td>3</td>\n",
       "      <td>12</td>\n",
       "      <td>32</td>\n",
       "      <td>[{'Type': 'TII-X', 'm': 25, 'ν': -4, 's': -21, 'massless': [], 'sp': None}]</td>\n",
       "    </tr>\n",
       "    <tr>\n",
       "      <th>4706</th>\n",
       "      <td>[-1, -2, -1, -2, 1]</td>\n",
       "      <td>[-1, -2, 2, -2, 2]</td>\n",
       "      <td>[13, 13, -16, -16, -20, -20, 23, 29, 29, 29, -32, -32]</td>\n",
       "      <td>2</td>\n",
       "      <td>12</td>\n",
       "      <td>32</td>\n",
       "      <td>[{'Type': 'TII-X', 'm': 29, 'ν': -32, 's': 3, 'massless': [], 'sp': None}]</td>\n",
       "    </tr>\n",
       "    <tr>\n",
       "      <th>4711</th>\n",
       "      <td>[2, 0, 1, 0, 2]</td>\n",
       "      <td>[-3, -2, -3, -2, -3]</td>\n",
       "      <td>[2, 7, 18, 18, 18, -23, -23, -27, -27, -27, 32, 32]</td>\n",
       "      <td>1</td>\n",
       "      <td>12</td>\n",
       "      <td>32</td>\n",
       "      <td>[{'Type': 'TII-X', 'm': 18, 'ν': -27, 's': 9, 'massless': [], 'sp': None}, {'Type': 'TII-X', 'm': -27, 'ν': 18, 's': 9, 'massless': [], 'sp': None}]</td>\n",
       "    </tr>\n",
       "  </tbody>\n",
       "</table>\n",
       "<p>327 rows × 7 columns</p>\n",
       "</div>"
      ],
      "text/plain": [
       "                         l                     k  \\\n",
       "4              [1, -3, -2]      [-4, -9, -5, -3]   \n",
       "29           [3, 0, -1, 1]       [-6, -5, 5, -1]   \n",
       "37           [1, 2, 1, -1]      [-6, -3, -5, -3]   \n",
       "46             [-2, -1, 0]      [-1, -3, -5, -3]   \n",
       "51             [-2, -1, 0]      [-1, -4, -5, -4]   \n",
       "...                    ...                   ...   \n",
       "4674      [1, -3, 1, 2, 1]  [-3, -1, -3, -1, -3]   \n",
       "4701  [-1, -2, -1, -2, -1]    [-2, 0, -2, 2, -2]   \n",
       "4705    [-2, 2, -2, 1, -2]   [-1, -2, -1, 2, -1]   \n",
       "4706   [-1, -2, -1, -2, 1]    [-1, -2, 2, -2, 2]   \n",
       "4711       [2, 0, 1, 0, 2]  [-3, -2, -3, -2, -3]   \n",
       "\n",
       "                                                    solution  gcd   n  nmax  \\\n",
       "4                                [1, 3, 3, 3, -5, -7, -7, 9]    1   8     9   \n",
       "29                           [2, 2, 2, -3, -3, 4, -5, -5, 6]    1   9     6   \n",
       "37                          [1, 2, -6, -6, -6, 8, 9, 9, -11]    1   9    11   \n",
       "46                         [5, 6, 6, 6, -8, -9, -9, -10, 13]    2   9    13   \n",
       "51                       [1, -5, 8, 8, 8, -11, -12, -12, 15]    2   9    15   \n",
       "...                                                      ...  ...  ..   ...   \n",
       "4674    [5, 9, -13, -13, -13, -15, -19, 21, 23, 23, 23, -31]    4  12    31   \n",
       "4701    [1, -2, -15, 16, -28, -28, 29, 29, 29, -30, 31, -32]    1  12    32   \n",
       "4705      [2, -4, -4, -4, -7, 11, -14, -23, 25, 25, 25, -32]    3  12    32   \n",
       "4706  [13, 13, -16, -16, -20, -20, 23, 29, 29, 29, -32, -32]    2  12    32   \n",
       "4711     [2, 7, 18, 18, 18, -23, -23, -27, -27, -27, 32, 32]    1  12    32   \n",
       "\n",
       "                                                                                                                                                tree-level  \n",
       "4                                                                                 [{'Type': 'TII-X', 'm': 3, 'ν': -7, 's': 4, 'massless': [], 'sp': None}]  \n",
       "29                                                                                [{'Type': 'TII-X', 'm': 2, 'ν': -3, 's': 1, 'massless': [], 'sp': None}]  \n",
       "37                                                                               [{'Type': 'TII-X', 'm': -6, 'ν': 9, 's': -3, 'massless': [], 'sp': None}]  \n",
       "46                                                                                [{'Type': 'TII-X', 'm': 6, 'ν': -9, 's': 3, 'massless': [], 'sp': None}]  \n",
       "51                                                                               [{'Type': 'TII-X', 'm': 8, 'ν': -12, 's': 4, 'massless': [], 'sp': None}]  \n",
       "...                                                                                                                                                    ...  \n",
       "4674                                                                          [{'Type': 'TII-X', 'm': -13, 'ν': 23, 's': -10, 'massless': [], 'sp': None}]  \n",
       "4701                                                                           [{'Type': 'TII-X', 'm': 29, 'ν': -28, 's': -1, 'massless': [], 'sp': None}]  \n",
       "4705                                                                           [{'Type': 'TII-X', 'm': 25, 'ν': -4, 's': -21, 'massless': [], 'sp': None}]  \n",
       "4706                                                                            [{'Type': 'TII-X', 'm': 29, 'ν': -32, 's': 3, 'massless': [], 'sp': None}]  \n",
       "4711  [{'Type': 'TII-X', 'm': 18, 'ν': -27, 's': 9, 'massless': [], 'sp': None}, {'Type': 'TII-X', 'm': -27, 'ν': 18, 's': 9, 'massless': [], 'sp': None}]  \n",
       "\n",
       "[327 rows x 7 columns]"
      ]
     },
     "execution_count": 12,
     "metadata": {},
     "output_type": "execute_result"
    }
   ],
   "source": [
    "dsp[dsp['tree-level'].apply(lambda l: [d for d in l if not d.get('massless')]).apply(len)>0]"
   ]
  },
  {
   "cell_type": "code",
   "execution_count": 260,
   "metadata": {},
   "outputs": [],
   "source": [
    "#zn=dsp[dsp['tree-level'].apply(lambda l: any( [True for d in l if abs(d.get('s'))==6 or abs(d.get('s'))==10 ]))]"
   ]
  },
  {
   "cell_type": "code",
   "execution_count": 14,
   "metadata": {},
   "outputs": [],
   "source": [
    "def unconditional_stability(row,ZN={6:(2,3),10:(2,5),15:(3,5)},DMs={},check_massless=True):\n",
    "    '''\n",
    "    According to appendix of arXiv:1911.05515, \n",
    "    generalized to any N\n",
    "    \n",
    "    '''\n",
    "    if check_massless:\n",
    "        sd=[d for d in row['tree-level'] if d.get('massless')==[]]\n",
    "    else:\n",
    "        sd=row['tree-level']\n",
    "        \n",
    "    for i in range(len(sd)):\n",
    "        DMs={}\n",
    "        d=sd[i]\n",
    "        N=abs(d['s'])\n",
    "        l=[n for n in row['solution'] if n not in [d['m'],d['ν']] ]\n",
    "        #Check for non-hidden chiral fermions\n",
    "        if 0 in np.array(l)%N:\n",
    "            DMs={'None':tuple([])}\n",
    "            continue\n",
    "        DM=[x for x in itertools.permutations(l,2) \n",
    "               if x[0]<=x[1] and abs(sum(x))==N ]\n",
    "        DM=DM+[(n,n) for n in l if abs(2*n)==N]\n",
    "        #rank 0\n",
    "        for dm in DM:\n",
    "            if dm[0]!=dm[1] and l.count(dm[0])!=l.count(dm[1]) and abs(2*dm[0])!=N and abs(2*dm[0])!=N:\n",
    "                DMs={'None':tuple([])}\n",
    "        #missing massles → TODO: Check BUG\n",
    "        if check_massless and np.setdiff1d(l,[item for sublist in DM for item in sublist]).size>0:\n",
    "            DMs={'None':tuple([])}\n",
    "        if not DMs.get('None')==():\n",
    "            try:\n",
    "                p,q=ZN[N]\n",
    "            except KeyError:\n",
    "                DMs={'None':tuple([])}\n",
    "                continue\n",
    "            ps=[n*p for n in range(1,N) if n*p<N]\n",
    "            qs=[n*q for n in range(1,N) if n*q<N]\n",
    "            ω=[ sorted([y%N for y in x]) for x in DM]\n",
    "            DMF=['ψ' if np.setdiff1d(x,ps).size==0 else 'χ' \n",
    "                   if np.setdiff1d(x,qs).size==0 else 'None' for x in  ω ]\n",
    "            DMs=dict(zip(DMF,DM))\n",
    "            break\n",
    "    return DMs"
   ]
  },
  {
   "cell_type": "code",
   "execution_count": 15,
   "metadata": {},
   "outputs": [],
   "source": [
    "p=np.array( [2,3,5,7,11,13,17,19,23,29,31] )\n",
    "q=p.copy()\n",
    "zpq= [ pp*qq for pp in p for qq in q if pp<qq] \n",
    "Zpq=sorted( set( zpq ) )"
   ]
  },
  {
   "cell_type": "code",
   "execution_count": 16,
   "metadata": {},
   "outputs": [],
   "source": [
    "pqs=[ (pp,qq) for pp in p for qq in q if pp<qq]\n",
    "ZN=dict(zip(Zpq,pqs))"
   ]
  },
  {
   "cell_type": "code",
   "execution_count": 17,
   "metadata": {},
   "outputs": [
    {
     "data": {
      "text/plain": [
       "[6, 10, 14]"
      ]
     },
     "execution_count": 17,
     "metadata": {},
     "output_type": "execute_result"
    }
   ],
   "source": [
    "Zpq[:3]"
   ]
  },
  {
   "cell_type": "code",
   "execution_count": 18,
   "metadata": {},
   "outputs": [],
   "source": [
    "dsp['DMs']=dsp.apply(lambda row: unconditional_stability(row,ZN)  ,axis='columns')"
   ]
  },
  {
   "cell_type": "code",
   "execution_count": 19,
   "metadata": {},
   "outputs": [
    {
     "data": {
      "text/html": [
       "<div>\n",
       "<style scoped>\n",
       "    .dataframe tbody tr th:only-of-type {\n",
       "        vertical-align: middle;\n",
       "    }\n",
       "\n",
       "    .dataframe tbody tr th {\n",
       "        vertical-align: top;\n",
       "    }\n",
       "\n",
       "    .dataframe thead th {\n",
       "        text-align: right;\n",
       "    }\n",
       "</style>\n",
       "<table border=\"1\" class=\"dataframe\">\n",
       "  <thead>\n",
       "    <tr style=\"text-align: right;\">\n",
       "      <th></th>\n",
       "      <th>l</th>\n",
       "      <th>k</th>\n",
       "      <th>solution</th>\n",
       "      <th>gcd</th>\n",
       "      <th>n</th>\n",
       "      <th>nmax</th>\n",
       "      <th>tree-level</th>\n",
       "      <th>DMs</th>\n",
       "    </tr>\n",
       "  </thead>\n",
       "  <tbody>\n",
       "    <tr>\n",
       "      <th>1059</th>\n",
       "      <td>[-2, 0, 1, 0, -3]</td>\n",
       "      <td>[-2, -1, 0, -1, 1]</td>\n",
       "      <td>[1, 3, 5, -6, -6, -6, 8, -9, 12, 12, -14]</td>\n",
       "      <td>2</td>\n",
       "      <td>11</td>\n",
       "      <td>14</td>\n",
       "      <td>[{'Type': 'TII-X', 'm': -6, 'ν': 12, 's': -6, 'massless': [], 'sp': None}]</td>\n",
       "      <td>{'None': (1, 5), 'χ': (3, 3), 'ψ': (-14, 8)}</td>\n",
       "    </tr>\n",
       "    <tr>\n",
       "      <th>1120</th>\n",
       "      <td>[-2, 0, -1, 0, 3]</td>\n",
       "      <td>[-2, -1, 0, -1, 1]</td>\n",
       "      <td>[1, -2, 6, 6, 6, -7, 8, -9, -12, -12, 15]</td>\n",
       "      <td>2</td>\n",
       "      <td>11</td>\n",
       "      <td>15</td>\n",
       "      <td>[{'Type': 'TII-X', 'm': 6, 'ν': -12, 's': 6, 'massless': [], 'sp': None}]</td>\n",
       "      <td>{'ψ': (-2, 8), 'None': (-7, 1), 'χ': (-9, 15)}</td>\n",
       "    </tr>\n",
       "    <tr>\n",
       "      <th>1224</th>\n",
       "      <td>[-3, 0, -2, 0]</td>\n",
       "      <td>[-2, -4, -2, 1, -1]</td>\n",
       "      <td>[1, 3, 3, 6, 6, 6, -7, -10, -12, -12, 16]</td>\n",
       "      <td>6</td>\n",
       "      <td>11</td>\n",
       "      <td>16</td>\n",
       "      <td>[{'Type': 'TII-X', 'm': 6, 'ν': -12, 's': 6, 'massless': [], 'sp': None}]</td>\n",
       "      <td>{'χ': (3, 3), 'None': (-7, 1), 'ψ': (-10, 16)}</td>\n",
       "    </tr>\n",
       "    <tr>\n",
       "      <th>1563</th>\n",
       "      <td>[2, -1, 2, 0]</td>\n",
       "      <td>[-3, -2, -3, -2, -3]</td>\n",
       "      <td>[2, -6, -6, -6, -8, -11, 12, 12, 15, 17, -21]</td>\n",
       "      <td>6</td>\n",
       "      <td>11</td>\n",
       "      <td>21</td>\n",
       "      <td>[{'Type': 'TII-X', 'm': -6, 'ν': 12, 's': -6, 'massless': [], 'sp': None}]</td>\n",
       "      <td>{'ψ': (-8, 2), 'None': (-11, 17), 'χ': (-21, 15)}</td>\n",
       "    </tr>\n",
       "    <tr>\n",
       "      <th>3730</th>\n",
       "      <td>[-3, 0, -3, -1, 3]</td>\n",
       "      <td>[-3, -1, -3, -1, 1]</td>\n",
       "      <td>[2, 6, 6, 6, -7, -16, -20, -20, -20, 21, 21, 21]</td>\n",
       "      <td>8</td>\n",
       "      <td>12</td>\n",
       "      <td>21</td>\n",
       "      <td>[{'Type': 'TII-X', 'm': -20, 'ν': 6, 's': 14, 'massless': [], 'sp': None}, {'Type': 'TII-X', 'm': 6, 'ν': -20, 's': 14, 'massless': [], 'sp': None}]</td>\n",
       "      <td>{'χ': (-7, -7), 'ψ': (-16, 2)}</td>\n",
       "    </tr>\n",
       "  </tbody>\n",
       "</table>\n",
       "</div>"
      ],
      "text/plain": [
       "                       l                     k  \\\n",
       "1059   [-2, 0, 1, 0, -3]    [-2, -1, 0, -1, 1]   \n",
       "1120   [-2, 0, -1, 0, 3]    [-2, -1, 0, -1, 1]   \n",
       "1224      [-3, 0, -2, 0]   [-2, -4, -2, 1, -1]   \n",
       "1563       [2, -1, 2, 0]  [-3, -2, -3, -2, -3]   \n",
       "3730  [-3, 0, -3, -1, 3]   [-3, -1, -3, -1, 1]   \n",
       "\n",
       "                                              solution  gcd   n  nmax  \\\n",
       "1059         [1, 3, 5, -6, -6, -6, 8, -9, 12, 12, -14]    2  11    14   \n",
       "1120         [1, -2, 6, 6, 6, -7, 8, -9, -12, -12, 15]    2  11    15   \n",
       "1224         [1, 3, 3, 6, 6, 6, -7, -10, -12, -12, 16]    6  11    16   \n",
       "1563     [2, -6, -6, -6, -8, -11, 12, 12, 15, 17, -21]    6  11    21   \n",
       "3730  [2, 6, 6, 6, -7, -16, -20, -20, -20, 21, 21, 21]    8  12    21   \n",
       "\n",
       "                                                                                                                                                tree-level  \\\n",
       "1059                                                                            [{'Type': 'TII-X', 'm': -6, 'ν': 12, 's': -6, 'massless': [], 'sp': None}]   \n",
       "1120                                                                             [{'Type': 'TII-X', 'm': 6, 'ν': -12, 's': 6, 'massless': [], 'sp': None}]   \n",
       "1224                                                                             [{'Type': 'TII-X', 'm': 6, 'ν': -12, 's': 6, 'massless': [], 'sp': None}]   \n",
       "1563                                                                            [{'Type': 'TII-X', 'm': -6, 'ν': 12, 's': -6, 'massless': [], 'sp': None}]   \n",
       "3730  [{'Type': 'TII-X', 'm': -20, 'ν': 6, 's': 14, 'massless': [], 'sp': None}, {'Type': 'TII-X', 'm': 6, 'ν': -20, 's': 14, 'massless': [], 'sp': None}]   \n",
       "\n",
       "                                                    DMs  \n",
       "1059       {'None': (1, 5), 'χ': (3, 3), 'ψ': (-14, 8)}  \n",
       "1120     {'ψ': (-2, 8), 'None': (-7, 1), 'χ': (-9, 15)}  \n",
       "1224     {'χ': (3, 3), 'None': (-7, 1), 'ψ': (-10, 16)}  \n",
       "1563  {'ψ': (-8, 2), 'None': (-11, 17), 'χ': (-21, 15)}  \n",
       "3730                     {'χ': (-7, -7), 'ψ': (-16, 2)}  "
      ]
     },
     "execution_count": 19,
     "metadata": {},
     "output_type": "execute_result"
    }
   ],
   "source": [
    "dsp[dsp['DMs'].apply(lambda d: 'ψ' in d.keys() and 'χ' in d.keys())]"
   ]
  },
  {
   "cell_type": "code",
   "execution_count": null,
   "metadata": {},
   "outputs": [],
   "source": []
  }
 ],
 "metadata": {
  "colab": {
   "collapsed_sections": [],
   "name": "Type-II Dark Dirac Seesaw.ipynb",
   "provenance": []
  },
  "kernelspec": {
   "display_name": "Python 3 (ipykernel)",
   "language": "python",
   "name": "python3"
  },
  "language_info": {
   "codemirror_mode": {
    "name": "ipython",
    "version": 3
   },
   "file_extension": ".py",
   "mimetype": "text/x-python",
   "name": "python",
   "nbconvert_exporter": "python",
   "pygments_lexer": "ipython3",
   "version": "3.7.3"
  }
 },
 "nbformat": 4,
 "nbformat_minor": 4
}
