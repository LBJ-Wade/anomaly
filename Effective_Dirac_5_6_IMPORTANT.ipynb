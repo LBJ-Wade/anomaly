{
 "cells": [
  {
   "cell_type": "markdown",
   "metadata": {
    "colab_type": "text",
    "id": "view-in-github"
   },
   "source": [
    "<a href=\"https://colab.research.google.com/github/restrepo/anomaly/blob/main/Type_II_Dirac_Seesaw.ipynb\" target=\"_parent\"><img src=\"https://colab.research.google.com/assets/colab-badge.svg\" alt=\"Open In Colab\"/></a>"
   ]
  },
  {
   "cell_type": "markdown",
   "metadata": {
    "id": "tlDEHLH6KCEM"
   },
   "source": [
    "# Solutions for effective Dirac neutrino masses from an Abelian Gauge Symmetry with massive chiral singlet fermions\n",
    "For details see [arXiv:2108.05907](https://arxiv.org/pdf/2108.05907), Sec. 3.2\n",
    "\n",
    "## Data Scheme\n",
    "![img](https://raw.githubusercontent.com/restrepo/anomaly/main/schema.svg)"
   ]
  },
  {
   "cell_type": "code",
   "execution_count": 1,
   "metadata": {
    "id": "GYaKHGh7KCEP"
   },
   "outputs": [],
   "source": [
    "import pandas as pd\n",
    "import numpy as np\n",
    "import itertools"
   ]
  },
  {
   "cell_type": "code",
   "execution_count": 2,
   "metadata": {
    "id": "8cimVm9vOC64"
   },
   "outputs": [],
   "source": [
    "pd.set_option('display.max_colwidth',500)"
   ]
  },
  {
   "cell_type": "markdown",
   "metadata": {
    "id": "naEIRR7wKCER"
   },
   "source": [
    "### Load full solutions"
   ]
  },
  {
   "cell_type": "code",
   "execution_count": 3,
   "metadata": {
    "colab": {
     "base_uri": "https://localhost:8080/"
    },
    "id": "d-RviMb0KCER",
    "outputId": "dde4279b-5e65-4ca5-8a45-d1d56968b2e0"
   },
   "outputs": [
    {
     "data": {
      "text/plain": [
       "(390074, 5)"
      ]
     },
     "execution_count": 3,
     "metadata": {},
     "output_type": "execute_result"
    }
   ],
   "source": [
    "ds=pd.read_json('https://github.com/restrepo/anomaly/raw/main/solutions.json.gz')\n",
    "ds.shape"
   ]
  },
  {
   "cell_type": "markdown",
   "metadata": {},
   "source": [
    "## Build new `n=10,11,12` solutions"
   ]
  },
  {
   "cell_type": "code",
   "execution_count": 4,
   "metadata": {},
   "outputs": [
    {
     "name": "stdout",
     "output_type": "stream",
     "text": [
      "5 5\n",
      "5 6\n",
      "5 7\n",
      "6 6\n"
     ]
    }
   ],
   "source": [
    "z=pd.Series(dtype=float)\n",
    "for i in range(5,9):\n",
    "    for j in range(5,9):\n",
    "        if i+j>12 or i>j:\n",
    "            continue\n",
    "        print(i,j)\n",
    "        x=ds[ds['n']==i]['solution'].reset_index(drop=True)\n",
    "        y=ds[ds['n']==j]['solution'].reset_index(drop=True)\n",
    "        for k in y.index:\n",
    "            z=z.append(x.apply( lambda l: l+y.loc[k] ).apply(lambda l: sorted(l,key=abs))).reset_index(drop=True)"
   ]
  },
  {
   "cell_type": "code",
   "execution_count": 5,
   "metadata": {},
   "outputs": [],
   "source": [
    "df=pd.DataFrame()\n",
    "df['solution']=z"
   ]
  },
  {
   "cell_type": "code",
   "execution_count": 6,
   "metadata": {},
   "outputs": [],
   "source": [
    "df=df[~df['solution'].astype(str).duplicated()].reset_index(drop=True)"
   ]
  },
  {
   "cell_type": "code",
   "execution_count": 7,
   "metadata": {},
   "outputs": [],
   "source": [
    "df['n']=df['solution'].apply(lambda l: len(l))"
   ]
  },
  {
   "cell_type": "code",
   "execution_count": 8,
   "metadata": {},
   "outputs": [],
   "source": [
    "ds=ds.append(df).reset_index(drop=True)"
   ]
  },
  {
   "cell_type": "code",
   "execution_count": 9,
   "metadata": {},
   "outputs": [],
   "source": [
    "for k in ['l','k']:\n",
    "    ds[k]=ds[k].apply(lambda f: [] if isinstance(f,float) else f)"
   ]
  },
  {
   "cell_type": "code",
   "execution_count": 10,
   "metadata": {},
   "outputs": [],
   "source": [
    "ds=ds[~ds['solution'].astype(str).duplicated()].reset_index(drop=True)"
   ]
  },
  {
   "cell_type": "code",
   "execution_count": 11,
   "metadata": {},
   "outputs": [
    {
     "data": {
      "text/plain": [
       "(413572, 5)"
      ]
     },
     "execution_count": 11,
     "metadata": {},
     "output_type": "execute_result"
    }
   ],
   "source": [
    "ds.shape"
   ]
  },
  {
   "cell_type": "markdown",
   "metadata": {},
   "source": [
    "$n=11,12$"
   ]
  },
  {
   "cell_type": "code",
   "execution_count": 12,
   "metadata": {},
   "outputs": [],
   "source": [
    "z=pd.DataFrame()\n",
    "for n in [5,6]:\n",
    "    for m in range(1,31):\n",
    "        ll=[-m,-m,-m,m,m,m]\n",
    "        zz=ds[ds['n']==n].reset_index(drop=True)\n",
    "        zz['solution']=zz['solution'].apply(lambda l:l+ll if m not in l and -m not in l else []).apply(\n",
    "            lambda l:sorted(l,key=abs))\n",
    "        zz['n']=zz['solution'].apply(len)\n",
    "        z=z.append(zz).reset_index(drop=True)\n",
    "        z=z[z['n']>0].reset_index(drop=True)"
   ]
  },
  {
   "cell_type": "code",
   "execution_count": 13,
   "metadata": {},
   "outputs": [
    {
     "data": {
      "text/plain": [
       "(3766, 5)"
      ]
     },
     "execution_count": 13,
     "metadata": {},
     "output_type": "execute_result"
    }
   ],
   "source": [
    "z.shape"
   ]
  },
  {
   "cell_type": "code",
   "execution_count": 14,
   "metadata": {},
   "outputs": [],
   "source": [
    "ds=ds.append(z).reset_index(drop=True)"
   ]
  },
  {
   "cell_type": "markdown",
   "metadata": {},
   "source": [
    "n=9,10,11,12"
   ]
  },
  {
   "cell_type": "code",
   "execution_count": 15,
   "metadata": {},
   "outputs": [
    {
     "name": "stdout",
     "output_type": "stream",
     "text": [
      "5→11/12\n",
      "6→140/141\n",
      "7→760/761\n",
      "8→5568/5569\n"
     ]
    }
   ],
   "source": [
    "z=pd.DataFrame()\n",
    "\n",
    "for n in [5,6,7,8]:\n",
    "    for i in ds[ds['n']==n].reset_index(drop=True).index:\n",
    "\n",
    "        zz=ds[ds['n']==n].reset_index(drop=True)\n",
    "        print(f'{n}→{i}/{zz.shape[0]}',end='\\r')        \n",
    "        l=zz.loc[i,'solution']\n",
    "        ms=[[-m,-m,m,m] for m in l if l.count(m)==1 ]\n",
    "\n",
    "        zz=zz.loc[np.ones(len(ms)).astype(int)*i].reset_index(drop=True)\n",
    "\n",
    "        zz['id']=zz.index\n",
    "\n",
    "        zz['solution']=zz.apply(lambda row: row['solution']+ms[row['id']],axis='columns'\n",
    "                        ).apply(lambda l:sorted(l,key=abs))\n",
    "        zz=zz.drop(['id'],axis='columns')\n",
    "        zz['n']=zz['solution'].apply(len)\n",
    "        z=z.append(zz).reset_index(drop=True)\n",
    "    print()"
   ]
  },
  {
   "cell_type": "code",
   "execution_count": 16,
   "metadata": {},
   "outputs": [
    {
     "data": {
      "text/plain": [
       "(43187, 5)"
      ]
     },
     "execution_count": 16,
     "metadata": {},
     "output_type": "execute_result"
    }
   ],
   "source": [
    "z.shape"
   ]
  },
  {
   "cell_type": "code",
   "execution_count": 17,
   "metadata": {},
   "outputs": [],
   "source": [
    "ds=ds.append(z).reset_index(drop=True)"
   ]
  },
  {
   "cell_type": "markdown",
   "metadata": {},
   "source": [
    "n=8,9,10,11,12"
   ]
  },
  {
   "cell_type": "code",
   "execution_count": null,
   "metadata": {},
   "outputs": [
    {
     "name": "stdout",
     "output_type": "stream",
     "text": [
      "\n",
      "6→37/38\n",
      "7→210/211\n",
      "8→2689/2690\n",
      "9→14073/14074\n",
      "10→13703/79283\r"
     ]
    }
   ],
   "source": [
    "z=pd.DataFrame()\n",
    "\n",
    "for n in [5,6,7,8,9,10]:\n",
    "    zz=ds[ds['n']==n]\n",
    "    zzz=zz[zz['solution'].apply(lambda l: ( len(l)-len(set(l)) )>0 )].reset_index(drop=True)\n",
    "    for i in zzz.index:\n",
    "        zz=ds[ds['n']==n]\n",
    "        zz=zz[zz['solution'].apply(lambda l: ( len(l)-len(set(l)) )>0 )].reset_index(drop=True)\n",
    "        print(f'{n}→{i}/{zz.shape[0]}',end='\\r')        \n",
    "        l=zz.loc[i,'solution']\n",
    "        ms=[[-m,m] for m in set(l) if l.count(m)>=2 ]\n",
    "\n",
    "        zz=zz.loc[np.ones(len(ms)).astype(int)*i].reset_index(drop=True)\n",
    "\n",
    "        zz['id']=zz.index\n",
    "        zz['solution']=zz.apply(lambda row: row['solution']+ms[row['id']],axis='columns'\n",
    "                        ).apply(lambda l:sorted(l,key=abs))\n",
    "        zz=zz.drop(['id'],axis='columns')\n",
    "        zz['n']=zz['solution'].apply(len)\n",
    "        z=z.append(zz).reset_index(drop=True)\n",
    "    print()        "
   ]
  },
  {
   "cell_type": "code",
   "execution_count": null,
   "metadata": {},
   "outputs": [],
   "source": [
    "z.shape"
   ]
  },
  {
   "cell_type": "code",
   "execution_count": null,
   "metadata": {},
   "outputs": [],
   "source": [
    "z[~z['solution'].astype(str).duplicated()].shape"
   ]
  },
  {
   "cell_type": "code",
   "execution_count": null,
   "metadata": {},
   "outputs": [],
   "source": [
    "ds=ds.append(z).reset_index(drop=True)\n",
    "ds.shape"
   ]
  },
  {
   "cell_type": "code",
   "execution_count": null,
   "metadata": {},
   "outputs": [],
   "source": [
    "ds=ds[~ds['solution'].astype(str).duplicated()].reset_index(drop=True)\n",
    "ds.shape"
   ]
  },
  {
   "cell_type": "markdown",
   "metadata": {
    "id": "cHys6MYEOC68"
   },
   "source": [
    "## Filter two set of repeated charges\n",
    "with one of them repeated 3 times\n",
    "$$(\\nu,\\nu[,\\nu],\\psi_1,\\psi_2,\\cdots)$$\n"
   ]
  },
  {
   "cell_type": "code",
   "execution_count": null,
   "metadata": {
    "colab": {
     "base_uri": "https://localhost:8080/"
    },
    "id": "ByzN9LCDKCEU",
    "outputId": "a576876a-2024-46e5-9d90-bc73534c197e"
   },
   "outputs": [],
   "source": [
    "#at least one set of repeated numbers\n",
    "dsp=ds[ds['solution'].apply(lambda l: len(l)-len(set(l))>0)].reset_index(drop=True)\n",
    "dsp.shape"
   ]
  },
  {
   "cell_type": "markdown",
   "metadata": {
    "id": "cthph7K1SlI9"
   },
   "source": [
    "Some reordering"
   ]
  },
  {
   "cell_type": "code",
   "execution_count": null,
   "metadata": {
    "colab": {
     "base_uri": "https://localhost:8080/",
     "height": 171
    },
    "id": "WZw5N5CVSqhj",
    "outputId": "0d2761c9-27d3-45ba-a8dc-f9a817e7a6de"
   },
   "outputs": [],
   "source": [
    "dsp['nmax']=dsp['solution'].apply(lambda l: map(abs,l)).apply(max)\n",
    "dsp=dsp.sort_values(['n','nmax']).reset_index(drop=True)\n",
    "dsp2=dsp.copy()\n",
    "dsp3=dsp.copy()\n",
    "dsp4=dsp.copy()\n",
    "\n",
    "#Show the first and last one solutions\n",
    "#dsp#.iloc[[0,1,2,-1]]"
   ]
  },
  {
   "cell_type": "markdown",
   "metadata": {
    "id": "pJzdUkReKCEU"
   },
   "source": [
    "## 1. Check effective conditions\n",
    "\n",
    "$$ \\nu+m+\\delta s=0$$\n",
    "\n",
    "$$ \\psi_i+\\psi_j=|s|$$"
   ]
  },
  {
   "cell_type": "code",
   "execution_count": null,
   "metadata": {
    "id": "x1fCNcB0OC7B"
   },
   "outputs": [],
   "source": [
    "def get_massless(l,s,rank=True):\n",
    "    if len(l)==0:\n",
    "        return []\n",
    "    elif len(l)==1:\n",
    "        mssls=[(l[0],l[0])]\n",
    "    elif len(l)==2:\n",
    "        mssls=[tuple(l)]\n",
    "    else:\n",
    "        mssls=set([x for x in itertools.permutations(l,2) if x[0]<=x[1] ])\n",
    "    xs=[]\n",
    "    massless=[] # zero eigenvalues when rank is not enough\n",
    "    for x in mssls:\n",
    "        if abs(x[0]+x[1])==abs(s):\n",
    "            xs.append(x)  # ←→ xs=[ x for x in mssls if abs(x[0]+x[1])==abs(s) ] for rank=False\n",
    "            #Check the matrix rank and store zero eigenvalues\n",
    "            nr=l.count(x[0])-l.count(x[1])            \n",
    "            if rank and nr>0 and abs(2*x[0])!=abs(s):\n",
    "                massless=massless+ [ x[0] for i in range(nr)]\n",
    "            elif rank and nr<0 and abs(2*x[1])!=abs(s):\n",
    "                massless=massless+ [ x[1] for i in range(abs(nr))]\n",
    "            #Check repetead massive\n",
    "\n",
    "    #flatten list of lists into list\n",
    "    massive=[x for sublist in xs for x in sublist]\n",
    "    extra_massless=[]\n",
    "    if rank:\n",
    "        extra_massless=list(set([x for x in massive if massive.count(x)>1]))\n",
    "        extra_massless=[x for x in extra_massless if abs(2*x)!=abs(s)]\n",
    "\n",
    "    return list( set(l).difference(set(massive)) ) + massless + extra_massless  \n",
    "\n",
    "def get_sp(massless):\n",
    "    \"\"\"\n",
    "    For a list of numbers `x_i` find the best `sp` value such that\n",
    "    all the elements of the list satisfy:\n",
    "       |sp|=|x_i + x_j|\n",
    "    * If the list is already empty return None\n",
    "    * If not found `sp` returns 0\n",
    "    \"\"\"\n",
    "    if len(massless)==0:\n",
    "        return None\n",
    "    elif len(massless)==1:\n",
    "        drs=[(massless[0],massless[0])]\n",
    "    elif len(massless)==2:\n",
    "        drs=[tuple(massless)]\n",
    "    else:\n",
    "        drs=[x for x in itertools.permutations(massless,2) if x[0]<=x[1]]\n",
    "    sps=set(abs(sum(x)) for x in drs)    \n",
    "    for sp in sps:\n",
    "        msv =([dr for dr in drs if abs(sum(dr))==sp])\n",
    "        massive=set([x for sublist in msv for x in sublist])\n",
    "        msl=([dr for dr in drs if abs(sum(dr))!=sp])\n",
    "        massless=set( [x for sublist in msl for x in sublist])\n",
    "        majorana=massless.difference(massive)\n",
    "        majorana=[m for m in majorana if abs(2*m)!=sp]\n",
    "        if not majorana:\n",
    "            return sp\n",
    "        else:\n",
    "            return 0        "
   ]
  },
  {
   "cell_type": "code",
   "execution_count": null,
   "metadata": {
    "id": "NYJZBQ52KCEU"
   },
   "outputs": [],
   "source": [
    "#l=[1,-9,-9,-9,13,18,18,18,-19,-22]\n",
    "#def conditions(l):\n",
    "def condition(l,δ=1,rank=True):\n",
    "#if True:   \n",
    "    sls=[]\n",
    "    ms=set([x for x in l if l.count(x)==3]+[0])\n",
    "    vectorlike=[x for x in ms if l.count(-x)!=0]\n",
    "    if vectorlike:\n",
    "        ms=set(vectorlike)    \n",
    "    νs=set([x for x in l if l.count(x)==2 or l.count(x)==3])\n",
    "    #                                         exclude vector-like\n",
    "    mνs=[(m,ν) for m in ms for ν in νs if m!=ν and l.count(-ν)==0]\n",
    "    sold=0\n",
    "    symmetry_old='XD'    \n",
    "    for mν in mνs:\n",
    "        m=mν[0]\n",
    "        #Because of set always start at m=0 → symmetry='D'\n",
    "        if m==0:\n",
    "            symmetry='D'\n",
    "        else:\n",
    "            symmetry='X'         \n",
    "        ν=mν[1]\n",
    "        s=(-m-ν)/δ\n",
    "        if float(s)-int(s)==0:\n",
    "            s=int(s)\n",
    "        else:\n",
    "            continue\n",
    "        #Avoid repeated solutions\n",
    "        if abs(s)==abs(sold) and symmetry==symmetry_old:\n",
    "            continue\n",
    "        else:\n",
    "            sold=s\n",
    "            if m==0:\n",
    "                symmetry_old='D'\n",
    "            else:\n",
    "                symmetry_old='X'            \n",
    "        ψs=[x for x in l if x!=ν and x!=m]\n",
    "        msslss=get_massless(ψs,s,rank=rank)\n",
    "        sp=get_sp(msslss)\n",
    "        d={'m':m,'ν':ν,'s':s,'massless':msslss,'sp':sp,'δ':δ}\n",
    "        sls.append(d)\n",
    "    #sp=None    \n",
    "    solutions=[d for d in sls if d.get('massless')==[]]\n",
    "    if not solutions:\n",
    "        solutions=[d for d in sls if d.get('sp')]    \n",
    "    return solutions\n",
    "\n",
    "l=[1, 2, -6, -6, -6, 8, 9, 9, -11]\n",
    "assert condition(l)[0].get('massless')==[]\n",
    "l=[1, 1, 1, -4, -4, 5]\n",
    "assert len(condition(l))==3\n",
    "l=[1,-9,-9,-9,13,18,18,18,-19,-22]\n",
    "assert set([d.get('m') for d in condition(l)])=={0,18}\n",
    "l=[1, -2, -3, 5, 5, -6]\n",
    "assert condition(l)[0].get('massless')==[]\n",
    "#zero eigenvalues with repeated charges → -20\n",
    "l=[13, 13, -16, -16, -20, -20, 23, 29, 29, 29, -32, -32]\n",
    "assert condition(l,rank=False)[0]['massless']==[]\n",
    "assert [-20] in [d.get('massless') for d in condition(l,rank=True)]\n",
    "#zero eigenvalues with non-repeated charges → -11,-17\n",
    "l=[4, -7, -7, 10, -11, 14, 15, -17, 18, -21, -22, 24]\n",
    "assert condition(l,rank=False)[0]['massless']==[]\n",
    "assert len(condition(l,rank=True)[0]['massless'])==2\n",
    "l=[5, -5, -5, 5, 5, -7, -11, 15, 17, -20, -20, 21]\n",
    "assert condition(l,δ=2)==[]"
   ]
  },
  {
   "cell_type": "code",
   "execution_count": null,
   "metadata": {
    "id": "_J31np7_OC7E"
   },
   "outputs": [],
   "source": [
    "def unconditional_stability(row,ZN={6:(2,3),10:(2,5),15:(3,5)},DMs={},check_massless=True):\n",
    "    '''\n",
    "    According to appendix of arXiv:1911.05515, \n",
    "    generalized to any N\n",
    "    \n",
    "    '''\n",
    "    if check_massless:\n",
    "        sd=[d for d in row['effective'] if d.get('massless')==[]]\n",
    "    else:\n",
    "        sd=row['effective']\n",
    "        \n",
    "    for i in range(len(sd)):\n",
    "        DMs={}\n",
    "        d=sd[i]\n",
    "        N=abs(d['s'])\n",
    "        l=[n for n in row['solution'] if n not in [d['m'],d['ν']] ]\n",
    "        #Check for non-hidden chiral fermions\n",
    "        if 0 in np.array(l)%N:\n",
    "            DMs={'None':tuple([])}\n",
    "            continue\n",
    "        DM=[x for x in itertools.permutations(l,2) \n",
    "               if x[0]<=x[1] and abs(sum(x))==N ]\n",
    "        DM=DM+[(n,n) for n in l if abs(2*n)==N]\n",
    "        #rank 0\n",
    "        for dm in DM:\n",
    "            if dm[0]!=dm[1] and l.count(dm[0])!=l.count(dm[1]) and abs(2*dm[0])!=N and abs(2*dm[0])!=N:\n",
    "                DMs={'None':tuple([])}\n",
    "        #missing massles → TODO: Check BUG\n",
    "        if check_massless and np.setdiff1d(l,[item for sublist in DM for item in sublist]).size>0:\n",
    "            DMs={'None':tuple([])}\n",
    "        if not DMs.get('None')==():\n",
    "            try:\n",
    "                p,q=ZN[N]\n",
    "            except KeyError:\n",
    "                DMs={'None':tuple([])}\n",
    "                continue\n",
    "            ps=[n*p for n in range(1,N) if n*p<N]\n",
    "            qs=[n*q for n in range(1,N) if n*q<N]\n",
    "            ω=[ sorted([y%N for y in x]) for x in DM]\n",
    "            DMF=['ψ' if np.setdiff1d(x,ps).size==0 else 'χ' \n",
    "                   if np.setdiff1d(x,qs).size==0 else 'None' for x in  ω ]\n",
    "            DMs=dict(zip(DMF,DM))\n",
    "            break\n",
    "    return DMs"
   ]
  },
  {
   "cell_type": "code",
   "execution_count": null,
   "metadata": {
    "id": "NTUyV7fnOC7D"
   },
   "outputs": [],
   "source": [
    "dsp['effective']=dsp['solution'].apply(condition)"
   ]
  },
  {
   "cell_type": "code",
   "execution_count": null,
   "metadata": {
    "id": "QfZe77ysOC7D"
   },
   "outputs": [],
   "source": [
    "dsp=dsp[dsp['effective'].apply(len)>0].reset_index(drop=True)"
   ]
  },
  {
   "cell_type": "code",
   "execution_count": null,
   "metadata": {
    "id": "tRChzUUhOC7E"
   },
   "outputs": [],
   "source": [
    "p=np.array( [2,3,5,7,11,13,17,19,23,29,31] )\n",
    "q=p.copy()\n",
    "zpq= [ pp*qq for pp in p for qq in q if pp<qq] \n",
    "Zpq=sorted( set( zpq ) )"
   ]
  },
  {
   "cell_type": "code",
   "execution_count": null,
   "metadata": {
    "id": "7k4DDhKGOC7F"
   },
   "outputs": [],
   "source": [
    "pqs=[ (pp,qq) for pp in p for qq in q if pp<qq]\n",
    "ZN=dict(zip(Zpq,pqs))"
   ]
  },
  {
   "cell_type": "code",
   "execution_count": null,
   "metadata": {
    "id": "f8pwW8uFOC7F",
    "outputId": "a5828664-382e-4fc1-f286-c79ace084af5"
   },
   "outputs": [],
   "source": [
    "Zpq[:3]"
   ]
  },
  {
   "cell_type": "code",
   "execution_count": null,
   "metadata": {
    "id": "dVT1eOMqOC7F"
   },
   "outputs": [],
   "source": [
    "dsp['DMs']=dsp.apply(lambda row: unconditional_stability(row,ZN,check_massless=False)  ,axis='columns')"
   ]
  },
  {
   "cell_type": "code",
   "execution_count": null,
   "metadata": {},
   "outputs": [],
   "source": [
    "dsp.shape"
   ]
  },
  {
   "cell_type": "code",
   "execution_count": null,
   "metadata": {
    "id": "m8sfzUQdOC7D",
    "outputId": "f9af1639-8796-48bb-ee6f-2603d1ea61a4"
   },
   "outputs": [],
   "source": [
    "dspm=dsp[dsp['effective'].apply(lambda l: [d for d in l if not d.get('massless')]).apply(len)>0].reset_index(drop=True)\n",
    "dspm.shape"
   ]
  },
  {
   "cell_type": "code",
   "execution_count": null,
   "metadata": {},
   "outputs": [],
   "source": [
    "#dspm[dspm['DMs'].apply(lambda d: 'ψ' in d.keys() and 'χ' in d.keys())].reset_index(drop=True)"
   ]
  },
  {
   "cell_type": "markdown",
   "metadata": {},
   "source": [
    "$\\delta=2$"
   ]
  },
  {
   "cell_type": "code",
   "execution_count": null,
   "metadata": {
    "id": "hOmeIruGOC7G"
   },
   "outputs": [],
   "source": [
    "dsp2.shape"
   ]
  },
  {
   "cell_type": "code",
   "execution_count": null,
   "metadata": {
    "id": "NTUyV7fnOC7D"
   },
   "outputs": [],
   "source": [
    "dsp2['effective']=dsp2['solution'].apply(lambda l:condition(l,δ=2))"
   ]
  },
  {
   "cell_type": "code",
   "execution_count": null,
   "metadata": {
    "id": "QfZe77ysOC7D"
   },
   "outputs": [],
   "source": [
    "dsp2=dsp2[dsp2['effective'].apply(len)>0].reset_index(drop=True)"
   ]
  },
  {
   "cell_type": "code",
   "execution_count": null,
   "metadata": {
    "id": "dVT1eOMqOC7F"
   },
   "outputs": [],
   "source": [
    "dsp2['DMs']=dsp2.apply(lambda row: unconditional_stability(row,ZN,check_massless=False)  ,axis='columns')"
   ]
  },
  {
   "cell_type": "code",
   "execution_count": null,
   "metadata": {},
   "outputs": [],
   "source": [
    "dsp2.shape"
   ]
  },
  {
   "cell_type": "code",
   "execution_count": null,
   "metadata": {},
   "outputs": [],
   "source": [
    "dspm2=dsp2[dsp2['effective'].apply(lambda l: [d for d in l if not d.get('massless')]).apply(len)>0].reset_index(drop=True)\n",
    "dspm2.shape"
   ]
  },
  {
   "cell_type": "code",
   "execution_count": null,
   "metadata": {
    "id": "7cJg40zXOC7F",
    "outputId": "34bf3725-b771-48d5-a986-656edc9c0d86"
   },
   "outputs": [],
   "source": [
    "#dspm2[dspm2['DMs'].apply(lambda d: 'ψ' in d.keys() and 'χ' in d.keys())].reset_index(drop=True)"
   ]
  },
  {
   "cell_type": "markdown",
   "metadata": {},
   "source": [
    "Massive solutions with a single $S$"
   ]
  },
  {
   "cell_type": "code",
   "execution_count": null,
   "metadata": {},
   "outputs": [],
   "source": [
    "dslt=dspm.append(dspm2).reset_index(drop=True)\n",
    "dslt.shape"
   ]
  },
  {
   "cell_type": "code",
   "execution_count": null,
   "metadata": {},
   "outputs": [],
   "source": [
    "dslt=dslt.sort_values(['n','nmax']).reset_index(drop=True)"
   ]
  },
  {
   "cell_type": "markdown",
   "metadata": {},
   "source": [
    "There are 1110 solutions most of them with $N=10$ integers"
   ]
  },
  {
   "cell_type": "code",
   "execution_count": null,
   "metadata": {},
   "outputs": [],
   "source": [
    "dslt[dslt['n']==10].shape"
   ]
  },
  {
   "cell_type": "code",
   "execution_count": null,
   "metadata": {},
   "outputs": [],
   "source": [
    "def count_dm(row):\n",
    "#if True:\n",
    "    e=row['effective']\n",
    "    dm=[]\n",
    "    for d in e:\n",
    "        l=list(set(row['solution'].copy()))\n",
    "        dmd={}\n",
    "        if len(d.get('massless'))>0:\n",
    "            print('NOT IMPLEMEMTED YET')\n",
    "            continue\n",
    "        if d.get('m'):\n",
    "            l.remove( d.get('m') )\n",
    "        l.remove(d.get('ν'))\n",
    "        if len(l)==0:\n",
    "            mssls=[()]\n",
    "        elif len(l)==1:\n",
    "            mssls=[(l[0],l[0])]\n",
    "        elif len(l)==2:\n",
    "            mssls=[tuple(l)]\n",
    "        else:\n",
    "            mssls=list(set([x for x in itertools.permutations(l,2) if x[0]<=x[1] ]))\n",
    "        massive=[ x for x in mssls if len(mssls[0])>0 and abs(x[0]+x[1])==abs(d.get('s')) ]\n",
    "        #Check generations\n",
    "        gnrt=[row['solution'].count(x[0])-1 for x in massive]\n",
    "        dgnrt=0\n",
    "        if gnrt:\n",
    "            dgnrt=max(gnrt)#int( sum( [x for x in gnrt if x>0]  ) )\n",
    "        nd=len(massive)+dgnrt\n",
    "        massive=[x for x in l if abs(2*x)==abs(d.get('s')) ]\n",
    "        gnrt=[row['solution'].count(x)-1 for x in massive]\n",
    "        mgnrt=0\n",
    "        if gnrt:\n",
    "            mgnrt=max(gnrt)#int( sum( [x for x in gnrt if x>0]  ) )        \n",
    "        nm=len(massive)+mgnrt        \n",
    "        ac=False\n",
    "        if d.get('m'):\n",
    "            ac=True\n",
    "        uc=False\n",
    "        if 'ψ' in row['DMs'].keys() and 'χ' in row['DMs'].keys():\n",
    "            uc=True\n",
    "        dm.append({'active':ac,'dirac':nd,'majorana':nm,'extra_generations':(dgnrt,mgnrt),'n':row['n'],'unconditional':uc,'δ':d.get('δ')})\n",
    "        if len(dm)>1:\n",
    "            dm=[eval(y) for y in set( [str(x) for x in dm]) ]\n",
    "    \n",
    "    return dm\n",
    "\n",
    "ll=[2, 2, 3, 4, 4, -5, -6, -6, -7, 9]\n",
    "row={}\n",
    "d={'m': 0, 'ν': 2, 's': -2, 'massless': [], 'sp': None, 'δ': 1}\n",
    "row['solution']=ll\n",
    "row['effective']=[d]\n",
    "row['DMs']={}\n",
    "row['n']=10\n",
    "assert [d.get('dirac') for d in count_dm(row)]==[4]\n",
    "\n",
    "ll=[2, 2, 4, 4, -7, -7, -9, -9, 10, 10]\n",
    "row={}\n",
    "d={'m': 0, 'ν': 10, 's': -5, 'massless': [], 'sp': None, 'δ': 2}\n",
    "row['solution']=ll\n",
    "row['effective']=[d]\n",
    "row['DMs']={}\n",
    "row['n']=10\n",
    "assert [d.get('dirac') for d in count_dm(row)]==[3]"
   ]
  },
  {
   "cell_type": "code",
   "execution_count": null,
   "metadata": {},
   "outputs": [],
   "source": [
    "dslt['features']=dslt.apply(count_dm,axis='columns')"
   ]
  },
  {
   "cell_type": "code",
   "execution_count": null,
   "metadata": {},
   "outputs": [],
   "source": [
    "fnl=dslt[~dslt['features'].astype(str).duplicated()].reset_index(drop=True)"
   ]
  },
  {
   "cell_type": "markdown",
   "metadata": {},
   "source": [
    "Families of massive solutions"
   ]
  },
  {
   "cell_type": "code",
   "execution_count": null,
   "metadata": {},
   "outputs": [],
   "source": [
    "fnl.shape"
   ]
  },
  {
   "cell_type": "code",
   "execution_count": null,
   "metadata": {},
   "outputs": [],
   "source": [
    "fnl"
   ]
  },
  {
   "cell_type": "markdown",
   "metadata": {},
   "source": [
    "__Active symmetry with D-5__\n",
    "\n",
    "\n",
    "From 2 to 3 massive Dirac fermions and until a Majorana massive fermion. In the case of solutions with uncoditional stability for two dark matter candidates, if the solution includes a Majorana massive fermion, it is protected by one of the renmant symmetries. In this case the number of singlet chiral fermions is $n-3=6,8$"
   ]
  },
  {
   "cell_type": "code",
   "execution_count": null,
   "metadata": {},
   "outputs": [],
   "source": [
    "#fnl[fnl['features'].apply(lambda l: True in [ True for d in l if d.get('active') and d.get('δ')==1 ])].reset_index(drop=True)"
   ]
  },
  {
   "cell_type": "markdown",
   "metadata": {},
   "source": [
    "__Dark symmetry with D-6__\n",
    "\n",
    "From 2 to 4 massive Dirac fermions and until a Majorana massive fermion. In the case of solutions with uncoditional stability for two dark matter candidates, if the solution includes a Majorana massive fermion"
   ]
  },
  {
   "cell_type": "code",
   "execution_count": null,
   "metadata": {},
   "outputs": [],
   "source": [
    "#fnl[fnl['features'].apply(lambda l: True in [ True for d in l if not d.get('active') and d.get('δ')==2 ])].reset_index(drop=True)"
   ]
  },
  {
   "cell_type": "markdown",
   "metadata": {},
   "source": [
    "__Active symmetry with D-6__"
   ]
  },
  {
   "cell_type": "code",
   "execution_count": null,
   "metadata": {},
   "outputs": [],
   "source": [
    "#kk=fnl[fnl['features'].apply(lambda l: True in [ True for d in l if d.get('active') and d.get('δ')==2 ])].reset_index(drop=True)"
   ]
  },
  {
   "cell_type": "code",
   "execution_count": null,
   "metadata": {},
   "outputs": [],
   "source": [
    "%pylab inline\n",
    "df=pd.DataFrame(fnl['features'].str[0].to_list())"
   ]
  },
  {
   "cell_type": "code",
   "execution_count": null,
   "metadata": {},
   "outputs": [],
   "source": [
    "#https://stackoverflow.com/a/34880501\n",
    "#Dark → δ=1\n",
    "from matplotlib.ticker import MaxNLocator\n",
    "#ax = plt.figure(figsize=(4,3)).gca()\n",
    "ax = plt.figure(figsize=(9,4)).gca()\n",
    "ax.plot(df[ ( (df['active']==False) & (df['δ']==1) ) ]['majorana'],\n",
    "         df[ ( (df['active']==False) & (df['δ']==1) ) ]['dirac'],'mo',markersize=30,label=r'$U(1)_D\\ \\rm{and}\\ \\delta=1$')\n",
    "#Active → δ=1\n",
    "ax.plot(df[ ( (df['active']==True) & (df['δ']==1) ) ]['majorana'],\n",
    "         df[ ( (df['active']==True) & (df['δ']==1) ) ]['dirac'],'yo',markersize=25,label=r'$U(1)_X\\ \\rm{and}\\ \\delta=1$')\n",
    "#Dark → δ=2\n",
    "ax.plot(df[ ( (df['active']==False) & (df['δ']==2) ) ]['majorana'],\n",
    "         df[ ( (df['active']==False) & (df['δ']==2) ) ]['dirac'],'go',markersize=20,label=r'$U(1)_D\\ \\rm{and}\\ \\delta=2$')\n",
    "#Active → δ=2\n",
    "ax.plot(df[ ( (df['active']==True) & (df['δ']==2) ) ]['majorana'],\n",
    "         df[ ( (df['active']==True) & (df['δ']==2) ) ]['dirac'],'co',markersize=15,label=r'$U(1)_X\\ \\rm{and}\\ \\delta=2$')\n",
    "\n",
    "\n",
    "#Dark → δ=1 → unconditional\n",
    "ax.plot(df[ ( (df['active']==False) & (df['δ']==1) & (df['unconditional']==True) ) ]['majorana'],\n",
    "         df[ ( (df['active']==False) & (df['δ']==1) & (df['unconditional']==True) ) ]['dirac'],'bo',\n",
    "         markersize=10,label=r'$U(1)_D \\to Z_p\\otimes Z_q\\ \\rm{and}\\ \\delta=1$')\n",
    "#Active → δ=1 → unconditional\n",
    "ax.plot(df[ ( (df['active']==True) & (df['δ']==1) & (df['unconditional']==True) ) ]['majorana'],\n",
    "         df[ ( (df['active']==True) & (df['δ']==1) & (df['unconditional']==True) ) ]['dirac'],'ro',\n",
    "        markersize=5,label=r'$U(1)_X \\to Z_p\\otimes Z_q\\ \\rm{and}\\ \\delta=1$')\n",
    "ax.xaxis.set_major_locator(MaxNLocator(integer=True))\n",
    "ax.yaxis.set_major_locator(MaxNLocator(integer=True))\n",
    "\n",
    "ax.set_xlabel('Number of Majorana fermions',size=15)\n",
    "ax.set_ylabel('Number of Dirac fermions',size=15)\n",
    "ax.set_title('Massive fermions',fontsize=15)\n",
    "\n",
    "ax.set_ylim(0.7,4.3)\n",
    "ax.set_xlim(-0.3,4.3)\n",
    "ax.grid()\n",
    "ax.legend(loc=(1.1,0.2),fontsize=15)#,bbox_to_anchor=(2, 0.5))\n",
    "plt.tight_layout()#rect=(0,0,1.6,1.2))\n",
    "plt.subplots_adjust(right=0.5)\n",
    "plt.savefig('number.pdf')"
   ]
  },
  {
   "cell_type": "code",
   "execution_count": null,
   "metadata": {},
   "outputs": [],
   "source": [
    "def get_generations(row):\n",
    "    l=list(row['extra_generations'])\n",
    "    if l[0]:\n",
    "        l[0]=l[0]+1\n",
    "    if l[0]==0 and row['dirac']:\n",
    "        l[0]=l[0]+1\n",
    "    if l[1]:\n",
    "        l[1]=l[1]+1\n",
    "    if l[1]==0 and row['majorana']:\n",
    "        l[1]=l[1]+1\n",
    "    return tuple(l)"
   ]
  },
  {
   "cell_type": "code",
   "execution_count": null,
   "metadata": {},
   "outputs": [],
   "source": [
    "df['generations']=df.apply(get_generations,axis='columns')"
   ]
  },
  {
   "cell_type": "code",
   "execution_count": null,
   "metadata": {},
   "outputs": [],
   "source": [
    "#https://stackoverflow.com/a/34880501\n",
    "#Dark → δ=1\n",
    "from matplotlib.ticker import MaxNLocator\n",
    "ax = plt.figure(figsize=(9,4)).gca()\n",
    "ax.plot(df[ ( (df['active']==False) & (df['δ']==1) ) ]['generations'].str[1],\n",
    "         df[ ( (df['active']==False) & (df['δ']==1) ) ]['generations'].str[0],'mo',markersize=30,label=r'$U(1)_D\\ \\rm{and}\\ \\delta=1$')\n",
    "#Active → δ=1\n",
    "ax.plot(df[ ( (df['active']==True) & (df['δ']==1) ) ]['generations'].str[1],\n",
    "         df[ ( (df['active']==True) & (df['δ']==1) ) ]['generations'].str[0],'yo',markersize=25,label=r'$U(1)_X\\ \\rm{and}\\ \\delta=1$')\n",
    "#Dark → δ=2\n",
    "ax.plot(df[ ( (df['active']==False) & (df['δ']==2) ) ]['generations'].str[1],\n",
    "         df[ ( (df['active']==False) & (df['δ']==2) ) ]['generations'].str[0],'go',markersize=20,label=r'$U(1)_D\\ \\rm{and}\\ \\delta=2$')\n",
    "#Active → δ=2\n",
    "ax.plot(df[ ( (df['active']==True) & (df['δ']==2) ) ]['generations'].str[1],\n",
    "         df[ ( (df['active']==True) & (df['δ']==2) ) ]['generations'].str[0],'co',markersize=15,label=r'$U(1)_X\\ \\rm{and}\\ \\delta=2$')\n",
    "\n",
    "\n",
    "#Dark → δ=1 → unconditional\n",
    "ax.plot(df[ ( (df['active']==False) & (df['δ']==1) & (df['unconditional']==True) ) ]['generations'].str[1],\n",
    "         df[ ( (df['active']==False) & (df['δ']==1) & (df['unconditional']==True) ) ]['generations'].str[0],'bo',\n",
    "         markersize=10,label=r'$U(1)_D \\to Z_p\\otimes Z_q\\ \\rm{and}\\ \\delta=1$')\n",
    "#Active → δ=1 → unconditional\n",
    "ax.plot(df[ ( (df['active']==True) & (df['δ']==1) & (df['unconditional']==True) ) ]['generations'].str[1],\n",
    "         df[ ( (df['active']==True) & (df['δ']==1) & (df['unconditional']==True) ) ]['generations'].str[0],'ro',\n",
    "        markersize=5,label=r'$U(1)_X \\to Z_p\\otimes Z_q\\ \\rm{and}\\ \\delta=1$')\n",
    "ax.xaxis.set_major_locator(MaxNLocator(integer=True))\n",
    "ax.yaxis.set_major_locator(MaxNLocator(integer=True))\n",
    "\n",
    "ax.set_xlabel('Generations of Majorana fermions',size=15)\n",
    "ax.set_ylabel('Generations of Dirac fermions',size=15)\n",
    "ax.set_title('Massive fermions',fontsize=15)\n",
    "\n",
    "ax.set_ylim(0.7,3.3)\n",
    "ax.set_xlim(-0.3,4.3)\n",
    "ax.grid()\n",
    "ax.legend(loc=(1.1,0.2),fontsize=15)\n",
    "plt.tight_layout()#rect=(0,0,1.6,1.2))\n",
    "plt.subplots_adjust(right=0.5)\n",
    "plt.savefig('generation.pdf')"
   ]
  },
  {
   "cell_type": "code",
   "execution_count": null,
   "metadata": {},
   "outputs": [],
   "source": [
    "#https://stackoverflow.com/a/23358722/2268280\n",
    "h=dslt.groupby('n')['nmax'].count()\n",
    "hh=dslt[dslt.effective.str[0].str['δ']==2].groupby('n')['nmax'].count()\n",
    "plt.grid(zorder=0)\n",
    "plt.bar(list(h.keys()),h.values,log=True,zorder=2,label=r'$\\delta=1$')\n",
    "plt.bar(list(hh.keys()),hh.values,log=True,zorder=2,label=r'$\\delta=2$')\n",
    "\n",
    "plt.title('Solutions without massless fermions',fontsize=15)\n",
    "plt.xlabel('$N$ [Number of integers in solutions]',size=15)\n",
    "plt.ylabel('Number of solutions',size=15)\n",
    "plt.legend(loc='best')\n",
    "plt.savefig('solutions.pdf')\n"
   ]
  },
  {
   "cell_type": "code",
   "execution_count": null,
   "metadata": {},
   "outputs": [],
   "source": [
    "dsp3['effective']=dsp3['solution'].apply(lambda l:condition(l,δ=3))\n",
    "\n",
    "dsp3=dsp3[dsp3['effective'].apply(len)>0].reset_index(drop=True)\n",
    "\n",
    "dsp3['DMs']=dsp3.apply(lambda row: unconditional_stability(row,ZN,check_massless=False)  ,axis='columns')\n",
    "\n",
    "dsp3.shape"
   ]
  },
  {
   "cell_type": "code",
   "execution_count": null,
   "metadata": {},
   "outputs": [],
   "source": [
    "dsp3[dsp3['effective'].apply(lambda l: [d for d in l if not d.get('massless')]).apply(len)>0].reset_index(drop=True)"
   ]
  },
  {
   "cell_type": "code",
   "execution_count": null,
   "metadata": {},
   "outputs": [],
   "source": [
    "dsp4['effective']=dsp4['solution'].apply(lambda l:condition(l,δ=4))\n",
    "\n",
    "dsp4=dsp4[dsp4['effective'].apply(len)>0].reset_index(drop=True)\n",
    "\n",
    "#dsp4['DMs']=dsp4.apply(lambda row: unconditional_stability(row,ZN,check_massless=False)  ,axis='columns')\n",
    "\n",
    "dsp4.shape"
   ]
  },
  {
   "cell_type": "code",
   "execution_count": null,
   "metadata": {},
   "outputs": [],
   "source": [
    "dsp4[dsp4['effective'].apply(lambda l: [d for d in l if not d.get('massless')]).apply(len)>0].reset_index(drop=True)"
   ]
  },
  {
   "cell_type": "markdown",
   "metadata": {},
   "source": [
    "# LaTeX table"
   ]
  },
  {
   "cell_type": "code",
   "execution_count": null,
   "metadata": {},
   "outputs": [],
   "source": [
    "tm=fnl.copy()\n",
    "tm['uncstab']=fnl['DMs'].apply(lambda d: 'ψ' in d.keys() and 'χ' in d.keys())"
   ]
  },
  {
   "cell_type": "code",
   "execution_count": null,
   "metadata": {},
   "outputs": [],
   "source": [
    "tm['N']=tm.apply(lambda row: row['n']-3 if row['effective'][0]['m']!=0 else row['n'],axis='columns')"
   ]
  },
  {
   "cell_type": "code",
   "execution_count": null,
   "metadata": {},
   "outputs": [],
   "source": [
    "Zpq"
   ]
  },
  {
   "cell_type": "code",
   "execution_count": null,
   "metadata": {},
   "outputs": [],
   "source": [
    "tm['effective']=tm.apply(lambda row: [d for d in row['effective'] if abs(d.get('s')) in Zpq ] \n",
    "            if [d for d in row['effective'] if abs(d.get('s')) in Zpq ] else row['effective'] \n",
    "         ,axis='columns')"
   ]
  },
  {
   "cell_type": "code",
   "execution_count": null,
   "metadata": {},
   "outputs": [],
   "source": [
    "tm['m']=tm['effective'].str[0].str['m']\n",
    "tm[r'\\nu']=tm['effective'].str[0].str['ν']\n",
    "tm['s']=tm['effective'].str[0].str['s']\n",
    "tm[r'\\delta']=tm['effective'].str[0].str['δ']"
   ]
  },
  {
   "cell_type": "code",
   "execution_count": null,
   "metadata": {},
   "outputs": [],
   "source": [
    "import re\n",
    "def add_boldsymbol(ss):\n",
    "    if str(ss).find(r'\\boldsymbol')==-1:\n",
    "        return re.sub('(\\-*[0-9]+)',r'\\\\boldsymbol{\\1}',str(ss))\n",
    "    else:\n",
    "        return ss"
   ]
  },
  {
   "cell_type": "code",
   "execution_count": null,
   "metadata": {},
   "outputs": [],
   "source": [
    "kk=tm[['solution','N','m',r'\\nu',r'\\delta','s','uncstab']].copy()"
   ]
  },
  {
   "cell_type": "code",
   "execution_count": null,
   "metadata": {},
   "outputs": [],
   "source": [
    "for i in kk.index:\n",
    "    #for s in ['DD','DM','XD','XM']:\n",
    "    kk['s']=kk.apply(lambda row: add_boldsymbol(row['s']) if row['uncstab'] else row['s'],axis='columns' )    \n",
    "\n",
    "kkk=kk.drop('uncstab',axis='columns')#[['n','l','k','solution','gcd']]#Ref','DD','DM','XD','XM']]\n",
    "def f(x):\n",
    "    return  r'{}'.format(str(x).replace('[','(').replace(']',')'))\n",
    "\n",
    "kkk.to_latex('solutions.tex',index=False,formatters=dict( [(k,f) for k in kk.columns ]) ,escape=False  )"
   ]
  },
  {
   "cell_type": "code",
   "execution_count": null,
   "metadata": {},
   "outputs": [],
   "source": [
    "cat solutions.tex"
   ]
  },
  {
   "cell_type": "code",
   "execution_count": null,
   "metadata": {},
   "outputs": [],
   "source": []
  }
 ],
 "metadata": {
  "colab": {
   "collapsed_sections": [],
   "include_colab_link": true,
   "name": "Type-II Dark Dirac Seesaw.ipynb",
   "provenance": []
  },
  "kernelspec": {
   "display_name": "Python 3 (ipykernel)",
   "language": "python",
   "name": "python3"
  },
  "language_info": {
   "codemirror_mode": {
    "name": "ipython",
    "version": 3
   },
   "file_extension": ".py",
   "mimetype": "text/x-python",
   "name": "python",
   "nbconvert_exporter": "python",
   "pygments_lexer": "ipython3",
   "version": "3.7.3"
  }
 },
 "nbformat": 4,
 "nbformat_minor": 4
}
