{
 "cells": [
  {
   "cell_type": "markdown",
   "metadata": {
    "colab_type": "text",
    "id": "view-in-github"
   },
   "source": [
    "<a href=\"https://colab.research.google.com/github/restrepo/anomaly/blob/main/Type_II_Dirac_Seesaw.ipynb\" target=\"_parent\"><img src=\"https://colab.research.google.com/assets/colab-badge.svg\" alt=\"Open In Colab\"/></a>"
   ]
  },
  {
   "cell_type": "markdown",
   "metadata": {
    "id": "tlDEHLH6KCEM"
   },
   "source": [
    "# Solutions for effective Dirac neutrino masses from an Abelian Gauge Symmetry with massive chiral singlet fermions\n",
    "For details see [arXiv:2108.05907](https://arxiv.org/pdf/2108.05907), Sec. 3.2\n",
    "\n",
    "## Data Scheme\n",
    "![img](https://raw.githubusercontent.com/restrepo/anomaly/main/schema.svg)"
   ]
  },
  {
   "cell_type": "code",
   "execution_count": 1,
   "metadata": {
    "id": "GYaKHGh7KCEP"
   },
   "outputs": [],
   "source": [
    "import pandas as pd\n",
    "import numpy as np\n",
    "import itertools"
   ]
  },
  {
   "cell_type": "code",
   "execution_count": 2,
   "metadata": {
    "id": "8cimVm9vOC64"
   },
   "outputs": [],
   "source": [
    "pd.set_option('display.max_colwidth',500)"
   ]
  },
  {
   "cell_type": "markdown",
   "metadata": {
    "id": "naEIRR7wKCER"
   },
   "source": [
    "### Load full solutions"
   ]
  },
  {
   "cell_type": "code",
   "execution_count": 3,
   "metadata": {
    "colab": {
     "base_uri": "https://localhost:8080/"
    },
    "id": "d-RviMb0KCER",
    "outputId": "dde4279b-5e65-4ca5-8a45-d1d56968b2e0"
   },
   "outputs": [
    {
     "data": {
      "text/plain": [
       "(390074, 5)"
      ]
     },
     "execution_count": 3,
     "metadata": {},
     "output_type": "execute_result"
    }
   ],
   "source": [
    "ds=pd.read_json('https://github.com/restrepo/anomaly/raw/main/solutions.json.gz')\n",
    "ds.shape"
   ]
  },
  {
   "cell_type": "markdown",
   "metadata": {},
   "source": [
    "## Build new `n=10,11,12` solutions"
   ]
  },
  {
   "cell_type": "code",
   "execution_count": 4,
   "metadata": {},
   "outputs": [
    {
     "name": "stdout",
     "output_type": "stream",
     "text": [
      "5 5\n",
      "5 6\n",
      "5 7\n",
      "6 6\n"
     ]
    }
   ],
   "source": [
    "z=pd.Series(dtype=float)\n",
    "for i in range(5,9):\n",
    "    for j in range(5,9):\n",
    "        if i+j>12 or i>j:\n",
    "            continue\n",
    "        print(i,j)\n",
    "        x=ds[ds['n']==i]['solution'].reset_index(drop=True)\n",
    "        y=ds[ds['n']==j]['solution'].reset_index(drop=True)\n",
    "        for k in y.index:\n",
    "            z=z.append(x.apply( lambda l: l+y.loc[k] ).apply(lambda l: sorted(l,key=abs))).reset_index(drop=True)"
   ]
  },
  {
   "cell_type": "code",
   "execution_count": 5,
   "metadata": {},
   "outputs": [],
   "source": [
    "df=pd.DataFrame()\n",
    "df['solution']=z"
   ]
  },
  {
   "cell_type": "code",
   "execution_count": 6,
   "metadata": {},
   "outputs": [],
   "source": [
    "df=df[~df['solution'].astype(str).duplicated()].reset_index(drop=True)"
   ]
  },
  {
   "cell_type": "code",
   "execution_count": 7,
   "metadata": {},
   "outputs": [],
   "source": [
    "df['n']=df['solution'].apply(lambda l: len(l))"
   ]
  },
  {
   "cell_type": "code",
   "execution_count": 8,
   "metadata": {},
   "outputs": [],
   "source": [
    "ds=ds.append(df).reset_index(drop=True)"
   ]
  },
  {
   "cell_type": "code",
   "execution_count": 9,
   "metadata": {},
   "outputs": [],
   "source": [
    "for k in ['l','k']:\n",
    "    ds[k]=ds[k].apply(lambda f: [] if isinstance(f,float) else f)"
   ]
  },
  {
   "cell_type": "code",
   "execution_count": 10,
   "metadata": {},
   "outputs": [],
   "source": [
    "ds=ds[~ds['solution'].astype(str).duplicated()].reset_index(drop=True)"
   ]
  },
  {
   "cell_type": "code",
   "execution_count": 11,
   "metadata": {},
   "outputs": [
    {
     "data": {
      "text/plain": [
       "(413572, 5)"
      ]
     },
     "execution_count": 11,
     "metadata": {},
     "output_type": "execute_result"
    }
   ],
   "source": [
    "ds.shape"
   ]
  },
  {
   "cell_type": "markdown",
   "metadata": {},
   "source": [
    "$n=11,12$"
   ]
  },
  {
   "cell_type": "code",
   "execution_count": 12,
   "metadata": {},
   "outputs": [],
   "source": [
    "z=pd.DataFrame()\n",
    "for n in [5,6]:\n",
    "    for m in range(1,31):\n",
    "        ll=[-m,-m,-m,m,m,m]\n",
    "        zz=ds[ds['n']==n].reset_index(drop=True)\n",
    "        zz['solution']=zz['solution'].apply(lambda l:l+ll if m not in l and -m not in l else []).apply(\n",
    "            lambda l:sorted(l,key=abs))\n",
    "        zz['n']=zz['solution'].apply(len)\n",
    "        z=z.append(zz).reset_index(drop=True)\n",
    "        z=z[z['n']>0].reset_index(drop=True)"
   ]
  },
  {
   "cell_type": "code",
   "execution_count": 13,
   "metadata": {},
   "outputs": [
    {
     "data": {
      "text/plain": [
       "(3766, 5)"
      ]
     },
     "execution_count": 13,
     "metadata": {},
     "output_type": "execute_result"
    }
   ],
   "source": [
    "z.shape"
   ]
  },
  {
   "cell_type": "code",
   "execution_count": 14,
   "metadata": {},
   "outputs": [],
   "source": [
    "ds=ds.append(z).reset_index(drop=True)"
   ]
  },
  {
   "cell_type": "markdown",
   "metadata": {},
   "source": [
    "n=9,10,11,12"
   ]
  },
  {
   "cell_type": "code",
   "execution_count": 15,
   "metadata": {},
   "outputs": [
    {
     "name": "stdout",
     "output_type": "stream",
     "text": [
      "5→11/12\n",
      "6→140/141\n",
      "7→760/761\n",
      "8→5568/5569\n"
     ]
    }
   ],
   "source": [
    "z=pd.DataFrame()\n",
    "\n",
    "for n in [5,6,7,8]:\n",
    "    for i in ds[ds['n']==n].reset_index(drop=True).index:\n",
    "\n",
    "        zz=ds[ds['n']==n].reset_index(drop=True)\n",
    "        print(f'{n}→{i}/{zz.shape[0]}',end='\\r')        \n",
    "        l=zz.loc[i,'solution']\n",
    "        ms=[[-m,-m,m,m] for m in l if l.count(m)==1 ]\n",
    "\n",
    "        zz=zz.loc[np.ones(len(ms)).astype(int)*i].reset_index(drop=True)\n",
    "\n",
    "        zz['id']=zz.index\n",
    "\n",
    "        zz['solution']=zz.apply(lambda row: row['solution']+ms[row['id']],axis='columns'\n",
    "                        ).apply(lambda l:sorted(l,key=abs))\n",
    "        zz=zz.drop(['id'],axis='columns')\n",
    "        zz['n']=zz['solution'].apply(len)\n",
    "        z=z.append(zz).reset_index(drop=True)\n",
    "    print()"
   ]
  },
  {
   "cell_type": "code",
   "execution_count": 16,
   "metadata": {},
   "outputs": [
    {
     "data": {
      "text/plain": [
       "(43187, 5)"
      ]
     },
     "execution_count": 16,
     "metadata": {},
     "output_type": "execute_result"
    }
   ],
   "source": [
    "z.shape"
   ]
  },
  {
   "cell_type": "code",
   "execution_count": 18,
   "metadata": {},
   "outputs": [],
   "source": [
    "ds=ds.append(z).reset_index(drop=True)"
   ]
  },
  {
   "cell_type": "markdown",
   "metadata": {},
   "source": [
    "n=8,9,10,11,12"
   ]
  },
  {
   "cell_type": "code",
   "execution_count": 76,
   "metadata": {},
   "outputs": [],
   "source": [
    "n=5"
   ]
  },
  {
   "cell_type": "code",
   "execution_count": 77,
   "metadata": {},
   "outputs": [],
   "source": [
    "zz=ds[ds['n']==n]"
   ]
  },
  {
   "cell_type": "code",
   "execution_count": 79,
   "metadata": {},
   "outputs": [],
   "source": [
    "for i in .index: print(i)"
   ]
  },
  {
   "cell_type": "code",
   "execution_count": 111,
   "metadata": {},
   "outputs": [
    {
     "name": "stdout",
     "output_type": "stream",
     "text": [
      "\n",
      "6→37/38\n",
      "7→210/211\n",
      "8→2689/2690\n",
      "9→2679/14074\r"
     ]
    },
    {
     "ename": "KeyboardInterrupt",
     "evalue": "",
     "output_type": "error",
     "traceback": [
      "\u001b[0;31m---------------------------------------------------------------------------\u001b[0m",
      "\u001b[0;31mKeyboardInterrupt\u001b[0m                         Traceback (most recent call last)",
      "\u001b[0;32m/tmp/ipykernel_31416/1999098506.py\u001b[0m in \u001b[0;36m<module>\u001b[0;34m\u001b[0m\n\u001b[1;32m     18\u001b[0m         \u001b[0mzz\u001b[0m\u001b[0;34m=\u001b[0m\u001b[0mzz\u001b[0m\u001b[0;34m.\u001b[0m\u001b[0mdrop\u001b[0m\u001b[0;34m(\u001b[0m\u001b[0;34m[\u001b[0m\u001b[0;34m'id'\u001b[0m\u001b[0;34m]\u001b[0m\u001b[0;34m,\u001b[0m\u001b[0maxis\u001b[0m\u001b[0;34m=\u001b[0m\u001b[0;34m'columns'\u001b[0m\u001b[0;34m)\u001b[0m\u001b[0;34m\u001b[0m\u001b[0;34m\u001b[0m\u001b[0m\n\u001b[1;32m     19\u001b[0m         \u001b[0mzz\u001b[0m\u001b[0;34m[\u001b[0m\u001b[0;34m'n'\u001b[0m\u001b[0;34m]\u001b[0m\u001b[0;34m=\u001b[0m\u001b[0mzz\u001b[0m\u001b[0;34m[\u001b[0m\u001b[0;34m'solution'\u001b[0m\u001b[0;34m]\u001b[0m\u001b[0;34m.\u001b[0m\u001b[0mapply\u001b[0m\u001b[0;34m(\u001b[0m\u001b[0mlen\u001b[0m\u001b[0;34m)\u001b[0m\u001b[0;34m\u001b[0m\u001b[0;34m\u001b[0m\u001b[0m\n\u001b[0;32m---> 20\u001b[0;31m         \u001b[0mz\u001b[0m\u001b[0;34m=\u001b[0m\u001b[0mz\u001b[0m\u001b[0;34m.\u001b[0m\u001b[0mappend\u001b[0m\u001b[0;34m(\u001b[0m\u001b[0mzz\u001b[0m\u001b[0;34m)\u001b[0m\u001b[0;34m.\u001b[0m\u001b[0mreset_index\u001b[0m\u001b[0;34m(\u001b[0m\u001b[0mdrop\u001b[0m\u001b[0;34m=\u001b[0m\u001b[0;32mTrue\u001b[0m\u001b[0;34m)\u001b[0m\u001b[0;34m\u001b[0m\u001b[0;34m\u001b[0m\u001b[0m\n\u001b[0m\u001b[1;32m     21\u001b[0m     \u001b[0mprint\u001b[0m\u001b[0;34m(\u001b[0m\u001b[0;34m)\u001b[0m\u001b[0;34m\u001b[0m\u001b[0;34m\u001b[0m\u001b[0m\n",
      "\u001b[0;32m/usr/local/lib/python3.7/dist-packages/pandas/core/frame.py\u001b[0m in \u001b[0;36mappend\u001b[0;34m(self, other, ignore_index, verify_integrity, sort)\u001b[0m\n\u001b[1;32m   8963\u001b[0m                 \u001b[0mignore_index\u001b[0m\u001b[0;34m=\u001b[0m\u001b[0mignore_index\u001b[0m\u001b[0;34m,\u001b[0m\u001b[0;34m\u001b[0m\u001b[0;34m\u001b[0m\u001b[0m\n\u001b[1;32m   8964\u001b[0m                 \u001b[0mverify_integrity\u001b[0m\u001b[0;34m=\u001b[0m\u001b[0mverify_integrity\u001b[0m\u001b[0;34m,\u001b[0m\u001b[0;34m\u001b[0m\u001b[0;34m\u001b[0m\u001b[0m\n\u001b[0;32m-> 8965\u001b[0;31m                 \u001b[0msort\u001b[0m\u001b[0;34m=\u001b[0m\u001b[0msort\u001b[0m\u001b[0;34m,\u001b[0m\u001b[0;34m\u001b[0m\u001b[0;34m\u001b[0m\u001b[0m\n\u001b[0m\u001b[1;32m   8966\u001b[0m             )\n\u001b[1;32m   8967\u001b[0m         ).__finalize__(self, method=\"append\")\n",
      "\u001b[0;32m/usr/local/lib/python3.7/dist-packages/pandas/util/_decorators.py\u001b[0m in \u001b[0;36mwrapper\u001b[0;34m(*args, **kwargs)\u001b[0m\n\u001b[1;32m    309\u001b[0m                     \u001b[0mstacklevel\u001b[0m\u001b[0;34m=\u001b[0m\u001b[0mstacklevel\u001b[0m\u001b[0;34m,\u001b[0m\u001b[0;34m\u001b[0m\u001b[0;34m\u001b[0m\u001b[0m\n\u001b[1;32m    310\u001b[0m                 )\n\u001b[0;32m--> 311\u001b[0;31m             \u001b[0;32mreturn\u001b[0m \u001b[0mfunc\u001b[0m\u001b[0;34m(\u001b[0m\u001b[0;34m*\u001b[0m\u001b[0margs\u001b[0m\u001b[0;34m,\u001b[0m \u001b[0;34m**\u001b[0m\u001b[0mkwargs\u001b[0m\u001b[0;34m)\u001b[0m\u001b[0;34m\u001b[0m\u001b[0;34m\u001b[0m\u001b[0m\n\u001b[0m\u001b[1;32m    312\u001b[0m \u001b[0;34m\u001b[0m\u001b[0m\n\u001b[1;32m    313\u001b[0m         \u001b[0;32mreturn\u001b[0m \u001b[0mwrapper\u001b[0m\u001b[0;34m\u001b[0m\u001b[0;34m\u001b[0m\u001b[0m\n",
      "\u001b[0;32m/usr/local/lib/python3.7/dist-packages/pandas/core/reshape/concat.py\u001b[0m in \u001b[0;36mconcat\u001b[0;34m(objs, axis, join, ignore_index, keys, levels, names, verify_integrity, sort, copy)\u001b[0m\n\u001b[1;32m    305\u001b[0m     )\n\u001b[1;32m    306\u001b[0m \u001b[0;34m\u001b[0m\u001b[0m\n\u001b[0;32m--> 307\u001b[0;31m     \u001b[0;32mreturn\u001b[0m \u001b[0mop\u001b[0m\u001b[0;34m.\u001b[0m\u001b[0mget_result\u001b[0m\u001b[0;34m(\u001b[0m\u001b[0;34m)\u001b[0m\u001b[0;34m\u001b[0m\u001b[0;34m\u001b[0m\u001b[0m\n\u001b[0m\u001b[1;32m    308\u001b[0m \u001b[0;34m\u001b[0m\u001b[0m\n\u001b[1;32m    309\u001b[0m \u001b[0;34m\u001b[0m\u001b[0m\n",
      "\u001b[0;32m/usr/local/lib/python3.7/dist-packages/pandas/core/reshape/concat.py\u001b[0m in \u001b[0;36mget_result\u001b[0;34m(self)\u001b[0m\n\u001b[1;32m    531\u001b[0m \u001b[0;34m\u001b[0m\u001b[0m\n\u001b[1;32m    532\u001b[0m             new_data = concatenate_managers(\n\u001b[0;32m--> 533\u001b[0;31m                 \u001b[0mmgrs_indexers\u001b[0m\u001b[0;34m,\u001b[0m \u001b[0mself\u001b[0m\u001b[0;34m.\u001b[0m\u001b[0mnew_axes\u001b[0m\u001b[0;34m,\u001b[0m \u001b[0mconcat_axis\u001b[0m\u001b[0;34m=\u001b[0m\u001b[0mself\u001b[0m\u001b[0;34m.\u001b[0m\u001b[0mbm_axis\u001b[0m\u001b[0;34m,\u001b[0m \u001b[0mcopy\u001b[0m\u001b[0;34m=\u001b[0m\u001b[0mself\u001b[0m\u001b[0;34m.\u001b[0m\u001b[0mcopy\u001b[0m\u001b[0;34m\u001b[0m\u001b[0;34m\u001b[0m\u001b[0m\n\u001b[0m\u001b[1;32m    534\u001b[0m             )\n\u001b[1;32m    535\u001b[0m             \u001b[0;32mif\u001b[0m \u001b[0;32mnot\u001b[0m \u001b[0mself\u001b[0m\u001b[0;34m.\u001b[0m\u001b[0mcopy\u001b[0m\u001b[0;34m:\u001b[0m\u001b[0;34m\u001b[0m\u001b[0;34m\u001b[0m\u001b[0m\n",
      "\u001b[0;32m/usr/local/lib/python3.7/dist-packages/pandas/core/internals/concat.py\u001b[0m in \u001b[0;36mconcatenate_managers\u001b[0;34m(mgrs_indexers, axes, concat_axis, copy)\u001b[0m\n\u001b[1;32m    203\u001b[0m                 \u001b[0mvalues\u001b[0m \u001b[0;34m=\u001b[0m \u001b[0mvalues\u001b[0m\u001b[0;34m.\u001b[0m\u001b[0mview\u001b[0m\u001b[0;34m(\u001b[0m\u001b[0;34m)\u001b[0m\u001b[0;34m\u001b[0m\u001b[0;34m\u001b[0m\u001b[0m\n\u001b[1;32m    204\u001b[0m             \u001b[0mfastpath\u001b[0m \u001b[0;34m=\u001b[0m \u001b[0;32mTrue\u001b[0m\u001b[0;34m\u001b[0m\u001b[0;34m\u001b[0m\u001b[0m\n\u001b[0;32m--> 205\u001b[0;31m         \u001b[0;32melif\u001b[0m \u001b[0m_is_uniform_join_units\u001b[0m\u001b[0;34m(\u001b[0m\u001b[0mjoin_units\u001b[0m\u001b[0;34m)\u001b[0m\u001b[0;34m:\u001b[0m\u001b[0;34m\u001b[0m\u001b[0;34m\u001b[0m\u001b[0m\n\u001b[0m\u001b[1;32m    206\u001b[0m             \u001b[0mvals\u001b[0m \u001b[0;34m=\u001b[0m \u001b[0;34m[\u001b[0m\u001b[0mju\u001b[0m\u001b[0;34m.\u001b[0m\u001b[0mblock\u001b[0m\u001b[0;34m.\u001b[0m\u001b[0mvalues\u001b[0m \u001b[0;32mfor\u001b[0m \u001b[0mju\u001b[0m \u001b[0;32min\u001b[0m \u001b[0mjoin_units\u001b[0m\u001b[0;34m]\u001b[0m\u001b[0;34m\u001b[0m\u001b[0;34m\u001b[0m\u001b[0m\n\u001b[1;32m    207\u001b[0m \u001b[0;34m\u001b[0m\u001b[0m\n",
      "\u001b[0;32m/usr/local/lib/python3.7/dist-packages/pandas/core/internals/concat.py\u001b[0m in \u001b[0;36m_is_uniform_join_units\u001b[0;34m(join_units)\u001b[0m\n\u001b[1;32m    598\u001b[0m         \u001b[0;31m# no blocks that would get missing values (can lead to type upcasts)\u001b[0m\u001b[0;34m\u001b[0m\u001b[0;34m\u001b[0m\u001b[0;34m\u001b[0m\u001b[0m\n\u001b[1;32m    599\u001b[0m         \u001b[0;31m# unless we're an extension dtype.\u001b[0m\u001b[0;34m\u001b[0m\u001b[0;34m\u001b[0m\u001b[0;34m\u001b[0m\u001b[0m\n\u001b[0;32m--> 600\u001b[0;31m         \u001b[0mall\u001b[0m\u001b[0;34m(\u001b[0m\u001b[0;32mnot\u001b[0m \u001b[0mju\u001b[0m\u001b[0;34m.\u001b[0m\u001b[0mis_na\u001b[0m \u001b[0;32mor\u001b[0m \u001b[0mju\u001b[0m\u001b[0;34m.\u001b[0m\u001b[0mblock\u001b[0m\u001b[0;34m.\u001b[0m\u001b[0mis_extension\u001b[0m \u001b[0;32mfor\u001b[0m \u001b[0mju\u001b[0m \u001b[0;32min\u001b[0m \u001b[0mjoin_units\u001b[0m\u001b[0;34m)\u001b[0m\u001b[0;34m\u001b[0m\u001b[0;34m\u001b[0m\u001b[0m\n\u001b[0m\u001b[1;32m    601\u001b[0m         \u001b[0;32mand\u001b[0m\u001b[0;34m\u001b[0m\u001b[0;34m\u001b[0m\u001b[0m\n\u001b[1;32m    602\u001b[0m         \u001b[0;31m# no blocks with indexers (as then the dimensions do not fit)\u001b[0m\u001b[0;34m\u001b[0m\u001b[0;34m\u001b[0m\u001b[0;34m\u001b[0m\u001b[0m\n",
      "\u001b[0;32m/usr/local/lib/python3.7/dist-packages/pandas/core/internals/concat.py\u001b[0m in \u001b[0;36m<genexpr>\u001b[0;34m(.0)\u001b[0m\n\u001b[1;32m    598\u001b[0m         \u001b[0;31m# no blocks that would get missing values (can lead to type upcasts)\u001b[0m\u001b[0;34m\u001b[0m\u001b[0;34m\u001b[0m\u001b[0;34m\u001b[0m\u001b[0m\n\u001b[1;32m    599\u001b[0m         \u001b[0;31m# unless we're an extension dtype.\u001b[0m\u001b[0;34m\u001b[0m\u001b[0;34m\u001b[0m\u001b[0;34m\u001b[0m\u001b[0m\n\u001b[0;32m--> 600\u001b[0;31m         \u001b[0mall\u001b[0m\u001b[0;34m(\u001b[0m\u001b[0;32mnot\u001b[0m \u001b[0mju\u001b[0m\u001b[0;34m.\u001b[0m\u001b[0mis_na\u001b[0m \u001b[0;32mor\u001b[0m \u001b[0mju\u001b[0m\u001b[0;34m.\u001b[0m\u001b[0mblock\u001b[0m\u001b[0;34m.\u001b[0m\u001b[0mis_extension\u001b[0m \u001b[0;32mfor\u001b[0m \u001b[0mju\u001b[0m \u001b[0;32min\u001b[0m \u001b[0mjoin_units\u001b[0m\u001b[0;34m)\u001b[0m\u001b[0;34m\u001b[0m\u001b[0;34m\u001b[0m\u001b[0m\n\u001b[0m\u001b[1;32m    601\u001b[0m         \u001b[0;32mand\u001b[0m\u001b[0;34m\u001b[0m\u001b[0;34m\u001b[0m\u001b[0m\n\u001b[1;32m    602\u001b[0m         \u001b[0;31m# no blocks with indexers (as then the dimensions do not fit)\u001b[0m\u001b[0;34m\u001b[0m\u001b[0;34m\u001b[0m\u001b[0;34m\u001b[0m\u001b[0m\n",
      "\u001b[0;32m/usr/local/lib/python3.7/dist-packages/pandas/_libs/properties.pyx\u001b[0m in \u001b[0;36mpandas._libs.properties.CachedProperty.__get__\u001b[0;34m()\u001b[0m\n",
      "\u001b[0;32m/usr/local/lib/python3.7/dist-packages/pandas/core/internals/concat.py\u001b[0m in \u001b[0;36mis_na\u001b[0;34m(self)\u001b[0m\n\u001b[1;32m    395\u001b[0m             \u001b[0mvalues_flat\u001b[0m \u001b[0;34m=\u001b[0m \u001b[0mvalues\u001b[0m\u001b[0;34m.\u001b[0m\u001b[0mravel\u001b[0m\u001b[0;34m(\u001b[0m\u001b[0morder\u001b[0m\u001b[0;34m=\u001b[0m\u001b[0;34m\"K\"\u001b[0m\u001b[0;34m)\u001b[0m\u001b[0;34m\u001b[0m\u001b[0;34m\u001b[0m\u001b[0m\n\u001b[1;32m    396\u001b[0m \u001b[0;34m\u001b[0m\u001b[0m\n\u001b[0;32m--> 397\u001b[0;31m         \u001b[0;32mreturn\u001b[0m \u001b[0misna_all\u001b[0m\u001b[0;34m(\u001b[0m\u001b[0mvalues_flat\u001b[0m\u001b[0;34m)\u001b[0m\u001b[0;34m\u001b[0m\u001b[0;34m\u001b[0m\u001b[0m\n\u001b[0m\u001b[1;32m    398\u001b[0m \u001b[0;34m\u001b[0m\u001b[0m\n\u001b[1;32m    399\u001b[0m     \u001b[0;32mdef\u001b[0m \u001b[0mget_reindexed_values\u001b[0m\u001b[0;34m(\u001b[0m\u001b[0mself\u001b[0m\u001b[0;34m,\u001b[0m \u001b[0mempty_dtype\u001b[0m\u001b[0;34m:\u001b[0m \u001b[0mDtypeObj\u001b[0m\u001b[0;34m,\u001b[0m \u001b[0mupcasted_na\u001b[0m\u001b[0;34m)\u001b[0m \u001b[0;34m->\u001b[0m \u001b[0mArrayLike\u001b[0m\u001b[0;34m:\u001b[0m\u001b[0;34m\u001b[0m\u001b[0;34m\u001b[0m\u001b[0m\n",
      "\u001b[0;32m/usr/local/lib/python3.7/dist-packages/pandas/core/dtypes/missing.py\u001b[0m in \u001b[0;36misna_all\u001b[0;34m(arr)\u001b[0m\n\u001b[1;32m    678\u001b[0m         \u001b[0;31m# Sequence[Sequence[Any]], _SupportsArray]\"\u001b[0m\u001b[0;34m\u001b[0m\u001b[0;34m\u001b[0m\u001b[0;34m\u001b[0m\u001b[0m\n\u001b[1;32m    679\u001b[0m         \u001b[0mchecker\u001b[0m\u001b[0;34m(\u001b[0m\u001b[0marr\u001b[0m\u001b[0;34m[\u001b[0m\u001b[0mi\u001b[0m \u001b[0;34m:\u001b[0m \u001b[0mi\u001b[0m \u001b[0;34m+\u001b[0m \u001b[0mchunk_len\u001b[0m\u001b[0;34m]\u001b[0m\u001b[0;34m)\u001b[0m\u001b[0;34m.\u001b[0m\u001b[0mall\u001b[0m\u001b[0;34m(\u001b[0m\u001b[0;34m)\u001b[0m  \u001b[0;31m# type: ignore[arg-type]\u001b[0m\u001b[0;34m\u001b[0m\u001b[0;34m\u001b[0m\u001b[0m\n\u001b[0;32m--> 680\u001b[0;31m         \u001b[0;32mfor\u001b[0m \u001b[0mi\u001b[0m \u001b[0;32min\u001b[0m \u001b[0mrange\u001b[0m\u001b[0;34m(\u001b[0m\u001b[0;36m0\u001b[0m\u001b[0;34m,\u001b[0m \u001b[0mtotal_len\u001b[0m\u001b[0;34m,\u001b[0m \u001b[0mchunk_len\u001b[0m\u001b[0;34m)\u001b[0m\u001b[0;34m\u001b[0m\u001b[0;34m\u001b[0m\u001b[0m\n\u001b[0m\u001b[1;32m    681\u001b[0m     )\n",
      "\u001b[0;32m/usr/local/lib/python3.7/dist-packages/pandas/core/dtypes/missing.py\u001b[0m in \u001b[0;36m<genexpr>\u001b[0;34m(.0)\u001b[0m\n\u001b[1;32m    678\u001b[0m         \u001b[0;31m# Sequence[Sequence[Any]], _SupportsArray]\"\u001b[0m\u001b[0;34m\u001b[0m\u001b[0;34m\u001b[0m\u001b[0;34m\u001b[0m\u001b[0m\n\u001b[1;32m    679\u001b[0m         \u001b[0mchecker\u001b[0m\u001b[0;34m(\u001b[0m\u001b[0marr\u001b[0m\u001b[0;34m[\u001b[0m\u001b[0mi\u001b[0m \u001b[0;34m:\u001b[0m \u001b[0mi\u001b[0m \u001b[0;34m+\u001b[0m \u001b[0mchunk_len\u001b[0m\u001b[0;34m]\u001b[0m\u001b[0;34m)\u001b[0m\u001b[0;34m.\u001b[0m\u001b[0mall\u001b[0m\u001b[0;34m(\u001b[0m\u001b[0;34m)\u001b[0m  \u001b[0;31m# type: ignore[arg-type]\u001b[0m\u001b[0;34m\u001b[0m\u001b[0;34m\u001b[0m\u001b[0m\n\u001b[0;32m--> 680\u001b[0;31m         \u001b[0;32mfor\u001b[0m \u001b[0mi\u001b[0m \u001b[0;32min\u001b[0m \u001b[0mrange\u001b[0m\u001b[0;34m(\u001b[0m\u001b[0;36m0\u001b[0m\u001b[0;34m,\u001b[0m \u001b[0mtotal_len\u001b[0m\u001b[0;34m,\u001b[0m \u001b[0mchunk_len\u001b[0m\u001b[0;34m)\u001b[0m\u001b[0;34m\u001b[0m\u001b[0;34m\u001b[0m\u001b[0m\n\u001b[0m\u001b[1;32m    681\u001b[0m     )\n",
      "\u001b[0;32m/usr/local/lib/python3.7/dist-packages/pandas/core/dtypes/missing.py\u001b[0m in \u001b[0;36m<lambda>\u001b[0;34m(x)\u001b[0m\n\u001b[1;32m    669\u001b[0m         \u001b[0;31m# Any]\", variable has type \"ufunc\")\u001b[0m\u001b[0;34m\u001b[0m\u001b[0;34m\u001b[0m\u001b[0;34m\u001b[0m\u001b[0m\n\u001b[1;32m    670\u001b[0m         checker = lambda x: _isna_array(  # type: ignore[assignment]\n\u001b[0;32m--> 671\u001b[0;31m             \u001b[0mx\u001b[0m\u001b[0;34m,\u001b[0m \u001b[0minf_as_na\u001b[0m\u001b[0;34m=\u001b[0m\u001b[0mINF_AS_NA\u001b[0m\u001b[0;34m\u001b[0m\u001b[0;34m\u001b[0m\u001b[0m\n\u001b[0m\u001b[1;32m    672\u001b[0m         )\n\u001b[1;32m    673\u001b[0m \u001b[0;34m\u001b[0m\u001b[0m\n",
      "\u001b[0;32m/usr/local/lib/python3.7/dist-packages/pandas/core/dtypes/missing.py\u001b[0m in \u001b[0;36m_isna_array\u001b[0;34m(values, inf_as_na)\u001b[0m\n\u001b[1;32m    244\u001b[0m             \u001b[0mresult\u001b[0m \u001b[0;34m=\u001b[0m \u001b[0mvalues\u001b[0m\u001b[0;34m.\u001b[0m\u001b[0misna\u001b[0m\u001b[0;34m(\u001b[0m\u001b[0;34m)\u001b[0m\u001b[0;34m\u001b[0m\u001b[0;34m\u001b[0m\u001b[0m\n\u001b[1;32m    245\u001b[0m     \u001b[0;32melif\u001b[0m \u001b[0mis_string_dtype\u001b[0m\u001b[0;34m(\u001b[0m\u001b[0mdtype\u001b[0m\u001b[0;34m)\u001b[0m\u001b[0;34m:\u001b[0m\u001b[0;34m\u001b[0m\u001b[0;34m\u001b[0m\u001b[0m\n\u001b[0;32m--> 246\u001b[0;31m         \u001b[0mresult\u001b[0m \u001b[0;34m=\u001b[0m \u001b[0m_isna_string_dtype\u001b[0m\u001b[0;34m(\u001b[0m\u001b[0mvalues\u001b[0m\u001b[0;34m,\u001b[0m \u001b[0minf_as_na\u001b[0m\u001b[0;34m=\u001b[0m\u001b[0minf_as_na\u001b[0m\u001b[0;34m)\u001b[0m\u001b[0;34m\u001b[0m\u001b[0;34m\u001b[0m\u001b[0m\n\u001b[0m\u001b[1;32m    247\u001b[0m     \u001b[0;32melif\u001b[0m \u001b[0mneeds_i8_conversion\u001b[0m\u001b[0;34m(\u001b[0m\u001b[0mdtype\u001b[0m\u001b[0;34m)\u001b[0m\u001b[0;34m:\u001b[0m\u001b[0;34m\u001b[0m\u001b[0;34m\u001b[0m\u001b[0m\n\u001b[1;32m    248\u001b[0m         \u001b[0;31m# this is the NaT pattern\u001b[0m\u001b[0;34m\u001b[0m\u001b[0;34m\u001b[0m\u001b[0;34m\u001b[0m\u001b[0m\n",
      "\u001b[0;32m/usr/local/lib/python3.7/dist-packages/pandas/core/dtypes/missing.py\u001b[0m in \u001b[0;36m_isna_string_dtype\u001b[0;34m(values, inf_as_na)\u001b[0m\n\u001b[1;32m    269\u001b[0m             \u001b[0mvec\u001b[0m \u001b[0;34m=\u001b[0m \u001b[0mlibmissing\u001b[0m\u001b[0;34m.\u001b[0m\u001b[0misnaobj_old\u001b[0m\u001b[0;34m(\u001b[0m\u001b[0mvalues\u001b[0m\u001b[0;34m.\u001b[0m\u001b[0mravel\u001b[0m\u001b[0;34m(\u001b[0m\u001b[0;34m)\u001b[0m\u001b[0;34m)\u001b[0m\u001b[0;34m\u001b[0m\u001b[0;34m\u001b[0m\u001b[0m\n\u001b[1;32m    270\u001b[0m         \u001b[0;32melse\u001b[0m\u001b[0;34m:\u001b[0m\u001b[0;34m\u001b[0m\u001b[0;34m\u001b[0m\u001b[0m\n\u001b[0;32m--> 271\u001b[0;31m             \u001b[0mvec\u001b[0m \u001b[0;34m=\u001b[0m \u001b[0mlibmissing\u001b[0m\u001b[0;34m.\u001b[0m\u001b[0misnaobj\u001b[0m\u001b[0;34m(\u001b[0m\u001b[0mvalues\u001b[0m\u001b[0;34m.\u001b[0m\u001b[0mravel\u001b[0m\u001b[0;34m(\u001b[0m\u001b[0;34m)\u001b[0m\u001b[0;34m)\u001b[0m\u001b[0;34m\u001b[0m\u001b[0;34m\u001b[0m\u001b[0m\n\u001b[0m\u001b[1;32m    272\u001b[0m \u001b[0;34m\u001b[0m\u001b[0m\n\u001b[1;32m    273\u001b[0m         \u001b[0mresult\u001b[0m\u001b[0;34m[\u001b[0m\u001b[0;34m...\u001b[0m\u001b[0;34m]\u001b[0m \u001b[0;34m=\u001b[0m \u001b[0mvec\u001b[0m\u001b[0;34m.\u001b[0m\u001b[0mreshape\u001b[0m\u001b[0;34m(\u001b[0m\u001b[0mshape\u001b[0m\u001b[0;34m)\u001b[0m\u001b[0;34m\u001b[0m\u001b[0;34m\u001b[0m\u001b[0m\n",
      "\u001b[0;31mKeyboardInterrupt\u001b[0m: "
     ]
    }
   ],
   "source": [
    "z=pd.DataFrame()\n",
    "\n",
    "for n in [5,6,7,8,9,10]:\n",
    "    zz=ds[ds['n']==n]\n",
    "    zzz=zz[zz['solution'].apply(lambda l: ( len(l)-len(set(l)) )>0 )].reset_index(drop=True)\n",
    "    for i in zzz.index:\n",
    "        zz=ds[ds['n']==n]\n",
    "        zz=zz[zz['solution'].apply(lambda l: ( len(l)-len(set(l)) )>0 )].reset_index(drop=True)\n",
    "        print(f'{n}→{i}/{zz.shape[0]}',end='\\r')        \n",
    "        l=zz.loc[i,'solution']\n",
    "        ms=[[-m,m] for m in set(l) if l.count(m)>=2 ]\n",
    "\n",
    "        zz=zz.loc[np.ones(len(ms)).astype(int)*i].reset_index(drop=True)\n",
    "\n",
    "        zz['id']=zz.index\n",
    "        zz['solution']=zz.apply(lambda row: row['solution']+ms[row['id']],axis='columns'\n",
    "                        ).apply(lambda l:sorted(l,key=abs))\n",
    "        zz=zz.drop(['id'],axis='columns')\n",
    "        zz['n']=zz['solution'].apply(len)\n",
    "        z=z.append(zz).reset_index(drop=True)\n",
    "    print()        "
   ]
  },
  {
   "cell_type": "code",
   "execution_count": 112,
   "metadata": {},
   "outputs": [
    {
     "data": {
      "text/plain": [
       "(7176, 5)"
      ]
     },
     "execution_count": 112,
     "metadata": {},
     "output_type": "execute_result"
    }
   ],
   "source": [
    "z.shape"
   ]
  },
  {
   "cell_type": "code",
   "execution_count": 113,
   "metadata": {},
   "outputs": [
    {
     "data": {
      "text/plain": [
       "(7176, 5)"
      ]
     },
     "execution_count": 113,
     "metadata": {},
     "output_type": "execute_result"
    }
   ],
   "source": [
    "z[~z['solution'].astype(str).duplicated()].shape"
   ]
  },
  {
   "cell_type": "code",
   "execution_count": 114,
   "metadata": {},
   "outputs": [
    {
     "data": {
      "text/plain": [
       "(467701, 5)"
      ]
     },
     "execution_count": 114,
     "metadata": {},
     "output_type": "execute_result"
    }
   ],
   "source": [
    "ds=ds.append(z).reset_index(drop=True)\n",
    "ds.shape"
   ]
  },
  {
   "cell_type": "code",
   "execution_count": 115,
   "metadata": {},
   "outputs": [
    {
     "data": {
      "text/plain": [
       "(467701, 5)"
      ]
     },
     "execution_count": 115,
     "metadata": {},
     "output_type": "execute_result"
    }
   ],
   "source": [
    "ds=ds[~ds['solution'].astype(str).duplicated()].reset_index(drop=True)\n",
    "ds.shape"
   ]
  },
  {
   "cell_type": "markdown",
   "metadata": {
    "id": "cHys6MYEOC68"
   },
   "source": [
    "## Filter two set of repeated charges\n",
    "with one of them repeated 3 times\n",
    "$$(\\nu,\\nu[,\\nu],\\psi_1,\\psi_2,\\cdots)$$\n"
   ]
  },
  {
   "cell_type": "code",
   "execution_count": 19,
   "metadata": {
    "colab": {
     "base_uri": "https://localhost:8080/"
    },
    "id": "ByzN9LCDKCEU",
    "outputId": "a576876a-2024-46e5-9d90-bc73534c197e"
   },
   "outputs": [
    {
     "data": {
      "text/plain": [
       "(343837, 5)"
      ]
     },
     "execution_count": 19,
     "metadata": {},
     "output_type": "execute_result"
    }
   ],
   "source": [
    "#at least one set of repeated numbers\n",
    "dsp=ds[ds['solution'].apply(lambda l: len(l)-len(set(l))>0)].reset_index(drop=True)\n",
    "dsp.shape"
   ]
  },
  {
   "cell_type": "markdown",
   "metadata": {
    "id": "cthph7K1SlI9"
   },
   "source": [
    "Some reordering"
   ]
  },
  {
   "cell_type": "code",
   "execution_count": 21,
   "metadata": {
    "colab": {
     "base_uri": "https://localhost:8080/",
     "height": 171
    },
    "id": "WZw5N5CVSqhj",
    "outputId": "0d2761c9-27d3-45ba-a8dc-f9a817e7a6de"
   },
   "outputs": [],
   "source": [
    "dsp['nmax']=dsp['solution'].apply(lambda l: map(abs,l)).apply(max)\n",
    "dsp=dsp.sort_values(['n','nmax']).reset_index(drop=True)\n",
    "dsp2=dsp.copy()\n",
    "dsp3=dsp.copy()\n",
    "dsp4=dsp.copy()\n",
    "\n",
    "#Show the first and last one solutions\n",
    "#dsp#.iloc[[0,1,2,-1]]"
   ]
  },
  {
   "cell_type": "markdown",
   "metadata": {
    "id": "pJzdUkReKCEU"
   },
   "source": [
    "## 1. Check effective conditions\n",
    "\n",
    "$$ \\nu+m+\\delta s=0$$\n",
    "\n",
    "$$ \\psi_i+\\psi_j=|s|$$"
   ]
  },
  {
   "cell_type": "code",
   "execution_count": 22,
   "metadata": {
    "id": "x1fCNcB0OC7B"
   },
   "outputs": [],
   "source": [
    "def get_massless(l,s,rank=True):\n",
    "    if len(l)==0:\n",
    "        return []\n",
    "    elif len(l)==1:\n",
    "        mssls=[(l[0],l[0])]\n",
    "    elif len(l)==2:\n",
    "        mssls=[tuple(l)]\n",
    "    else:\n",
    "        mssls=set([x for x in itertools.permutations(l,2) if x[0]<=x[1] ])\n",
    "    xs=[]\n",
    "    massless=[] # zero eigenvalues when rank is not enough\n",
    "    for x in mssls:\n",
    "        if abs(x[0]+x[1])==abs(s):\n",
    "            xs.append(x)  # ←→ xs=[ x for x in mssls if abs(x[0]+x[1])==abs(s) ] for rank=False\n",
    "            #Check the matrix rank and store zero eigenvalues\n",
    "            nr=l.count(x[0])-l.count(x[1])            \n",
    "            if rank and nr>0 and abs(2*x[0])!=abs(s):\n",
    "                massless=massless+ [ x[0] for i in range(nr)]\n",
    "            elif rank and nr<0 and abs(2*x[1])!=abs(s):\n",
    "                massless=massless+ [ x[1] for i in range(abs(nr))]\n",
    "            #Check repetead massive\n",
    "\n",
    "    #flatten list of lists into list\n",
    "    massive=[x for sublist in xs for x in sublist]\n",
    "    extra_massless=[]\n",
    "    if rank:\n",
    "        extra_massless=list(set([x for x in massive if massive.count(x)>1]))\n",
    "        extra_massless=[x for x in extra_massless if abs(2*x)!=abs(s)]\n",
    "\n",
    "    return list( set(l).difference(set(massive)) ) + massless + extra_massless  \n",
    "\n",
    "def get_sp(massless):\n",
    "    \"\"\"\n",
    "    For a list of numbers `x_i` find the best `sp` value such that\n",
    "    all the elements of the list satisfy:\n",
    "       |sp|=|x_i + x_j|\n",
    "    * If the list is already empty return None\n",
    "    * If not found `sp` returns 0\n",
    "    \"\"\"\n",
    "    if len(massless)==0:\n",
    "        return None\n",
    "    elif len(massless)==1:\n",
    "        drs=[(massless[0],massless[0])]\n",
    "    elif len(massless)==2:\n",
    "        drs=[tuple(massless)]\n",
    "    else:\n",
    "        drs=[x for x in itertools.permutations(massless,2) if x[0]<=x[1]]\n",
    "    sps=set(abs(sum(x)) for x in drs)    \n",
    "    for sp in sps:\n",
    "        msv =([dr for dr in drs if abs(sum(dr))==sp])\n",
    "        massive=set([x for sublist in msv for x in sublist])\n",
    "        msl=([dr for dr in drs if abs(sum(dr))!=sp])\n",
    "        massless=set( [x for sublist in msl for x in sublist])\n",
    "        majorana=massless.difference(massive)\n",
    "        majorana=[m for m in majorana if abs(2*m)!=sp]\n",
    "        if not majorana:\n",
    "            return sp\n",
    "        else:\n",
    "            return 0        "
   ]
  },
  {
   "cell_type": "code",
   "execution_count": 23,
   "metadata": {
    "id": "NYJZBQ52KCEU"
   },
   "outputs": [],
   "source": [
    "#l=[1,-9,-9,-9,13,18,18,18,-19,-22]\n",
    "#def conditions(l):\n",
    "def condition(l,δ=1,rank=True):\n",
    "#if True:   \n",
    "    sls=[]\n",
    "    ms=set([x for x in l if l.count(x)==3]+[0])\n",
    "    vectorlike=[x for x in ms if l.count(-x)!=0]\n",
    "    if vectorlike:\n",
    "        ms=set(vectorlike)    \n",
    "    νs=set([x for x in l if l.count(x)==2 or l.count(x)==3])\n",
    "    #                                         exclude vector-like\n",
    "    mνs=[(m,ν) for m in ms for ν in νs if m!=ν and l.count(-ν)==0]\n",
    "    sold=0\n",
    "    symmetry_old='XD'    \n",
    "    for mν in mνs:\n",
    "        m=mν[0]\n",
    "        #Because of set always start at m=0 → symmetry='D'\n",
    "        if m==0:\n",
    "            symmetry='D'\n",
    "        else:\n",
    "            symmetry='X'         \n",
    "        ν=mν[1]\n",
    "        s=(-m-ν)/δ\n",
    "        if float(s)-int(s)==0:\n",
    "            s=int(s)\n",
    "        else:\n",
    "            continue\n",
    "        #Avoid repeated solutions\n",
    "        if abs(s)==abs(sold) and symmetry==symmetry_old:\n",
    "            continue\n",
    "        else:\n",
    "            sold=s\n",
    "            if m==0:\n",
    "                symmetry_old='D'\n",
    "            else:\n",
    "                symmetry_old='X'            \n",
    "        ψs=[x for x in l if x!=ν and x!=m]\n",
    "        msslss=get_massless(ψs,s,rank=rank)\n",
    "        sp=get_sp(msslss)\n",
    "        d={'m':m,'ν':ν,'s':s,'massless':msslss,'sp':sp,'δ':δ}\n",
    "        sls.append(d)\n",
    "    #sp=None    \n",
    "    solutions=[d for d in sls if d.get('massless')==[]]\n",
    "    if not solutions:\n",
    "        solutions=[d for d in sls if d.get('sp')]    \n",
    "    return solutions\n",
    "\n",
    "l=[1, 2, -6, -6, -6, 8, 9, 9, -11]\n",
    "assert condition(l)[0].get('massless')==[]\n",
    "l=[1, 1, 1, -4, -4, 5]\n",
    "assert len(condition(l))==3\n",
    "l=[1,-9,-9,-9,13,18,18,18,-19,-22]\n",
    "assert set([d.get('m') for d in condition(l)])=={0,18}\n",
    "l=[1, -2, -3, 5, 5, -6]\n",
    "assert condition(l)[0].get('massless')==[]\n",
    "#zero eigenvalues with repeated charges → -20\n",
    "l=[13, 13, -16, -16, -20, -20, 23, 29, 29, 29, -32, -32]\n",
    "assert condition(l,rank=False)[0]['massless']==[]\n",
    "assert [-20] in [d.get('massless') for d in condition(l,rank=True)]\n",
    "#zero eigenvalues with non-repeated charges → -11,-17\n",
    "l=[4, -7, -7, 10, -11, 14, 15, -17, 18, -21, -22, 24]\n",
    "assert condition(l,rank=False)[0]['massless']==[]\n",
    "assert len(condition(l,rank=True)[0]['massless'])==2\n",
    "l=[5, -5, -5, 5, 5, -7, -11, 15, 17, -20, -20, 21]\n",
    "assert condition(l,δ=2)==[]"
   ]
  },
  {
   "cell_type": "code",
   "execution_count": 24,
   "metadata": {
    "id": "_J31np7_OC7E"
   },
   "outputs": [],
   "source": [
    "def unconditional_stability(row,ZN={6:(2,3),10:(2,5),15:(3,5)},DMs={},check_massless=True):\n",
    "    '''\n",
    "    According to appendix of arXiv:1911.05515, \n",
    "    generalized to any N\n",
    "    \n",
    "    '''\n",
    "    if check_massless:\n",
    "        sd=[d for d in row['effective'] if d.get('massless')==[]]\n",
    "    else:\n",
    "        sd=row['effective']\n",
    "        \n",
    "    for i in range(len(sd)):\n",
    "        DMs={}\n",
    "        d=sd[i]\n",
    "        N=abs(d['s'])\n",
    "        l=[n for n in row['solution'] if n not in [d['m'],d['ν']] ]\n",
    "        #Check for non-hidden chiral fermions\n",
    "        if 0 in np.array(l)%N:\n",
    "            DMs={'None':tuple([])}\n",
    "            continue\n",
    "        DM=[x for x in itertools.permutations(l,2) \n",
    "               if x[0]<=x[1] and abs(sum(x))==N ]\n",
    "        DM=DM+[(n,n) for n in l if abs(2*n)==N]\n",
    "        #rank 0\n",
    "        for dm in DM:\n",
    "            if dm[0]!=dm[1] and l.count(dm[0])!=l.count(dm[1]) and abs(2*dm[0])!=N and abs(2*dm[0])!=N:\n",
    "                DMs={'None':tuple([])}\n",
    "        #missing massles → TODO: Check BUG\n",
    "        if check_massless and np.setdiff1d(l,[item for sublist in DM for item in sublist]).size>0:\n",
    "            DMs={'None':tuple([])}\n",
    "        if not DMs.get('None')==():\n",
    "            try:\n",
    "                p,q=ZN[N]\n",
    "            except KeyError:\n",
    "                DMs={'None':tuple([])}\n",
    "                continue\n",
    "            ps=[n*p for n in range(1,N) if n*p<N]\n",
    "            qs=[n*q for n in range(1,N) if n*q<N]\n",
    "            ω=[ sorted([y%N for y in x]) for x in DM]\n",
    "            DMF=['ψ' if np.setdiff1d(x,ps).size==0 else 'χ' \n",
    "                   if np.setdiff1d(x,qs).size==0 else 'None' for x in  ω ]\n",
    "            DMs=dict(zip(DMF,DM))\n",
    "            break\n",
    "    return DMs"
   ]
  },
  {
   "cell_type": "code",
   "execution_count": 25,
   "metadata": {
    "id": "NTUyV7fnOC7D"
   },
   "outputs": [],
   "source": [
    "dsp['effective']=dsp['solution'].apply(condition)"
   ]
  },
  {
   "cell_type": "code",
   "execution_count": 26,
   "metadata": {
    "id": "QfZe77ysOC7D"
   },
   "outputs": [],
   "source": [
    "dsp=dsp[dsp['effective'].apply(len)>0].reset_index(drop=True)"
   ]
  },
  {
   "cell_type": "code",
   "execution_count": 27,
   "metadata": {
    "id": "tRChzUUhOC7E"
   },
   "outputs": [],
   "source": [
    "p=np.array( [2,3,5,7,11,13,17,19,23,29,31] )\n",
    "q=p.copy()\n",
    "zpq= [ pp*qq for pp in p for qq in q if pp<qq] \n",
    "Zpq=sorted( set( zpq ) )"
   ]
  },
  {
   "cell_type": "code",
   "execution_count": 28,
   "metadata": {
    "id": "7k4DDhKGOC7F"
   },
   "outputs": [],
   "source": [
    "pqs=[ (pp,qq) for pp in p for qq in q if pp<qq]\n",
    "ZN=dict(zip(Zpq,pqs))"
   ]
  },
  {
   "cell_type": "code",
   "execution_count": 29,
   "metadata": {
    "id": "f8pwW8uFOC7F",
    "outputId": "a5828664-382e-4fc1-f286-c79ace084af5"
   },
   "outputs": [
    {
     "data": {
      "text/plain": [
       "[6, 10, 14]"
      ]
     },
     "execution_count": 29,
     "metadata": {},
     "output_type": "execute_result"
    }
   ],
   "source": [
    "Zpq[:3]"
   ]
  },
  {
   "cell_type": "code",
   "execution_count": 30,
   "metadata": {
    "id": "dVT1eOMqOC7F"
   },
   "outputs": [],
   "source": [
    "dsp['DMs']=dsp.apply(lambda row: unconditional_stability(row,ZN,check_massless=False)  ,axis='columns')"
   ]
  },
  {
   "cell_type": "code",
   "execution_count": 31,
   "metadata": {},
   "outputs": [
    {
     "data": {
      "text/plain": [
       "(21426, 8)"
      ]
     },
     "execution_count": 31,
     "metadata": {},
     "output_type": "execute_result"
    }
   ],
   "source": [
    "dsp.shape"
   ]
  },
  {
   "cell_type": "code",
   "execution_count": 32,
   "metadata": {
    "id": "m8sfzUQdOC7D",
    "outputId": "f9af1639-8796-48bb-ee6f-2603d1ea61a4"
   },
   "outputs": [
    {
     "data": {
      "text/plain": [
       "(1038, 8)"
      ]
     },
     "execution_count": 32,
     "metadata": {},
     "output_type": "execute_result"
    }
   ],
   "source": [
    "dspm=dsp[dsp['effective'].apply(lambda l: [d for d in l if not d.get('massless')]).apply(len)>0].reset_index(drop=True)\n",
    "dspm.shape"
   ]
  },
  {
   "cell_type": "code",
   "execution_count": 33,
   "metadata": {},
   "outputs": [],
   "source": [
    "#dspm[dspm['DMs'].apply(lambda d: 'ψ' in d.keys() and 'χ' in d.keys())].reset_index(drop=True)"
   ]
  },
  {
   "cell_type": "markdown",
   "metadata": {},
   "source": [
    "$\\delta=2$"
   ]
  },
  {
   "cell_type": "code",
   "execution_count": 34,
   "metadata": {
    "id": "hOmeIruGOC7G"
   },
   "outputs": [
    {
     "data": {
      "text/plain": [
       "(343837, 6)"
      ]
     },
     "execution_count": 34,
     "metadata": {},
     "output_type": "execute_result"
    }
   ],
   "source": [
    "dsp2.shape"
   ]
  },
  {
   "cell_type": "code",
   "execution_count": 35,
   "metadata": {
    "id": "NTUyV7fnOC7D"
   },
   "outputs": [],
   "source": [
    "dsp2['effective']=dsp2['solution'].apply(lambda l:condition(l,δ=2))"
   ]
  },
  {
   "cell_type": "code",
   "execution_count": 36,
   "metadata": {
    "id": "QfZe77ysOC7D"
   },
   "outputs": [],
   "source": [
    "dsp2=dsp2[dsp2['effective'].apply(len)>0].reset_index(drop=True)"
   ]
  },
  {
   "cell_type": "code",
   "execution_count": 37,
   "metadata": {
    "id": "dVT1eOMqOC7F"
   },
   "outputs": [],
   "source": [
    "dsp2['DMs']=dsp2.apply(lambda row: unconditional_stability(row,ZN,check_massless=False)  ,axis='columns')"
   ]
  },
  {
   "cell_type": "code",
   "execution_count": 38,
   "metadata": {},
   "outputs": [
    {
     "data": {
      "text/plain": [
       "(9075, 8)"
      ]
     },
     "execution_count": 38,
     "metadata": {},
     "output_type": "execute_result"
    }
   ],
   "source": [
    "dsp2.shape"
   ]
  },
  {
   "cell_type": "code",
   "execution_count": 39,
   "metadata": {},
   "outputs": [
    {
     "data": {
      "text/plain": [
       "(72, 8)"
      ]
     },
     "execution_count": 39,
     "metadata": {},
     "output_type": "execute_result"
    }
   ],
   "source": [
    "dspm2=dsp2[dsp2['effective'].apply(lambda l: [d for d in l if not d.get('massless')]).apply(len)>0].reset_index(drop=True)\n",
    "dspm2.shape"
   ]
  },
  {
   "cell_type": "code",
   "execution_count": 40,
   "metadata": {
    "id": "7cJg40zXOC7F",
    "outputId": "34bf3725-b771-48d5-a986-656edc9c0d86"
   },
   "outputs": [],
   "source": [
    "#dspm2[dspm2['DMs'].apply(lambda d: 'ψ' in d.keys() and 'χ' in d.keys())].reset_index(drop=True)"
   ]
  },
  {
   "cell_type": "markdown",
   "metadata": {},
   "source": [
    "Massive solutions with a single $S$"
   ]
  },
  {
   "cell_type": "code",
   "execution_count": 41,
   "metadata": {},
   "outputs": [
    {
     "data": {
      "text/plain": [
       "(1110, 8)"
      ]
     },
     "execution_count": 41,
     "metadata": {},
     "output_type": "execute_result"
    }
   ],
   "source": [
    "dslt=dspm.append(dspm2).reset_index(drop=True)\n",
    "dslt.shape"
   ]
  },
  {
   "cell_type": "code",
   "execution_count": 42,
   "metadata": {},
   "outputs": [],
   "source": [
    "dslt=dslt.sort_values(['n','nmax']).reset_index(drop=True)"
   ]
  },
  {
   "cell_type": "markdown",
   "metadata": {},
   "source": [
    "There are 1110 solutions most of them with $N=10$ integers"
   ]
  },
  {
   "cell_type": "code",
   "execution_count": 43,
   "metadata": {},
   "outputs": [
    {
     "data": {
      "text/plain": [
       "(931, 8)"
      ]
     },
     "execution_count": 43,
     "metadata": {},
     "output_type": "execute_result"
    }
   ],
   "source": [
    "dslt[dslt['n']==10].shape"
   ]
  },
  {
   "cell_type": "code",
   "execution_count": 44,
   "metadata": {},
   "outputs": [],
   "source": [
    "def count_dm(row):\n",
    "#if True:\n",
    "    e=row['effective']\n",
    "    dm=[]\n",
    "    for d in e:\n",
    "        l=list(set(row['solution'].copy()))\n",
    "        dmd={}\n",
    "        if len(d.get('massless'))>0:\n",
    "            print('NOT IMPLEMEMTED YET')\n",
    "            continue\n",
    "        if d.get('m'):\n",
    "            l.remove( d.get('m') )\n",
    "        l.remove(d.get('ν'))\n",
    "        if len(l)==0:\n",
    "            mssls=[()]\n",
    "        elif len(l)==1:\n",
    "            mssls=[(l[0],l[0])]\n",
    "        elif len(l)==2:\n",
    "            mssls=[tuple(l)]\n",
    "        else:\n",
    "            mssls=list(set([x for x in itertools.permutations(l,2) if x[0]<=x[1] ]))\n",
    "        massive=[ x for x in mssls if len(mssls[0])>0 and abs(x[0]+x[1])==abs(d.get('s')) ]\n",
    "        #Check generations\n",
    "        gnrt=[row['solution'].count(x[0])-1 for x in massive]\n",
    "        dgnrt=0\n",
    "        if gnrt:\n",
    "            dgnrt=max(gnrt)#int( sum( [x for x in gnrt if x>0]  ) )\n",
    "        nd=len(massive)+dgnrt\n",
    "        massive=[x for x in l if abs(2*x)==abs(d.get('s')) ]\n",
    "        gnrt=[row['solution'].count(x)-1 for x in massive]\n",
    "        mgnrt=0\n",
    "        if gnrt:\n",
    "            mgnrt=max(gnrt)#int( sum( [x for x in gnrt if x>0]  ) )        \n",
    "        nm=len(massive)+mgnrt        \n",
    "        ac=False\n",
    "        if d.get('m'):\n",
    "            ac=True\n",
    "        uc=False\n",
    "        if 'ψ' in row['DMs'].keys() and 'χ' in row['DMs'].keys():\n",
    "            uc=True\n",
    "        dm.append({'active':ac,'dirac':nd,'majorana':nm,'extra_generations':(dgnrt,mgnrt),'n':row['n'],'unconditional':uc,'δ':d.get('δ')})\n",
    "        if len(dm)>1:\n",
    "            dm=[eval(y) for y in set( [str(x) for x in dm]) ]\n",
    "    \n",
    "    return dm\n",
    "\n",
    "ll=[2, 2, 3, 4, 4, -5, -6, -6, -7, 9]\n",
    "row={}\n",
    "d={'m': 0, 'ν': 2, 's': -2, 'massless': [], 'sp': None, 'δ': 1}\n",
    "row['solution']=ll\n",
    "row['effective']=[d]\n",
    "row['DMs']={}\n",
    "row['n']=10\n",
    "assert [d.get('dirac') for d in count_dm(row)]==[4]\n",
    "\n",
    "ll=[2, 2, 4, 4, -7, -7, -9, -9, 10, 10]\n",
    "row={}\n",
    "d={'m': 0, 'ν': 10, 's': -5, 'massless': [], 'sp': None, 'δ': 2}\n",
    "row['solution']=ll\n",
    "row['effective']=[d]\n",
    "row['DMs']={}\n",
    "row['n']=10\n",
    "assert [d.get('dirac') for d in count_dm(row)]==[3]"
   ]
  },
  {
   "cell_type": "code",
   "execution_count": 45,
   "metadata": {},
   "outputs": [],
   "source": [
    "dslt['features']=dslt.apply(count_dm,axis='columns')"
   ]
  },
  {
   "cell_type": "code",
   "execution_count": 46,
   "metadata": {},
   "outputs": [],
   "source": [
    "fnl=dslt[~dslt['features'].astype(str).duplicated()].reset_index(drop=True)"
   ]
  },
  {
   "cell_type": "markdown",
   "metadata": {},
   "source": [
    "Families of massive solutions"
   ]
  },
  {
   "cell_type": "code",
   "execution_count": 47,
   "metadata": {},
   "outputs": [
    {
     "data": {
      "text/plain": [
       "(46, 9)"
      ]
     },
     "execution_count": 47,
     "metadata": {},
     "output_type": "execute_result"
    }
   ],
   "source": [
    "fnl.shape"
   ]
  },
  {
   "cell_type": "code",
   "execution_count": 48,
   "metadata": {},
   "outputs": [
    {
     "data": {
      "text/html": [
       "<div>\n",
       "<style scoped>\n",
       "    .dataframe tbody tr th:only-of-type {\n",
       "        vertical-align: middle;\n",
       "    }\n",
       "\n",
       "    .dataframe tbody tr th {\n",
       "        vertical-align: top;\n",
       "    }\n",
       "\n",
       "    .dataframe thead th {\n",
       "        text-align: right;\n",
       "    }\n",
       "</style>\n",
       "<table border=\"1\" class=\"dataframe\">\n",
       "  <thead>\n",
       "    <tr style=\"text-align: right;\">\n",
       "      <th></th>\n",
       "      <th>l</th>\n",
       "      <th>k</th>\n",
       "      <th>solution</th>\n",
       "      <th>gcd</th>\n",
       "      <th>n</th>\n",
       "      <th>nmax</th>\n",
       "      <th>effective</th>\n",
       "      <th>DMs</th>\n",
       "      <th>features</th>\n",
       "    </tr>\n",
       "  </thead>\n",
       "  <tbody>\n",
       "    <tr>\n",
       "      <th>0</th>\n",
       "      <td>[-1, 1]</td>\n",
       "      <td>[-2, 0]</td>\n",
       "      <td>[1, -2, -3, 5, 5, -6]</td>\n",
       "      <td>1.0</td>\n",
       "      <td>6</td>\n",
       "      <td>6</td>\n",
       "      <td>[{'m': 0, 'ν': 5, 's': -5, 'massless': [], 'sp': None, 'δ': 1}]</td>\n",
       "      <td>{'None': ()}</td>\n",
       "      <td>[{'active': False, 'dirac': 2, 'majorana': 0, 'extra_generations': (0, 0), 'n': 6, 'unconditional': False, 'δ': 1}]</td>\n",
       "    </tr>\n",
       "    <tr>\n",
       "      <th>1</th>\n",
       "      <td>[-3, -1]</td>\n",
       "      <td>[-2, -3, 1]</td>\n",
       "      <td>[3, 3, 3, -5, -5, -7, 8]</td>\n",
       "      <td>1.0</td>\n",
       "      <td>7</td>\n",
       "      <td>8</td>\n",
       "      <td>[{'m': 3, 'ν': -5, 's': 1, 'massless': [], 'sp': None, 'δ': 2}]</td>\n",
       "      <td>{'None': ()}</td>\n",
       "      <td>[{'active': True, 'dirac': 1, 'majorana': 0, 'extra_generations': (0, 0), 'n': 7, 'unconditional': False, 'δ': 2}]</td>\n",
       "    </tr>\n",
       "    <tr>\n",
       "      <th>2</th>\n",
       "      <td>[-2, -3, 1, -1]</td>\n",
       "      <td>[-3, -1, -2, -1]</td>\n",
       "      <td>[1, -2, 3, 4, 6, -7, -7, -7, 9]</td>\n",
       "      <td>1.0</td>\n",
       "      <td>9</td>\n",
       "      <td>9</td>\n",
       "      <td>[{'m': 0, 'ν': -7, 's': 7, 'massless': [], 'sp': None, 'δ': 1}]</td>\n",
       "      <td>{'None': ()}</td>\n",
       "      <td>[{'active': False, 'dirac': 3, 'majorana': 0, 'extra_generations': (0, 0), 'n': 9, 'unconditional': False, 'δ': 1}]</td>\n",
       "    </tr>\n",
       "    <tr>\n",
       "      <th>3</th>\n",
       "      <td>[-2, 0, 2]</td>\n",
       "      <td>[-1, 1, 0, -1]</td>\n",
       "      <td>[1, 1, -4, -5, 9, 9, 9, -10, -10]</td>\n",
       "      <td>1.0</td>\n",
       "      <td>9</td>\n",
       "      <td>10</td>\n",
       "      <td>[{'m': 0, 'ν': 9, 's': -9, 'massless': [], 'sp': None, 'δ': 1}]</td>\n",
       "      <td>{'None': ()}</td>\n",
       "      <td>[{'active': False, 'dirac': 3, 'majorana': 0, 'extra_generations': (1, 0), 'n': 9, 'unconditional': False, 'δ': 1}]</td>\n",
       "    </tr>\n",
       "    <tr>\n",
       "      <th>4</th>\n",
       "      <td>[1, 2, 1, -1]</td>\n",
       "      <td>[-6, -3, -5, -3]</td>\n",
       "      <td>[1, 2, -6, -6, -6, 8, 9, 9, -11]</td>\n",
       "      <td>1.0</td>\n",
       "      <td>9</td>\n",
       "      <td>11</td>\n",
       "      <td>[{'m': -6, 'ν': 9, 's': -3, 'massless': [], 'sp': None, 'δ': 1}]</td>\n",
       "      <td>{'None': ()}</td>\n",
       "      <td>[{'active': True, 'dirac': 2, 'majorana': 0, 'extra_generations': (0, 0), 'n': 9, 'unconditional': False, 'δ': 1}]</td>\n",
       "    </tr>\n",
       "    <tr>\n",
       "      <th>5</th>\n",
       "      <td>[3, -4, 5]</td>\n",
       "      <td>[-4, -3, 1, -3]</td>\n",
       "      <td>[1, -3, 8, 8, 8, -12, -12, -17, 19]</td>\n",
       "      <td>4.0</td>\n",
       "      <td>9</td>\n",
       "      <td>19</td>\n",
       "      <td>[{'m': 8, 'ν': -12, 's': 2, 'massless': [], 'sp': None, 'δ': 2}]</td>\n",
       "      <td>{'None': ()}</td>\n",
       "      <td>[{'active': True, 'dirac': 2, 'majorana': 1, 'extra_generations': (0, 0), 'n': 9, 'unconditional': False, 'δ': 2}]</td>\n",
       "    </tr>\n",
       "    <tr>\n",
       "      <th>6</th>\n",
       "      <td>[-1, 4, 2]</td>\n",
       "      <td>[-3, -8, 3, 4]</td>\n",
       "      <td>[8, 8, 8, -12, -12, 15, -17, -23, 25]</td>\n",
       "      <td>10.0</td>\n",
       "      <td>9</td>\n",
       "      <td>25</td>\n",
       "      <td>[{'m': 8, 'ν': -12, 's': 2, 'massless': [], 'sp': None, 'δ': 2}]</td>\n",
       "      <td>{'None': ()}</td>\n",
       "      <td>[{'active': True, 'dirac': 2, 'majorana': 0, 'extra_generations': (0, 0), 'n': 9, 'unconditional': False, 'δ': 2}]</td>\n",
       "    </tr>\n",
       "    <tr>\n",
       "      <th>7</th>\n",
       "      <td>[-3, 1, 2, -2]</td>\n",
       "      <td>[-4, -3, -4, -2, 0]</td>\n",
       "      <td>[1, -2, -2, 3, 3, -4, -4, 6, 6, -7]</td>\n",
       "      <td>1.0</td>\n",
       "      <td>10</td>\n",
       "      <td>7</td>\n",
       "      <td>[{'m': 0, 'ν': 6, 's': -6, 'massless': [], 'sp': None, 'δ': 1}]</td>\n",
       "      <td>{'χ': (3, 3), 'ψ': (-4, -2), 'None': (-7, 1)}</td>\n",
       "      <td>[{'active': False, 'dirac': 3, 'majorana': 2, 'extra_generations': (1, 1), 'n': 10, 'unconditional': True, 'δ': 1}]</td>\n",
       "    </tr>\n",
       "    <tr>\n",
       "      <th>8</th>\n",
       "      <td>[-2, -1, 0, 1]</td>\n",
       "      <td>[-5, -6, -4, 1]</td>\n",
       "      <td>[1, -2, -2, 3, 4, -5, -5, 7, 7, -8]</td>\n",
       "      <td>1.0</td>\n",
       "      <td>10</td>\n",
       "      <td>8</td>\n",
       "      <td>[{'m': 0, 'ν': -5, 's': 5, 'massless': [], 'sp': None, 'δ': 1}, {'m': 0, 'ν': 7, 's': -7, 'massless': [], 'sp': None, 'δ': 1}]</td>\n",
       "      <td>{'None': ()}</td>\n",
       "      <td>[{'active': False, 'dirac': 4, 'majorana': 0, 'extra_generations': (1, 0), 'n': 10, 'unconditional': False, 'δ': 1}]</td>\n",
       "    </tr>\n",
       "    <tr>\n",
       "      <th>9</th>\n",
       "      <td>[1, -1, 0, 2]</td>\n",
       "      <td>[-3, -2, 2, 0, 1]</td>\n",
       "      <td>[1, -2, -2, 3, 5, -6, -6, 8, 8, -9]</td>\n",
       "      <td>1.0</td>\n",
       "      <td>10</td>\n",
       "      <td>9</td>\n",
       "      <td>[{'m': 0, 'ν': 8, 's': -8, 'massless': [], 'sp': None, 'δ': 1}, {'m': 0, 'ν': -6, 's': 6, 'massless': [], 'sp': None, 'δ': 1}]</td>\n",
       "      <td>{'None': (1, 5), 'ψ': (-2, 8), 'χ': (3, 3)}</td>\n",
       "      <td>[{'active': False, 'dirac': 4, 'majorana': 0, 'extra_generations': (1, 0), 'n': 10, 'unconditional': True, 'δ': 1}, {'active': False, 'dirac': 4, 'majorana': 1, 'extra_generations': (1, 0), 'n': 10, 'unconditional': True, 'δ': 1}]</td>\n",
       "    </tr>\n",
       "    <tr>\n",
       "      <th>10</th>\n",
       "      <td>[2, 0, 3, -1]</td>\n",
       "      <td>[-2, -3, -2, 2, 0]</td>\n",
       "      <td>[2, 2, 3, 4, 4, -5, -6, -6, -7, 9]</td>\n",
       "      <td>1.0</td>\n",
       "      <td>10</td>\n",
       "      <td>9</td>\n",
       "      <td>[{'m': 0, 'ν': 2, 's': -2, 'massless': [], 'sp': None, 'δ': 1}, {'m': 0, 'ν': 4, 's': -4, 'massless': [], 'sp': None, 'δ': 1}]</td>\n",
       "      <td>{'None': ()}</td>\n",
       "      <td>[{'active': False, 'dirac': 4, 'majorana': 2, 'extra_generations': (1, 1), 'n': 10, 'unconditional': False, 'δ': 1}, {'active': False, 'dirac': 4, 'majorana': 0, 'extra_generations': (1, 0), 'n': 10, 'unconditional': False, 'δ': 1}]</td>\n",
       "    </tr>\n",
       "    <tr>\n",
       "      <th>11</th>\n",
       "      <td>[-1, 0, -1, 2]</td>\n",
       "      <td>[-1, 0, -1, 0, -1]</td>\n",
       "      <td>[1, 1, 5, 5, 5, -6, -6, -6, -9, 10]</td>\n",
       "      <td>1.0</td>\n",
       "      <td>10</td>\n",
       "      <td>10</td>\n",
       "      <td>[{'m': 0, 'ν': 1, 's': -1, 'massless': [], 'sp': None, 'δ': 1}]</td>\n",
       "      <td>{'None': ()}</td>\n",
       "      <td>[{'active': False, 'dirac': 4, 'majorana': 0, 'extra_generations': (2, 0), 'n': 10, 'unconditional': False, 'δ': 1}]</td>\n",
       "    </tr>\n",
       "    <tr>\n",
       "      <th>12</th>\n",
       "      <td>[-2, -1, 1, 2]</td>\n",
       "      <td>[-2, -1, 0, 1]</td>\n",
       "      <td>[2, 2, 4, 4, -7, -7, -9, -9, 10, 10]</td>\n",
       "      <td>2.0</td>\n",
       "      <td>10</td>\n",
       "      <td>10</td>\n",
       "      <td>[{'m': 0, 'ν': 10, 's': -5, 'massless': [], 'sp': None, 'δ': 2}]</td>\n",
       "      <td>{'None': ()}</td>\n",
       "      <td>[{'active': False, 'dirac': 3, 'majorana': 0, 'extra_generations': (1, 0), 'n': 10, 'unconditional': False, 'δ': 2}]</td>\n",
       "    </tr>\n",
       "    <tr>\n",
       "      <th>13</th>\n",
       "      <td>[0, 2, 0, 1]</td>\n",
       "      <td>[-2, -3, 1, 0, 2]</td>\n",
       "      <td>[1, 2, 2, -3, 6, 6, -8, -8, -9, 11]</td>\n",
       "      <td>1.0</td>\n",
       "      <td>10</td>\n",
       "      <td>11</td>\n",
       "      <td>[{'m': 0, 'ν': -8, 's': 8, 'massless': [], 'sp': None, 'δ': 1}, {'m': 0, 'ν': 2, 's': -2, 'massless': [], 'sp': None, 'δ': 1}]</td>\n",
       "      <td>{'None': ()}</td>\n",
       "      <td>[{'active': False, 'dirac': 4, 'majorana': 1, 'extra_generations': (1, 0), 'n': 10, 'unconditional': False, 'δ': 1}, {'active': False, 'dirac': 4, 'majorana': 0, 'extra_generations': (1, 0), 'n': 10, 'unconditional': False, 'δ': 1}]</td>\n",
       "    </tr>\n",
       "    <tr>\n",
       "      <th>14</th>\n",
       "      <td>[1, 3, -1, -2]</td>\n",
       "      <td>[-3, -2, -1, 2, 0]</td>\n",
       "      <td>[1, -2, -3, 5, 6, -8, -9, 11, 11, -12]</td>\n",
       "      <td>1.0</td>\n",
       "      <td>10</td>\n",
       "      <td>12</td>\n",
       "      <td>[{'m': 0, 'ν': 11, 's': -11, 'massless': [], 'sp': None, 'δ': 1}]</td>\n",
       "      <td>{'None': ()}</td>\n",
       "      <td>[{'active': False, 'dirac': 4, 'majorana': 0, 'extra_generations': (0, 0), 'n': 10, 'unconditional': False, 'δ': 1}]</td>\n",
       "    </tr>\n",
       "    <tr>\n",
       "      <th>15</th>\n",
       "      <td>[-1, 3, 1, -1]</td>\n",
       "      <td>[-3, -1, -4, 1, -1]</td>\n",
       "      <td>[1, 1, -3, 4, 4, -7, 8, -10, -10, 12]</td>\n",
       "      <td>1.0</td>\n",
       "      <td>10</td>\n",
       "      <td>12</td>\n",
       "      <td>[{'m': 0, 'ν': -10, 's': 5, 'massless': [], 'sp': None, 'δ': 2}]</td>\n",
       "      <td>{'None': ()}</td>\n",
       "      <td>[{'active': False, 'dirac': 4, 'majorana': 0, 'extra_generations': (1, 0), 'n': 10, 'unconditional': False, 'δ': 2}]</td>\n",
       "    </tr>\n",
       "    <tr>\n",
       "      <th>16</th>\n",
       "      <td>[0, -3, 0, 4]</td>\n",
       "      <td>[-2, -1, 1, 0, 2]</td>\n",
       "      <td>[1, 1, -2, -2, -4, 6, -10, 11, 12, -13]</td>\n",
       "      <td>1.0</td>\n",
       "      <td>10</td>\n",
       "      <td>13</td>\n",
       "      <td>[{'m': 0, 'ν': -2, 's': 2, 'massless': [], 'sp': None, 'δ': 1}]</td>\n",
       "      <td>{'None': ()}</td>\n",
       "      <td>[{'active': False, 'dirac': 3, 'majorana': 2, 'extra_generations': (0, 1), 'n': 10, 'unconditional': False, 'δ': 1}]</td>\n",
       "    </tr>\n",
       "    <tr>\n",
       "      <th>17</th>\n",
       "      <td>[-4, 4, -4, 1]</td>\n",
       "      <td>[-1, 0, -1, -3, -1]</td>\n",
       "      <td>[3, 4, 4, 4, 4, -5, -8, -8, -11, 13]</td>\n",
       "      <td>4.0</td>\n",
       "      <td>10</td>\n",
       "      <td>13</td>\n",
       "      <td>[{'m': 0, 'ν': -8, 's': 8, 'massless': [], 'sp': None, 'δ': 1}]</td>\n",
       "      <td>{'None': ()}</td>\n",
       "      <td>[{'active': False, 'dirac': 2, 'majorana': 4, 'extra_generations': (0, 3), 'n': 10, 'unconditional': False, 'δ': 1}]</td>\n",
       "    </tr>\n",
       "    <tr>\n",
       "      <th>18</th>\n",
       "      <td>[0, -2, 0, 2]</td>\n",
       "      <td>[-3, -2, -1, 0, -2]</td>\n",
       "      <td>[4, 4, 5, 6, 6, -9, -10, -10, -11, 15]</td>\n",
       "      <td>2.0</td>\n",
       "      <td>10</td>\n",
       "      <td>15</td>\n",
       "      <td>[{'m': 0, 'ν': 4, 's': -4, 'massless': [], 'sp': None, 'δ': 1}, {'m': 0, 'ν': 6, 's': -6, 'massless': [], 'sp': None, 'δ': 1}]</td>\n",
       "      <td>{'χ': (-9, 15), 'ψ': (-10, 4), 'None': (-11, 5)}</td>\n",
       "      <td>[{'active': False, 'dirac': 4, 'majorana': 0, 'extra_generations': (1, 0), 'n': 10, 'unconditional': True, 'δ': 1}]</td>\n",
       "    </tr>\n",
       "    <tr>\n",
       "      <th>19</th>\n",
       "      <td>[4, -1, 4, -3]</td>\n",
       "      <td>[-2, -3, -2, 1, -2]</td>\n",
       "      <td>[1, -2, -4, 7, 7, -10, -12, 14, 14, -15]</td>\n",
       "      <td>2.0</td>\n",
       "      <td>10</td>\n",
       "      <td>15</td>\n",
       "      <td>[{'m': 0, 'ν': 14, 's': -14, 'massless': [], 'sp': None, 'δ': 1}]</td>\n",
       "      <td>{'χ': (7, 7), 'ψ': (-12, -2), 'None': (-15, 1)}</td>\n",
       "      <td>[{'active': False, 'dirac': 3, 'majorana': 2, 'extra_generations': (0, 1), 'n': 10, 'unconditional': True, 'δ': 1}]</td>\n",
       "    </tr>\n",
       "    <tr>\n",
       "      <th>20</th>\n",
       "      <td>[1, -4, 0, -1]</td>\n",
       "      <td>[-3, -2, 2, -3, -4]</td>\n",
       "      <td>[1, 2, 2, -3, 4, -6, 12, -13, -14, 15]</td>\n",
       "      <td>1.0</td>\n",
       "      <td>10</td>\n",
       "      <td>15</td>\n",
       "      <td>[{'m': 0, 'ν': 2, 's': -2, 'massless': [], 'sp': None, 'δ': 1}]</td>\n",
       "      <td>{'None': ()}</td>\n",
       "      <td>[{'active': False, 'dirac': 4, 'majorana': 1, 'extra_generations': (0, 0), 'n': 10, 'unconditional': False, 'δ': 1}]</td>\n",
       "    </tr>\n",
       "    <tr>\n",
       "      <th>21</th>\n",
       "      <td>[1, 4, 0, -1]</td>\n",
       "      <td>[-4, -3, -2, 2, 0]</td>\n",
       "      <td>[1, 4, 4, -7, 8, 8, -9, -12, -12, 15]</td>\n",
       "      <td>4.0</td>\n",
       "      <td>10</td>\n",
       "      <td>15</td>\n",
       "      <td>[{'m': 0, 'ν': 8, 's': -8, 'massless': [], 'sp': None, 'δ': 1}]</td>\n",
       "      <td>{'None': ()}</td>\n",
       "      <td>[{'active': False, 'dirac': 4, 'majorana': 2, 'extra_generations': (1, 1), 'n': 10, 'unconditional': False, 'δ': 1}]</td>\n",
       "    </tr>\n",
       "    <tr>\n",
       "      <th>22</th>\n",
       "      <td>[-2, 0, -1, 1]</td>\n",
       "      <td>[-2, 0, -1, 0, -2]</td>\n",
       "      <td>[1, 2, 2, -9, -9, 16, 16, 17, -18, -18]</td>\n",
       "      <td>2.0</td>\n",
       "      <td>10</td>\n",
       "      <td>18</td>\n",
       "      <td>[{'m': 0, 'ν': -18, 's': 18, 'massless': [], 'sp': None, 'δ': 1}]</td>\n",
       "      <td>{'None': ()}</td>\n",
       "      <td>[{'active': False, 'dirac': 3, 'majorana': 2, 'extra_generations': (1, 1), 'n': 10, 'unconditional': False, 'δ': 1}]</td>\n",
       "    </tr>\n",
       "    <tr>\n",
       "      <th>23</th>\n",
       "      <td>[2, 1, 0, -1]</td>\n",
       "      <td>[-2, -3, -1, -2, 0]</td>\n",
       "      <td>[1, -3, -6, 7, -10, 11, -16, 18, 18, -20]</td>\n",
       "      <td>2.0</td>\n",
       "      <td>10</td>\n",
       "      <td>20</td>\n",
       "      <td>[{'m': 0, 'ν': 18, 's': -9, 'massless': [], 'sp': None, 'δ': 2}]</td>\n",
       "      <td>{'None': ()}</td>\n",
       "      <td>[{'active': False, 'dirac': 4, 'majorana': 0, 'extra_generations': (0, 0), 'n': 10, 'unconditional': False, 'δ': 2}]</td>\n",
       "    </tr>\n",
       "    <tr>\n",
       "      <th>24</th>\n",
       "      <td>[1, 0, 1, 0]</td>\n",
       "      <td>[-1, 0, -4, 2, -3]</td>\n",
       "      <td>[1, -4, 5, -6, -6, 10, -14, 15, 20, -21]</td>\n",
       "      <td>2.0</td>\n",
       "      <td>10</td>\n",
       "      <td>21</td>\n",
       "      <td>[{'m': 0, 'ν': -6, 's': 6, 'massless': [], 'sp': None, 'δ': 1}]</td>\n",
       "      <td>{'None': (1, 5), 'ψ': (-14, 20), 'χ': (-21, 15)}</td>\n",
       "      <td>[{'active': False, 'dirac': 4, 'majorana': 0, 'extra_generations': (0, 0), 'n': 10, 'unconditional': True, 'δ': 1}]</td>\n",
       "    </tr>\n",
       "    <tr>\n",
       "      <th>25</th>\n",
       "      <td>[2, 0, -2, -1]</td>\n",
       "      <td>[-3, -2, 0, -1, 0]</td>\n",
       "      <td>[2, -3, -6, 7, 12, -14, -14, 17, 20, -21]</td>\n",
       "      <td>4.0</td>\n",
       "      <td>10</td>\n",
       "      <td>21</td>\n",
       "      <td>[{'m': 0, 'ν': -14, 's': 14, 'massless': [], 'sp': None, 'δ': 1}]</td>\n",
       "      <td>{'ψ': (-6, 20), 'None': (-3, 17), 'χ': (7, 7)}</td>\n",
       "      <td>[{'active': False, 'dirac': 4, 'majorana': 1, 'extra_generations': (0, 0), 'n': 10, 'unconditional': True, 'δ': 1}]</td>\n",
       "    </tr>\n",
       "    <tr>\n",
       "      <th>26</th>\n",
       "      <td>[-2, 0, -1, 0]</td>\n",
       "      <td>[-2, -3, -1, 0, -2]</td>\n",
       "      <td>[3, 6, 6, -7, 8, 8, -14, -14, -17, 21]</td>\n",
       "      <td>2.0</td>\n",
       "      <td>10</td>\n",
       "      <td>21</td>\n",
       "      <td>[{'m': 0, 'ν': -14, 's': 14, 'massless': [], 'sp': None, 'δ': 1}]</td>\n",
       "      <td>{'ψ': (6, 8), 'χ': (-7, -7), 'None': (-17, 3)}</td>\n",
       "      <td>[{'active': False, 'dirac': 4, 'majorana': 1, 'extra_generations': (1, 0), 'n': 10, 'unconditional': True, 'δ': 1}]</td>\n",
       "    </tr>\n",
       "    <tr>\n",
       "      <th>27</th>\n",
       "      <td>[-2, 0, 1, 0]</td>\n",
       "      <td>[-2, -1, -3, 0, -2]</td>\n",
       "      <td>[8, 8, 9, 10, 10, -13, -18, -18, -27, 31]</td>\n",
       "      <td>2.0</td>\n",
       "      <td>10</td>\n",
       "      <td>31</td>\n",
       "      <td>[{'m': 0, 'ν': -18, 's': 18, 'massless': [], 'sp': None, 'δ': 1}]</td>\n",
       "      <td>{'None': ()}</td>\n",
       "      <td>[{'active': False, 'dirac': 4, 'majorana': 1, 'extra_generations': (1, 0), 'n': 10, 'unconditional': False, 'δ': 1}]</td>\n",
       "    </tr>\n",
       "    <tr>\n",
       "      <th>28</th>\n",
       "      <td>[1, 0, 1, 0, -1]</td>\n",
       "      <td>[-2, -1, -2, -1, 0]</td>\n",
       "      <td>[1, 1, 1, -2, -2, -5, -5, 6, 6, 7, -8]</td>\n",
       "      <td>1.0</td>\n",
       "      <td>11</td>\n",
       "      <td>8</td>\n",
       "      <td>[{'m': 1, 'ν': -2, 's': 1, 'massless': [], 'sp': None, 'δ': 1}]</td>\n",
       "      <td>{'None': ()}</td>\n",
       "      <td>[{'active': True, 'dirac': 3, 'majorana': 0, 'extra_generations': (1, 0), 'n': 11, 'unconditional': False, 'δ': 1}]</td>\n",
       "    </tr>\n",
       "    <tr>\n",
       "      <th>29</th>\n",
       "      <td>[1, -1, 0, 2, 1]</td>\n",
       "      <td>[-3, -1, 0, -2, -3]</td>\n",
       "      <td>[1, -2, -2, -2, -3, 4, 4, -5, 6, 7, -8]</td>\n",
       "      <td>1.0</td>\n",
       "      <td>11</td>\n",
       "      <td>8</td>\n",
       "      <td>[{'m': -2, 'ν': 4, 's': -2, 'massless': [], 'sp': None, 'δ': 1}]</td>\n",
       "      <td>{'None': ()}</td>\n",
       "      <td>[{'active': True, 'dirac': 3, 'majorana': 1, 'extra_generations': (0, 0), 'n': 11, 'unconditional': False, 'δ': 1}]</td>\n",
       "    </tr>\n",
       "    <tr>\n",
       "      <th>30</th>\n",
       "      <td>[-2, -1, 0, -3, -1]</td>\n",
       "      <td>[-2, -1, 2, 0, -1]</td>\n",
       "      <td>[1, 1, 2, 2, 2, -4, -4, 7, -8, -9, 10]</td>\n",
       "      <td>1.0</td>\n",
       "      <td>11</td>\n",
       "      <td>10</td>\n",
       "      <td>[{'m': 2, 'ν': -4, 's': 2, 'massless': [], 'sp': None, 'δ': 1}]</td>\n",
       "      <td>{'None': ()}</td>\n",
       "      <td>[{'active': True, 'dirac': 2, 'majorana': 2, 'extra_generations': (0, 1), 'n': 11, 'unconditional': False, 'δ': 1}]</td>\n",
       "    </tr>\n",
       "    <tr>\n",
       "      <th>31</th>\n",
       "      <td>[1, 0, 2, 0, 3]</td>\n",
       "      <td>[-2, -1, -2, -1, 0]</td>\n",
       "      <td>[2, 2, 2, -4, -4, -5, 7, -8, 9, 10, -11]</td>\n",
       "      <td>2.0</td>\n",
       "      <td>11</td>\n",
       "      <td>11</td>\n",
       "      <td>[{'m': 2, 'ν': -4, 's': 2, 'massless': [], 'sp': None, 'δ': 1}]</td>\n",
       "      <td>{'None': ()}</td>\n",
       "      <td>[{'active': True, 'dirac': 3, 'majorana': 0, 'extra_generations': (0, 0), 'n': 11, 'unconditional': False, 'δ': 1}]</td>\n",
       "    </tr>\n",
       "    <tr>\n",
       "      <th>32</th>\n",
       "      <td>[-1, 1, 0, 1]</td>\n",
       "      <td>[-2, -3, 2, 0, 1]</td>\n",
       "      <td>[1, -2, -3, -3, -3, 5, 5, -7, 8, 10, -11]</td>\n",
       "      <td>1.0</td>\n",
       "      <td>11</td>\n",
       "      <td>11</td>\n",
       "      <td>[{'m': -3, 'ν': 5, 's': -1, 'massless': [], 'sp': None, 'δ': 2}]</td>\n",
       "      <td>{'None': ()}</td>\n",
       "      <td>[{'active': True, 'dirac': 3, 'majorana': 0, 'extra_generations': (0, 0), 'n': 11, 'unconditional': False, 'δ': 2}]</td>\n",
       "    </tr>\n",
       "    <tr>\n",
       "      <th>33</th>\n",
       "      <td>[-1, -3, 0, -2, 1]</td>\n",
       "      <td>[-1, -2, 0, 3, -3]</td>\n",
       "      <td>[3, 3, 3, -4, -4, 7, 7, -8, -9, -9, 11]</td>\n",
       "      <td>1.0</td>\n",
       "      <td>11</td>\n",
       "      <td>11</td>\n",
       "      <td>[{'m': 3, 'ν': -9, 's': 3, 'massless': [], 'sp': None, 'δ': 2}]</td>\n",
       "      <td>{'None': ()}</td>\n",
       "      <td>[{'active': True, 'dirac': 3, 'majorana': 0, 'extra_generations': (1, 0), 'n': 11, 'unconditional': False, 'δ': 2}]</td>\n",
       "    </tr>\n",
       "    <tr>\n",
       "      <th>34</th>\n",
       "      <td>[-2, 0, 1, 0, -3]</td>\n",
       "      <td>[-2, -1, 0, -1, 1]</td>\n",
       "      <td>[1, 3, 5, -6, -6, -6, 8, -9, 12, 12, -14]</td>\n",
       "      <td>2.0</td>\n",
       "      <td>11</td>\n",
       "      <td>14</td>\n",
       "      <td>[{'m': -6, 'ν': 12, 's': -6, 'massless': [], 'sp': None, 'δ': 1}]</td>\n",
       "      <td>{'None': (1, 5), 'χ': (3, 3), 'ψ': (-14, 8)}</td>\n",
       "      <td>[{'active': True, 'dirac': 3, 'majorana': 1, 'extra_generations': (0, 0), 'n': 11, 'unconditional': True, 'δ': 1}]</td>\n",
       "    </tr>\n",
       "    <tr>\n",
       "      <th>35</th>\n",
       "      <td>[-2, 0, -1, 0, 3]</td>\n",
       "      <td>[-2, -1, 0, -1, 1]</td>\n",
       "      <td>[1, -2, 6, 6, 6, -7, 8, -9, -12, -12, 15]</td>\n",
       "      <td>2.0</td>\n",
       "      <td>11</td>\n",
       "      <td>15</td>\n",
       "      <td>[{'m': 6, 'ν': -12, 's': 6, 'massless': [], 'sp': None, 'δ': 1}]</td>\n",
       "      <td>{'ψ': (-2, 8), 'None': (-7, 1), 'χ': (-9, 15)}</td>\n",
       "      <td>[{'active': True, 'dirac': 3, 'majorana': 0, 'extra_generations': (0, 0), 'n': 11, 'unconditional': True, 'δ': 1}]</td>\n",
       "    </tr>\n",
       "    <tr>\n",
       "      <th>36</th>\n",
       "      <td>[-3, 0, -2, 0]</td>\n",
       "      <td>[-2, -4, -2, 1, -1]</td>\n",
       "      <td>[1, 3, 3, 6, 6, 6, -7, -10, -12, -12, 16]</td>\n",
       "      <td>6.0</td>\n",
       "      <td>11</td>\n",
       "      <td>16</td>\n",
       "      <td>[{'m': 6, 'ν': -12, 's': 6, 'massless': [], 'sp': None, 'δ': 1}]</td>\n",
       "      <td>{'χ': (3, 3), 'None': (-7, 1), 'ψ': (-10, 16)}</td>\n",
       "      <td>[{'active': True, 'dirac': 2, 'majorana': 2, 'extra_generations': (0, 1), 'n': 11, 'unconditional': True, 'δ': 1}]</td>\n",
       "    </tr>\n",
       "    <tr>\n",
       "      <th>37</th>\n",
       "      <td>[-1, 0, -1, 0, 1]</td>\n",
       "      <td>[-3, -2, -3, -2, 2]</td>\n",
       "      <td>[1, -2, -2, -2, 3, 3, 4, 4, -5, -5, -5, 6]</td>\n",
       "      <td>1.0</td>\n",
       "      <td>12</td>\n",
       "      <td>6</td>\n",
       "      <td>[{'m': -5, 'ν': -2, 's': 7, 'massless': [], 'sp': None, 'δ': 1}, {'m': -2, 'ν': -5, 's': 7, 'massless': [], 'sp': None, 'δ': 1}]</td>\n",
       "      <td>{'None': ()}</td>\n",
       "      <td>[{'active': True, 'dirac': 3, 'majorana': 0, 'extra_generations': (1, 0), 'n': 12, 'unconditional': False, 'δ': 1}]</td>\n",
       "    </tr>\n",
       "    <tr>\n",
       "      <th>38</th>\n",
       "      <td>[-1, 1, -1, 1, -2]</td>\n",
       "      <td>[-2, -3, -2, 0, -2]</td>\n",
       "      <td>[1, 1, -3, 4, 5, 5, 5, -6, -7, -7, -8, 10]</td>\n",
       "      <td>4.0</td>\n",
       "      <td>12</td>\n",
       "      <td>10</td>\n",
       "      <td>[{'m': 5, 'ν': -7, 's': 2, 'massless': [], 'sp': None, 'δ': 1}]</td>\n",
       "      <td>{'None': ()}</td>\n",
       "      <td>[{'active': True, 'dirac': 3, 'majorana': 2, 'extra_generations': (0, 1), 'n': 12, 'unconditional': False, 'δ': 1}]</td>\n",
       "    </tr>\n",
       "    <tr>\n",
       "      <th>39</th>\n",
       "      <td>[2, -2, 0, 3, -3]</td>\n",
       "      <td>[-1, -2, 1, -1, 0]</td>\n",
       "      <td>[1, 1, 1, -2, 4, -7, -7, -7, 8, 9, 9, -10]</td>\n",
       "      <td>1.0</td>\n",
       "      <td>12</td>\n",
       "      <td>10</td>\n",
       "      <td>[{'m': -7, 'ν': 9, 's': -2, 'massless': [], 'sp': None, 'δ': 1}]</td>\n",
       "      <td>{'None': ()}</td>\n",
       "      <td>[{'active': True, 'dirac': 2, 'majorana': 3, 'extra_generations': (0, 2), 'n': 12, 'unconditional': False, 'δ': 1}]</td>\n",
       "    </tr>\n",
       "    <tr>\n",
       "      <th>40</th>\n",
       "      <td>[1, -3, -2, -1, -2]</td>\n",
       "      <td>[-3, -1, -3, -1, -3]</td>\n",
       "      <td>[1, 1, -3, -3, -5, -5, -5, 7, 7, 7, 9, -11]</td>\n",
       "      <td>2.0</td>\n",
       "      <td>12</td>\n",
       "      <td>11</td>\n",
       "      <td>[{'m': -5, 'ν': 7, 's': -2, 'massless': [], 'sp': None, 'δ': 1}, {'m': 7, 'ν': -5, 's': -2, 'massless': [], 'sp': None, 'δ': 1}]</td>\n",
       "      <td>{'None': ()}</td>\n",
       "      <td>[{'active': True, 'dirac': 3, 'majorana': 2, 'extra_generations': (1, 1), 'n': 12, 'unconditional': False, 'δ': 1}]</td>\n",
       "    </tr>\n",
       "    <tr>\n",
       "      <th>41</th>\n",
       "      <td>[1, -3, 1, 3, 1]</td>\n",
       "      <td>[-3, -2, -3, 0, -3]</td>\n",
       "      <td>[1, -3, -3, -3, 4, 6, 7, 9, -10, -10, -10, 12]</td>\n",
       "      <td>10.0</td>\n",
       "      <td>12</td>\n",
       "      <td>12</td>\n",
       "      <td>[{'m': -3, 'ν': -10, 's': 13, 'massless': [], 'sp': None, 'δ': 1}]</td>\n",
       "      <td>{'None': ()}</td>\n",
       "      <td>[{'active': True, 'dirac': 3, 'majorana': 0, 'extra_generations': (0, 0), 'n': 12, 'unconditional': False, 'δ': 1}]</td>\n",
       "    </tr>\n",
       "    <tr>\n",
       "      <th>42</th>\n",
       "      <td>[1, 2, 1, 2, 1]</td>\n",
       "      <td>[-3, -1, -3, -1, -3]</td>\n",
       "      <td>[1, 1, 1, 3, 3, -5, 7, 7, -11, -11, -11, 15]</td>\n",
       "      <td>2.0</td>\n",
       "      <td>12</td>\n",
       "      <td>15</td>\n",
       "      <td>[{'m': 1, 'ν': -11, 's': 10, 'massless': [], 'sp': None, 'δ': 1}, {'m': -11, 'ν': 1, 's': 10, 'massless': [], 'sp': None, 'δ': 1}]</td>\n",
       "      <td>{'None': (3, 7), 'χ': (-5, -5)}</td>\n",
       "      <td>[{'active': True, 'dirac': 3, 'majorana': 1, 'extra_generations': (1, 0), 'n': 12, 'unconditional': False, 'δ': 1}]</td>\n",
       "    </tr>\n",
       "    <tr>\n",
       "      <th>43</th>\n",
       "      <td>[-1, -2, -1, -2, -1]</td>\n",
       "      <td>[-2, -3, -2, 2, -2]</td>\n",
       "      <td>[1, -2, -2, 3, 6, -10, -10, -10, 13, 14, 14, -17]</td>\n",
       "      <td>2.0</td>\n",
       "      <td>12</td>\n",
       "      <td>17</td>\n",
       "      <td>[{'m': -10, 'ν': 14, 's': -4, 'massless': [], 'sp': None, 'δ': 1}]</td>\n",
       "      <td>{'None': ()}</td>\n",
       "      <td>[{'active': True, 'dirac': 4, 'majorana': 2, 'extra_generations': (1, 1), 'n': 12, 'unconditional': False, 'δ': 1}]</td>\n",
       "    </tr>\n",
       "    <tr>\n",
       "      <th>44</th>\n",
       "      <td>[]</td>\n",
       "      <td>[]</td>\n",
       "      <td>[1, 1, 1, 5, 5, 5, -9, -9, 11, -13, -17, 19]</td>\n",
       "      <td>NaN</td>\n",
       "      <td>12</td>\n",
       "      <td>19</td>\n",
       "      <td>[{'m': 5, 'ν': -9, 's': 2, 'massless': [], 'sp': None, 'δ': 2}]</td>\n",
       "      <td>{'None': ()}</td>\n",
       "      <td>[{'active': True, 'dirac': 2, 'majorana': 3, 'extra_generations': (0, 2), 'n': 12, 'unconditional': False, 'δ': 2}]</td>\n",
       "    </tr>\n",
       "    <tr>\n",
       "      <th>45</th>\n",
       "      <td>[1, -2, 1, -1, 1]</td>\n",
       "      <td>[-3, -1, -3, -1, -3]</td>\n",
       "      <td>[1, -3, 9, -11, -13, -13, -13, 15, 15, 15, 21, -23]</td>\n",
       "      <td>4.0</td>\n",
       "      <td>12</td>\n",
       "      <td>23</td>\n",
       "      <td>[{'m': -13, 'ν': 15, 's': -2, 'massless': [], 'sp': None, 'δ': 1}]</td>\n",
       "      <td>{'None': ()}</td>\n",
       "      <td>[{'active': True, 'dirac': 3, 'majorana': 1, 'extra_generations': (0, 0), 'n': 12, 'unconditional': False, 'δ': 1}]</td>\n",
       "    </tr>\n",
       "  </tbody>\n",
       "</table>\n",
       "</div>"
      ],
      "text/plain": [
       "                       l                     k  \\\n",
       "0                [-1, 1]               [-2, 0]   \n",
       "1               [-3, -1]           [-2, -3, 1]   \n",
       "2        [-2, -3, 1, -1]      [-3, -1, -2, -1]   \n",
       "3             [-2, 0, 2]        [-1, 1, 0, -1]   \n",
       "4          [1, 2, 1, -1]      [-6, -3, -5, -3]   \n",
       "5             [3, -4, 5]       [-4, -3, 1, -3]   \n",
       "6             [-1, 4, 2]        [-3, -8, 3, 4]   \n",
       "7         [-3, 1, 2, -2]   [-4, -3, -4, -2, 0]   \n",
       "8         [-2, -1, 0, 1]       [-5, -6, -4, 1]   \n",
       "9          [1, -1, 0, 2]     [-3, -2, 2, 0, 1]   \n",
       "10         [2, 0, 3, -1]    [-2, -3, -2, 2, 0]   \n",
       "11        [-1, 0, -1, 2]    [-1, 0, -1, 0, -1]   \n",
       "12        [-2, -1, 1, 2]        [-2, -1, 0, 1]   \n",
       "13          [0, 2, 0, 1]     [-2, -3, 1, 0, 2]   \n",
       "14        [1, 3, -1, -2]    [-3, -2, -1, 2, 0]   \n",
       "15        [-1, 3, 1, -1]   [-3, -1, -4, 1, -1]   \n",
       "16         [0, -3, 0, 4]     [-2, -1, 1, 0, 2]   \n",
       "17        [-4, 4, -4, 1]   [-1, 0, -1, -3, -1]   \n",
       "18         [0, -2, 0, 2]   [-3, -2, -1, 0, -2]   \n",
       "19        [4, -1, 4, -3]   [-2, -3, -2, 1, -2]   \n",
       "20        [1, -4, 0, -1]   [-3, -2, 2, -3, -4]   \n",
       "21         [1, 4, 0, -1]    [-4, -3, -2, 2, 0]   \n",
       "22        [-2, 0, -1, 1]    [-2, 0, -1, 0, -2]   \n",
       "23         [2, 1, 0, -1]   [-2, -3, -1, -2, 0]   \n",
       "24          [1, 0, 1, 0]    [-1, 0, -4, 2, -3]   \n",
       "25        [2, 0, -2, -1]    [-3, -2, 0, -1, 0]   \n",
       "26        [-2, 0, -1, 0]   [-2, -3, -1, 0, -2]   \n",
       "27         [-2, 0, 1, 0]   [-2, -1, -3, 0, -2]   \n",
       "28      [1, 0, 1, 0, -1]   [-2, -1, -2, -1, 0]   \n",
       "29      [1, -1, 0, 2, 1]   [-3, -1, 0, -2, -3]   \n",
       "30   [-2, -1, 0, -3, -1]    [-2, -1, 2, 0, -1]   \n",
       "31       [1, 0, 2, 0, 3]   [-2, -1, -2, -1, 0]   \n",
       "32         [-1, 1, 0, 1]     [-2, -3, 2, 0, 1]   \n",
       "33    [-1, -3, 0, -2, 1]    [-1, -2, 0, 3, -3]   \n",
       "34     [-2, 0, 1, 0, -3]    [-2, -1, 0, -1, 1]   \n",
       "35     [-2, 0, -1, 0, 3]    [-2, -1, 0, -1, 1]   \n",
       "36        [-3, 0, -2, 0]   [-2, -4, -2, 1, -1]   \n",
       "37     [-1, 0, -1, 0, 1]   [-3, -2, -3, -2, 2]   \n",
       "38    [-1, 1, -1, 1, -2]   [-2, -3, -2, 0, -2]   \n",
       "39     [2, -2, 0, 3, -3]    [-1, -2, 1, -1, 0]   \n",
       "40   [1, -3, -2, -1, -2]  [-3, -1, -3, -1, -3]   \n",
       "41      [1, -3, 1, 3, 1]   [-3, -2, -3, 0, -3]   \n",
       "42       [1, 2, 1, 2, 1]  [-3, -1, -3, -1, -3]   \n",
       "43  [-1, -2, -1, -2, -1]   [-2, -3, -2, 2, -2]   \n",
       "44                    []                    []   \n",
       "45     [1, -2, 1, -1, 1]  [-3, -1, -3, -1, -3]   \n",
       "\n",
       "                                               solution   gcd   n  nmax  \\\n",
       "0                                 [1, -2, -3, 5, 5, -6]   1.0   6     6   \n",
       "1                              [3, 3, 3, -5, -5, -7, 8]   1.0   7     8   \n",
       "2                       [1, -2, 3, 4, 6, -7, -7, -7, 9]   1.0   9     9   \n",
       "3                     [1, 1, -4, -5, 9, 9, 9, -10, -10]   1.0   9    10   \n",
       "4                      [1, 2, -6, -6, -6, 8, 9, 9, -11]   1.0   9    11   \n",
       "5                   [1, -3, 8, 8, 8, -12, -12, -17, 19]   4.0   9    19   \n",
       "6                 [8, 8, 8, -12, -12, 15, -17, -23, 25]  10.0   9    25   \n",
       "7                   [1, -2, -2, 3, 3, -4, -4, 6, 6, -7]   1.0  10     7   \n",
       "8                   [1, -2, -2, 3, 4, -5, -5, 7, 7, -8]   1.0  10     8   \n",
       "9                   [1, -2, -2, 3, 5, -6, -6, 8, 8, -9]   1.0  10     9   \n",
       "10                   [2, 2, 3, 4, 4, -5, -6, -6, -7, 9]   1.0  10     9   \n",
       "11                  [1, 1, 5, 5, 5, -6, -6, -6, -9, 10]   1.0  10    10   \n",
       "12                 [2, 2, 4, 4, -7, -7, -9, -9, 10, 10]   2.0  10    10   \n",
       "13                  [1, 2, 2, -3, 6, 6, -8, -8, -9, 11]   1.0  10    11   \n",
       "14               [1, -2, -3, 5, 6, -8, -9, 11, 11, -12]   1.0  10    12   \n",
       "15                [1, 1, -3, 4, 4, -7, 8, -10, -10, 12]   1.0  10    12   \n",
       "16              [1, 1, -2, -2, -4, 6, -10, 11, 12, -13]   1.0  10    13   \n",
       "17                 [3, 4, 4, 4, 4, -5, -8, -8, -11, 13]   4.0  10    13   \n",
       "18               [4, 4, 5, 6, 6, -9, -10, -10, -11, 15]   2.0  10    15   \n",
       "19             [1, -2, -4, 7, 7, -10, -12, 14, 14, -15]   2.0  10    15   \n",
       "20               [1, 2, 2, -3, 4, -6, 12, -13, -14, 15]   1.0  10    15   \n",
       "21                [1, 4, 4, -7, 8, 8, -9, -12, -12, 15]   4.0  10    15   \n",
       "22              [1, 2, 2, -9, -9, 16, 16, 17, -18, -18]   2.0  10    18   \n",
       "23            [1, -3, -6, 7, -10, 11, -16, 18, 18, -20]   2.0  10    20   \n",
       "24             [1, -4, 5, -6, -6, 10, -14, 15, 20, -21]   2.0  10    21   \n",
       "25            [2, -3, -6, 7, 12, -14, -14, 17, 20, -21]   4.0  10    21   \n",
       "26               [3, 6, 6, -7, 8, 8, -14, -14, -17, 21]   2.0  10    21   \n",
       "27            [8, 8, 9, 10, 10, -13, -18, -18, -27, 31]   2.0  10    31   \n",
       "28               [1, 1, 1, -2, -2, -5, -5, 6, 6, 7, -8]   1.0  11     8   \n",
       "29              [1, -2, -2, -2, -3, 4, 4, -5, 6, 7, -8]   1.0  11     8   \n",
       "30               [1, 1, 2, 2, 2, -4, -4, 7, -8, -9, 10]   1.0  11    10   \n",
       "31             [2, 2, 2, -4, -4, -5, 7, -8, 9, 10, -11]   2.0  11    11   \n",
       "32            [1, -2, -3, -3, -3, 5, 5, -7, 8, 10, -11]   1.0  11    11   \n",
       "33              [3, 3, 3, -4, -4, 7, 7, -8, -9, -9, 11]   1.0  11    11   \n",
       "34            [1, 3, 5, -6, -6, -6, 8, -9, 12, 12, -14]   2.0  11    14   \n",
       "35            [1, -2, 6, 6, 6, -7, 8, -9, -12, -12, 15]   2.0  11    15   \n",
       "36            [1, 3, 3, 6, 6, 6, -7, -10, -12, -12, 16]   6.0  11    16   \n",
       "37           [1, -2, -2, -2, 3, 3, 4, 4, -5, -5, -5, 6]   1.0  12     6   \n",
       "38           [1, 1, -3, 4, 5, 5, 5, -6, -7, -7, -8, 10]   4.0  12    10   \n",
       "39           [1, 1, 1, -2, 4, -7, -7, -7, 8, 9, 9, -10]   1.0  12    10   \n",
       "40          [1, 1, -3, -3, -5, -5, -5, 7, 7, 7, 9, -11]   2.0  12    11   \n",
       "41       [1, -3, -3, -3, 4, 6, 7, 9, -10, -10, -10, 12]  10.0  12    12   \n",
       "42         [1, 1, 1, 3, 3, -5, 7, 7, -11, -11, -11, 15]   2.0  12    15   \n",
       "43    [1, -2, -2, 3, 6, -10, -10, -10, 13, 14, 14, -17]   2.0  12    17   \n",
       "44         [1, 1, 1, 5, 5, 5, -9, -9, 11, -13, -17, 19]   NaN  12    19   \n",
       "45  [1, -3, 9, -11, -13, -13, -13, 15, 15, 15, 21, -23]   4.0  12    23   \n",
       "\n",
       "                                                                                                                             effective  \\\n",
       "0                                                                      [{'m': 0, 'ν': 5, 's': -5, 'massless': [], 'sp': None, 'δ': 1}]   \n",
       "1                                                                      [{'m': 3, 'ν': -5, 's': 1, 'massless': [], 'sp': None, 'δ': 2}]   \n",
       "2                                                                      [{'m': 0, 'ν': -7, 's': 7, 'massless': [], 'sp': None, 'δ': 1}]   \n",
       "3                                                                      [{'m': 0, 'ν': 9, 's': -9, 'massless': [], 'sp': None, 'δ': 1}]   \n",
       "4                                                                     [{'m': -6, 'ν': 9, 's': -3, 'massless': [], 'sp': None, 'δ': 1}]   \n",
       "5                                                                     [{'m': 8, 'ν': -12, 's': 2, 'massless': [], 'sp': None, 'δ': 2}]   \n",
       "6                                                                     [{'m': 8, 'ν': -12, 's': 2, 'massless': [], 'sp': None, 'δ': 2}]   \n",
       "7                                                                      [{'m': 0, 'ν': 6, 's': -6, 'massless': [], 'sp': None, 'δ': 1}]   \n",
       "8       [{'m': 0, 'ν': -5, 's': 5, 'massless': [], 'sp': None, 'δ': 1}, {'m': 0, 'ν': 7, 's': -7, 'massless': [], 'sp': None, 'δ': 1}]   \n",
       "9       [{'m': 0, 'ν': 8, 's': -8, 'massless': [], 'sp': None, 'δ': 1}, {'m': 0, 'ν': -6, 's': 6, 'massless': [], 'sp': None, 'δ': 1}]   \n",
       "10      [{'m': 0, 'ν': 2, 's': -2, 'massless': [], 'sp': None, 'δ': 1}, {'m': 0, 'ν': 4, 's': -4, 'massless': [], 'sp': None, 'δ': 1}]   \n",
       "11                                                                     [{'m': 0, 'ν': 1, 's': -1, 'massless': [], 'sp': None, 'δ': 1}]   \n",
       "12                                                                    [{'m': 0, 'ν': 10, 's': -5, 'massless': [], 'sp': None, 'δ': 2}]   \n",
       "13      [{'m': 0, 'ν': -8, 's': 8, 'massless': [], 'sp': None, 'δ': 1}, {'m': 0, 'ν': 2, 's': -2, 'massless': [], 'sp': None, 'δ': 1}]   \n",
       "14                                                                   [{'m': 0, 'ν': 11, 's': -11, 'massless': [], 'sp': None, 'δ': 1}]   \n",
       "15                                                                    [{'m': 0, 'ν': -10, 's': 5, 'massless': [], 'sp': None, 'δ': 2}]   \n",
       "16                                                                     [{'m': 0, 'ν': -2, 's': 2, 'massless': [], 'sp': None, 'δ': 1}]   \n",
       "17                                                                     [{'m': 0, 'ν': -8, 's': 8, 'massless': [], 'sp': None, 'δ': 1}]   \n",
       "18      [{'m': 0, 'ν': 4, 's': -4, 'massless': [], 'sp': None, 'δ': 1}, {'m': 0, 'ν': 6, 's': -6, 'massless': [], 'sp': None, 'δ': 1}]   \n",
       "19                                                                   [{'m': 0, 'ν': 14, 's': -14, 'massless': [], 'sp': None, 'δ': 1}]   \n",
       "20                                                                     [{'m': 0, 'ν': 2, 's': -2, 'massless': [], 'sp': None, 'δ': 1}]   \n",
       "21                                                                     [{'m': 0, 'ν': 8, 's': -8, 'massless': [], 'sp': None, 'δ': 1}]   \n",
       "22                                                                   [{'m': 0, 'ν': -18, 's': 18, 'massless': [], 'sp': None, 'δ': 1}]   \n",
       "23                                                                    [{'m': 0, 'ν': 18, 's': -9, 'massless': [], 'sp': None, 'δ': 2}]   \n",
       "24                                                                     [{'m': 0, 'ν': -6, 's': 6, 'massless': [], 'sp': None, 'δ': 1}]   \n",
       "25                                                                   [{'m': 0, 'ν': -14, 's': 14, 'massless': [], 'sp': None, 'δ': 1}]   \n",
       "26                                                                   [{'m': 0, 'ν': -14, 's': 14, 'massless': [], 'sp': None, 'δ': 1}]   \n",
       "27                                                                   [{'m': 0, 'ν': -18, 's': 18, 'massless': [], 'sp': None, 'δ': 1}]   \n",
       "28                                                                     [{'m': 1, 'ν': -2, 's': 1, 'massless': [], 'sp': None, 'δ': 1}]   \n",
       "29                                                                    [{'m': -2, 'ν': 4, 's': -2, 'massless': [], 'sp': None, 'δ': 1}]   \n",
       "30                                                                     [{'m': 2, 'ν': -4, 's': 2, 'massless': [], 'sp': None, 'δ': 1}]   \n",
       "31                                                                     [{'m': 2, 'ν': -4, 's': 2, 'massless': [], 'sp': None, 'δ': 1}]   \n",
       "32                                                                    [{'m': -3, 'ν': 5, 's': -1, 'massless': [], 'sp': None, 'δ': 2}]   \n",
       "33                                                                     [{'m': 3, 'ν': -9, 's': 3, 'massless': [], 'sp': None, 'δ': 2}]   \n",
       "34                                                                   [{'m': -6, 'ν': 12, 's': -6, 'massless': [], 'sp': None, 'δ': 1}]   \n",
       "35                                                                    [{'m': 6, 'ν': -12, 's': 6, 'massless': [], 'sp': None, 'δ': 1}]   \n",
       "36                                                                    [{'m': 6, 'ν': -12, 's': 6, 'massless': [], 'sp': None, 'δ': 1}]   \n",
       "37    [{'m': -5, 'ν': -2, 's': 7, 'massless': [], 'sp': None, 'δ': 1}, {'m': -2, 'ν': -5, 's': 7, 'massless': [], 'sp': None, 'δ': 1}]   \n",
       "38                                                                     [{'m': 5, 'ν': -7, 's': 2, 'massless': [], 'sp': None, 'δ': 1}]   \n",
       "39                                                                    [{'m': -7, 'ν': 9, 's': -2, 'massless': [], 'sp': None, 'δ': 1}]   \n",
       "40    [{'m': -5, 'ν': 7, 's': -2, 'massless': [], 'sp': None, 'δ': 1}, {'m': 7, 'ν': -5, 's': -2, 'massless': [], 'sp': None, 'δ': 1}]   \n",
       "41                                                                  [{'m': -3, 'ν': -10, 's': 13, 'massless': [], 'sp': None, 'δ': 1}]   \n",
       "42  [{'m': 1, 'ν': -11, 's': 10, 'massless': [], 'sp': None, 'δ': 1}, {'m': -11, 'ν': 1, 's': 10, 'massless': [], 'sp': None, 'δ': 1}]   \n",
       "43                                                                  [{'m': -10, 'ν': 14, 's': -4, 'massless': [], 'sp': None, 'δ': 1}]   \n",
       "44                                                                     [{'m': 5, 'ν': -9, 's': 2, 'massless': [], 'sp': None, 'δ': 2}]   \n",
       "45                                                                  [{'m': -13, 'ν': 15, 's': -2, 'massless': [], 'sp': None, 'δ': 1}]   \n",
       "\n",
       "                                                 DMs  \\\n",
       "0                                       {'None': ()}   \n",
       "1                                       {'None': ()}   \n",
       "2                                       {'None': ()}   \n",
       "3                                       {'None': ()}   \n",
       "4                                       {'None': ()}   \n",
       "5                                       {'None': ()}   \n",
       "6                                       {'None': ()}   \n",
       "7      {'χ': (3, 3), 'ψ': (-4, -2), 'None': (-7, 1)}   \n",
       "8                                       {'None': ()}   \n",
       "9        {'None': (1, 5), 'ψ': (-2, 8), 'χ': (3, 3)}   \n",
       "10                                      {'None': ()}   \n",
       "11                                      {'None': ()}   \n",
       "12                                      {'None': ()}   \n",
       "13                                      {'None': ()}   \n",
       "14                                      {'None': ()}   \n",
       "15                                      {'None': ()}   \n",
       "16                                      {'None': ()}   \n",
       "17                                      {'None': ()}   \n",
       "18  {'χ': (-9, 15), 'ψ': (-10, 4), 'None': (-11, 5)}   \n",
       "19   {'χ': (7, 7), 'ψ': (-12, -2), 'None': (-15, 1)}   \n",
       "20                                      {'None': ()}   \n",
       "21                                      {'None': ()}   \n",
       "22                                      {'None': ()}   \n",
       "23                                      {'None': ()}   \n",
       "24  {'None': (1, 5), 'ψ': (-14, 20), 'χ': (-21, 15)}   \n",
       "25    {'ψ': (-6, 20), 'None': (-3, 17), 'χ': (7, 7)}   \n",
       "26    {'ψ': (6, 8), 'χ': (-7, -7), 'None': (-17, 3)}   \n",
       "27                                      {'None': ()}   \n",
       "28                                      {'None': ()}   \n",
       "29                                      {'None': ()}   \n",
       "30                                      {'None': ()}   \n",
       "31                                      {'None': ()}   \n",
       "32                                      {'None': ()}   \n",
       "33                                      {'None': ()}   \n",
       "34      {'None': (1, 5), 'χ': (3, 3), 'ψ': (-14, 8)}   \n",
       "35    {'ψ': (-2, 8), 'None': (-7, 1), 'χ': (-9, 15)}   \n",
       "36    {'χ': (3, 3), 'None': (-7, 1), 'ψ': (-10, 16)}   \n",
       "37                                      {'None': ()}   \n",
       "38                                      {'None': ()}   \n",
       "39                                      {'None': ()}   \n",
       "40                                      {'None': ()}   \n",
       "41                                      {'None': ()}   \n",
       "42                   {'None': (3, 7), 'χ': (-5, -5)}   \n",
       "43                                      {'None': ()}   \n",
       "44                                      {'None': ()}   \n",
       "45                                      {'None': ()}   \n",
       "\n",
       "                                                                                                                                                                                                                                    features  \n",
       "0                                                                                                                        [{'active': False, 'dirac': 2, 'majorana': 0, 'extra_generations': (0, 0), 'n': 6, 'unconditional': False, 'δ': 1}]  \n",
       "1                                                                                                                         [{'active': True, 'dirac': 1, 'majorana': 0, 'extra_generations': (0, 0), 'n': 7, 'unconditional': False, 'δ': 2}]  \n",
       "2                                                                                                                        [{'active': False, 'dirac': 3, 'majorana': 0, 'extra_generations': (0, 0), 'n': 9, 'unconditional': False, 'δ': 1}]  \n",
       "3                                                                                                                        [{'active': False, 'dirac': 3, 'majorana': 0, 'extra_generations': (1, 0), 'n': 9, 'unconditional': False, 'δ': 1}]  \n",
       "4                                                                                                                         [{'active': True, 'dirac': 2, 'majorana': 0, 'extra_generations': (0, 0), 'n': 9, 'unconditional': False, 'δ': 1}]  \n",
       "5                                                                                                                         [{'active': True, 'dirac': 2, 'majorana': 1, 'extra_generations': (0, 0), 'n': 9, 'unconditional': False, 'δ': 2}]  \n",
       "6                                                                                                                         [{'active': True, 'dirac': 2, 'majorana': 0, 'extra_generations': (0, 0), 'n': 9, 'unconditional': False, 'δ': 2}]  \n",
       "7                                                                                                                        [{'active': False, 'dirac': 3, 'majorana': 2, 'extra_generations': (1, 1), 'n': 10, 'unconditional': True, 'δ': 1}]  \n",
       "8                                                                                                                       [{'active': False, 'dirac': 4, 'majorana': 0, 'extra_generations': (1, 0), 'n': 10, 'unconditional': False, 'δ': 1}]  \n",
       "9     [{'active': False, 'dirac': 4, 'majorana': 0, 'extra_generations': (1, 0), 'n': 10, 'unconditional': True, 'δ': 1}, {'active': False, 'dirac': 4, 'majorana': 1, 'extra_generations': (1, 0), 'n': 10, 'unconditional': True, 'δ': 1}]  \n",
       "10  [{'active': False, 'dirac': 4, 'majorana': 2, 'extra_generations': (1, 1), 'n': 10, 'unconditional': False, 'δ': 1}, {'active': False, 'dirac': 4, 'majorana': 0, 'extra_generations': (1, 0), 'n': 10, 'unconditional': False, 'δ': 1}]  \n",
       "11                                                                                                                      [{'active': False, 'dirac': 4, 'majorana': 0, 'extra_generations': (2, 0), 'n': 10, 'unconditional': False, 'δ': 1}]  \n",
       "12                                                                                                                      [{'active': False, 'dirac': 3, 'majorana': 0, 'extra_generations': (1, 0), 'n': 10, 'unconditional': False, 'δ': 2}]  \n",
       "13  [{'active': False, 'dirac': 4, 'majorana': 1, 'extra_generations': (1, 0), 'n': 10, 'unconditional': False, 'δ': 1}, {'active': False, 'dirac': 4, 'majorana': 0, 'extra_generations': (1, 0), 'n': 10, 'unconditional': False, 'δ': 1}]  \n",
       "14                                                                                                                      [{'active': False, 'dirac': 4, 'majorana': 0, 'extra_generations': (0, 0), 'n': 10, 'unconditional': False, 'δ': 1}]  \n",
       "15                                                                                                                      [{'active': False, 'dirac': 4, 'majorana': 0, 'extra_generations': (1, 0), 'n': 10, 'unconditional': False, 'δ': 2}]  \n",
       "16                                                                                                                      [{'active': False, 'dirac': 3, 'majorana': 2, 'extra_generations': (0, 1), 'n': 10, 'unconditional': False, 'δ': 1}]  \n",
       "17                                                                                                                      [{'active': False, 'dirac': 2, 'majorana': 4, 'extra_generations': (0, 3), 'n': 10, 'unconditional': False, 'δ': 1}]  \n",
       "18                                                                                                                       [{'active': False, 'dirac': 4, 'majorana': 0, 'extra_generations': (1, 0), 'n': 10, 'unconditional': True, 'δ': 1}]  \n",
       "19                                                                                                                       [{'active': False, 'dirac': 3, 'majorana': 2, 'extra_generations': (0, 1), 'n': 10, 'unconditional': True, 'δ': 1}]  \n",
       "20                                                                                                                      [{'active': False, 'dirac': 4, 'majorana': 1, 'extra_generations': (0, 0), 'n': 10, 'unconditional': False, 'δ': 1}]  \n",
       "21                                                                                                                      [{'active': False, 'dirac': 4, 'majorana': 2, 'extra_generations': (1, 1), 'n': 10, 'unconditional': False, 'δ': 1}]  \n",
       "22                                                                                                                      [{'active': False, 'dirac': 3, 'majorana': 2, 'extra_generations': (1, 1), 'n': 10, 'unconditional': False, 'δ': 1}]  \n",
       "23                                                                                                                      [{'active': False, 'dirac': 4, 'majorana': 0, 'extra_generations': (0, 0), 'n': 10, 'unconditional': False, 'δ': 2}]  \n",
       "24                                                                                                                       [{'active': False, 'dirac': 4, 'majorana': 0, 'extra_generations': (0, 0), 'n': 10, 'unconditional': True, 'δ': 1}]  \n",
       "25                                                                                                                       [{'active': False, 'dirac': 4, 'majorana': 1, 'extra_generations': (0, 0), 'n': 10, 'unconditional': True, 'δ': 1}]  \n",
       "26                                                                                                                       [{'active': False, 'dirac': 4, 'majorana': 1, 'extra_generations': (1, 0), 'n': 10, 'unconditional': True, 'δ': 1}]  \n",
       "27                                                                                                                      [{'active': False, 'dirac': 4, 'majorana': 1, 'extra_generations': (1, 0), 'n': 10, 'unconditional': False, 'δ': 1}]  \n",
       "28                                                                                                                       [{'active': True, 'dirac': 3, 'majorana': 0, 'extra_generations': (1, 0), 'n': 11, 'unconditional': False, 'δ': 1}]  \n",
       "29                                                                                                                       [{'active': True, 'dirac': 3, 'majorana': 1, 'extra_generations': (0, 0), 'n': 11, 'unconditional': False, 'δ': 1}]  \n",
       "30                                                                                                                       [{'active': True, 'dirac': 2, 'majorana': 2, 'extra_generations': (0, 1), 'n': 11, 'unconditional': False, 'δ': 1}]  \n",
       "31                                                                                                                       [{'active': True, 'dirac': 3, 'majorana': 0, 'extra_generations': (0, 0), 'n': 11, 'unconditional': False, 'δ': 1}]  \n",
       "32                                                                                                                       [{'active': True, 'dirac': 3, 'majorana': 0, 'extra_generations': (0, 0), 'n': 11, 'unconditional': False, 'δ': 2}]  \n",
       "33                                                                                                                       [{'active': True, 'dirac': 3, 'majorana': 0, 'extra_generations': (1, 0), 'n': 11, 'unconditional': False, 'δ': 2}]  \n",
       "34                                                                                                                        [{'active': True, 'dirac': 3, 'majorana': 1, 'extra_generations': (0, 0), 'n': 11, 'unconditional': True, 'δ': 1}]  \n",
       "35                                                                                                                        [{'active': True, 'dirac': 3, 'majorana': 0, 'extra_generations': (0, 0), 'n': 11, 'unconditional': True, 'δ': 1}]  \n",
       "36                                                                                                                        [{'active': True, 'dirac': 2, 'majorana': 2, 'extra_generations': (0, 1), 'n': 11, 'unconditional': True, 'δ': 1}]  \n",
       "37                                                                                                                       [{'active': True, 'dirac': 3, 'majorana': 0, 'extra_generations': (1, 0), 'n': 12, 'unconditional': False, 'δ': 1}]  \n",
       "38                                                                                                                       [{'active': True, 'dirac': 3, 'majorana': 2, 'extra_generations': (0, 1), 'n': 12, 'unconditional': False, 'δ': 1}]  \n",
       "39                                                                                                                       [{'active': True, 'dirac': 2, 'majorana': 3, 'extra_generations': (0, 2), 'n': 12, 'unconditional': False, 'δ': 1}]  \n",
       "40                                                                                                                       [{'active': True, 'dirac': 3, 'majorana': 2, 'extra_generations': (1, 1), 'n': 12, 'unconditional': False, 'δ': 1}]  \n",
       "41                                                                                                                       [{'active': True, 'dirac': 3, 'majorana': 0, 'extra_generations': (0, 0), 'n': 12, 'unconditional': False, 'δ': 1}]  \n",
       "42                                                                                                                       [{'active': True, 'dirac': 3, 'majorana': 1, 'extra_generations': (1, 0), 'n': 12, 'unconditional': False, 'δ': 1}]  \n",
       "43                                                                                                                       [{'active': True, 'dirac': 4, 'majorana': 2, 'extra_generations': (1, 1), 'n': 12, 'unconditional': False, 'δ': 1}]  \n",
       "44                                                                                                                       [{'active': True, 'dirac': 2, 'majorana': 3, 'extra_generations': (0, 2), 'n': 12, 'unconditional': False, 'δ': 2}]  \n",
       "45                                                                                                                       [{'active': True, 'dirac': 3, 'majorana': 1, 'extra_generations': (0, 0), 'n': 12, 'unconditional': False, 'δ': 1}]  "
      ]
     },
     "execution_count": 48,
     "metadata": {},
     "output_type": "execute_result"
    }
   ],
   "source": [
    "fnl"
   ]
  },
  {
   "cell_type": "markdown",
   "metadata": {},
   "source": [
    "__Active symmetry with D-5__\n",
    "\n",
    "\n",
    "From 2 to 3 massive Dirac fermions and until a Majorana massive fermion. In the case of solutions with uncoditional stability for two dark matter candidates, if the solution includes a Majorana massive fermion, it is protected by one of the renmant symmetries. In this case the number of singlet chiral fermions is $n-3=6,8$"
   ]
  },
  {
   "cell_type": "code",
   "execution_count": 49,
   "metadata": {},
   "outputs": [],
   "source": [
    "#fnl[fnl['features'].apply(lambda l: True in [ True for d in l if d.get('active') and d.get('δ')==1 ])].reset_index(drop=True)"
   ]
  },
  {
   "cell_type": "markdown",
   "metadata": {},
   "source": [
    "__Dark symmetry with D-6__\n",
    "\n",
    "From 2 to 4 massive Dirac fermions and until a Majorana massive fermion. In the case of solutions with uncoditional stability for two dark matter candidates, if the solution includes a Majorana massive fermion"
   ]
  },
  {
   "cell_type": "code",
   "execution_count": 50,
   "metadata": {},
   "outputs": [],
   "source": [
    "#fnl[fnl['features'].apply(lambda l: True in [ True for d in l if not d.get('active') and d.get('δ')==2 ])].reset_index(drop=True)"
   ]
  },
  {
   "cell_type": "markdown",
   "metadata": {},
   "source": [
    "__Active symmetry with D-6__"
   ]
  },
  {
   "cell_type": "code",
   "execution_count": 51,
   "metadata": {},
   "outputs": [],
   "source": [
    "#kk=fnl[fnl['features'].apply(lambda l: True in [ True for d in l if d.get('active') and d.get('δ')==2 ])].reset_index(drop=True)"
   ]
  },
  {
   "cell_type": "code",
   "execution_count": 52,
   "metadata": {},
   "outputs": [
    {
     "name": "stdout",
     "output_type": "stream",
     "text": [
      "Populating the interactive namespace from numpy and matplotlib\n"
     ]
    }
   ],
   "source": [
    "%pylab inline\n",
    "df=pd.DataFrame(fnl['features'].str[0].to_list())"
   ]
  },
  {
   "cell_type": "code",
   "execution_count": 56,
   "metadata": {},
   "outputs": [
    {
     "data": {
      "image/png": "[encoded data removed]",
      "text/plain": [
       "<Figure size 648x288 with 1 Axes>"
      ]
     },
     "metadata": {
      "needs_background": "light"
     },
     "output_type": "display_data"
    }
   ],
   "source": [
    "#https://stackoverflow.com/a/34880501\n",
    "#Dark → δ=1\n",
    "from matplotlib.ticker import MaxNLocator\n",
    "#ax = plt.figure(figsize=(4,3)).gca()\n",
    "ax = plt.figure(figsize=(9,4)).gca()\n",
    "ax.plot(df[ ( (df['active']==False) & (df['δ']==1) ) ]['majorana'],\n",
    "         df[ ( (df['active']==False) & (df['δ']==1) ) ]['dirac'],'mo',markersize=30,label=r'$U(1)_D\\ \\rm{and}\\ \\delta=1$')\n",
    "#Active → δ=1\n",
    "ax.plot(df[ ( (df['active']==True) & (df['δ']==1) ) ]['majorana'],\n",
    "         df[ ( (df['active']==True) & (df['δ']==1) ) ]['dirac'],'yo',markersize=25,label=r'$U(1)_X\\ \\rm{and}\\ \\delta=1$')\n",
    "#Dark → δ=2\n",
    "ax.plot(df[ ( (df['active']==False) & (df['δ']==2) ) ]['majorana'],\n",
    "         df[ ( (df['active']==False) & (df['δ']==2) ) ]['dirac'],'go',markersize=20,label=r'$U(1)_D\\ \\rm{and}\\ \\delta=2$')\n",
    "#Active → δ=2\n",
    "ax.plot(df[ ( (df['active']==True) & (df['δ']==2) ) ]['majorana'],\n",
    "         df[ ( (df['active']==True) & (df['δ']==2) ) ]['dirac'],'co',markersize=15,label=r'$U(1)_X\\ \\rm{and}\\ \\delta=2$')\n",
    "\n",
    "\n",
    "#Dark → δ=1 → unconditional\n",
    "ax.plot(df[ ( (df['active']==False) & (df['δ']==1) & (df['unconditional']==True) ) ]['majorana'],\n",
    "         df[ ( (df['active']==False) & (df['δ']==1) & (df['unconditional']==True) ) ]['dirac'],'bo',\n",
    "         markersize=10,label=r'$U(1)_D \\to Z_p\\otimes Z_q\\ \\rm{and}\\ \\delta=1$')\n",
    "#Active → δ=1 → unconditional\n",
    "ax.plot(df[ ( (df['active']==True) & (df['δ']==1) & (df['unconditional']==True) ) ]['majorana'],\n",
    "         df[ ( (df['active']==True) & (df['δ']==1) & (df['unconditional']==True) ) ]['dirac'],'ro',\n",
    "        markersize=5,label=r'$U(1)_X \\to Z_p\\otimes Z_q\\ \\rm{and}\\ \\delta=1$')\n",
    "ax.xaxis.set_major_locator(MaxNLocator(integer=True))\n",
    "ax.yaxis.set_major_locator(MaxNLocator(integer=True))\n",
    "\n",
    "ax.set_xlabel('Number of Majorana fermions',size=15)\n",
    "ax.set_ylabel('Number of Dirac fermions',size=15)\n",
    "ax.set_title('Massive fermions',fontsize=15)\n",
    "\n",
    "ax.set_ylim(0.7,4.3)\n",
    "ax.set_xlim(-0.3,4.3)\n",
    "ax.grid()\n",
    "ax.legend(loc=(1.1,0.2),fontsize=15)#,bbox_to_anchor=(2, 0.5))\n",
    "plt.tight_layout()#rect=(0,0,1.6,1.2))\n",
    "plt.subplots_adjust(right=0.5)\n",
    "plt.savefig('number.pdf')"
   ]
  },
  {
   "cell_type": "code",
   "execution_count": 57,
   "metadata": {},
   "outputs": [],
   "source": [
    "def get_generations(row):\n",
    "    l=list(row['extra_generations'])\n",
    "    if l[0]:\n",
    "        l[0]=l[0]+1\n",
    "    if l[0]==0 and row['dirac']:\n",
    "        l[0]=l[0]+1\n",
    "    if l[1]:\n",
    "        l[1]=l[1]+1\n",
    "    if l[1]==0 and row['majorana']:\n",
    "        l[1]=l[1]+1\n",
    "    return tuple(l)"
   ]
  },
  {
   "cell_type": "code",
   "execution_count": 58,
   "metadata": {},
   "outputs": [],
   "source": [
    "df['generations']=df.apply(get_generations,axis='columns')"
   ]
  },
  {
   "cell_type": "code",
   "execution_count": 61,
   "metadata": {},
   "outputs": [
    {
     "data": {
      "image/png": "[encoded data removed]",
      "text/plain": [
       "<Figure size 648x288 with 1 Axes>"
      ]
     },
     "metadata": {
      "needs_background": "light"
     },
     "output_type": "display_data"
    }
   ],
   "source": [
    "#https://stackoverflow.com/a/34880501\n",
    "#Dark → δ=1\n",
    "from matplotlib.ticker import MaxNLocator\n",
    "ax = plt.figure(figsize=(9,4)).gca()\n",
    "ax.plot(df[ ( (df['active']==False) & (df['δ']==1) ) ]['generations'].str[1],\n",
    "         df[ ( (df['active']==False) & (df['δ']==1) ) ]['generations'].str[0],'mo',markersize=30,label=r'$U(1)_D\\ \\rm{and}\\ \\delta=1$')\n",
    "#Active → δ=1\n",
    "ax.plot(df[ ( (df['active']==True) & (df['δ']==1) ) ]['generations'].str[1],\n",
    "         df[ ( (df['active']==True) & (df['δ']==1) ) ]['generations'].str[0],'yo',markersize=25,label=r'$U(1)_X\\ \\rm{and}\\ \\delta=1$')\n",
    "#Dark → δ=2\n",
    "ax.plot(df[ ( (df['active']==False) & (df['δ']==2) ) ]['generations'].str[1],\n",
    "         df[ ( (df['active']==False) & (df['δ']==2) ) ]['generations'].str[0],'go',markersize=20,label=r'$U(1)_D\\ \\rm{and}\\ \\delta=2$')\n",
    "#Active → δ=2\n",
    "ax.plot(df[ ( (df['active']==True) & (df['δ']==2) ) ]['generations'].str[1],\n",
    "         df[ ( (df['active']==True) & (df['δ']==2) ) ]['generations'].str[0],'co',markersize=15,label=r'$U(1)_X\\ \\rm{and}\\ \\delta=2$')\n",
    "\n",
    "\n",
    "#Dark → δ=1 → unconditional\n",
    "ax.plot(df[ ( (df['active']==False) & (df['δ']==1) & (df['unconditional']==True) ) ]['generations'].str[1],\n",
    "         df[ ( (df['active']==False) & (df['δ']==1) & (df['unconditional']==True) ) ]['generations'].str[0],'bo',\n",
    "         markersize=10,label=r'$U(1)_D \\to Z_p\\otimes Z_q\\ \\rm{and}\\ \\delta=1$')\n",
    "#Active → δ=1 → unconditional\n",
    "ax.plot(df[ ( (df['active']==True) & (df['δ']==1) & (df['unconditional']==True) ) ]['generations'].str[1],\n",
    "         df[ ( (df['active']==True) & (df['δ']==1) & (df['unconditional']==True) ) ]['generations'].str[0],'ro',\n",
    "        markersize=5,label=r'$U(1)_X \\to Z_p\\otimes Z_q\\ \\rm{and}\\ \\delta=1$')\n",
    "ax.xaxis.set_major_locator(MaxNLocator(integer=True))\n",
    "ax.yaxis.set_major_locator(MaxNLocator(integer=True))\n",
    "\n",
    "ax.set_xlabel('Generations of Majorana fermions',size=15)\n",
    "ax.set_ylabel('Generations of Dirac fermions',size=15)\n",
    "ax.set_title('Massive fermions',fontsize=15)\n",
    "\n",
    "ax.set_ylim(0.7,3.3)\n",
    "ax.set_xlim(-0.3,4.3)\n",
    "ax.grid()\n",
    "ax.legend(loc=(1.1,0.2),fontsize=15)\n",
    "plt.tight_layout()#rect=(0,0,1.6,1.2))\n",
    "plt.subplots_adjust(right=0.5)\n",
    "plt.savefig('generation.pdf')"
   ]
  },
  {
   "cell_type": "code",
   "execution_count": 62,
   "metadata": {},
   "outputs": [
    {
     "data": {
      "image/png": "[encoded data removed]",
      "text/plain": [
       "<Figure size 432x288 with 1 Axes>"
      ]
     },
     "metadata": {
      "needs_background": "light"
     },
     "output_type": "display_data"
    }
   ],
   "source": [
    "#https://stackoverflow.com/a/23358722/2268280\n",
    "h=dslt.groupby('n')['nmax'].count()\n",
    "hh=dslt[dslt.effective.str[0].str['δ']==2].groupby('n')['nmax'].count()\n",
    "plt.grid(zorder=0)\n",
    "plt.bar(list(h.keys()),h.values,log=True,zorder=2,label=r'$\\delta=1$')\n",
    "plt.bar(list(hh.keys()),hh.values,log=True,zorder=2,label=r'$\\delta=2$')\n",
    "\n",
    "plt.title('Solutions without massless fermions',fontsize=15)\n",
    "plt.xlabel('$N$ [Number of integers in solutions]',size=15)\n",
    "plt.ylabel('Number of solutions',size=15)\n",
    "plt.legend(loc='best')\n",
    "plt.savefig('solutions.pdf')\n"
   ]
  },
  {
   "cell_type": "code",
   "execution_count": 63,
   "metadata": {},
   "outputs": [
    {
     "data": {
      "text/plain": [
       "(6077, 8)"
      ]
     },
     "execution_count": 63,
     "metadata": {},
     "output_type": "execute_result"
    }
   ],
   "source": [
    "dsp3['effective']=dsp3['solution'].apply(lambda l:condition(l,δ=3))\n",
    "\n",
    "dsp3=dsp3[dsp3['effective'].apply(len)>0].reset_index(drop=True)\n",
    "\n",
    "dsp3['DMs']=dsp3.apply(lambda row: unconditional_stability(row,ZN,check_massless=False)  ,axis='columns')\n",
    "\n",
    "dsp3.shape"
   ]
  },
  {
   "cell_type": "code",
   "execution_count": 60,
   "metadata": {},
   "outputs": [
    {
     "data": {
      "text/html": [
       "<div>\n",
       "<style scoped>\n",
       "    .dataframe tbody tr th:only-of-type {\n",
       "        vertical-align: middle;\n",
       "    }\n",
       "\n",
       "    .dataframe tbody tr th {\n",
       "        vertical-align: top;\n",
       "    }\n",
       "\n",
       "    .dataframe thead th {\n",
       "        text-align: right;\n",
       "    }\n",
       "</style>\n",
       "<table border=\"1\" class=\"dataframe\">\n",
       "  <thead>\n",
       "    <tr style=\"text-align: right;\">\n",
       "      <th></th>\n",
       "      <th>l</th>\n",
       "      <th>k</th>\n",
       "      <th>solution</th>\n",
       "      <th>gcd</th>\n",
       "      <th>n</th>\n",
       "      <th>nmax</th>\n",
       "      <th>effective</th>\n",
       "      <th>DMs</th>\n",
       "    </tr>\n",
       "  </thead>\n",
       "  <tbody>\n",
       "    <tr>\n",
       "      <th>0</th>\n",
       "      <td>[1, -2, -1]</td>\n",
       "      <td>[-4, -9, -5, -3]</td>\n",
       "      <td>[1, -2, 6, 6, 6, -9, -9, -16, 17]</td>\n",
       "      <td>6.0</td>\n",
       "      <td>9</td>\n",
       "      <td>17</td>\n",
       "      <td>[{'m': 6, 'ν': -9, 's': 1, 'massless': [], 'sp': None, 'δ': 3}]</td>\n",
       "      <td>{'None': ()}</td>\n",
       "    </tr>\n",
       "    <tr>\n",
       "      <th>1</th>\n",
       "      <td>[3, -3, 2, 1]</td>\n",
       "      <td>[-2, -1, -3, -6]</td>\n",
       "      <td>[6, 6, 6, -9, -9, 10, -11, -19, 20]</td>\n",
       "      <td>6.0</td>\n",
       "      <td>9</td>\n",
       "      <td>20</td>\n",
       "      <td>[{'m': 6, 'ν': -9, 's': 1, 'massless': [], 'sp': None, 'δ': 3}]</td>\n",
       "      <td>{'None': ()}</td>\n",
       "    </tr>\n",
       "    <tr>\n",
       "      <th>2</th>\n",
       "      <td>[-1, 0, -6, -3]</td>\n",
       "      <td>[-5, 4, 0, -2]</td>\n",
       "      <td>[6, 6, 6, -9, -9, 24, -25, -29, 30]</td>\n",
       "      <td>6.0</td>\n",
       "      <td>9</td>\n",
       "      <td>30</td>\n",
       "      <td>[{'m': 6, 'ν': -9, 's': 1, 'massless': [], 'sp': None, 'δ': 3}]</td>\n",
       "      <td>{'None': ()}</td>\n",
       "    </tr>\n",
       "    <tr>\n",
       "      <th>3</th>\n",
       "      <td>[-2, 0, 1, -3, -1]</td>\n",
       "      <td>[-3, 0, -2, 1, -2]</td>\n",
       "      <td>[5, 5, 5, -6, 7, -8, -8, 11, -12, -17, 18]</td>\n",
       "      <td>2.0</td>\n",
       "      <td>11</td>\n",
       "      <td>18</td>\n",
       "      <td>[{'m': 5, 'ν': -8, 's': 1, 'massless': [], 'sp': None, 'δ': 3}]</td>\n",
       "      <td>{'None': ()}</td>\n",
       "    </tr>\n",
       "    <tr>\n",
       "      <th>4</th>\n",
       "      <td>[-1, 1, -1, 3]</td>\n",
       "      <td>[-3, 0, -3, -4, -3]</td>\n",
       "      <td>[2, -3, -5, -5, -5, 8, 8, -11, 12, 18, -19]</td>\n",
       "      <td>3.0</td>\n",
       "      <td>11</td>\n",
       "      <td>19</td>\n",
       "      <td>[{'m': -5, 'ν': 8, 's': -1, 'massless': [], 'sp': None, 'δ': 3}]</td>\n",
       "      <td>{'None': ()}</td>\n",
       "    </tr>\n",
       "    <tr>\n",
       "      <th>5</th>\n",
       "      <td>[3, -4, -1, 1]</td>\n",
       "      <td>[-1, 0, -3, 0, -3]</td>\n",
       "      <td>[2, -3, -5, -5, -5, 8, 8, -14, 15, 20, -21]</td>\n",
       "      <td>4.0</td>\n",
       "      <td>11</td>\n",
       "      <td>21</td>\n",
       "      <td>[{'m': -5, 'ν': 8, 's': -1, 'massless': [], 'sp': None, 'δ': 3}]</td>\n",
       "      <td>{'None': ()}</td>\n",
       "    </tr>\n",
       "    <tr>\n",
       "      <th>6</th>\n",
       "      <td>[1, -4, -1, 1]</td>\n",
       "      <td>[-3, -2, 0, -3, -4]</td>\n",
       "      <td>[4, -5, 7, 7, 7, -10, -10, 17, -18, -25, 26]</td>\n",
       "      <td>3.0</td>\n",
       "      <td>11</td>\n",
       "      <td>26</td>\n",
       "      <td>[{'m': 7, 'ν': -10, 's': 1, 'massless': [], 'sp': None, 'δ': 3}]</td>\n",
       "      <td>{'None': ()}</td>\n",
       "    </tr>\n",
       "    <tr>\n",
       "      <th>7</th>\n",
       "      <td>[3, -2, -1, 4]</td>\n",
       "      <td>[-2, -3, -1, -2, 4]</td>\n",
       "      <td>[3, -5, 10, 10, 10, -15, -16, -16, 17, -24, 26]</td>\n",
       "      <td>2.0</td>\n",
       "      <td>11</td>\n",
       "      <td>26</td>\n",
       "      <td>[{'m': 10, 'ν': -16, 's': 2, 'massless': [], 'sp': None, 'δ': 3}]</td>\n",
       "      <td>{'None': ()}</td>\n",
       "    </tr>\n",
       "    <tr>\n",
       "      <th>8</th>\n",
       "      <td>[3, 4, -1, 1]</td>\n",
       "      <td>[-1, 0, -3, 0, -3]</td>\n",
       "      <td>[3, -4, 7, 7, 7, -10, -10, 20, -21, -27, 28]</td>\n",
       "      <td>4.0</td>\n",
       "      <td>11</td>\n",
       "      <td>28</td>\n",
       "      <td>[{'m': 7, 'ν': -10, 's': 1, 'massless': [], 'sp': None, 'δ': 3}]</td>\n",
       "      <td>{'None': ()}</td>\n",
       "    </tr>\n",
       "    <tr>\n",
       "      <th>9</th>\n",
       "      <td>[-1, -4, 1, -1]</td>\n",
       "      <td>[-4, -3, 0, 3, 2]</td>\n",
       "      <td>[2, -3, 7, 7, 7, -10, -10, 24, -25, -30, 31]</td>\n",
       "      <td>2.0</td>\n",
       "      <td>11</td>\n",
       "      <td>31</td>\n",
       "      <td>[{'m': 7, 'ν': -10, 's': 1, 'massless': [], 'sp': None, 'δ': 3}]</td>\n",
       "      <td>{'None': ()}</td>\n",
       "    </tr>\n",
       "  </tbody>\n",
       "</table>\n",
       "</div>"
      ],
      "text/plain": [
       "                    l                    k  \\\n",
       "0         [1, -2, -1]     [-4, -9, -5, -3]   \n",
       "1       [3, -3, 2, 1]     [-2, -1, -3, -6]   \n",
       "2     [-1, 0, -6, -3]       [-5, 4, 0, -2]   \n",
       "3  [-2, 0, 1, -3, -1]   [-3, 0, -2, 1, -2]   \n",
       "4      [-1, 1, -1, 3]  [-3, 0, -3, -4, -3]   \n",
       "5      [3, -4, -1, 1]   [-1, 0, -3, 0, -3]   \n",
       "6      [1, -4, -1, 1]  [-3, -2, 0, -3, -4]   \n",
       "7      [3, -2, -1, 4]  [-2, -3, -1, -2, 4]   \n",
       "8       [3, 4, -1, 1]   [-1, 0, -3, 0, -3]   \n",
       "9     [-1, -4, 1, -1]    [-4, -3, 0, 3, 2]   \n",
       "\n",
       "                                          solution  gcd   n  nmax  \\\n",
       "0                [1, -2, 6, 6, 6, -9, -9, -16, 17]  6.0   9    17   \n",
       "1              [6, 6, 6, -9, -9, 10, -11, -19, 20]  6.0   9    20   \n",
       "2              [6, 6, 6, -9, -9, 24, -25, -29, 30]  6.0   9    30   \n",
       "3       [5, 5, 5, -6, 7, -8, -8, 11, -12, -17, 18]  2.0  11    18   \n",
       "4      [2, -3, -5, -5, -5, 8, 8, -11, 12, 18, -19]  3.0  11    19   \n",
       "5      [2, -3, -5, -5, -5, 8, 8, -14, 15, 20, -21]  4.0  11    21   \n",
       "6     [4, -5, 7, 7, 7, -10, -10, 17, -18, -25, 26]  3.0  11    26   \n",
       "7  [3, -5, 10, 10, 10, -15, -16, -16, 17, -24, 26]  2.0  11    26   \n",
       "8     [3, -4, 7, 7, 7, -10, -10, 20, -21, -27, 28]  4.0  11    28   \n",
       "9     [2, -3, 7, 7, 7, -10, -10, 24, -25, -30, 31]  2.0  11    31   \n",
       "\n",
       "                                                           effective  \\\n",
       "0    [{'m': 6, 'ν': -9, 's': 1, 'massless': [], 'sp': None, 'δ': 3}]   \n",
       "1    [{'m': 6, 'ν': -9, 's': 1, 'massless': [], 'sp': None, 'δ': 3}]   \n",
       "2    [{'m': 6, 'ν': -9, 's': 1, 'massless': [], 'sp': None, 'δ': 3}]   \n",
       "3    [{'m': 5, 'ν': -8, 's': 1, 'massless': [], 'sp': None, 'δ': 3}]   \n",
       "4   [{'m': -5, 'ν': 8, 's': -1, 'massless': [], 'sp': None, 'δ': 3}]   \n",
       "5   [{'m': -5, 'ν': 8, 's': -1, 'massless': [], 'sp': None, 'δ': 3}]   \n",
       "6   [{'m': 7, 'ν': -10, 's': 1, 'massless': [], 'sp': None, 'δ': 3}]   \n",
       "7  [{'m': 10, 'ν': -16, 's': 2, 'massless': [], 'sp': None, 'δ': 3}]   \n",
       "8   [{'m': 7, 'ν': -10, 's': 1, 'massless': [], 'sp': None, 'δ': 3}]   \n",
       "9   [{'m': 7, 'ν': -10, 's': 1, 'massless': [], 'sp': None, 'δ': 3}]   \n",
       "\n",
       "            DMs  \n",
       "0  {'None': ()}  \n",
       "1  {'None': ()}  \n",
       "2  {'None': ()}  \n",
       "3  {'None': ()}  \n",
       "4  {'None': ()}  \n",
       "5  {'None': ()}  \n",
       "6  {'None': ()}  \n",
       "7  {'None': ()}  \n",
       "8  {'None': ()}  \n",
       "9  {'None': ()}  "
      ]
     },
     "execution_count": 60,
     "metadata": {},
     "output_type": "execute_result"
    }
   ],
   "source": [
    "dsp3[dsp3['effective'].apply(lambda l: [d for d in l if not d.get('massless')]).apply(len)>0].reset_index(drop=True)"
   ]
  },
  {
   "cell_type": "code",
   "execution_count": 61,
   "metadata": {},
   "outputs": [
    {
     "data": {
      "text/plain": [
       "(3171, 7)"
      ]
     },
     "execution_count": 61,
     "metadata": {},
     "output_type": "execute_result"
    }
   ],
   "source": [
    "dsp4['effective']=dsp4['solution'].apply(lambda l:condition(l,δ=4))\n",
    "\n",
    "dsp4=dsp4[dsp4['effective'].apply(len)>0].reset_index(drop=True)\n",
    "\n",
    "#dsp4['DMs']=dsp4.apply(lambda row: unconditional_stability(row,ZN,check_massless=False)  ,axis='columns')\n",
    "\n",
    "dsp4.shape"
   ]
  },
  {
   "cell_type": "code",
   "execution_count": 62,
   "metadata": {},
   "outputs": [
    {
     "data": {
      "text/html": [
       "<div>\n",
       "<style scoped>\n",
       "    .dataframe tbody tr th:only-of-type {\n",
       "        vertical-align: middle;\n",
       "    }\n",
       "\n",
       "    .dataframe tbody tr th {\n",
       "        vertical-align: top;\n",
       "    }\n",
       "\n",
       "    .dataframe thead th {\n",
       "        text-align: right;\n",
       "    }\n",
       "</style>\n",
       "<table border=\"1\" class=\"dataframe\">\n",
       "  <thead>\n",
       "    <tr style=\"text-align: right;\">\n",
       "      <th></th>\n",
       "      <th>l</th>\n",
       "      <th>k</th>\n",
       "      <th>solution</th>\n",
       "      <th>gcd</th>\n",
       "      <th>n</th>\n",
       "      <th>nmax</th>\n",
       "      <th>effective</th>\n",
       "    </tr>\n",
       "  </thead>\n",
       "  <tbody>\n",
       "    <tr>\n",
       "      <th>0</th>\n",
       "      <td>[-1, 0, -3, -2, 1]</td>\n",
       "      <td>[-1, 0, -1, 1, -2]</td>\n",
       "      <td>[3, -4, -5, -5, -5, 6, -7, 9, 9, 17, -18]</td>\n",
       "      <td>2.0</td>\n",
       "      <td>11</td>\n",
       "      <td>18</td>\n",
       "      <td>[{'m': -5, 'ν': 9, 's': -1, 'massless': [], 'sp': None, 'δ': 4}]</td>\n",
       "    </tr>\n",
       "    <tr>\n",
       "      <th>1</th>\n",
       "      <td>[-1, 3, -1, 1]</td>\n",
       "      <td>[-1, -2, -4, 0, 4]</td>\n",
       "      <td>[4, -5, 7, -8, 9, 9, 9, -13, -13, -28, 29]</td>\n",
       "      <td>4.0</td>\n",
       "      <td>11</td>\n",
       "      <td>29</td>\n",
       "      <td>[{'m': 9, 'ν': -13, 's': 1, 'massless': [], 'sp': None, 'δ': 4}]</td>\n",
       "    </tr>\n",
       "  </tbody>\n",
       "</table>\n",
       "</div>"
      ],
      "text/plain": [
       "                    l                   k  \\\n",
       "0  [-1, 0, -3, -2, 1]  [-1, 0, -1, 1, -2]   \n",
       "1      [-1, 3, -1, 1]  [-1, -2, -4, 0, 4]   \n",
       "\n",
       "                                     solution  gcd   n  nmax  \\\n",
       "0   [3, -4, -5, -5, -5, 6, -7, 9, 9, 17, -18]  2.0  11    18   \n",
       "1  [4, -5, 7, -8, 9, 9, 9, -13, -13, -28, 29]  4.0  11    29   \n",
       "\n",
       "                                                          effective  \n",
       "0  [{'m': -5, 'ν': 9, 's': -1, 'massless': [], 'sp': None, 'δ': 4}]  \n",
       "1  [{'m': 9, 'ν': -13, 's': 1, 'massless': [], 'sp': None, 'δ': 4}]  "
      ]
     },
     "execution_count": 62,
     "metadata": {},
     "output_type": "execute_result"
    }
   ],
   "source": [
    "dsp4[dsp4['effective'].apply(lambda l: [d for d in l if not d.get('massless')]).apply(len)>0].reset_index(drop=True)"
   ]
  },
  {
   "cell_type": "markdown",
   "metadata": {},
   "source": [
    "# LaTeX table"
   ]
  },
  {
   "cell_type": "code",
   "execution_count": 230,
   "metadata": {},
   "outputs": [],
   "source": [
    "tm=fnl.copy()\n",
    "tm['uncstab']=fnl['DMs'].apply(lambda d: 'ψ' in d.keys() and 'χ' in d.keys())"
   ]
  },
  {
   "cell_type": "code",
   "execution_count": 246,
   "metadata": {},
   "outputs": [],
   "source": [
    "tm['N']=tm.apply(lambda row: row['n']-3 if row['effective'][0]['m']!=0 else row['n'],axis='columns')"
   ]
  },
  {
   "cell_type": "code",
   "execution_count": 262,
   "metadata": {},
   "outputs": [
    {
     "data": {
      "text/plain": [
       "[6,\n",
       " 10,\n",
       " 14,\n",
       " 15,\n",
       " 21,\n",
       " 22,\n",
       " 26,\n",
       " 33,\n",
       " 34,\n",
       " 35,\n",
       " 38,\n",
       " 39,\n",
       " 46,\n",
       " 51,\n",
       " 55,\n",
       " 57,\n",
       " 58,\n",
       " 62,\n",
       " 65,\n",
       " 69,\n",
       " 77,\n",
       " 85,\n",
       " 87,\n",
       " 91,\n",
       " 93,\n",
       " 95,\n",
       " 115,\n",
       " 119,\n",
       " 133,\n",
       " 143,\n",
       " 145,\n",
       " 155,\n",
       " 161,\n",
       " 187,\n",
       " 203,\n",
       " 209,\n",
       " 217,\n",
       " 221,\n",
       " 247,\n",
       " 253,\n",
       " 299,\n",
       " 319,\n",
       " 323,\n",
       " 341,\n",
       " 377,\n",
       " 391,\n",
       " 403,\n",
       " 437,\n",
       " 493,\n",
       " 527,\n",
       " 551,\n",
       " 589,\n",
       " 667,\n",
       " 713,\n",
       " 899]"
      ]
     },
     "execution_count": 262,
     "metadata": {},
     "output_type": "execute_result"
    }
   ],
   "source": [
    "Zpq"
   ]
  },
  {
   "cell_type": "code",
   "execution_count": 273,
   "metadata": {},
   "outputs": [],
   "source": [
    "tm['effective']=tm.apply(lambda row: [d for d in row['effective'] if abs(d.get('s')) in Zpq ] \n",
    "            if [d for d in row['effective'] if abs(d.get('s')) in Zpq ] else row['effective'] \n",
    "         ,axis='columns')"
   ]
  },
  {
   "cell_type": "code",
   "execution_count": 274,
   "metadata": {},
   "outputs": [],
   "source": [
    "tm['m']=tm['effective'].str[0].str['m']\n",
    "tm[r'\\nu']=tm['effective'].str[0].str['ν']\n",
    "tm['s']=tm['effective'].str[0].str['s']\n",
    "tm[r'\\delta']=tm['effective'].str[0].str['δ']"
   ]
  },
  {
   "cell_type": "code",
   "execution_count": 275,
   "metadata": {},
   "outputs": [],
   "source": [
    "import re\n",
    "def add_boldsymbol(ss):\n",
    "    if str(ss).find(r'\\boldsymbol')==-1:\n",
    "        return re.sub('(\\-*[0-9]+)',r'\\\\boldsymbol{\\1}',str(ss))\n",
    "    else:\n",
    "        return ss"
   ]
  },
  {
   "cell_type": "code",
   "execution_count": 276,
   "metadata": {},
   "outputs": [],
   "source": [
    "kk=tm[['solution','N','m',r'\\nu',r'\\delta','s','uncstab']].copy()"
   ]
  },
  {
   "cell_type": "code",
   "execution_count": 278,
   "metadata": {},
   "outputs": [],
   "source": [
    "for i in kk.index:\n",
    "    #for s in ['DD','DM','XD','XM']:\n",
    "    kk['s']=kk.apply(lambda row: add_boldsymbol(row['s']) if row['uncstab'] else row['s'],axis='columns' )    \n",
    "\n",
    "kkk=kk.drop('uncstab',axis='columns')#[['n','l','k','solution','gcd']]#Ref','DD','DM','XD','XM']]\n",
    "def f(x):\n",
    "    return  r'{}'.format(str(x).replace('[','(').replace(']',')'))\n",
    "\n",
    "kkk.to_latex('solutions.tex',index=False,formatters=dict( [(k,f) for k in kk.columns ]) ,escape=False  )"
   ]
  },
  {
   "cell_type": "code",
   "execution_count": 279,
   "metadata": {},
   "outputs": [
    {
     "name": "stdout",
     "output_type": "stream",
     "text": [
      "\\begin{tabular}{lrrrrl}\n",
      "\\toprule\n",
      "                                           solution &  N &   m & \\nu & \\delta &                s \\\\\n",
      "\\midrule\n",
      "                              (1, -2, -3, 5, 5, -6) &  6 &   0 &   5 &      1 &               -5 \\\\\n",
      "                           (3, 3, 3, -5, -5, -7, 8) &  4 &   3 &  -5 &      2 &                1 \\\\\n",
      "                   (1, 2, -6, -6, -6, 8, 9, 9, -11) &  6 &  -6 &   9 &      1 &               -3 \\\\\n",
      "                (1, -3, 8, 8, 8, -12, -12, -17, 19) &  6 &   8 & -12 &      2 &                2 \\\\\n",
      "              (8, 8, 8, -12, -12, 15, -17, -23, 25) &  6 &   8 & -12 &      2 &                2 \\\\\n",
      "                (1, -2, -2, 3, 3, -4, -4, 6, 6, -7) & 10 &   0 &   6 &      1 &  \\boldsymbol{-6} \\\\\n",
      "                (1, -2, -2, 3, 4, -5, -5, 7, 7, -8) & 10 &   0 &  -5 &      1 &                5 \\\\\n",
      "                (1, -2, -2, 3, 5, -6, -6, 8, 8, -9) & 10 &   0 &  -6 &      1 &   \\boldsymbol{6} \\\\\n",
      "                 (2, 2, 3, 4, 4, -5, -6, -6, -7, 9) & 10 &   0 &   2 &      1 &               -2 \\\\\n",
      "               (2, 2, 4, 4, -7, -7, -9, -9, 10, 10) & 10 &   0 &  10 &      2 &               -5 \\\\\n",
      "                (1, 2, 2, -3, 6, 6, -8, -8, -9, 11) & 10 &   0 &  -8 &      1 &                8 \\\\\n",
      "             (1, -2, -3, 5, 6, -8, -9, 11, 11, -12) & 10 &   0 &  11 &      1 &              -11 \\\\\n",
      "              (1, 1, -3, 4, 4, -7, 8, -10, -10, 12) & 10 &   0 & -10 &      2 &                5 \\\\\n",
      "            (1, 1, -2, -2, -4, 6, -10, 11, 12, -13) & 10 &   0 &  -2 &      1 &                2 \\\\\n",
      "               (3, 4, 4, 4, 4, -5, -8, -8, -11, 13) & 10 &   0 &  -8 &      1 &                8 \\\\\n",
      "             (4, 4, 5, 6, 6, -9, -10, -10, -11, 15) & 10 &   0 &   6 &      1 &  \\boldsymbol{-6} \\\\\n",
      "           (1, -2, -4, 7, 7, -10, -12, 14, 14, -15) & 10 &   0 &  14 &      1 & \\boldsymbol{-14} \\\\\n",
      "             (1, 2, 2, -3, 4, -6, 12, -13, -14, 15) & 10 &   0 &   2 &      1 &               -2 \\\\\n",
      "              (1, 4, 4, -7, 8, 8, -9, -12, -12, 15) & 10 &   0 &   8 &      1 &               -8 \\\\\n",
      "            (1, 2, 2, -9, -9, 16, 16, 17, -18, -18) & 10 &   0 & -18 &      1 &               18 \\\\\n",
      "          (1, -3, -6, 7, -10, 11, -16, 18, 18, -20) & 10 &   0 &  18 &      2 &               -9 \\\\\n",
      "           (1, -4, 5, -6, -6, 10, -14, 15, 20, -21) & 10 &   0 &  -6 &      1 &   \\boldsymbol{6} \\\\\n",
      "          (2, -3, -6, 7, 12, -14, -14, 17, 20, -21) & 10 &   0 & -14 &      1 &  \\boldsymbol{14} \\\\\n",
      "             (3, 6, 6, -7, 8, 8, -14, -14, -17, 21) & 10 &   0 & -14 &      1 &  \\boldsymbol{14} \\\\\n",
      "          (8, 8, 9, 10, 10, -13, -18, -18, -27, 31) & 10 &   0 & -18 &      1 &               18 \\\\\n",
      "             (1, 1, 1, -2, -2, -5, -5, 6, 6, 7, -8) &  8 &   1 &  -2 &      1 &                1 \\\\\n",
      "            (1, -2, -2, -2, -3, 4, 4, -5, 6, 7, -8) &  8 &  -2 &   4 &      1 &               -2 \\\\\n",
      "             (1, 1, 2, 2, 2, -4, -4, 7, -8, -9, 10) &  8 &   2 &  -4 &      1 &                2 \\\\\n",
      "           (2, 2, 2, -4, -4, -5, 7, -8, 9, 10, -11) &  8 &   2 &  -4 &      1 &                2 \\\\\n",
      "          (1, -2, -3, -3, -3, 5, 5, -7, 8, 10, -11) &  8 &  -3 &   5 &      2 &               -1 \\\\\n",
      "            (3, 3, 3, -4, -4, 7, 7, -8, -9, -9, 11) &  8 &   3 &  -9 &      2 &                3 \\\\\n",
      "          (1, 3, 5, -6, -6, -6, 8, -9, 12, 12, -14) &  8 &  -6 &  12 &      1 &  \\boldsymbol{-6} \\\\\n",
      "          (1, -2, 6, 6, 6, -7, 8, -9, -12, -12, 15) &  8 &   6 & -12 &      1 &   \\boldsymbol{6} \\\\\n",
      "          (1, 3, 3, 6, 6, 6, -7, -10, -12, -12, 16) &  8 &   6 & -12 &      1 &   \\boldsymbol{6} \\\\\n",
      "         (1, -2, -2, -2, 3, 3, 4, 4, -5, -5, -5, 6) &  9 &  -5 &  -2 &      1 &                7 \\\\\n",
      "         (1, 1, -3, 4, 5, 5, 5, -6, -7, -7, -8, 10) &  9 &   5 &  -7 &      1 &                2 \\\\\n",
      "         (1, 1, 1, -2, 4, -7, -7, -7, 8, 9, 9, -10) &  9 &  -7 &   9 &      1 &               -2 \\\\\n",
      "        (1, 1, -3, -3, -5, -5, -5, 7, 7, 7, 9, -11) &  9 &  -5 &   7 &      1 &               -2 \\\\\n",
      "     (1, -3, -3, -3, 4, 6, 7, 9, -10, -10, -10, 12) &  9 &  -3 & -10 &      1 &               13 \\\\\n",
      "       (1, 1, 1, 3, 3, -5, 7, 7, -11, -11, -11, 15) &  9 &   1 & -11 &      1 &               10 \\\\\n",
      "  (1, -2, -2, 3, 6, -10, -10, -10, 13, 14, 14, -17) &  9 & -10 &  14 &      1 &               -4 \\\\\n",
      "       (1, 1, 1, 5, 5, 5, -9, -9, 11, -13, -17, 19) &  9 &   5 &  -9 &      2 &                2 \\\\\n",
      "(1, -3, 9, -11, -13, -13, -13, 15, 15, 15, 21, -23) &  9 & -13 &  15 &      1 &               -2 \\\\\n",
      "\\bottomrule\n",
      "\\end{tabular}\n"
     ]
    }
   ],
   "source": [
    "cat solutions.tex"
   ]
  },
  {
   "cell_type": "code",
   "execution_count": null,
   "metadata": {},
   "outputs": [],
   "source": []
  }
 ],
 "metadata": {
  "colab": {
   "collapsed_sections": [],
   "include_colab_link": true,
   "name": "Type-II Dark Dirac Seesaw.ipynb",
   "provenance": []
  },
  "kernelspec": {
   "display_name": "Python 3 (ipykernel)",
   "language": "python",
   "name": "python3"
  },
  "language_info": {
   "codemirror_mode": {
    "name": "ipython",
    "version": 3
   },
   "file_extension": ".py",
   "mimetype": "text/x-python",
   "name": "python",
   "nbconvert_exporter": "python",
   "pygments_lexer": "ipython3",
   "version": "3.7.3"
  }
 },
 "nbformat": 4,
 "nbformat_minor": 4
}
