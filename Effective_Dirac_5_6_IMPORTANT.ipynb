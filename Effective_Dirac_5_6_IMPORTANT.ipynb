{
 "cells": [
  {
   "cell_type": "markdown",
   "metadata": {
    "colab_type": "text",
    "id": "view-in-github"
   },
   "source": [
    "<a href=\"https://colab.research.google.com/github/restrepo/anomaly/blob/main/Type_II_Dirac_Seesaw.ipynb\" target=\"_parent\"><img src=\"https://colab.research.google.com/assets/colab-badge.svg\" alt=\"Open In Colab\"/></a>"
   ]
  },
  {
   "cell_type": "markdown",
   "metadata": {
    "id": "tlDEHLH6KCEM"
   },
   "source": [
    "# Solutions for effective Dirac neutrino masses from an Abelian Gauge Symmetry with massive chiral singlet fermions\n",
    "For details see [arXiv:2108.05907](https://arxiv.org/pdf/2108.05907), Sec. 3.2\n",
    "\n",
    "## Data Scheme\n",
    "![img](https://raw.githubusercontent.com/restrepo/anomaly/main/schema.svg)"
   ]
  },
  {
   "cell_type": "code",
   "execution_count": 1,
   "metadata": {
    "id": "GYaKHGh7KCEP"
   },
   "outputs": [],
   "source": [
    "import pandas as pd\n",
    "import numpy as np\n",
    "import itertools"
   ]
  },
  {
   "cell_type": "code",
   "execution_count": 2,
   "metadata": {
    "id": "8cimVm9vOC64"
   },
   "outputs": [],
   "source": [
    "pd.set_option('display.max_colwidth',500)"
   ]
  },
  {
   "cell_type": "markdown",
   "metadata": {
    "id": "naEIRR7wKCER"
   },
   "source": [
    "### Load full solutions"
   ]
  },
  {
   "cell_type": "code",
   "execution_count": 3,
   "metadata": {
    "colab": {
     "base_uri": "https://localhost:8080/"
    },
    "id": "d-RviMb0KCER",
    "outputId": "dde4279b-5e65-4ca5-8a45-d1d56968b2e0"
   },
   "outputs": [
    {
     "data": {
      "text/plain": [
       "(390074, 5)"
      ]
     },
     "execution_count": 3,
     "metadata": {},
     "output_type": "execute_result"
    }
   ],
   "source": [
    "ds=pd.read_json('https://github.com/restrepo/anomaly/raw/main/solutions.json.gz')\n",
    "ds.shape"
   ]
  },
  {
   "cell_type": "markdown",
   "metadata": {},
   "source": [
    "Build new `n=10,11,12` solutions"
   ]
  },
  {
   "cell_type": "code",
   "execution_count": 4,
   "metadata": {},
   "outputs": [
    {
     "name": "stdout",
     "output_type": "stream",
     "text": [
      "5 5\n",
      "5 6\n",
      "5 7\n",
      "6 6\n"
     ]
    }
   ],
   "source": [
    "z=pd.Series(dtype=float)\n",
    "for i in range(5,9):\n",
    "    for j in range(5,9):\n",
    "        if i+j>12 or i>j:\n",
    "            continue\n",
    "        print(i,j)\n",
    "        x=ds[ds['n']==i]['solution'].reset_index(drop=True)\n",
    "        y=ds[ds['n']==j]['solution'].reset_index(drop=True)\n",
    "        for k in y.index:\n",
    "            z=z.append(x.apply( lambda l: l+y.loc[k] ).apply(lambda l: sorted(l,key=abs))).reset_index(drop=True)"
   ]
  },
  {
   "cell_type": "code",
   "execution_count": 5,
   "metadata": {},
   "outputs": [],
   "source": [
    "df=pd.DataFrame()\n",
    "df['solution']=z"
   ]
  },
  {
   "cell_type": "code",
   "execution_count": 6,
   "metadata": {},
   "outputs": [],
   "source": [
    "df=df[~df['solution'].astype(str).duplicated()].reset_index(drop=True)"
   ]
  },
  {
   "cell_type": "code",
   "execution_count": 7,
   "metadata": {},
   "outputs": [],
   "source": [
    "df['n']=df['solution'].apply(lambda l: len(l))"
   ]
  },
  {
   "cell_type": "code",
   "execution_count": 14,
   "metadata": {},
   "outputs": [],
   "source": [
    "ds=ds.append(df).reset_index(drop=True)"
   ]
  },
  {
   "cell_type": "code",
   "execution_count": 77,
   "metadata": {},
   "outputs": [],
   "source": [
    "for k in ['l','k']:\n",
    "    ds[k]=ds[k].apply(lambda f: [] if isinstance(f,float) else f)"
   ]
  },
  {
   "cell_type": "code",
   "execution_count": 79,
   "metadata": {},
   "outputs": [],
   "source": [
    "ds=ds[~ds['solution'].astype(str).duplicated()].reset_index(drop=True)"
   ]
  },
  {
   "cell_type": "code",
   "execution_count": 80,
   "metadata": {},
   "outputs": [
    {
     "data": {
      "text/plain": [
       "(413572, 5)"
      ]
     },
     "execution_count": 80,
     "metadata": {},
     "output_type": "execute_result"
    }
   ],
   "source": [
    "ds.shape"
   ]
  },
  {
   "cell_type": "markdown",
   "metadata": {
    "id": "cHys6MYEOC68"
   },
   "source": [
    "## Filter two set of repeated charges\n",
    "with one of them repeated 3 times\n",
    "$$(\\nu,\\nu[,\\nu],\\psi_1,\\psi_2,\\cdots)$$\n"
   ]
  },
  {
   "cell_type": "code",
   "execution_count": 20,
   "metadata": {
    "colab": {
     "base_uri": "https://localhost:8080/"
    },
    "id": "ByzN9LCDKCEU",
    "outputId": "a576876a-2024-46e5-9d90-bc73534c197e"
   },
   "outputs": [
    {
     "data": {
      "text/plain": [
       "(296884, 5)"
      ]
     },
     "execution_count": 20,
     "metadata": {},
     "output_type": "execute_result"
    }
   ],
   "source": [
    "#at least one set of repeated numbers\n",
    "dsp=ds[ds['solution'].apply(lambda l: len(l)-len(set(l))>0)].reset_index(drop=True)\n",
    "dsp.shape"
   ]
  },
  {
   "cell_type": "markdown",
   "metadata": {
    "id": "cthph7K1SlI9"
   },
   "source": [
    "Some reordering"
   ]
  },
  {
   "cell_type": "code",
   "execution_count": 21,
   "metadata": {
    "colab": {
     "base_uri": "https://localhost:8080/",
     "height": 171
    },
    "id": "WZw5N5CVSqhj",
    "outputId": "0d2761c9-27d3-45ba-a8dc-f9a817e7a6de"
   },
   "outputs": [
    {
     "data": {
      "text/html": [
       "<div>\n",
       "<style scoped>\n",
       "    .dataframe tbody tr th:only-of-type {\n",
       "        vertical-align: middle;\n",
       "    }\n",
       "\n",
       "    .dataframe tbody tr th {\n",
       "        vertical-align: top;\n",
       "    }\n",
       "\n",
       "    .dataframe thead th {\n",
       "        text-align: right;\n",
       "    }\n",
       "</style>\n",
       "<table border=\"1\" class=\"dataframe\">\n",
       "  <thead>\n",
       "    <tr style=\"text-align: right;\">\n",
       "      <th></th>\n",
       "      <th>l</th>\n",
       "      <th>k</th>\n",
       "      <th>solution</th>\n",
       "      <th>gcd</th>\n",
       "      <th>n</th>\n",
       "      <th>nmax</th>\n",
       "    </tr>\n",
       "  </thead>\n",
       "  <tbody>\n",
       "    <tr>\n",
       "      <th>0</th>\n",
       "      <td>[-1, -2]</td>\n",
       "      <td>[-1, 2]</td>\n",
       "      <td>[1, 1, 1, -4, -4, 5]</td>\n",
       "      <td>1.0</td>\n",
       "      <td>6</td>\n",
       "      <td>5</td>\n",
       "    </tr>\n",
       "    <tr>\n",
       "      <th>1</th>\n",
       "      <td>[-1, 1]</td>\n",
       "      <td>[-2, 0]</td>\n",
       "      <td>[1, -2, -3, 5, 5, -6]</td>\n",
       "      <td>1.0</td>\n",
       "      <td>6</td>\n",
       "      <td>6</td>\n",
       "    </tr>\n",
       "    <tr>\n",
       "      <th>2</th>\n",
       "      <td>[0, 1]</td>\n",
       "      <td>[-1, -3, 1]</td>\n",
       "      <td>[1, 1, 5, -9, -9, 11]</td>\n",
       "      <td>2.0</td>\n",
       "      <td>6</td>\n",
       "      <td>11</td>\n",
       "    </tr>\n",
       "    <tr>\n",
       "      <th>3</th>\n",
       "      <td>[1, -2]</td>\n",
       "      <td>[-4, 1]</td>\n",
       "      <td>[1, -4, -4, 9, 9, -11]</td>\n",
       "      <td>3.0</td>\n",
       "      <td>6</td>\n",
       "      <td>11</td>\n",
       "    </tr>\n",
       "    <tr>\n",
       "      <th>4</th>\n",
       "      <td>[-2, -1]</td>\n",
       "      <td>[-2, -3]</td>\n",
       "      <td>[2, 2, 3, -8, -12, 13]</td>\n",
       "      <td>1.0</td>\n",
       "      <td>6</td>\n",
       "      <td>13</td>\n",
       "    </tr>\n",
       "    <tr>\n",
       "      <th>...</th>\n",
       "      <td>...</td>\n",
       "      <td>...</td>\n",
       "      <td>...</td>\n",
       "      <td>...</td>\n",
       "      <td>...</td>\n",
       "      <td>...</td>\n",
       "    </tr>\n",
       "    <tr>\n",
       "      <th>296879</th>\n",
       "      <td>[]</td>\n",
       "      <td>[]</td>\n",
       "      <td>[2, 2, 4, 4, 13, 13, -22, -22, -29, -29, 32, 32]</td>\n",
       "      <td>NaN</td>\n",
       "      <td>12</td>\n",
       "      <td>32</td>\n",
       "    </tr>\n",
       "    <tr>\n",
       "      <th>296880</th>\n",
       "      <td>[]</td>\n",
       "      <td>[]</td>\n",
       "      <td>[1, 2, 4, 4, 13, 14, -22, -22, -28, -29, 31, 32]</td>\n",
       "      <td>NaN</td>\n",
       "      <td>12</td>\n",
       "      <td>32</td>\n",
       "    </tr>\n",
       "    <tr>\n",
       "      <th>296881</th>\n",
       "      <td>[]</td>\n",
       "      <td>[]</td>\n",
       "      <td>[2, 4, 13, 17, -18, -22, -22, 25, 25, -27, -29, 32]</td>\n",
       "      <td>NaN</td>\n",
       "      <td>12</td>\n",
       "      <td>32</td>\n",
       "    </tr>\n",
       "    <tr>\n",
       "      <th>296882</th>\n",
       "      <td>[]</td>\n",
       "      <td>[]</td>\n",
       "      <td>[8, -13, -17, 17, -18, -22, 25, 25, 27, 27, -27, -32]</td>\n",
       "      <td>NaN</td>\n",
       "      <td>12</td>\n",
       "      <td>32</td>\n",
       "    </tr>\n",
       "    <tr>\n",
       "      <th>296883</th>\n",
       "      <td>[]</td>\n",
       "      <td>[]</td>\n",
       "      <td>[5, -6, 17, -18, -22, -24, 25, 25, 27, -27, 30, -32]</td>\n",
       "      <td>NaN</td>\n",
       "      <td>12</td>\n",
       "      <td>32</td>\n",
       "    </tr>\n",
       "  </tbody>\n",
       "</table>\n",
       "<p>296884 rows × 6 columns</p>\n",
       "</div>"
      ],
      "text/plain": [
       "               l            k  \\\n",
       "0       [-1, -2]      [-1, 2]   \n",
       "1        [-1, 1]      [-2, 0]   \n",
       "2         [0, 1]  [-1, -3, 1]   \n",
       "3        [1, -2]      [-4, 1]   \n",
       "4       [-2, -1]     [-2, -3]   \n",
       "...          ...          ...   \n",
       "296879        []           []   \n",
       "296880        []           []   \n",
       "296881        []           []   \n",
       "296882        []           []   \n",
       "296883        []           []   \n",
       "\n",
       "                                                     solution  gcd   n  nmax  \n",
       "0                                        [1, 1, 1, -4, -4, 5]  1.0   6     5  \n",
       "1                                       [1, -2, -3, 5, 5, -6]  1.0   6     6  \n",
       "2                                       [1, 1, 5, -9, -9, 11]  2.0   6    11  \n",
       "3                                      [1, -4, -4, 9, 9, -11]  3.0   6    11  \n",
       "4                                      [2, 2, 3, -8, -12, 13]  1.0   6    13  \n",
       "...                                                       ...  ...  ..   ...  \n",
       "296879       [2, 2, 4, 4, 13, 13, -22, -22, -29, -29, 32, 32]  NaN  12    32  \n",
       "296880       [1, 2, 4, 4, 13, 14, -22, -22, -28, -29, 31, 32]  NaN  12    32  \n",
       "296881    [2, 4, 13, 17, -18, -22, -22, 25, 25, -27, -29, 32]  NaN  12    32  \n",
       "296882  [8, -13, -17, 17, -18, -22, 25, 25, 27, 27, -27, -32]  NaN  12    32  \n",
       "296883   [5, -6, 17, -18, -22, -24, 25, 25, 27, -27, 30, -32]  NaN  12    32  \n",
       "\n",
       "[296884 rows x 6 columns]"
      ]
     },
     "execution_count": 21,
     "metadata": {},
     "output_type": "execute_result"
    }
   ],
   "source": [
    "dsp['nmax']=dsp['solution'].apply(lambda l: map(abs,l)).apply(max)\n",
    "dsp=dsp.sort_values(['n','nmax']).reset_index(drop=True)\n",
    "dsp2=dsp.copy()\n",
    "#Show the first and last one solutions\n",
    "dsp#.iloc[[0,1,2,-1]]"
   ]
  },
  {
   "cell_type": "markdown",
   "metadata": {
    "id": "pJzdUkReKCEU"
   },
   "source": [
    "## 1. Check effective conditions\n",
    "\n",
    "$$ \\nu+m+\\delta s=0$$\n",
    "\n",
    "$$ \\psi_i+\\psi_j=|s|$$"
   ]
  },
  {
   "cell_type": "code",
   "execution_count": 22,
   "metadata": {
    "id": "x1fCNcB0OC7B"
   },
   "outputs": [],
   "source": [
    "def get_massless(l,s,rank=True):\n",
    "    if len(l)==0:\n",
    "        return []\n",
    "    elif len(l)==1:\n",
    "        mssls=[(l[0],l[0])]\n",
    "    elif len(l)==2:\n",
    "        mssls=[tuple(l)]\n",
    "    else:\n",
    "        mssls=set([x for x in itertools.permutations(l,2) if x[0]<=x[1] ])\n",
    "    xs=[]\n",
    "    massless=[] # zero eigenvalues when rank is not enough\n",
    "    for x in mssls:\n",
    "        if abs(x[0]+x[1])==abs(s):\n",
    "            xs.append(x)  # ←→ xs=[ x for x in mssls if abs(x[0]+x[1])==abs(s) ] for rank=False\n",
    "            #Check the matrix rank and store zero eigenvalues\n",
    "            nr=l.count(x[0])-l.count(x[1])            \n",
    "            if rank and nr>0 and abs(2*x[0])!=abs(s):\n",
    "                massless=massless+ [ x[0] for i in range(nr)]\n",
    "            elif rank and nr<0 and abs(2*x[1])!=abs(s):\n",
    "                massless=massless+ [ x[1] for i in range(abs(nr))]\n",
    "            #Check repetead massive\n",
    "\n",
    "    #flatten list of lists into list\n",
    "    massive=[x for sublist in xs for x in sublist]\n",
    "    extra_massless=[]\n",
    "    if rank:\n",
    "        extra_massless=list(set([x for x in massive if massive.count(x)>1]))\n",
    "        extra_massless=[x for x in extra_massless if abs(2*x)!=abs(s)]\n",
    "\n",
    "    return list( set(l).difference(set(massive)) ) + massless + extra_massless  \n",
    "\n",
    "def get_sp(massless):\n",
    "    \"\"\"\n",
    "    For a list of numbers `x_i` find the best `sp` value such that\n",
    "    all the elements of the list satisfy:\n",
    "       |sp|=|x_i + x_j|\n",
    "    * If the list is already empty return None\n",
    "    * If not found `sp` returns 0\n",
    "    \"\"\"\n",
    "    if len(massless)==0:\n",
    "        return None\n",
    "    elif len(massless)==1:\n",
    "        drs=[(massless[0],massless[0])]\n",
    "    elif len(massless)==2:\n",
    "        drs=[tuple(massless)]\n",
    "    else:\n",
    "        drs=[x for x in itertools.permutations(massless,2) if x[0]<=x[1]]\n",
    "    sps=set(abs(sum(x)) for x in drs)    \n",
    "    for sp in sps:\n",
    "        msv =([dr for dr in drs if abs(sum(dr))==sp])\n",
    "        massive=set([x for sublist in msv for x in sublist])\n",
    "        msl=([dr for dr in drs if abs(sum(dr))!=sp])\n",
    "        massless=set( [x for sublist in msl for x in sublist])\n",
    "        majorana=massless.difference(massive)\n",
    "        majorana=[m for m in majorana if abs(2*m)!=sp]\n",
    "        if not majorana:\n",
    "            return sp\n",
    "        else:\n",
    "            return 0        "
   ]
  },
  {
   "cell_type": "code",
   "execution_count": 23,
   "metadata": {
    "id": "NYJZBQ52KCEU"
   },
   "outputs": [],
   "source": [
    "#l=[1,-9,-9,-9,13,18,18,18,-19,-22]\n",
    "#def conditions(l):\n",
    "def condition(l,δ=1,rank=True):\n",
    "#if True:   \n",
    "    sls=[]\n",
    "    ms=set([x for x in l if l.count(x)==3])\n",
    "    if not ms:\n",
    "        ms={0}\n",
    "    νs=set([x for x in l if l.count(x)==2 or l.count(x)==3])\n",
    "    mνs=[(m,ν) for m in ms for ν in νs if m!=ν]\n",
    "    sold=0\n",
    "    for mν in mνs:\n",
    "        m=mν[0]\n",
    "        ν=mν[1]\n",
    "        s=(-m-ν)/δ\n",
    "        if float(s)-int(s)==0:\n",
    "            s=int(s)\n",
    "        else:\n",
    "            continue\n",
    "        if abs(s)==abs(sold):\n",
    "            continue\n",
    "        else:\n",
    "            sold=s\n",
    "        ψs=[x for x in l if x!=ν and x!=m]\n",
    "        msslss=get_massless(ψs,s,rank=rank)\n",
    "        sp=get_sp(msslss)\n",
    "        d={'m':m,'ν':ν,'s':s,'massless':msslss,'sp':sp,'δ':δ}\n",
    "        sls.append(d)\n",
    "    #sp=None    \n",
    "    solutions=[d for d in sls if d.get('massless')==[]]\n",
    "    if not solutions:\n",
    "        solutions=[d for d in sls if d.get('sp')]    \n",
    "    return solutions\n",
    "\n",
    "l=[1, 2, -6, -6, -6, 8, 9, 9, -11]\n",
    "assert condition(l)[0].get('massless')==[]\n",
    "l=[1, 1, 1, -4, -4, 5]\n",
    "assert condition(l)[0].get('sp')==10\n",
    "l=[1,-9,-9,-9,13,18,18,18,-19,-22]\n",
    "#m=0\n",
    "assert condition(l)[0].get('sp')==18\n",
    "l=[1, -2, -3, 5, 5, -6]\n",
    "assert condition(l)[0].get('massless')==[]\n",
    "#zero eigenvalues with repeated charges → -20\n",
    "l=[13, 13, -16, -16, -20, -20, 23, 29, 29, 29, -32, -32]\n",
    "assert condition(l,rank=False)[0]['massless']==[]\n",
    "assert condition(l,rank=True)[0]['massless']==[-20]\n",
    "#zero eigenvalues with non-repeated charges → -11,-17\n",
    "l=[4, -7, -7, 10, -11, 14, 15, -17, 18, -21, -22, 24]\n",
    "assert condition(l,rank=False)[0]['massless']==[]\n",
    "assert len(condition(l,rank=True)[0]['massless'])==2"
   ]
  },
  {
   "cell_type": "code",
   "execution_count": 24,
   "metadata": {
    "id": "_J31np7_OC7E"
   },
   "outputs": [],
   "source": [
    "def unconditional_stability(row,ZN={6:(2,3),10:(2,5),15:(3,5)},DMs={},check_massless=True):\n",
    "    '''\n",
    "    According to appendix of arXiv:1911.05515, \n",
    "    generalized to any N\n",
    "    \n",
    "    '''\n",
    "    if check_massless:\n",
    "        sd=[d for d in row['effective'] if d.get('massless')==[]]\n",
    "    else:\n",
    "        sd=row['effective']\n",
    "        \n",
    "    for i in range(len(sd)):\n",
    "        DMs={}\n",
    "        d=sd[i]\n",
    "        N=abs(d['s'])\n",
    "        l=[n for n in row['solution'] if n not in [d['m'],d['ν']] ]\n",
    "        #Check for non-hidden chiral fermions\n",
    "        if 0 in np.array(l)%N:\n",
    "            DMs={'None':tuple([])}\n",
    "            continue\n",
    "        DM=[x for x in itertools.permutations(l,2) \n",
    "               if x[0]<=x[1] and abs(sum(x))==N ]\n",
    "        DM=DM+[(n,n) for n in l if abs(2*n)==N]\n",
    "        #rank 0\n",
    "        for dm in DM:\n",
    "            if dm[0]!=dm[1] and l.count(dm[0])!=l.count(dm[1]) and abs(2*dm[0])!=N and abs(2*dm[0])!=N:\n",
    "                DMs={'None':tuple([])}\n",
    "        #missing massles → TODO: Check BUG\n",
    "        if check_massless and np.setdiff1d(l,[item for sublist in DM for item in sublist]).size>0:\n",
    "            DMs={'None':tuple([])}\n",
    "        if not DMs.get('None')==():\n",
    "            try:\n",
    "                p,q=ZN[N]\n",
    "            except KeyError:\n",
    "                DMs={'None':tuple([])}\n",
    "                continue\n",
    "            ps=[n*p for n in range(1,N) if n*p<N]\n",
    "            qs=[n*q for n in range(1,N) if n*q<N]\n",
    "            ω=[ sorted([y%N for y in x]) for x in DM]\n",
    "            DMF=['ψ' if np.setdiff1d(x,ps).size==0 else 'χ' \n",
    "                   if np.setdiff1d(x,qs).size==0 else 'None' for x in  ω ]\n",
    "            DMs=dict(zip(DMF,DM))\n",
    "            break\n",
    "    return DMs"
   ]
  },
  {
   "cell_type": "code",
   "execution_count": 25,
   "metadata": {
    "id": "NTUyV7fnOC7D"
   },
   "outputs": [],
   "source": [
    "dsp['effective']=dsp['solution'].apply(condition)"
   ]
  },
  {
   "cell_type": "code",
   "execution_count": 26,
   "metadata": {
    "id": "QfZe77ysOC7D"
   },
   "outputs": [],
   "source": [
    "dsp=dsp[dsp['effective'].apply(len)>0].reset_index(drop=True)"
   ]
  },
  {
   "cell_type": "code",
   "execution_count": 27,
   "metadata": {
    "id": "tRChzUUhOC7E"
   },
   "outputs": [],
   "source": [
    "p=np.array( [2,3,5,7,11,13,17,19,23,29,31] )\n",
    "q=p.copy()\n",
    "zpq= [ pp*qq for pp in p for qq in q if pp<qq] \n",
    "Zpq=sorted( set( zpq ) )"
   ]
  },
  {
   "cell_type": "code",
   "execution_count": 28,
   "metadata": {
    "id": "7k4DDhKGOC7F"
   },
   "outputs": [],
   "source": [
    "pqs=[ (pp,qq) for pp in p for qq in q if pp<qq]\n",
    "ZN=dict(zip(Zpq,pqs))"
   ]
  },
  {
   "cell_type": "code",
   "execution_count": 29,
   "metadata": {
    "id": "f8pwW8uFOC7F",
    "outputId": "a5828664-382e-4fc1-f286-c79ace084af5"
   },
   "outputs": [
    {
     "data": {
      "text/plain": [
       "[6, 10, 14]"
      ]
     },
     "execution_count": 29,
     "metadata": {},
     "output_type": "execute_result"
    }
   ],
   "source": [
    "Zpq[:3]"
   ]
  },
  {
   "cell_type": "code",
   "execution_count": 30,
   "metadata": {
    "id": "dVT1eOMqOC7F"
   },
   "outputs": [],
   "source": [
    "dsp['DMs']=dsp.apply(lambda row: unconditional_stability(row,ZN,check_massless=False)  ,axis='columns')"
   ]
  },
  {
   "cell_type": "code",
   "execution_count": 31,
   "metadata": {},
   "outputs": [
    {
     "data": {
      "text/plain": [
       "(17872, 8)"
      ]
     },
     "execution_count": 31,
     "metadata": {},
     "output_type": "execute_result"
    }
   ],
   "source": [
    "dsp.shape"
   ]
  },
  {
   "cell_type": "code",
   "execution_count": 32,
   "metadata": {
    "id": "m8sfzUQdOC7D",
    "outputId": "f9af1639-8796-48bb-ee6f-2603d1ea61a4"
   },
   "outputs": [
    {
     "data": {
      "text/plain": [
       "(1006, 8)"
      ]
     },
     "execution_count": 32,
     "metadata": {},
     "output_type": "execute_result"
    }
   ],
   "source": [
    "dspm=dsp[dsp['effective'].apply(lambda l: [d for d in l if not d.get('massless')]).apply(len)>0].reset_index(drop=True)\n",
    "dspm.shape"
   ]
  },
  {
   "cell_type": "code",
   "execution_count": 17,
   "metadata": {},
   "outputs": [],
   "source": [
    "#dspm[dspm['DMs'].apply(lambda d: 'ψ' in d.keys() and 'χ' in d.keys())].reset_index(drop=True)"
   ]
  },
  {
   "cell_type": "markdown",
   "metadata": {},
   "source": [
    "$\\delta=2$"
   ]
  },
  {
   "cell_type": "code",
   "execution_count": 49,
   "metadata": {
    "id": "hOmeIruGOC7G"
   },
   "outputs": [
    {
     "data": {
      "text/plain": [
       "(296884, 6)"
      ]
     },
     "execution_count": 49,
     "metadata": {},
     "output_type": "execute_result"
    }
   ],
   "source": [
    "dsp2.shape"
   ]
  },
  {
   "cell_type": "code",
   "execution_count": 50,
   "metadata": {
    "id": "NTUyV7fnOC7D"
   },
   "outputs": [],
   "source": [
    "dsp2['effective']=dsp2['solution'].apply(lambda l:condition(l,δ=2))"
   ]
  },
  {
   "cell_type": "code",
   "execution_count": 51,
   "metadata": {
    "id": "QfZe77ysOC7D"
   },
   "outputs": [],
   "source": [
    "dsp2=dsp2[dsp2['effective'].apply(len)>0].reset_index(drop=True)"
   ]
  },
  {
   "cell_type": "code",
   "execution_count": 52,
   "metadata": {
    "id": "dVT1eOMqOC7F"
   },
   "outputs": [],
   "source": [
    "dsp2['DMs']=dsp2.apply(lambda row: unconditional_stability(row,ZN,check_massless=False)  ,axis='columns')"
   ]
  },
  {
   "cell_type": "code",
   "execution_count": 53,
   "metadata": {},
   "outputs": [
    {
     "data": {
      "text/plain": [
       "(7095, 8)"
      ]
     },
     "execution_count": 53,
     "metadata": {},
     "output_type": "execute_result"
    }
   ],
   "source": [
    "dsp2.shape"
   ]
  },
  {
   "cell_type": "code",
   "execution_count": 54,
   "metadata": {},
   "outputs": [
    {
     "data": {
      "text/plain": [
       "(72, 8)"
      ]
     },
     "execution_count": 54,
     "metadata": {},
     "output_type": "execute_result"
    }
   ],
   "source": [
    "dspm2=dsp2[dsp2['effective'].apply(lambda l: [d for d in l if not d.get('massless')]).apply(len)>0].reset_index(drop=True)\n",
    "dspm2.shape"
   ]
  },
  {
   "cell_type": "code",
   "execution_count": 55,
   "metadata": {
    "id": "7cJg40zXOC7F",
    "outputId": "34bf3725-b771-48d5-a986-656edc9c0d86"
   },
   "outputs": [],
   "source": [
    "#dspm2[dspm2['DMs'].apply(lambda d: 'ψ' in d.keys() and 'χ' in d.keys())].reset_index(drop=True)"
   ]
  },
  {
   "cell_type": "markdown",
   "metadata": {},
   "source": [
    "Massive solutions with a single $S$"
   ]
  },
  {
   "cell_type": "code",
   "execution_count": 56,
   "metadata": {},
   "outputs": [
    {
     "data": {
      "text/plain": [
       "(1078, 8)"
      ]
     },
     "execution_count": 56,
     "metadata": {},
     "output_type": "execute_result"
    }
   ],
   "source": [
    "dslt=dspm.append(dspm2).reset_index(drop=True)\n",
    "dslt.shape"
   ]
  },
  {
   "cell_type": "code",
   "execution_count": 57,
   "metadata": {},
   "outputs": [],
   "source": [
    "dslt=dslt.sort_values(['n','nmax']).reset_index(drop=True)"
   ]
  },
  {
   "cell_type": "markdown",
   "metadata": {},
   "source": [
    "There are 1078 solutions most of them with $N=10$ integers"
   ]
  },
  {
   "cell_type": "code",
   "execution_count": 58,
   "metadata": {},
   "outputs": [
    {
     "data": {
      "text/plain": [
       "(923, 8)"
      ]
     },
     "execution_count": 58,
     "metadata": {},
     "output_type": "execute_result"
    }
   ],
   "source": [
    "dslt[dslt['n']==10].shape"
   ]
  },
  {
   "cell_type": "code",
   "execution_count": 59,
   "metadata": {},
   "outputs": [],
   "source": [
    "def count_dm(row):\n",
    "#if True:\n",
    "    e=row['effective']\n",
    "    dm=[]\n",
    "    for d in e:\n",
    "        l=list(set(row['solution'].copy()))\n",
    "        dmd={}\n",
    "        if len(d.get('massless'))>0:\n",
    "            print('NOT IMPLEMEMTED YET')\n",
    "            continue\n",
    "        if d.get('m'):\n",
    "            l.remove( d.get('m') )\n",
    "        l.remove(d.get('ν'))\n",
    "        if len(l)==0:\n",
    "            mssls=[()]\n",
    "        elif len(l)==1:\n",
    "            mssls=[(l[0],l[0])]\n",
    "        elif len(l)==2:\n",
    "            mssls=[tuple(l)]\n",
    "        else:\n",
    "            mssls=list(set([x for x in itertools.permutations(l,2) if x[0]<=x[1] ]))\n",
    "        massive=[ x for x in mssls if len(mssls[0])>0 and abs(x[0]+x[1])==abs(d.get('s')) ]\n",
    "        #Check generations\n",
    "        gnrt=[row['solution'].count(x[0])-1 for x in massive]\n",
    "        dgnrt=int( sum( [x for x in gnrt if x>0]  ) )\n",
    "        nd=len(massive)+dgnrt\n",
    "        massive=[x for x in l if abs(2*x)==abs(d.get('s')) ]\n",
    "        gnrt=[row['solution'].count(x)-1 for x in massive]\n",
    "        mgnrt=int( sum( [x for x in gnrt if x>0]  ) )        \n",
    "        nm=len(massive)+mgnrt        \n",
    "        ac=False\n",
    "        if d.get('m'):\n",
    "            ac=True\n",
    "        uc=False\n",
    "        if 'ψ' in row['DMs'].keys() and 'χ' in row['DMs'].keys():\n",
    "            uc=True\n",
    "        dm.append({'active':ac,'dirac':nd,'majorana':nm,'extra_generations':(dgnrt,mgnrt),'n':row['n'],'unconditional':uc,'δ':d.get('δ')})\n",
    "        if len(dm)>1:\n",
    "            dm=[eval(y) for y in set( [str(x) for x in dm]) ]\n",
    "    \n",
    "    return dm"
   ]
  },
  {
   "cell_type": "code",
   "execution_count": 60,
   "metadata": {},
   "outputs": [
    {
     "data": {
      "text/plain": [
       "[{'active': False,\n",
       "  'dirac': 4,\n",
       "  'majorana': 0,\n",
       "  'extra_generations': (1, 0),\n",
       "  'n': 10,\n",
       "  'unconditional': False,\n",
       "  'δ': 1}]"
      ]
     },
     "execution_count": 60,
     "metadata": {},
     "output_type": "execute_result"
    }
   ],
   "source": [
    "ll=[2, 2, 3, 4, 4, -5, -6, -6, -7, 9]\n",
    "row={}\n",
    "d={'m': 0, 'ν': 2, 's': -2, 'massless': [], 'sp': None, 'δ': 1}\n",
    "row['solution']=ll\n",
    "row['effective']=[d]\n",
    "row['DMs']={}\n",
    "row['n']=10\n",
    "count_dm(row)"
   ]
  },
  {
   "cell_type": "code",
   "execution_count": 61,
   "metadata": {},
   "outputs": [
    {
     "data": {
      "text/plain": [
       "[2, 2, 3, 4, 4, -5, -6, -6, -7, 9]"
      ]
     },
     "execution_count": 61,
     "metadata": {},
     "output_type": "execute_result"
    }
   ],
   "source": [
    "ll"
   ]
  },
  {
   "cell_type": "code",
   "execution_count": 62,
   "metadata": {},
   "outputs": [],
   "source": [
    "dslt['features']=dslt.apply(count_dm,axis='columns')"
   ]
  },
  {
   "cell_type": "code",
   "execution_count": 63,
   "metadata": {},
   "outputs": [],
   "source": [
    "fnl=dslt[~dslt['features'].astype(str).duplicated()].reset_index(drop=True)"
   ]
  },
  {
   "cell_type": "markdown",
   "metadata": {},
   "source": [
    "Families of massive solutions"
   ]
  },
  {
   "cell_type": "code",
   "execution_count": 64,
   "metadata": {},
   "outputs": [
    {
     "data": {
      "text/plain": [
       "(43, 9)"
      ]
     },
     "execution_count": 64,
     "metadata": {},
     "output_type": "execute_result"
    }
   ],
   "source": [
    "fnl.shape"
   ]
  },
  {
   "cell_type": "markdown",
   "metadata": {},
   "source": [
    "__Dark symmetry with D-5__\n",
    "\n",
    "From 2 to 4 massive Dirac fermions and until a Majorana massive fermion. In the case of solutions with uncoditional stability for two dark matter candidates, if the solution includes a Majorana massive fermion, it is protected by one of the renmant symmetries. In this case the number of singlet chiral fermions is $n=6,10$"
   ]
  },
  {
   "cell_type": "code",
   "execution_count": 65,
   "metadata": {},
   "outputs": [
    {
     "data": {
      "text/html": [
       "<div>\n",
       "<style scoped>\n",
       "    .dataframe tbody tr th:only-of-type {\n",
       "        vertical-align: middle;\n",
       "    }\n",
       "\n",
       "    .dataframe tbody tr th {\n",
       "        vertical-align: top;\n",
       "    }\n",
       "\n",
       "    .dataframe thead th {\n",
       "        text-align: right;\n",
       "    }\n",
       "</style>\n",
       "<table border=\"1\" class=\"dataframe\">\n",
       "  <thead>\n",
       "    <tr style=\"text-align: right;\">\n",
       "      <th></th>\n",
       "      <th>l</th>\n",
       "      <th>k</th>\n",
       "      <th>solution</th>\n",
       "      <th>gcd</th>\n",
       "      <th>n</th>\n",
       "      <th>nmax</th>\n",
       "      <th>effective</th>\n",
       "      <th>DMs</th>\n",
       "      <th>features</th>\n",
       "    </tr>\n",
       "  </thead>\n",
       "  <tbody>\n",
       "    <tr>\n",
       "      <th>0</th>\n",
       "      <td>[-1, 1]</td>\n",
       "      <td>[-2, 0]</td>\n",
       "      <td>[1, -2, -3, 5, 5, -6]</td>\n",
       "      <td>1.0</td>\n",
       "      <td>6</td>\n",
       "      <td>6</td>\n",
       "      <td>[{'m': 0, 'ν': 5, 's': -5, 'massless': [], 'sp': None, 'δ': 1}]</td>\n",
       "      <td>{'None': ()}</td>\n",
       "      <td>[{'active': False, 'dirac': 2, 'majorana': 0, 'extra_generations': (0, 0), 'n': 6, 'unconditional': False, 'δ': 1}]</td>\n",
       "    </tr>\n",
       "    <tr>\n",
       "      <th>1</th>\n",
       "      <td>[-3, 1, 2, -2]</td>\n",
       "      <td>[-4, -3, -4, -2, 0]</td>\n",
       "      <td>[1, -2, -2, 3, 3, -4, -4, 6, 6, -7]</td>\n",
       "      <td>1.0</td>\n",
       "      <td>10</td>\n",
       "      <td>7</td>\n",
       "      <td>[{'m': 0, 'ν': 6, 's': -6, 'massless': [], 'sp': None, 'δ': 1}]</td>\n",
       "      <td>{'χ': (3, 3), 'ψ': (-4, -2), 'None': (-7, 1)}</td>\n",
       "      <td>[{'active': False, 'dirac': 3, 'majorana': 2, 'extra_generations': (1, 1), 'n': 10, 'unconditional': True, 'δ': 1}]</td>\n",
       "    </tr>\n",
       "    <tr>\n",
       "      <th>2</th>\n",
       "      <td>[-2, -1, 0, 1]</td>\n",
       "      <td>[-5, -6, -4, 1]</td>\n",
       "      <td>[1, -2, -2, 3, 4, -5, -5, 7, 7, -8]</td>\n",
       "      <td>1.0</td>\n",
       "      <td>10</td>\n",
       "      <td>8</td>\n",
       "      <td>[{'m': 0, 'ν': -5, 's': 5, 'massless': [], 'sp': None, 'δ': 1}, {'m': 0, 'ν': 7, 's': -7, 'massless': [], 'sp': None, 'δ': 1}]</td>\n",
       "      <td>{'None': ()}</td>\n",
       "      <td>[{'active': False, 'dirac': 4, 'majorana': 0, 'extra_generations': (1, 0), 'n': 10, 'unconditional': False, 'δ': 1}]</td>\n",
       "    </tr>\n",
       "    <tr>\n",
       "      <th>3</th>\n",
       "      <td>[1, -1, 0, 2]</td>\n",
       "      <td>[-3, -2, 2, 0, 1]</td>\n",
       "      <td>[1, -2, -2, 3, 5, -6, -6, 8, 8, -9]</td>\n",
       "      <td>1.0</td>\n",
       "      <td>10</td>\n",
       "      <td>9</td>\n",
       "      <td>[{'m': 0, 'ν': 8, 's': -8, 'massless': [], 'sp': None, 'δ': 1}, {'m': 0, 'ν': -6, 's': 6, 'massless': [], 'sp': None, 'δ': 1}]</td>\n",
       "      <td>{'None': (1, 5), 'ψ': (-2, 8), 'χ': (3, 3)}</td>\n",
       "      <td>[{'active': False, 'dirac': 4, 'majorana': 1, 'extra_generations': (1, 0), 'n': 10, 'unconditional': True, 'δ': 1}, {'active': False, 'dirac': 4, 'majorana': 0, 'extra_generations': (1, 0), 'n': 10, 'unconditional': True, 'δ': 1}]</td>\n",
       "    </tr>\n",
       "    <tr>\n",
       "      <th>4</th>\n",
       "      <td>[2, 0, 3, -1]</td>\n",
       "      <td>[-2, -3, -2, 2, 0]</td>\n",
       "      <td>[2, 2, 3, 4, 4, -5, -6, -6, -7, 9]</td>\n",
       "      <td>1.0</td>\n",
       "      <td>10</td>\n",
       "      <td>9</td>\n",
       "      <td>[{'m': 0, 'ν': 2, 's': -2, 'massless': [], 'sp': None, 'δ': 1}, {'m': 0, 'ν': 4, 's': -4, 'massless': [], 'sp': None, 'δ': 1}]</td>\n",
       "      <td>{'None': ()}</td>\n",
       "      <td>[{'active': False, 'dirac': 4, 'majorana': 0, 'extra_generations': (1, 0), 'n': 10, 'unconditional': False, 'δ': 1}, {'active': False, 'dirac': 4, 'majorana': 2, 'extra_generations': (1, 1), 'n': 10, 'unconditional': False, 'δ': 1}]</td>\n",
       "    </tr>\n",
       "    <tr>\n",
       "      <th>5</th>\n",
       "      <td>[0, 2, 0, 1]</td>\n",
       "      <td>[-2, -3, 1, 0, 2]</td>\n",
       "      <td>[1, 2, 2, -3, 6, 6, -8, -8, -9, 11]</td>\n",
       "      <td>1.0</td>\n",
       "      <td>10</td>\n",
       "      <td>11</td>\n",
       "      <td>[{'m': 0, 'ν': -8, 's': 8, 'massless': [], 'sp': None, 'δ': 1}, {'m': 0, 'ν': 2, 's': -2, 'massless': [], 'sp': None, 'δ': 1}]</td>\n",
       "      <td>{'None': ()}</td>\n",
       "      <td>[{'active': False, 'dirac': 4, 'majorana': 0, 'extra_generations': (1, 0), 'n': 10, 'unconditional': False, 'δ': 1}, {'active': False, 'dirac': 4, 'majorana': 1, 'extra_generations': (1, 0), 'n': 10, 'unconditional': False, 'δ': 1}]</td>\n",
       "    </tr>\n",
       "    <tr>\n",
       "      <th>6</th>\n",
       "      <td>[1, 3, -1, -2]</td>\n",
       "      <td>[-3, -2, -1, 2, 0]</td>\n",
       "      <td>[1, -2, -3, 5, 6, -8, -9, 11, 11, -12]</td>\n",
       "      <td>1.0</td>\n",
       "      <td>10</td>\n",
       "      <td>12</td>\n",
       "      <td>[{'m': 0, 'ν': 11, 's': -11, 'massless': [], 'sp': None, 'δ': 1}]</td>\n",
       "      <td>{'None': ()}</td>\n",
       "      <td>[{'active': False, 'dirac': 4, 'majorana': 0, 'extra_generations': (0, 0), 'n': 10, 'unconditional': False, 'δ': 1}]</td>\n",
       "    </tr>\n",
       "    <tr>\n",
       "      <th>7</th>\n",
       "      <td>[0, -3, 0, 4]</td>\n",
       "      <td>[-2, -1, 1, 0, 2]</td>\n",
       "      <td>[1, 1, -2, -2, -4, 6, -10, 11, 12, -13]</td>\n",
       "      <td>1.0</td>\n",
       "      <td>10</td>\n",
       "      <td>13</td>\n",
       "      <td>[{'m': 0, 'ν': -2, 's': 2, 'massless': [], 'sp': None, 'δ': 1}]</td>\n",
       "      <td>{'None': ()}</td>\n",
       "      <td>[{'active': False, 'dirac': 3, 'majorana': 2, 'extra_generations': (0, 1), 'n': 10, 'unconditional': False, 'δ': 1}]</td>\n",
       "    </tr>\n",
       "    <tr>\n",
       "      <th>8</th>\n",
       "      <td>[-4, 4, -4, 1]</td>\n",
       "      <td>[-1, 0, -1, -3, -1]</td>\n",
       "      <td>[3, 4, 4, 4, 4, -5, -8, -8, -11, 13]</td>\n",
       "      <td>4.0</td>\n",
       "      <td>10</td>\n",
       "      <td>13</td>\n",
       "      <td>[{'m': 0, 'ν': -8, 's': 8, 'massless': [], 'sp': None, 'δ': 1}]</td>\n",
       "      <td>{'None': ()}</td>\n",
       "      <td>[{'active': False, 'dirac': 2, 'majorana': 4, 'extra_generations': (0, 3), 'n': 10, 'unconditional': False, 'δ': 1}]</td>\n",
       "    </tr>\n",
       "    <tr>\n",
       "      <th>9</th>\n",
       "      <td>[0, -2, 0, 2]</td>\n",
       "      <td>[-3, -2, -1, 0, -2]</td>\n",
       "      <td>[4, 4, 5, 6, 6, -9, -10, -10, -11, 15]</td>\n",
       "      <td>2.0</td>\n",
       "      <td>10</td>\n",
       "      <td>15</td>\n",
       "      <td>[{'m': 0, 'ν': 4, 's': -4, 'massless': [], 'sp': None, 'δ': 1}, {'m': 0, 'ν': 6, 's': -6, 'massless': [], 'sp': None, 'δ': 1}]</td>\n",
       "      <td>{'χ': (-9, 15), 'ψ': (-10, 4), 'None': (-11, 5)}</td>\n",
       "      <td>[{'active': False, 'dirac': 4, 'majorana': 0, 'extra_generations': (1, 0), 'n': 10, 'unconditional': True, 'δ': 1}]</td>\n",
       "    </tr>\n",
       "    <tr>\n",
       "      <th>10</th>\n",
       "      <td>[4, -1, 4, -3]</td>\n",
       "      <td>[-2, -3, -2, 1, -2]</td>\n",
       "      <td>[1, -2, -4, 7, 7, -10, -12, 14, 14, -15]</td>\n",
       "      <td>2.0</td>\n",
       "      <td>10</td>\n",
       "      <td>15</td>\n",
       "      <td>[{'m': 0, 'ν': 14, 's': -14, 'massless': [], 'sp': None, 'δ': 1}]</td>\n",
       "      <td>{'χ': (7, 7), 'ψ': (-12, -2), 'None': (-15, 1)}</td>\n",
       "      <td>[{'active': False, 'dirac': 3, 'majorana': 2, 'extra_generations': (0, 1), 'n': 10, 'unconditional': True, 'δ': 1}]</td>\n",
       "    </tr>\n",
       "    <tr>\n",
       "      <th>11</th>\n",
       "      <td>[1, -4, 0, -1]</td>\n",
       "      <td>[-3, -2, 2, -3, -4]</td>\n",
       "      <td>[1, 2, 2, -3, 4, -6, 12, -13, -14, 15]</td>\n",
       "      <td>1.0</td>\n",
       "      <td>10</td>\n",
       "      <td>15</td>\n",
       "      <td>[{'m': 0, 'ν': 2, 's': -2, 'massless': [], 'sp': None, 'δ': 1}]</td>\n",
       "      <td>{'None': ()}</td>\n",
       "      <td>[{'active': False, 'dirac': 4, 'majorana': 1, 'extra_generations': (0, 0), 'n': 10, 'unconditional': False, 'δ': 1}]</td>\n",
       "    </tr>\n",
       "    <tr>\n",
       "      <th>12</th>\n",
       "      <td>[1, 4, 0, -1]</td>\n",
       "      <td>[-4, -3, -2, 2, 0]</td>\n",
       "      <td>[1, 4, 4, -7, 8, 8, -9, -12, -12, 15]</td>\n",
       "      <td>4.0</td>\n",
       "      <td>10</td>\n",
       "      <td>15</td>\n",
       "      <td>[{'m': 0, 'ν': 8, 's': -8, 'massless': [], 'sp': None, 'δ': 1}]</td>\n",
       "      <td>{'None': ()}</td>\n",
       "      <td>[{'active': False, 'dirac': 4, 'majorana': 2, 'extra_generations': (1, 1), 'n': 10, 'unconditional': False, 'δ': 1}]</td>\n",
       "    </tr>\n",
       "    <tr>\n",
       "      <th>13</th>\n",
       "      <td>[-2, 0, -1, 1]</td>\n",
       "      <td>[-2, 0, -1, 0, -2]</td>\n",
       "      <td>[1, 2, 2, -9, -9, 16, 16, 17, -18, -18]</td>\n",
       "      <td>2.0</td>\n",
       "      <td>10</td>\n",
       "      <td>18</td>\n",
       "      <td>[{'m': 0, 'ν': -18, 's': 18, 'massless': [], 'sp': None, 'δ': 1}]</td>\n",
       "      <td>{'None': ()}</td>\n",
       "      <td>[{'active': False, 'dirac': 3, 'majorana': 2, 'extra_generations': (1, 1), 'n': 10, 'unconditional': False, 'δ': 1}]</td>\n",
       "    </tr>\n",
       "    <tr>\n",
       "      <th>14</th>\n",
       "      <td>[1, 0, 1, 0]</td>\n",
       "      <td>[-1, 0, -4, 2, -3]</td>\n",
       "      <td>[1, -4, 5, -6, -6, 10, -14, 15, 20, -21]</td>\n",
       "      <td>2.0</td>\n",
       "      <td>10</td>\n",
       "      <td>21</td>\n",
       "      <td>[{'m': 0, 'ν': -6, 's': 6, 'massless': [], 'sp': None, 'δ': 1}]</td>\n",
       "      <td>{'None': (1, 5), 'ψ': (-14, 20), 'χ': (-21, 15)}</td>\n",
       "      <td>[{'active': False, 'dirac': 4, 'majorana': 0, 'extra_generations': (0, 0), 'n': 10, 'unconditional': True, 'δ': 1}]</td>\n",
       "    </tr>\n",
       "    <tr>\n",
       "      <th>15</th>\n",
       "      <td>[2, 0, -2, -1]</td>\n",
       "      <td>[-3, -2, 0, -1, 0]</td>\n",
       "      <td>[2, -3, -6, 7, 12, -14, -14, 17, 20, -21]</td>\n",
       "      <td>4.0</td>\n",
       "      <td>10</td>\n",
       "      <td>21</td>\n",
       "      <td>[{'m': 0, 'ν': -14, 's': 14, 'massless': [], 'sp': None, 'δ': 1}]</td>\n",
       "      <td>{'ψ': (-6, 20), 'None': (-3, 17), 'χ': (7, 7)}</td>\n",
       "      <td>[{'active': False, 'dirac': 4, 'majorana': 1, 'extra_generations': (0, 0), 'n': 10, 'unconditional': True, 'δ': 1}]</td>\n",
       "    </tr>\n",
       "    <tr>\n",
       "      <th>16</th>\n",
       "      <td>[-2, 0, -1, 0]</td>\n",
       "      <td>[-2, -3, -1, 0, -2]</td>\n",
       "      <td>[3, 6, 6, -7, 8, 8, -14, -14, -17, 21]</td>\n",
       "      <td>2.0</td>\n",
       "      <td>10</td>\n",
       "      <td>21</td>\n",
       "      <td>[{'m': 0, 'ν': -14, 's': 14, 'massless': [], 'sp': None, 'δ': 1}]</td>\n",
       "      <td>{'ψ': (6, 8), 'χ': (-7, -7), 'None': (-17, 3)}</td>\n",
       "      <td>[{'active': False, 'dirac': 4, 'majorana': 1, 'extra_generations': (1, 0), 'n': 10, 'unconditional': True, 'δ': 1}]</td>\n",
       "    </tr>\n",
       "    <tr>\n",
       "      <th>17</th>\n",
       "      <td>[-2, 0, 1, 0]</td>\n",
       "      <td>[-2, -1, -3, 0, -2]</td>\n",
       "      <td>[8, 8, 9, 10, 10, -13, -18, -18, -27, 31]</td>\n",
       "      <td>2.0</td>\n",
       "      <td>10</td>\n",
       "      <td>31</td>\n",
       "      <td>[{'m': 0, 'ν': -18, 's': 18, 'massless': [], 'sp': None, 'δ': 1}]</td>\n",
       "      <td>{'None': ()}</td>\n",
       "      <td>[{'active': False, 'dirac': 4, 'majorana': 1, 'extra_generations': (1, 0), 'n': 10, 'unconditional': False, 'δ': 1}]</td>\n",
       "    </tr>\n",
       "  </tbody>\n",
       "</table>\n",
       "</div>"
      ],
      "text/plain": [
       "                 l                    k  \\\n",
       "0          [-1, 1]              [-2, 0]   \n",
       "1   [-3, 1, 2, -2]  [-4, -3, -4, -2, 0]   \n",
       "2   [-2, -1, 0, 1]      [-5, -6, -4, 1]   \n",
       "3    [1, -1, 0, 2]    [-3, -2, 2, 0, 1]   \n",
       "4    [2, 0, 3, -1]   [-2, -3, -2, 2, 0]   \n",
       "5     [0, 2, 0, 1]    [-2, -3, 1, 0, 2]   \n",
       "6   [1, 3, -1, -2]   [-3, -2, -1, 2, 0]   \n",
       "7    [0, -3, 0, 4]    [-2, -1, 1, 0, 2]   \n",
       "8   [-4, 4, -4, 1]  [-1, 0, -1, -3, -1]   \n",
       "9    [0, -2, 0, 2]  [-3, -2, -1, 0, -2]   \n",
       "10  [4, -1, 4, -3]  [-2, -3, -2, 1, -2]   \n",
       "11  [1, -4, 0, -1]  [-3, -2, 2, -3, -4]   \n",
       "12   [1, 4, 0, -1]   [-4, -3, -2, 2, 0]   \n",
       "13  [-2, 0, -1, 1]   [-2, 0, -1, 0, -2]   \n",
       "14    [1, 0, 1, 0]   [-1, 0, -4, 2, -3]   \n",
       "15  [2, 0, -2, -1]   [-3, -2, 0, -1, 0]   \n",
       "16  [-2, 0, -1, 0]  [-2, -3, -1, 0, -2]   \n",
       "17   [-2, 0, 1, 0]  [-2, -1, -3, 0, -2]   \n",
       "\n",
       "                                     solution  gcd   n  nmax  \\\n",
       "0                       [1, -2, -3, 5, 5, -6]  1.0   6     6   \n",
       "1         [1, -2, -2, 3, 3, -4, -4, 6, 6, -7]  1.0  10     7   \n",
       "2         [1, -2, -2, 3, 4, -5, -5, 7, 7, -8]  1.0  10     8   \n",
       "3         [1, -2, -2, 3, 5, -6, -6, 8, 8, -9]  1.0  10     9   \n",
       "4          [2, 2, 3, 4, 4, -5, -6, -6, -7, 9]  1.0  10     9   \n",
       "5         [1, 2, 2, -3, 6, 6, -8, -8, -9, 11]  1.0  10    11   \n",
       "6      [1, -2, -3, 5, 6, -8, -9, 11, 11, -12]  1.0  10    12   \n",
       "7     [1, 1, -2, -2, -4, 6, -10, 11, 12, -13]  1.0  10    13   \n",
       "8        [3, 4, 4, 4, 4, -5, -8, -8, -11, 13]  4.0  10    13   \n",
       "9      [4, 4, 5, 6, 6, -9, -10, -10, -11, 15]  2.0  10    15   \n",
       "10   [1, -2, -4, 7, 7, -10, -12, 14, 14, -15]  2.0  10    15   \n",
       "11     [1, 2, 2, -3, 4, -6, 12, -13, -14, 15]  1.0  10    15   \n",
       "12      [1, 4, 4, -7, 8, 8, -9, -12, -12, 15]  4.0  10    15   \n",
       "13    [1, 2, 2, -9, -9, 16, 16, 17, -18, -18]  2.0  10    18   \n",
       "14   [1, -4, 5, -6, -6, 10, -14, 15, 20, -21]  2.0  10    21   \n",
       "15  [2, -3, -6, 7, 12, -14, -14, 17, 20, -21]  4.0  10    21   \n",
       "16     [3, 6, 6, -7, 8, 8, -14, -14, -17, 21]  2.0  10    21   \n",
       "17  [8, 8, 9, 10, 10, -13, -18, -18, -27, 31]  2.0  10    31   \n",
       "\n",
       "                                                                                                                         effective  \\\n",
       "0                                                                  [{'m': 0, 'ν': 5, 's': -5, 'massless': [], 'sp': None, 'δ': 1}]   \n",
       "1                                                                  [{'m': 0, 'ν': 6, 's': -6, 'massless': [], 'sp': None, 'δ': 1}]   \n",
       "2   [{'m': 0, 'ν': -5, 's': 5, 'massless': [], 'sp': None, 'δ': 1}, {'m': 0, 'ν': 7, 's': -7, 'massless': [], 'sp': None, 'δ': 1}]   \n",
       "3   [{'m': 0, 'ν': 8, 's': -8, 'massless': [], 'sp': None, 'δ': 1}, {'m': 0, 'ν': -6, 's': 6, 'massless': [], 'sp': None, 'δ': 1}]   \n",
       "4   [{'m': 0, 'ν': 2, 's': -2, 'massless': [], 'sp': None, 'δ': 1}, {'m': 0, 'ν': 4, 's': -4, 'massless': [], 'sp': None, 'δ': 1}]   \n",
       "5   [{'m': 0, 'ν': -8, 's': 8, 'massless': [], 'sp': None, 'δ': 1}, {'m': 0, 'ν': 2, 's': -2, 'massless': [], 'sp': None, 'δ': 1}]   \n",
       "6                                                                [{'m': 0, 'ν': 11, 's': -11, 'massless': [], 'sp': None, 'δ': 1}]   \n",
       "7                                                                  [{'m': 0, 'ν': -2, 's': 2, 'massless': [], 'sp': None, 'δ': 1}]   \n",
       "8                                                                  [{'m': 0, 'ν': -8, 's': 8, 'massless': [], 'sp': None, 'δ': 1}]   \n",
       "9   [{'m': 0, 'ν': 4, 's': -4, 'massless': [], 'sp': None, 'δ': 1}, {'m': 0, 'ν': 6, 's': -6, 'massless': [], 'sp': None, 'δ': 1}]   \n",
       "10                                                               [{'m': 0, 'ν': 14, 's': -14, 'massless': [], 'sp': None, 'δ': 1}]   \n",
       "11                                                                 [{'m': 0, 'ν': 2, 's': -2, 'massless': [], 'sp': None, 'δ': 1}]   \n",
       "12                                                                 [{'m': 0, 'ν': 8, 's': -8, 'massless': [], 'sp': None, 'δ': 1}]   \n",
       "13                                                               [{'m': 0, 'ν': -18, 's': 18, 'massless': [], 'sp': None, 'δ': 1}]   \n",
       "14                                                                 [{'m': 0, 'ν': -6, 's': 6, 'massless': [], 'sp': None, 'δ': 1}]   \n",
       "15                                                               [{'m': 0, 'ν': -14, 's': 14, 'massless': [], 'sp': None, 'δ': 1}]   \n",
       "16                                                               [{'m': 0, 'ν': -14, 's': 14, 'massless': [], 'sp': None, 'δ': 1}]   \n",
       "17                                                               [{'m': 0, 'ν': -18, 's': 18, 'massless': [], 'sp': None, 'δ': 1}]   \n",
       "\n",
       "                                                 DMs  \\\n",
       "0                                       {'None': ()}   \n",
       "1      {'χ': (3, 3), 'ψ': (-4, -2), 'None': (-7, 1)}   \n",
       "2                                       {'None': ()}   \n",
       "3        {'None': (1, 5), 'ψ': (-2, 8), 'χ': (3, 3)}   \n",
       "4                                       {'None': ()}   \n",
       "5                                       {'None': ()}   \n",
       "6                                       {'None': ()}   \n",
       "7                                       {'None': ()}   \n",
       "8                                       {'None': ()}   \n",
       "9   {'χ': (-9, 15), 'ψ': (-10, 4), 'None': (-11, 5)}   \n",
       "10   {'χ': (7, 7), 'ψ': (-12, -2), 'None': (-15, 1)}   \n",
       "11                                      {'None': ()}   \n",
       "12                                      {'None': ()}   \n",
       "13                                      {'None': ()}   \n",
       "14  {'None': (1, 5), 'ψ': (-14, 20), 'χ': (-21, 15)}   \n",
       "15    {'ψ': (-6, 20), 'None': (-3, 17), 'χ': (7, 7)}   \n",
       "16    {'ψ': (6, 8), 'χ': (-7, -7), 'None': (-17, 3)}   \n",
       "17                                      {'None': ()}   \n",
       "\n",
       "                                                                                                                                                                                                                                    features  \n",
       "0                                                                                                                        [{'active': False, 'dirac': 2, 'majorana': 0, 'extra_generations': (0, 0), 'n': 6, 'unconditional': False, 'δ': 1}]  \n",
       "1                                                                                                                        [{'active': False, 'dirac': 3, 'majorana': 2, 'extra_generations': (1, 1), 'n': 10, 'unconditional': True, 'δ': 1}]  \n",
       "2                                                                                                                       [{'active': False, 'dirac': 4, 'majorana': 0, 'extra_generations': (1, 0), 'n': 10, 'unconditional': False, 'δ': 1}]  \n",
       "3     [{'active': False, 'dirac': 4, 'majorana': 1, 'extra_generations': (1, 0), 'n': 10, 'unconditional': True, 'δ': 1}, {'active': False, 'dirac': 4, 'majorana': 0, 'extra_generations': (1, 0), 'n': 10, 'unconditional': True, 'δ': 1}]  \n",
       "4   [{'active': False, 'dirac': 4, 'majorana': 0, 'extra_generations': (1, 0), 'n': 10, 'unconditional': False, 'δ': 1}, {'active': False, 'dirac': 4, 'majorana': 2, 'extra_generations': (1, 1), 'n': 10, 'unconditional': False, 'δ': 1}]  \n",
       "5   [{'active': False, 'dirac': 4, 'majorana': 0, 'extra_generations': (1, 0), 'n': 10, 'unconditional': False, 'δ': 1}, {'active': False, 'dirac': 4, 'majorana': 1, 'extra_generations': (1, 0), 'n': 10, 'unconditional': False, 'δ': 1}]  \n",
       "6                                                                                                                       [{'active': False, 'dirac': 4, 'majorana': 0, 'extra_generations': (0, 0), 'n': 10, 'unconditional': False, 'δ': 1}]  \n",
       "7                                                                                                                       [{'active': False, 'dirac': 3, 'majorana': 2, 'extra_generations': (0, 1), 'n': 10, 'unconditional': False, 'δ': 1}]  \n",
       "8                                                                                                                       [{'active': False, 'dirac': 2, 'majorana': 4, 'extra_generations': (0, 3), 'n': 10, 'unconditional': False, 'δ': 1}]  \n",
       "9                                                                                                                        [{'active': False, 'dirac': 4, 'majorana': 0, 'extra_generations': (1, 0), 'n': 10, 'unconditional': True, 'δ': 1}]  \n",
       "10                                                                                                                       [{'active': False, 'dirac': 3, 'majorana': 2, 'extra_generations': (0, 1), 'n': 10, 'unconditional': True, 'δ': 1}]  \n",
       "11                                                                                                                      [{'active': False, 'dirac': 4, 'majorana': 1, 'extra_generations': (0, 0), 'n': 10, 'unconditional': False, 'δ': 1}]  \n",
       "12                                                                                                                      [{'active': False, 'dirac': 4, 'majorana': 2, 'extra_generations': (1, 1), 'n': 10, 'unconditional': False, 'δ': 1}]  \n",
       "13                                                                                                                      [{'active': False, 'dirac': 3, 'majorana': 2, 'extra_generations': (1, 1), 'n': 10, 'unconditional': False, 'δ': 1}]  \n",
       "14                                                                                                                       [{'active': False, 'dirac': 4, 'majorana': 0, 'extra_generations': (0, 0), 'n': 10, 'unconditional': True, 'δ': 1}]  \n",
       "15                                                                                                                       [{'active': False, 'dirac': 4, 'majorana': 1, 'extra_generations': (0, 0), 'n': 10, 'unconditional': True, 'δ': 1}]  \n",
       "16                                                                                                                       [{'active': False, 'dirac': 4, 'majorana': 1, 'extra_generations': (1, 0), 'n': 10, 'unconditional': True, 'δ': 1}]  \n",
       "17                                                                                                                      [{'active': False, 'dirac': 4, 'majorana': 1, 'extra_generations': (1, 0), 'n': 10, 'unconditional': False, 'δ': 1}]  "
      ]
     },
     "execution_count": 65,
     "metadata": {},
     "output_type": "execute_result"
    }
   ],
   "source": [
    "fnl[fnl['features'].apply(lambda l: True in [ True for d in l if not d.get('active') and d.get('δ')==1 ])].reset_index(drop=True)"
   ]
  },
  {
   "cell_type": "markdown",
   "metadata": {},
   "source": [
    "__Active symmetry with D-5__\n",
    "\n",
    "\n",
    "From 2 to 3 massive Dirac fermions and until a Majorana massive fermion. In the case of solutions with uncoditional stability for two dark matter candidates, if the solution includes a Majorana massive fermion, it is protected by one of the renmant symmetries. In this case the number of singlet chiral fermions is $n-3=6,8$"
   ]
  },
  {
   "cell_type": "code",
   "execution_count": 66,
   "metadata": {},
   "outputs": [
    {
     "data": {
      "text/html": [
       "<div>\n",
       "<style scoped>\n",
       "    .dataframe tbody tr th:only-of-type {\n",
       "        vertical-align: middle;\n",
       "    }\n",
       "\n",
       "    .dataframe tbody tr th {\n",
       "        vertical-align: top;\n",
       "    }\n",
       "\n",
       "    .dataframe thead th {\n",
       "        text-align: right;\n",
       "    }\n",
       "</style>\n",
       "<table border=\"1\" class=\"dataframe\">\n",
       "  <thead>\n",
       "    <tr style=\"text-align: right;\">\n",
       "      <th></th>\n",
       "      <th>l</th>\n",
       "      <th>k</th>\n",
       "      <th>solution</th>\n",
       "      <th>gcd</th>\n",
       "      <th>n</th>\n",
       "      <th>nmax</th>\n",
       "      <th>effective</th>\n",
       "      <th>DMs</th>\n",
       "      <th>features</th>\n",
       "    </tr>\n",
       "  </thead>\n",
       "  <tbody>\n",
       "    <tr>\n",
       "      <th>0</th>\n",
       "      <td>[1, 2, 1, -1]</td>\n",
       "      <td>[-6, -3, -5, -3]</td>\n",
       "      <td>[1, 2, -6, -6, -6, 8, 9, 9, -11]</td>\n",
       "      <td>1.0</td>\n",
       "      <td>9</td>\n",
       "      <td>11</td>\n",
       "      <td>[{'m': -6, 'ν': 9, 's': -3, 'massless': [], 'sp': None, 'δ': 1}]</td>\n",
       "      <td>{'None': ()}</td>\n",
       "      <td>[{'active': True, 'dirac': 2, 'majorana': 0, 'extra_generations': (0, 0), 'n': 9, 'unconditional': False, 'δ': 1}]</td>\n",
       "    </tr>\n",
       "    <tr>\n",
       "      <th>1</th>\n",
       "      <td>[1, 0, 1, 0, -1]</td>\n",
       "      <td>[-2, -1, -2, -1, 0]</td>\n",
       "      <td>[1, 1, 1, -2, -2, -5, -5, 6, 6, 7, -8]</td>\n",
       "      <td>1.0</td>\n",
       "      <td>11</td>\n",
       "      <td>8</td>\n",
       "      <td>[{'m': 1, 'ν': -2, 's': 1, 'massless': [], 'sp': None, 'δ': 1}]</td>\n",
       "      <td>{'None': ()}</td>\n",
       "      <td>[{'active': True, 'dirac': 3, 'majorana': 0, 'extra_generations': (1, 0), 'n': 11, 'unconditional': False, 'δ': 1}]</td>\n",
       "    </tr>\n",
       "    <tr>\n",
       "      <th>2</th>\n",
       "      <td>[1, -1, 0, 2, 1]</td>\n",
       "      <td>[-3, -1, 0, -2, -3]</td>\n",
       "      <td>[1, -2, -2, -2, -3, 4, 4, -5, 6, 7, -8]</td>\n",
       "      <td>1.0</td>\n",
       "      <td>11</td>\n",
       "      <td>8</td>\n",
       "      <td>[{'m': -2, 'ν': 4, 's': -2, 'massless': [], 'sp': None, 'δ': 1}]</td>\n",
       "      <td>{'None': ()}</td>\n",
       "      <td>[{'active': True, 'dirac': 3, 'majorana': 1, 'extra_generations': (0, 0), 'n': 11, 'unconditional': False, 'δ': 1}]</td>\n",
       "    </tr>\n",
       "    <tr>\n",
       "      <th>3</th>\n",
       "      <td>[-2, -1, 0, -3, -1]</td>\n",
       "      <td>[-2, -1, 2, 0, -1]</td>\n",
       "      <td>[1, 1, 2, 2, 2, -4, -4, 7, -8, -9, 10]</td>\n",
       "      <td>1.0</td>\n",
       "      <td>11</td>\n",
       "      <td>10</td>\n",
       "      <td>[{'m': 2, 'ν': -4, 's': 2, 'massless': [], 'sp': None, 'δ': 1}]</td>\n",
       "      <td>{'None': ()}</td>\n",
       "      <td>[{'active': True, 'dirac': 2, 'majorana': 2, 'extra_generations': (0, 1), 'n': 11, 'unconditional': False, 'δ': 1}]</td>\n",
       "    </tr>\n",
       "    <tr>\n",
       "      <th>4</th>\n",
       "      <td>[1, 0, 2, 0, 3]</td>\n",
       "      <td>[-2, -1, -2, -1, 0]</td>\n",
       "      <td>[2, 2, 2, -4, -4, -5, 7, -8, 9, 10, -11]</td>\n",
       "      <td>2.0</td>\n",
       "      <td>11</td>\n",
       "      <td>11</td>\n",
       "      <td>[{'m': 2, 'ν': -4, 's': 2, 'massless': [], 'sp': None, 'δ': 1}]</td>\n",
       "      <td>{'None': ()}</td>\n",
       "      <td>[{'active': True, 'dirac': 3, 'majorana': 0, 'extra_generations': (0, 0), 'n': 11, 'unconditional': False, 'δ': 1}]</td>\n",
       "    </tr>\n",
       "    <tr>\n",
       "      <th>5</th>\n",
       "      <td>[-2, 0, 1, 0, -3]</td>\n",
       "      <td>[-2, -1, 0, -1, 1]</td>\n",
       "      <td>[1, 3, 5, -6, -6, -6, 8, -9, 12, 12, -14]</td>\n",
       "      <td>2.0</td>\n",
       "      <td>11</td>\n",
       "      <td>14</td>\n",
       "      <td>[{'m': -6, 'ν': 12, 's': -6, 'massless': [], 'sp': None, 'δ': 1}]</td>\n",
       "      <td>{'None': (1, 5), 'χ': (3, 3), 'ψ': (-14, 8)}</td>\n",
       "      <td>[{'active': True, 'dirac': 3, 'majorana': 1, 'extra_generations': (0, 0), 'n': 11, 'unconditional': True, 'δ': 1}]</td>\n",
       "    </tr>\n",
       "    <tr>\n",
       "      <th>6</th>\n",
       "      <td>[-2, 0, -1, 0, 3]</td>\n",
       "      <td>[-2, -1, 0, -1, 1]</td>\n",
       "      <td>[1, -2, 6, 6, 6, -7, 8, -9, -12, -12, 15]</td>\n",
       "      <td>2.0</td>\n",
       "      <td>11</td>\n",
       "      <td>15</td>\n",
       "      <td>[{'m': 6, 'ν': -12, 's': 6, 'massless': [], 'sp': None, 'δ': 1}]</td>\n",
       "      <td>{'ψ': (-2, 8), 'None': (-7, 1), 'χ': (-9, 15)}</td>\n",
       "      <td>[{'active': True, 'dirac': 3, 'majorana': 0, 'extra_generations': (0, 0), 'n': 11, 'unconditional': True, 'δ': 1}]</td>\n",
       "    </tr>\n",
       "    <tr>\n",
       "      <th>7</th>\n",
       "      <td>[-3, 0, -2, 0]</td>\n",
       "      <td>[-2, -4, -2, 1, -1]</td>\n",
       "      <td>[1, 3, 3, 6, 6, 6, -7, -10, -12, -12, 16]</td>\n",
       "      <td>6.0</td>\n",
       "      <td>11</td>\n",
       "      <td>16</td>\n",
       "      <td>[{'m': 6, 'ν': -12, 's': 6, 'massless': [], 'sp': None, 'δ': 1}]</td>\n",
       "      <td>{'χ': (3, 3), 'None': (-7, 1), 'ψ': (-10, 16)}</td>\n",
       "      <td>[{'active': True, 'dirac': 2, 'majorana': 2, 'extra_generations': (0, 1), 'n': 11, 'unconditional': True, 'δ': 1}]</td>\n",
       "    </tr>\n",
       "    <tr>\n",
       "      <th>8</th>\n",
       "      <td>[-1, 0, -1, 0, 1]</td>\n",
       "      <td>[-3, -2, -3, -2, 2]</td>\n",
       "      <td>[1, -2, -2, -2, 3, 3, 4, 4, -5, -5, -5, 6]</td>\n",
       "      <td>1.0</td>\n",
       "      <td>12</td>\n",
       "      <td>6</td>\n",
       "      <td>[{'m': -5, 'ν': -2, 's': 7, 'massless': [], 'sp': None, 'δ': 1}, {'m': -2, 'ν': -5, 's': 7, 'massless': [], 'sp': None, 'δ': 1}]</td>\n",
       "      <td>{'None': ()}</td>\n",
       "      <td>[{'active': True, 'dirac': 3, 'majorana': 0, 'extra_generations': (1, 0), 'n': 12, 'unconditional': False, 'δ': 1}]</td>\n",
       "    </tr>\n",
       "    <tr>\n",
       "      <th>9</th>\n",
       "      <td>[-1, 1, -1, 1, -2]</td>\n",
       "      <td>[-2, -3, -2, 0, -2]</td>\n",
       "      <td>[1, 1, -3, 4, 5, 5, 5, -6, -7, -7, -8, 10]</td>\n",
       "      <td>4.0</td>\n",
       "      <td>12</td>\n",
       "      <td>10</td>\n",
       "      <td>[{'m': 5, 'ν': -7, 's': 2, 'massless': [], 'sp': None, 'δ': 1}]</td>\n",
       "      <td>{'None': ()}</td>\n",
       "      <td>[{'active': True, 'dirac': 3, 'majorana': 2, 'extra_generations': (0, 1), 'n': 12, 'unconditional': False, 'δ': 1}]</td>\n",
       "    </tr>\n",
       "    <tr>\n",
       "      <th>10</th>\n",
       "      <td>[2, -2, 0, 3, -3]</td>\n",
       "      <td>[-1, -2, 1, -1, 0]</td>\n",
       "      <td>[1, 1, 1, -2, 4, -7, -7, -7, 8, 9, 9, -10]</td>\n",
       "      <td>1.0</td>\n",
       "      <td>12</td>\n",
       "      <td>10</td>\n",
       "      <td>[{'m': -7, 'ν': 9, 's': -2, 'massless': [], 'sp': None, 'δ': 1}]</td>\n",
       "      <td>{'None': ()}</td>\n",
       "      <td>[{'active': True, 'dirac': 2, 'majorana': 3, 'extra_generations': (0, 2), 'n': 12, 'unconditional': False, 'δ': 1}]</td>\n",
       "    </tr>\n",
       "    <tr>\n",
       "      <th>11</th>\n",
       "      <td>[1, -3, -2, -1, -2]</td>\n",
       "      <td>[-3, -1, -3, -1, -3]</td>\n",
       "      <td>[1, 1, -3, -3, -5, -5, -5, 7, 7, 7, 9, -11]</td>\n",
       "      <td>2.0</td>\n",
       "      <td>12</td>\n",
       "      <td>11</td>\n",
       "      <td>[{'m': -5, 'ν': 7, 's': -2, 'massless': [], 'sp': None, 'δ': 1}, {'m': 7, 'ν': -5, 's': -2, 'massless': [], 'sp': None, 'δ': 1}]</td>\n",
       "      <td>{'None': ()}</td>\n",
       "      <td>[{'active': True, 'dirac': 3, 'majorana': 2, 'extra_generations': (1, 1), 'n': 12, 'unconditional': False, 'δ': 1}]</td>\n",
       "    </tr>\n",
       "    <tr>\n",
       "      <th>12</th>\n",
       "      <td>[1, -3, 1, 3, 1]</td>\n",
       "      <td>[-3, -2, -3, 0, -3]</td>\n",
       "      <td>[1, -3, -3, -3, 4, 6, 7, 9, -10, -10, -10, 12]</td>\n",
       "      <td>10.0</td>\n",
       "      <td>12</td>\n",
       "      <td>12</td>\n",
       "      <td>[{'m': -3, 'ν': -10, 's': 13, 'massless': [], 'sp': None, 'δ': 1}]</td>\n",
       "      <td>{'None': ()}</td>\n",
       "      <td>[{'active': True, 'dirac': 3, 'majorana': 0, 'extra_generations': (0, 0), 'n': 12, 'unconditional': False, 'δ': 1}]</td>\n",
       "    </tr>\n",
       "    <tr>\n",
       "      <th>13</th>\n",
       "      <td>[1, 2, 1, 2, 1]</td>\n",
       "      <td>[-3, -1, -3, -1, -3]</td>\n",
       "      <td>[1, 1, 1, 3, 3, -5, 7, 7, -11, -11, -11, 15]</td>\n",
       "      <td>2.0</td>\n",
       "      <td>12</td>\n",
       "      <td>15</td>\n",
       "      <td>[{'m': 1, 'ν': -11, 's': 10, 'massless': [], 'sp': None, 'δ': 1}, {'m': -11, 'ν': 1, 's': 10, 'massless': [], 'sp': None, 'δ': 1}]</td>\n",
       "      <td>{'None': (3, 7), 'χ': (-5, -5)}</td>\n",
       "      <td>[{'active': True, 'dirac': 3, 'majorana': 1, 'extra_generations': (1, 0), 'n': 12, 'unconditional': False, 'δ': 1}]</td>\n",
       "    </tr>\n",
       "    <tr>\n",
       "      <th>14</th>\n",
       "      <td>[-1, -2, -1, -2, -1]</td>\n",
       "      <td>[-2, -3, -2, 2, -2]</td>\n",
       "      <td>[1, -2, -2, 3, 6, -10, -10, -10, 13, 14, 14, -17]</td>\n",
       "      <td>2.0</td>\n",
       "      <td>12</td>\n",
       "      <td>17</td>\n",
       "      <td>[{'m': -10, 'ν': 14, 's': -4, 'massless': [], 'sp': None, 'δ': 1}]</td>\n",
       "      <td>{'None': ()}</td>\n",
       "      <td>[{'active': True, 'dirac': 4, 'majorana': 2, 'extra_generations': (1, 1), 'n': 12, 'unconditional': False, 'δ': 1}]</td>\n",
       "    </tr>\n",
       "    <tr>\n",
       "      <th>15</th>\n",
       "      <td>[1, -2, 1, -1, 1]</td>\n",
       "      <td>[-3, -1, -3, -1, -3]</td>\n",
       "      <td>[1, -3, 9, -11, -13, -13, -13, 15, 15, 15, 21, -23]</td>\n",
       "      <td>4.0</td>\n",
       "      <td>12</td>\n",
       "      <td>23</td>\n",
       "      <td>[{'m': -13, 'ν': 15, 's': -2, 'massless': [], 'sp': None, 'δ': 1}]</td>\n",
       "      <td>{'None': ()}</td>\n",
       "      <td>[{'active': True, 'dirac': 3, 'majorana': 1, 'extra_generations': (0, 0), 'n': 12, 'unconditional': False, 'δ': 1}]</td>\n",
       "    </tr>\n",
       "  </tbody>\n",
       "</table>\n",
       "</div>"
      ],
      "text/plain": [
       "                       l                     k  \\\n",
       "0          [1, 2, 1, -1]      [-6, -3, -5, -3]   \n",
       "1       [1, 0, 1, 0, -1]   [-2, -1, -2, -1, 0]   \n",
       "2       [1, -1, 0, 2, 1]   [-3, -1, 0, -2, -3]   \n",
       "3    [-2, -1, 0, -3, -1]    [-2, -1, 2, 0, -1]   \n",
       "4        [1, 0, 2, 0, 3]   [-2, -1, -2, -1, 0]   \n",
       "5      [-2, 0, 1, 0, -3]    [-2, -1, 0, -1, 1]   \n",
       "6      [-2, 0, -1, 0, 3]    [-2, -1, 0, -1, 1]   \n",
       "7         [-3, 0, -2, 0]   [-2, -4, -2, 1, -1]   \n",
       "8      [-1, 0, -1, 0, 1]   [-3, -2, -3, -2, 2]   \n",
       "9     [-1, 1, -1, 1, -2]   [-2, -3, -2, 0, -2]   \n",
       "10     [2, -2, 0, 3, -3]    [-1, -2, 1, -1, 0]   \n",
       "11   [1, -3, -2, -1, -2]  [-3, -1, -3, -1, -3]   \n",
       "12      [1, -3, 1, 3, 1]   [-3, -2, -3, 0, -3]   \n",
       "13       [1, 2, 1, 2, 1]  [-3, -1, -3, -1, -3]   \n",
       "14  [-1, -2, -1, -2, -1]   [-2, -3, -2, 2, -2]   \n",
       "15     [1, -2, 1, -1, 1]  [-3, -1, -3, -1, -3]   \n",
       "\n",
       "                                               solution   gcd   n  nmax  \\\n",
       "0                      [1, 2, -6, -6, -6, 8, 9, 9, -11]   1.0   9    11   \n",
       "1                [1, 1, 1, -2, -2, -5, -5, 6, 6, 7, -8]   1.0  11     8   \n",
       "2               [1, -2, -2, -2, -3, 4, 4, -5, 6, 7, -8]   1.0  11     8   \n",
       "3                [1, 1, 2, 2, 2, -4, -4, 7, -8, -9, 10]   1.0  11    10   \n",
       "4              [2, 2, 2, -4, -4, -5, 7, -8, 9, 10, -11]   2.0  11    11   \n",
       "5             [1, 3, 5, -6, -6, -6, 8, -9, 12, 12, -14]   2.0  11    14   \n",
       "6             [1, -2, 6, 6, 6, -7, 8, -9, -12, -12, 15]   2.0  11    15   \n",
       "7             [1, 3, 3, 6, 6, 6, -7, -10, -12, -12, 16]   6.0  11    16   \n",
       "8            [1, -2, -2, -2, 3, 3, 4, 4, -5, -5, -5, 6]   1.0  12     6   \n",
       "9            [1, 1, -3, 4, 5, 5, 5, -6, -7, -7, -8, 10]   4.0  12    10   \n",
       "10           [1, 1, 1, -2, 4, -7, -7, -7, 8, 9, 9, -10]   1.0  12    10   \n",
       "11          [1, 1, -3, -3, -5, -5, -5, 7, 7, 7, 9, -11]   2.0  12    11   \n",
       "12       [1, -3, -3, -3, 4, 6, 7, 9, -10, -10, -10, 12]  10.0  12    12   \n",
       "13         [1, 1, 1, 3, 3, -5, 7, 7, -11, -11, -11, 15]   2.0  12    15   \n",
       "14    [1, -2, -2, 3, 6, -10, -10, -10, 13, 14, 14, -17]   2.0  12    17   \n",
       "15  [1, -3, 9, -11, -13, -13, -13, 15, 15, 15, 21, -23]   4.0  12    23   \n",
       "\n",
       "                                                                                                                             effective  \\\n",
       "0                                                                     [{'m': -6, 'ν': 9, 's': -3, 'massless': [], 'sp': None, 'δ': 1}]   \n",
       "1                                                                      [{'m': 1, 'ν': -2, 's': 1, 'massless': [], 'sp': None, 'δ': 1}]   \n",
       "2                                                                     [{'m': -2, 'ν': 4, 's': -2, 'massless': [], 'sp': None, 'δ': 1}]   \n",
       "3                                                                      [{'m': 2, 'ν': -4, 's': 2, 'massless': [], 'sp': None, 'δ': 1}]   \n",
       "4                                                                      [{'m': 2, 'ν': -4, 's': 2, 'massless': [], 'sp': None, 'δ': 1}]   \n",
       "5                                                                    [{'m': -6, 'ν': 12, 's': -6, 'massless': [], 'sp': None, 'δ': 1}]   \n",
       "6                                                                     [{'m': 6, 'ν': -12, 's': 6, 'massless': [], 'sp': None, 'δ': 1}]   \n",
       "7                                                                     [{'m': 6, 'ν': -12, 's': 6, 'massless': [], 'sp': None, 'δ': 1}]   \n",
       "8     [{'m': -5, 'ν': -2, 's': 7, 'massless': [], 'sp': None, 'δ': 1}, {'m': -2, 'ν': -5, 's': 7, 'massless': [], 'sp': None, 'δ': 1}]   \n",
       "9                                                                      [{'m': 5, 'ν': -7, 's': 2, 'massless': [], 'sp': None, 'δ': 1}]   \n",
       "10                                                                    [{'m': -7, 'ν': 9, 's': -2, 'massless': [], 'sp': None, 'δ': 1}]   \n",
       "11    [{'m': -5, 'ν': 7, 's': -2, 'massless': [], 'sp': None, 'δ': 1}, {'m': 7, 'ν': -5, 's': -2, 'massless': [], 'sp': None, 'δ': 1}]   \n",
       "12                                                                  [{'m': -3, 'ν': -10, 's': 13, 'massless': [], 'sp': None, 'δ': 1}]   \n",
       "13  [{'m': 1, 'ν': -11, 's': 10, 'massless': [], 'sp': None, 'δ': 1}, {'m': -11, 'ν': 1, 's': 10, 'massless': [], 'sp': None, 'δ': 1}]   \n",
       "14                                                                  [{'m': -10, 'ν': 14, 's': -4, 'massless': [], 'sp': None, 'δ': 1}]   \n",
       "15                                                                  [{'m': -13, 'ν': 15, 's': -2, 'massless': [], 'sp': None, 'δ': 1}]   \n",
       "\n",
       "                                               DMs  \\\n",
       "0                                     {'None': ()}   \n",
       "1                                     {'None': ()}   \n",
       "2                                     {'None': ()}   \n",
       "3                                     {'None': ()}   \n",
       "4                                     {'None': ()}   \n",
       "5     {'None': (1, 5), 'χ': (3, 3), 'ψ': (-14, 8)}   \n",
       "6   {'ψ': (-2, 8), 'None': (-7, 1), 'χ': (-9, 15)}   \n",
       "7   {'χ': (3, 3), 'None': (-7, 1), 'ψ': (-10, 16)}   \n",
       "8                                     {'None': ()}   \n",
       "9                                     {'None': ()}   \n",
       "10                                    {'None': ()}   \n",
       "11                                    {'None': ()}   \n",
       "12                                    {'None': ()}   \n",
       "13                 {'None': (3, 7), 'χ': (-5, -5)}   \n",
       "14                                    {'None': ()}   \n",
       "15                                    {'None': ()}   \n",
       "\n",
       "                                                                                                               features  \n",
       "0    [{'active': True, 'dirac': 2, 'majorana': 0, 'extra_generations': (0, 0), 'n': 9, 'unconditional': False, 'δ': 1}]  \n",
       "1   [{'active': True, 'dirac': 3, 'majorana': 0, 'extra_generations': (1, 0), 'n': 11, 'unconditional': False, 'δ': 1}]  \n",
       "2   [{'active': True, 'dirac': 3, 'majorana': 1, 'extra_generations': (0, 0), 'n': 11, 'unconditional': False, 'δ': 1}]  \n",
       "3   [{'active': True, 'dirac': 2, 'majorana': 2, 'extra_generations': (0, 1), 'n': 11, 'unconditional': False, 'δ': 1}]  \n",
       "4   [{'active': True, 'dirac': 3, 'majorana': 0, 'extra_generations': (0, 0), 'n': 11, 'unconditional': False, 'δ': 1}]  \n",
       "5    [{'active': True, 'dirac': 3, 'majorana': 1, 'extra_generations': (0, 0), 'n': 11, 'unconditional': True, 'δ': 1}]  \n",
       "6    [{'active': True, 'dirac': 3, 'majorana': 0, 'extra_generations': (0, 0), 'n': 11, 'unconditional': True, 'δ': 1}]  \n",
       "7    [{'active': True, 'dirac': 2, 'majorana': 2, 'extra_generations': (0, 1), 'n': 11, 'unconditional': True, 'δ': 1}]  \n",
       "8   [{'active': True, 'dirac': 3, 'majorana': 0, 'extra_generations': (1, 0), 'n': 12, 'unconditional': False, 'δ': 1}]  \n",
       "9   [{'active': True, 'dirac': 3, 'majorana': 2, 'extra_generations': (0, 1), 'n': 12, 'unconditional': False, 'δ': 1}]  \n",
       "10  [{'active': True, 'dirac': 2, 'majorana': 3, 'extra_generations': (0, 2), 'n': 12, 'unconditional': False, 'δ': 1}]  \n",
       "11  [{'active': True, 'dirac': 3, 'majorana': 2, 'extra_generations': (1, 1), 'n': 12, 'unconditional': False, 'δ': 1}]  \n",
       "12  [{'active': True, 'dirac': 3, 'majorana': 0, 'extra_generations': (0, 0), 'n': 12, 'unconditional': False, 'δ': 1}]  \n",
       "13  [{'active': True, 'dirac': 3, 'majorana': 1, 'extra_generations': (1, 0), 'n': 12, 'unconditional': False, 'δ': 1}]  \n",
       "14  [{'active': True, 'dirac': 4, 'majorana': 2, 'extra_generations': (1, 1), 'n': 12, 'unconditional': False, 'δ': 1}]  \n",
       "15  [{'active': True, 'dirac': 3, 'majorana': 1, 'extra_generations': (0, 0), 'n': 12, 'unconditional': False, 'δ': 1}]  "
      ]
     },
     "execution_count": 66,
     "metadata": {},
     "output_type": "execute_result"
    }
   ],
   "source": [
    "kk=fnl[fnl['features'].apply(lambda l: True in [ True for d in l if d.get('active') and d.get('δ')==1 ])].reset_index(drop=True)\n",
    "df=pd.DataFrame(kk['features'].str[0].to_list())\n",
    "kk"
   ]
  },
  {
   "cell_type": "markdown",
   "metadata": {},
   "source": [
    "__Dark symmetry with D-6__\n",
    "\n",
    "From 2 to 4 massive Dirac fermions and until a Majorana massive fermion. In the case of solutions with uncoditional stability for two dark matter candidates, if the solution includes a Majorana massive fermion"
   ]
  },
  {
   "cell_type": "code",
   "execution_count": 67,
   "metadata": {},
   "outputs": [
    {
     "data": {
      "text/html": [
       "<div>\n",
       "<style scoped>\n",
       "    .dataframe tbody tr th:only-of-type {\n",
       "        vertical-align: middle;\n",
       "    }\n",
       "\n",
       "    .dataframe tbody tr th {\n",
       "        vertical-align: top;\n",
       "    }\n",
       "\n",
       "    .dataframe thead th {\n",
       "        text-align: right;\n",
       "    }\n",
       "</style>\n",
       "<table border=\"1\" class=\"dataframe\">\n",
       "  <thead>\n",
       "    <tr style=\"text-align: right;\">\n",
       "      <th></th>\n",
       "      <th>l</th>\n",
       "      <th>k</th>\n",
       "      <th>solution</th>\n",
       "      <th>gcd</th>\n",
       "      <th>n</th>\n",
       "      <th>nmax</th>\n",
       "      <th>effective</th>\n",
       "      <th>DMs</th>\n",
       "      <th>features</th>\n",
       "    </tr>\n",
       "  </thead>\n",
       "  <tbody>\n",
       "    <tr>\n",
       "      <th>0</th>\n",
       "      <td>[-2, -1, 1, 2]</td>\n",
       "      <td>[-2, -1, 0, 1]</td>\n",
       "      <td>[2, 2, 4, 4, -7, -7, -9, -9, 10, 10]</td>\n",
       "      <td>2.0</td>\n",
       "      <td>10</td>\n",
       "      <td>10</td>\n",
       "      <td>[{'m': 0, 'ν': 10, 's': -5, 'massless': [], 'sp': None, 'δ': 2}]</td>\n",
       "      <td>{'None': ()}</td>\n",
       "      <td>[{'active': False, 'dirac': 4, 'majorana': 0, 'extra_generations': (2, 0), 'n': 10, 'unconditional': False, 'δ': 2}]</td>\n",
       "    </tr>\n",
       "    <tr>\n",
       "      <th>1</th>\n",
       "      <td>[-1, 3, 1, -1]</td>\n",
       "      <td>[-3, -1, -4, 1, -1]</td>\n",
       "      <td>[1, 1, -3, 4, 4, -7, 8, -10, -10, 12]</td>\n",
       "      <td>1.0</td>\n",
       "      <td>10</td>\n",
       "      <td>12</td>\n",
       "      <td>[{'m': 0, 'ν': -10, 's': 5, 'massless': [], 'sp': None, 'δ': 2}]</td>\n",
       "      <td>{'None': ()}</td>\n",
       "      <td>[{'active': False, 'dirac': 4, 'majorana': 0, 'extra_generations': (1, 0), 'n': 10, 'unconditional': False, 'δ': 2}]</td>\n",
       "    </tr>\n",
       "    <tr>\n",
       "      <th>2</th>\n",
       "      <td>[2, 1, 0, -1]</td>\n",
       "      <td>[-2, -3, -1, -2, 0]</td>\n",
       "      <td>[1, -3, -6, 7, -10, 11, -16, 18, 18, -20]</td>\n",
       "      <td>2.0</td>\n",
       "      <td>10</td>\n",
       "      <td>20</td>\n",
       "      <td>[{'m': 0, 'ν': 18, 's': -9, 'massless': [], 'sp': None, 'δ': 2}]</td>\n",
       "      <td>{'None': ()}</td>\n",
       "      <td>[{'active': False, 'dirac': 4, 'majorana': 0, 'extra_generations': (0, 0), 'n': 10, 'unconditional': False, 'δ': 2}]</td>\n",
       "    </tr>\n",
       "  </tbody>\n",
       "</table>\n",
       "</div>"
      ],
      "text/plain": [
       "                l                    k  \\\n",
       "0  [-2, -1, 1, 2]       [-2, -1, 0, 1]   \n",
       "1  [-1, 3, 1, -1]  [-3, -1, -4, 1, -1]   \n",
       "2   [2, 1, 0, -1]  [-2, -3, -1, -2, 0]   \n",
       "\n",
       "                                    solution  gcd   n  nmax  \\\n",
       "0       [2, 2, 4, 4, -7, -7, -9, -9, 10, 10]  2.0  10    10   \n",
       "1      [1, 1, -3, 4, 4, -7, 8, -10, -10, 12]  1.0  10    12   \n",
       "2  [1, -3, -6, 7, -10, 11, -16, 18, 18, -20]  2.0  10    20   \n",
       "\n",
       "                                                          effective  \\\n",
       "0  [{'m': 0, 'ν': 10, 's': -5, 'massless': [], 'sp': None, 'δ': 2}]   \n",
       "1  [{'m': 0, 'ν': -10, 's': 5, 'massless': [], 'sp': None, 'δ': 2}]   \n",
       "2  [{'m': 0, 'ν': 18, 's': -9, 'massless': [], 'sp': None, 'δ': 2}]   \n",
       "\n",
       "            DMs  \\\n",
       "0  {'None': ()}   \n",
       "1  {'None': ()}   \n",
       "2  {'None': ()}   \n",
       "\n",
       "                                                                                                               features  \n",
       "0  [{'active': False, 'dirac': 4, 'majorana': 0, 'extra_generations': (2, 0), 'n': 10, 'unconditional': False, 'δ': 2}]  \n",
       "1  [{'active': False, 'dirac': 4, 'majorana': 0, 'extra_generations': (1, 0), 'n': 10, 'unconditional': False, 'δ': 2}]  \n",
       "2  [{'active': False, 'dirac': 4, 'majorana': 0, 'extra_generations': (0, 0), 'n': 10, 'unconditional': False, 'δ': 2}]  "
      ]
     },
     "execution_count": 67,
     "metadata": {},
     "output_type": "execute_result"
    }
   ],
   "source": [
    "fnl[fnl['features'].apply(lambda l: True in [ True for d in l if not d.get('active') and d.get('δ')==2 ])].reset_index(drop=True)"
   ]
  },
  {
   "cell_type": "markdown",
   "metadata": {},
   "source": [
    "__Active symmetry with D-6__"
   ]
  },
  {
   "cell_type": "code",
   "execution_count": 68,
   "metadata": {},
   "outputs": [
    {
     "data": {
      "text/html": [
       "<div>\n",
       "<style scoped>\n",
       "    .dataframe tbody tr th:only-of-type {\n",
       "        vertical-align: middle;\n",
       "    }\n",
       "\n",
       "    .dataframe tbody tr th {\n",
       "        vertical-align: top;\n",
       "    }\n",
       "\n",
       "    .dataframe thead th {\n",
       "        text-align: right;\n",
       "    }\n",
       "</style>\n",
       "<table border=\"1\" class=\"dataframe\">\n",
       "  <thead>\n",
       "    <tr style=\"text-align: right;\">\n",
       "      <th></th>\n",
       "      <th>l</th>\n",
       "      <th>k</th>\n",
       "      <th>solution</th>\n",
       "      <th>gcd</th>\n",
       "      <th>n</th>\n",
       "      <th>nmax</th>\n",
       "      <th>effective</th>\n",
       "      <th>DMs</th>\n",
       "      <th>features</th>\n",
       "    </tr>\n",
       "  </thead>\n",
       "  <tbody>\n",
       "    <tr>\n",
       "      <th>0</th>\n",
       "      <td>[-3, -1]</td>\n",
       "      <td>[-2, -3, 1]</td>\n",
       "      <td>[3, 3, 3, -5, -5, -7, 8]</td>\n",
       "      <td>1.0</td>\n",
       "      <td>7</td>\n",
       "      <td>8</td>\n",
       "      <td>[{'m': 3, 'ν': -5, 's': 1, 'massless': [], 'sp': None, 'δ': 2}]</td>\n",
       "      <td>{'None': ()}</td>\n",
       "      <td>[{'active': True, 'dirac': 1, 'majorana': 0, 'extra_generations': (0, 0), 'n': 7, 'unconditional': False, 'δ': 2}]</td>\n",
       "    </tr>\n",
       "    <tr>\n",
       "      <th>1</th>\n",
       "      <td>[3, -4, 5]</td>\n",
       "      <td>[-4, -3, 1, -3]</td>\n",
       "      <td>[1, -3, 8, 8, 8, -12, -12, -17, 19]</td>\n",
       "      <td>4.0</td>\n",
       "      <td>9</td>\n",
       "      <td>19</td>\n",
       "      <td>[{'m': 8, 'ν': -12, 's': 2, 'massless': [], 'sp': None, 'δ': 2}]</td>\n",
       "      <td>{'None': ()}</td>\n",
       "      <td>[{'active': True, 'dirac': 2, 'majorana': 1, 'extra_generations': (0, 0), 'n': 9, 'unconditional': False, 'δ': 2}]</td>\n",
       "    </tr>\n",
       "    <tr>\n",
       "      <th>2</th>\n",
       "      <td>[-1, 4, 2]</td>\n",
       "      <td>[-3, -8, 3, 4]</td>\n",
       "      <td>[8, 8, 8, -12, -12, 15, -17, -23, 25]</td>\n",
       "      <td>10.0</td>\n",
       "      <td>9</td>\n",
       "      <td>25</td>\n",
       "      <td>[{'m': 8, 'ν': -12, 's': 2, 'massless': [], 'sp': None, 'δ': 2}]</td>\n",
       "      <td>{'None': ()}</td>\n",
       "      <td>[{'active': True, 'dirac': 2, 'majorana': 0, 'extra_generations': (0, 0), 'n': 9, 'unconditional': False, 'δ': 2}]</td>\n",
       "    </tr>\n",
       "    <tr>\n",
       "      <th>3</th>\n",
       "      <td>[-1, 1, 0, 1]</td>\n",
       "      <td>[-2, -3, 2, 0, 1]</td>\n",
       "      <td>[1, -2, -3, -3, -3, 5, 5, -7, 8, 10, -11]</td>\n",
       "      <td>1.0</td>\n",
       "      <td>11</td>\n",
       "      <td>11</td>\n",
       "      <td>[{'m': -3, 'ν': 5, 's': -1, 'massless': [], 'sp': None, 'δ': 2}]</td>\n",
       "      <td>{'None': ()}</td>\n",
       "      <td>[{'active': True, 'dirac': 3, 'majorana': 0, 'extra_generations': (0, 0), 'n': 11, 'unconditional': False, 'δ': 2}]</td>\n",
       "    </tr>\n",
       "    <tr>\n",
       "      <th>4</th>\n",
       "      <td>[-1, -3, 0, -2, 1]</td>\n",
       "      <td>[-1, -2, 0, 3, -3]</td>\n",
       "      <td>[3, 3, 3, -4, -4, 7, 7, -8, -9, -9, 11]</td>\n",
       "      <td>1.0</td>\n",
       "      <td>11</td>\n",
       "      <td>11</td>\n",
       "      <td>[{'m': 3, 'ν': -9, 's': 3, 'massless': [], 'sp': None, 'δ': 2}]</td>\n",
       "      <td>{'None': ()}</td>\n",
       "      <td>[{'active': True, 'dirac': 3, 'majorana': 0, 'extra_generations': (1, 0), 'n': 11, 'unconditional': False, 'δ': 2}]</td>\n",
       "    </tr>\n",
       "    <tr>\n",
       "      <th>5</th>\n",
       "      <td>[]</td>\n",
       "      <td>[]</td>\n",
       "      <td>[1, 1, 1, 5, 5, 5, -9, -9, 11, -13, -17, 19]</td>\n",
       "      <td>NaN</td>\n",
       "      <td>12</td>\n",
       "      <td>19</td>\n",
       "      <td>[{'m': 5, 'ν': -9, 's': 2, 'massless': [], 'sp': None, 'δ': 2}]</td>\n",
       "      <td>{'None': ()}</td>\n",
       "      <td>[{'active': True, 'dirac': 2, 'majorana': 3, 'extra_generations': (0, 2), 'n': 12, 'unconditional': False, 'δ': 2}]</td>\n",
       "    </tr>\n",
       "  </tbody>\n",
       "</table>\n",
       "</div>"
      ],
      "text/plain": [
       "                    l                   k  \\\n",
       "0            [-3, -1]         [-2, -3, 1]   \n",
       "1          [3, -4, 5]     [-4, -3, 1, -3]   \n",
       "2          [-1, 4, 2]      [-3, -8, 3, 4]   \n",
       "3       [-1, 1, 0, 1]   [-2, -3, 2, 0, 1]   \n",
       "4  [-1, -3, 0, -2, 1]  [-1, -2, 0, 3, -3]   \n",
       "5                  []                  []   \n",
       "\n",
       "                                       solution   gcd   n  nmax  \\\n",
       "0                      [3, 3, 3, -5, -5, -7, 8]   1.0   7     8   \n",
       "1           [1, -3, 8, 8, 8, -12, -12, -17, 19]   4.0   9    19   \n",
       "2         [8, 8, 8, -12, -12, 15, -17, -23, 25]  10.0   9    25   \n",
       "3     [1, -2, -3, -3, -3, 5, 5, -7, 8, 10, -11]   1.0  11    11   \n",
       "4       [3, 3, 3, -4, -4, 7, 7, -8, -9, -9, 11]   1.0  11    11   \n",
       "5  [1, 1, 1, 5, 5, 5, -9, -9, 11, -13, -17, 19]   NaN  12    19   \n",
       "\n",
       "                                                          effective  \\\n",
       "0   [{'m': 3, 'ν': -5, 's': 1, 'massless': [], 'sp': None, 'δ': 2}]   \n",
       "1  [{'m': 8, 'ν': -12, 's': 2, 'massless': [], 'sp': None, 'δ': 2}]   \n",
       "2  [{'m': 8, 'ν': -12, 's': 2, 'massless': [], 'sp': None, 'δ': 2}]   \n",
       "3  [{'m': -3, 'ν': 5, 's': -1, 'massless': [], 'sp': None, 'δ': 2}]   \n",
       "4   [{'m': 3, 'ν': -9, 's': 3, 'massless': [], 'sp': None, 'δ': 2}]   \n",
       "5   [{'m': 5, 'ν': -9, 's': 2, 'massless': [], 'sp': None, 'δ': 2}]   \n",
       "\n",
       "            DMs  \\\n",
       "0  {'None': ()}   \n",
       "1  {'None': ()}   \n",
       "2  {'None': ()}   \n",
       "3  {'None': ()}   \n",
       "4  {'None': ()}   \n",
       "5  {'None': ()}   \n",
       "\n",
       "                                                                                                              features  \n",
       "0   [{'active': True, 'dirac': 1, 'majorana': 0, 'extra_generations': (0, 0), 'n': 7, 'unconditional': False, 'δ': 2}]  \n",
       "1   [{'active': True, 'dirac': 2, 'majorana': 1, 'extra_generations': (0, 0), 'n': 9, 'unconditional': False, 'δ': 2}]  \n",
       "2   [{'active': True, 'dirac': 2, 'majorana': 0, 'extra_generations': (0, 0), 'n': 9, 'unconditional': False, 'δ': 2}]  \n",
       "3  [{'active': True, 'dirac': 3, 'majorana': 0, 'extra_generations': (0, 0), 'n': 11, 'unconditional': False, 'δ': 2}]  \n",
       "4  [{'active': True, 'dirac': 3, 'majorana': 0, 'extra_generations': (1, 0), 'n': 11, 'unconditional': False, 'δ': 2}]  \n",
       "5  [{'active': True, 'dirac': 2, 'majorana': 3, 'extra_generations': (0, 2), 'n': 12, 'unconditional': False, 'δ': 2}]  "
      ]
     },
     "execution_count": 68,
     "metadata": {},
     "output_type": "execute_result"
    }
   ],
   "source": [
    "kk=fnl[fnl['features'].apply(lambda l: True in [ True for d in l if d.get('active') and d.get('δ')==2 ])].reset_index(drop=True)\n",
    "df=pd.DataFrame(kk['features'].str[0].to_list())\n",
    "kk"
   ]
  },
  {
   "cell_type": "code",
   "execution_count": 69,
   "metadata": {},
   "outputs": [
    {
     "name": "stdout",
     "output_type": "stream",
     "text": [
      "Populating the interactive namespace from numpy and matplotlib\n"
     ]
    }
   ],
   "source": [
    "%pylab inline\n",
    "df=pd.DataFrame(fnl['features'].str[0].to_list())"
   ]
  },
  {
   "cell_type": "code",
   "execution_count": 123,
   "metadata": {},
   "outputs": [
    {
     "data": {
      "image/png": "[encoded data removed]",
      "text/plain": [
       "<Figure size 648x288 with 1 Axes>"
      ]
     },
     "metadata": {
      "needs_background": "light"
     },
     "output_type": "display_data"
    }
   ],
   "source": [
    "#https://stackoverflow.com/a/34880501\n",
    "#Dark → δ=1\n",
    "from matplotlib.ticker import MaxNLocator\n",
    "#ax = plt.figure(figsize=(4,3)).gca()\n",
    "ax = plt.figure(figsize=(9,4)).gca()\n",
    "ax.plot(df[ ( (df['active']==False) & (df['δ']==1) ) ]['majorana'],\n",
    "         df[ ( (df['active']==False) & (df['δ']==1) ) ]['dirac'],'mo',markersize=30,label=r'$U(1)_D\\ \\rm{and}\\ \\delta=1$')\n",
    "#Active → δ=1\n",
    "ax.plot(df[ ( (df['active']==True) & (df['δ']==1) ) ]['majorana'],\n",
    "         df[ ( (df['active']==True) & (df['δ']==1) ) ]['dirac'],'yo',markersize=25,label=r'$U(1)_X\\ \\rm{and}\\ \\delta=1$')\n",
    "#Dark → δ=2\n",
    "ax.plot(df[ ( (df['active']==False) & (df['δ']==2) ) ]['majorana'],\n",
    "         df[ ( (df['active']==False) & (df['δ']==2) ) ]['dirac'],'go',markersize=20,label=r'$U(1)_D\\ \\rm{and}\\ \\delta=2$')\n",
    "#Active → δ=2\n",
    "ax.plot(df[ ( (df['active']==True) & (df['δ']==2) ) ]['majorana'],\n",
    "         df[ ( (df['active']==True) & (df['δ']==2) ) ]['dirac'],'co',markersize=15,label=r'$U(1)_X\\ \\rm{and}\\ \\delta=2$')\n",
    "\n",
    "\n",
    "#Dark → δ=1 → unconditional\n",
    "ax.plot(df[ ( (df['active']==False) & (df['δ']==1) & (df['unconditional']==True) ) ]['majorana'],\n",
    "         df[ ( (df['active']==False) & (df['δ']==1) & (df['unconditional']==True) ) ]['dirac'],'bo',\n",
    "         markersize=10,label=r'$U(1)_D \\to Z_p\\otimes Z_q\\ \\rm{and}\\ \\delta=1$')\n",
    "#Active → δ=1 → unconditional\n",
    "ax.plot(df[ ( (df['active']==True) & (df['δ']==1) & (df['unconditional']==True) ) ]['majorana'],\n",
    "         df[ ( (df['active']==True) & (df['δ']==1) & (df['unconditional']==True) ) ]['dirac'],'ro',\n",
    "        markersize=5,label=r'$U(1)_X \\to Z_p\\otimes Z_q\\ \\rm{and}\\ \\delta=1$')\n",
    "ax.xaxis.set_major_locator(MaxNLocator(integer=True))\n",
    "ax.yaxis.set_major_locator(MaxNLocator(integer=True))\n",
    "\n",
    "ax.set_xlabel('Number of Majorana fermions',size=15)\n",
    "ax.set_ylabel('Number of Dirac fermions',size=15)\n",
    "ax.set_title('Massive fermions',fontsize=15)\n",
    "\n",
    "ax.set_ylim(0.7,4.3)\n",
    "ax.set_xlim(-0.3,4.3)\n",
    "ax.grid()\n",
    "ax.legend(loc=(1.1,0.2),fontsize=15)#,bbox_to_anchor=(2, 0.5))\n",
    "plt.tight_layout()#rect=(0,0,1.6,1.2))\n",
    "plt.subplots_adjust(right=0.5)\n",
    "plt.savefig('number.pdf')"
   ]
  },
  {
   "cell_type": "code",
   "execution_count": 84,
   "metadata": {},
   "outputs": [
    {
     "data": {
      "text/plain": [
       "\u001b[0;31mSignature:\u001b[0m \u001b[0mplt\u001b[0m\u001b[0;34m.\u001b[0m\u001b[0mtight_layout\u001b[0m\u001b[0;34m(\u001b[0m\u001b[0;34m*\u001b[0m\u001b[0;34m,\u001b[0m \u001b[0mpad\u001b[0m\u001b[0;34m=\u001b[0m\u001b[0;36m1.08\u001b[0m\u001b[0;34m,\u001b[0m \u001b[0mh_pad\u001b[0m\u001b[0;34m=\u001b[0m\u001b[0;32mNone\u001b[0m\u001b[0;34m,\u001b[0m \u001b[0mw_pad\u001b[0m\u001b[0;34m=\u001b[0m\u001b[0;32mNone\u001b[0m\u001b[0;34m,\u001b[0m \u001b[0mrect\u001b[0m\u001b[0;34m=\u001b[0m\u001b[0;32mNone\u001b[0m\u001b[0;34m)\u001b[0m\u001b[0;34m\u001b[0m\u001b[0;34m\u001b[0m\u001b[0m\n",
       "\u001b[0;31mDocstring:\u001b[0m\n",
       "Adjust the padding between and around subplots.\n",
       "\n",
       "Parameters\n",
       "----------\n",
       "pad : float, default: 1.08\n",
       "    Padding between the figure edge and the edges of subplots,\n",
       "    as a fraction of the font size.\n",
       "h_pad, w_pad : float, default: *pad*\n",
       "    Padding (height/width) between edges of adjacent subplots,\n",
       "    as a fraction of the font size.\n",
       "rect : tuple (left, bottom, right, top), default: (0, 0, 1, 1)\n",
       "    A rectangle in normalized figure coordinates into which the whole\n",
       "    subplots area (including labels) will fit.\n",
       "\u001b[0;31mFile:\u001b[0m      /usr/local/lib/python3.7/dist-packages/matplotlib/pyplot.py\n",
       "\u001b[0;31mType:\u001b[0m      function\n"
      ]
     },
     "metadata": {},
     "output_type": "display_data"
    }
   ],
   "source": [
    "plt.tight_layout?"
   ]
  },
  {
   "cell_type": "code",
   "execution_count": 71,
   "metadata": {},
   "outputs": [],
   "source": [
    "def get_generations(row):\n",
    "    l=list(row['extra_generations'])\n",
    "    if l[0]:\n",
    "        l[0]=l[0]+1\n",
    "    if l[0]==0 and row['dirac']:\n",
    "        l[0]=l[0]+1\n",
    "    if l[1]:\n",
    "        l[1]=l[1]+1\n",
    "    if l[1]==0 and row['majorana']:\n",
    "        l[1]=l[1]+1\n",
    "    return tuple(l)"
   ]
  },
  {
   "cell_type": "code",
   "execution_count": 72,
   "metadata": {},
   "outputs": [],
   "source": [
    "df['generations']=df.apply(get_generations,axis='columns')"
   ]
  },
  {
   "cell_type": "code",
   "execution_count": 124,
   "metadata": {},
   "outputs": [
    {
     "data": {
      "image/png": "[encoded data removed]",
      "text/plain": [
       "<Figure size 648x288 with 1 Axes>"
      ]
     },
     "metadata": {
      "needs_background": "light"
     },
     "output_type": "display_data"
    }
   ],
   "source": [
    "#https://stackoverflow.com/a/34880501\n",
    "#Dark → δ=1\n",
    "from matplotlib.ticker import MaxNLocator\n",
    "ax = plt.figure(figsize=(9,4)).gca()\n",
    "ax.plot(df[ ( (df['active']==False) & (df['δ']==1) ) ]['generations'].str[1],\n",
    "         df[ ( (df['active']==False) & (df['δ']==1) ) ]['generations'].str[0],'mo',markersize=30,label=r'$U(1)_D\\ \\rm{and}\\ \\delta=1$')\n",
    "#Active → δ=1\n",
    "ax.plot(df[ ( (df['active']==True) & (df['δ']==1) ) ]['generations'].str[1],\n",
    "         df[ ( (df['active']==True) & (df['δ']==1) ) ]['generations'].str[0],'yo',markersize=25,label=r'$U(1)_X\\ \\rm{and}\\ \\delta=1$')\n",
    "#Dark → δ=2\n",
    "ax.plot(df[ ( (df['active']==False) & (df['δ']==2) ) ]['generations'].str[1],\n",
    "         df[ ( (df['active']==False) & (df['δ']==2) ) ]['generations'].str[0],'go',markersize=20,label=r'$U(1)_D\\ \\rm{and}\\ \\delta=2$')\n",
    "#Active → δ=2\n",
    "ax.plot(df[ ( (df['active']==True) & (df['δ']==2) ) ]['generations'].str[1],\n",
    "         df[ ( (df['active']==True) & (df['δ']==2) ) ]['generations'].str[0],'co',markersize=15,label=r'$U(1)_X\\ \\rm{and}\\ \\delta=2$')\n",
    "\n",
    "\n",
    "#Dark → δ=1 → unconditional\n",
    "ax.plot(df[ ( (df['active']==False) & (df['δ']==1) & (df['unconditional']==True) ) ]['generations'].str[1],\n",
    "         df[ ( (df['active']==False) & (df['δ']==1) & (df['unconditional']==True) ) ]['generations'].str[0],'bo',\n",
    "         markersize=10,label=r'$U(1)_D \\to Z_p\\otimes Z_q\\ \\rm{and}\\ \\delta=1$')\n",
    "#Active → δ=1 → unconditional\n",
    "ax.plot(df[ ( (df['active']==True) & (df['δ']==1) & (df['unconditional']==True) ) ]['generations'].str[1],\n",
    "         df[ ( (df['active']==True) & (df['δ']==1) & (df['unconditional']==True) ) ]['generations'].str[0],'ro',\n",
    "        markersize=5,label=r'$U(1)_X \\to Z_p\\otimes Z_q\\ \\rm{and}\\ \\delta=1$')\n",
    "ax.xaxis.set_major_locator(MaxNLocator(integer=True))\n",
    "ax.yaxis.set_major_locator(MaxNLocator(integer=True))\n",
    "\n",
    "ax.set_xlabel('Generations of Majorana fermions',size=15)\n",
    "ax.set_ylabel('Generations of Dirac fermions',size=15)\n",
    "ax.set_title('Massive fermions',fontsize=15)\n",
    "\n",
    "ax.set_ylim(0.7,3.3)\n",
    "ax.set_xlim(-0.3,4.3)\n",
    "ax.grid()\n",
    "ax.legend(loc=(1.1,0.2),fontsize=15)\n",
    "plt.tight_layout()#rect=(0,0,1.6,1.2))\n",
    "plt.subplots_adjust(right=0.5)\n",
    "plt.savefig('generation.pdf')"
   ]
  },
  {
   "cell_type": "code",
   "execution_count": 40,
   "metadata": {},
   "outputs": [
    {
     "data": {
      "text/html": [
       "<div>\n",
       "<style scoped>\n",
       "    .dataframe tbody tr th:only-of-type {\n",
       "        vertical-align: middle;\n",
       "    }\n",
       "\n",
       "    .dataframe tbody tr th {\n",
       "        vertical-align: top;\n",
       "    }\n",
       "\n",
       "    .dataframe thead th {\n",
       "        text-align: right;\n",
       "    }\n",
       "</style>\n",
       "<table border=\"1\" class=\"dataframe\">\n",
       "  <thead>\n",
       "    <tr style=\"text-align: right;\">\n",
       "      <th></th>\n",
       "      <th>active</th>\n",
       "      <th>dirac</th>\n",
       "      <th>majorana</th>\n",
       "      <th>extra_generations</th>\n",
       "      <th>n</th>\n",
       "      <th>unconditional</th>\n",
       "      <th>δ</th>\n",
       "    </tr>\n",
       "  </thead>\n",
       "  <tbody>\n",
       "    <tr>\n",
       "      <th>9</th>\n",
       "      <td>False</td>\n",
       "      <td>4</td>\n",
       "      <td>0</td>\n",
       "      <td>(2, 0)</td>\n",
       "      <td>10</td>\n",
       "      <td>False</td>\n",
       "      <td>2</td>\n",
       "    </tr>\n",
       "    <tr>\n",
       "      <th>12</th>\n",
       "      <td>False</td>\n",
       "      <td>4</td>\n",
       "      <td>0</td>\n",
       "      <td>(1, 0)</td>\n",
       "      <td>10</td>\n",
       "      <td>False</td>\n",
       "      <td>2</td>\n",
       "    </tr>\n",
       "    <tr>\n",
       "      <th>20</th>\n",
       "      <td>False</td>\n",
       "      <td>4</td>\n",
       "      <td>0</td>\n",
       "      <td>(0, 0)</td>\n",
       "      <td>10</td>\n",
       "      <td>False</td>\n",
       "      <td>2</td>\n",
       "    </tr>\n",
       "  </tbody>\n",
       "</table>\n",
       "</div>"
      ],
      "text/plain": [
       "    active  dirac  majorana extra_generations   n  unconditional  δ\n",
       "9    False      4         0            (2, 0)  10          False  2\n",
       "12   False      4         0            (1, 0)  10          False  2\n",
       "20   False      4         0            (0, 0)  10          False  2"
      ]
     },
     "execution_count": 40,
     "metadata": {},
     "output_type": "execute_result"
    }
   ],
   "source": [
    "df[ ( (df['active']==False) & (df['δ']==2) ) ]"
   ]
  },
  {
   "cell_type": "code",
   "execution_count": null,
   "metadata": {},
   "outputs": [],
   "source": []
  }
 ],
 "metadata": {
  "colab": {
   "collapsed_sections": [],
   "include_colab_link": true,
   "name": "Type-II Dark Dirac Seesaw.ipynb",
   "provenance": []
  },
  "kernelspec": {
   "display_name": "Python 3 (ipykernel)",
   "language": "python",
   "name": "python3"
  },
  "language_info": {
   "codemirror_mode": {
    "name": "ipython",
    "version": 3
   },
   "file_extension": ".py",
   "mimetype": "text/x-python",
   "name": "python",
   "nbconvert_exporter": "python",
   "pygments_lexer": "ipython3",
   "version": "3.7.3"
  }
 },
 "nbformat": 4,
 "nbformat_minor": 4
}
